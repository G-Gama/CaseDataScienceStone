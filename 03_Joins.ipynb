{
 "cells": [
  {
   "cell_type": "markdown",
   "id": "b8e1f7a4-881b-47a1-8dc5-d54b13b96181",
   "metadata": {},
   "source": [
    "# In This Notebook\n",
    "\n",
    "I'll use each available table to create features, and maybe I'll create some Plato's Cave Id to join things easier, but this is kind of a secondary objective.\n",
    "\n",
    "Whenever joining tables, I'll add an prefix with a short name for the table to ease tracking of where data is coming from."
   ]
  },
  {
   "cell_type": "code",
   "execution_count": 2,
   "id": "c21c746f-5985-47fb-813b-4df63fd550c4",
   "metadata": {
    "tags": []
   },
   "outputs": [],
   "source": [
    "import pandas as pd\n",
    "import numpy as np\n",
    "from matplotlib import pyplot as plt\n",
    "import seaborn as sns\n",
    "\n",
    "pd.options.display.float_format = '{:.6f}'.format"
   ]
  },
  {
   "cell_type": "markdown",
   "id": "c4e4fa9c-79de-4767-9deb-d874ebdbec54",
   "metadata": {},
   "source": [
    "### Core Tables\n",
    "\n"
   ]
  },
  {
   "cell_type": "code",
   "execution_count": 3,
   "id": "d6216571-65f2-4b4d-95b3-b261ff46d450",
   "metadata": {
    "tags": []
   },
   "outputs": [
    {
     "data": {
      "text/html": [
       "<div>\n",
       "<style scoped>\n",
       "    .dataframe tbody tr th:only-of-type {\n",
       "        vertical-align: middle;\n",
       "    }\n",
       "\n",
       "    .dataframe tbody tr th {\n",
       "        vertical-align: top;\n",
       "    }\n",
       "\n",
       "    .dataframe thead th {\n",
       "        text-align: right;\n",
       "    }\n",
       "</style>\n",
       "<table border=\"1\" class=\"dataframe\">\n",
       "  <thead>\n",
       "    <tr style=\"text-align: right;\">\n",
       "      <th></th>\n",
       "      <th>operation_id</th>\n",
       "      <th>request_id</th>\n",
       "      <th>account_id</th>\n",
       "      <th>device_id</th>\n",
       "      <th>counterparty_document</th>\n",
       "      <th>operation_type</th>\n",
       "      <th>amount</th>\n",
       "      <th>balance</th>\n",
       "      <th>requested_at</th>\n",
       "      <th>processed_at</th>\n",
       "      <th>is_fraud</th>\n",
       "    </tr>\n",
       "  </thead>\n",
       "  <tbody>\n",
       "    <tr>\n",
       "      <th>0</th>\n",
       "      <td>37e105f1-003f-465b-8179-e7705b12a24d</td>\n",
       "      <td>c1820b88-ac54-444f-b9a0-70de30124d95</td>\n",
       "      <td>a7b4f041-ef6a-4e17-baf9-cd471ef0f484</td>\n",
       "      <td>ef1756b6-354c-4ea4-b175-4eba835b60a5</td>\n",
       "      <td>38e6f7c9-e935-4c7c-8915-ef923a5ca914</td>\n",
       "      <td>cash_out_type_1</td>\n",
       "      <td>0.000099</td>\n",
       "      <td>0.000167</td>\n",
       "      <td>2018-11-21 15:41:23</td>\n",
       "      <td>2018-11-21 15:41:23</td>\n",
       "      <td>NaN</td>\n",
       "    </tr>\n",
       "    <tr>\n",
       "      <th>1</th>\n",
       "      <td>72d66c19-130b-4d51-8ed7-e3b6c0b65034</td>\n",
       "      <td>9400a9f4-6ab8-40cd-b806-1569b693a88e</td>\n",
       "      <td>ed310df0-6834-4899-811e-5faf13b2a99c</td>\n",
       "      <td>ef1756b6-354c-4ea4-b175-4eba835b60a5</td>\n",
       "      <td>9bd89feb-e952-47c1-bbf5-d4c17b36d852</td>\n",
       "      <td>cash_out_type_3</td>\n",
       "      <td>0.000013</td>\n",
       "      <td>0.000533</td>\n",
       "      <td>NaN</td>\n",
       "      <td>2018-10-22 23:43:38</td>\n",
       "      <td>NaN</td>\n",
       "    </tr>\n",
       "    <tr>\n",
       "      <th>2</th>\n",
       "      <td>31abd386-09f7-4f18-9b01-d2682e3c2c65</td>\n",
       "      <td>80adf85b-56cc-4730-903d-e63c75ae839a</td>\n",
       "      <td>ed310df0-6834-4899-811e-5faf13b2a99c</td>\n",
       "      <td>ef1756b6-354c-4ea4-b175-4eba835b60a5</td>\n",
       "      <td>9bd89feb-e952-47c1-bbf5-d4c17b36d852</td>\n",
       "      <td>cash_out_type_3</td>\n",
       "      <td>0.000016</td>\n",
       "      <td>0.000347</td>\n",
       "      <td>2018-11-19 16:11:57</td>\n",
       "      <td>2018-11-19 16:12:00</td>\n",
       "      <td>NaN</td>\n",
       "    </tr>\n",
       "    <tr>\n",
       "      <th>3</th>\n",
       "      <td>27543733-e8a8-4593-88fb-921e205a6e0c</td>\n",
       "      <td>6edfea5c-4125-49fa-bbe7-b39433f6e49a</td>\n",
       "      <td>ed310df0-6834-4899-811e-5faf13b2a99c</td>\n",
       "      <td>ef1756b6-354c-4ea4-b175-4eba835b60a5</td>\n",
       "      <td>e573e2d3-39af-4f71-97df-bf400e854a8a</td>\n",
       "      <td>cash_out_type_3</td>\n",
       "      <td>0.000001</td>\n",
       "      <td>0.000572</td>\n",
       "      <td>NaN</td>\n",
       "      <td>2018-10-29 15:20:49</td>\n",
       "      <td>NaN</td>\n",
       "    </tr>\n",
       "    <tr>\n",
       "      <th>4</th>\n",
       "      <td>6aff8f2d-0730-4f94-846b-14c059550ab2</td>\n",
       "      <td>88ddff46-6714-4a47-9407-a7d54996dde1</td>\n",
       "      <td>ed310df0-6834-4899-811e-5faf13b2a99c</td>\n",
       "      <td>ef1756b6-354c-4ea4-b175-4eba835b60a5</td>\n",
       "      <td>88f94e8a-0145-489f-9f1d-d4755456e965</td>\n",
       "      <td>cash_out_type_3</td>\n",
       "      <td>0.000045</td>\n",
       "      <td>0.000346</td>\n",
       "      <td>NaN</td>\n",
       "      <td>2018-10-31 12:06:08</td>\n",
       "      <td>NaN</td>\n",
       "    </tr>\n",
       "  </tbody>\n",
       "</table>\n",
       "</div>"
      ],
      "text/plain": [
       "                           operation_id                            request_id  \\\n",
       "0  37e105f1-003f-465b-8179-e7705b12a24d  c1820b88-ac54-444f-b9a0-70de30124d95   \n",
       "1  72d66c19-130b-4d51-8ed7-e3b6c0b65034  9400a9f4-6ab8-40cd-b806-1569b693a88e   \n",
       "2  31abd386-09f7-4f18-9b01-d2682e3c2c65  80adf85b-56cc-4730-903d-e63c75ae839a   \n",
       "3  27543733-e8a8-4593-88fb-921e205a6e0c  6edfea5c-4125-49fa-bbe7-b39433f6e49a   \n",
       "4  6aff8f2d-0730-4f94-846b-14c059550ab2  88ddff46-6714-4a47-9407-a7d54996dde1   \n",
       "\n",
       "                             account_id                             device_id  \\\n",
       "0  a7b4f041-ef6a-4e17-baf9-cd471ef0f484  ef1756b6-354c-4ea4-b175-4eba835b60a5   \n",
       "1  ed310df0-6834-4899-811e-5faf13b2a99c  ef1756b6-354c-4ea4-b175-4eba835b60a5   \n",
       "2  ed310df0-6834-4899-811e-5faf13b2a99c  ef1756b6-354c-4ea4-b175-4eba835b60a5   \n",
       "3  ed310df0-6834-4899-811e-5faf13b2a99c  ef1756b6-354c-4ea4-b175-4eba835b60a5   \n",
       "4  ed310df0-6834-4899-811e-5faf13b2a99c  ef1756b6-354c-4ea4-b175-4eba835b60a5   \n",
       "\n",
       "                  counterparty_document   operation_type   amount  balance  \\\n",
       "0  38e6f7c9-e935-4c7c-8915-ef923a5ca914  cash_out_type_1 0.000099 0.000167   \n",
       "1  9bd89feb-e952-47c1-bbf5-d4c17b36d852  cash_out_type_3 0.000013 0.000533   \n",
       "2  9bd89feb-e952-47c1-bbf5-d4c17b36d852  cash_out_type_3 0.000016 0.000347   \n",
       "3  e573e2d3-39af-4f71-97df-bf400e854a8a  cash_out_type_3 0.000001 0.000572   \n",
       "4  88f94e8a-0145-489f-9f1d-d4755456e965  cash_out_type_3 0.000045 0.000346   \n",
       "\n",
       "          requested_at         processed_at is_fraud  \n",
       "0  2018-11-21 15:41:23  2018-11-21 15:41:23      NaN  \n",
       "1                  NaN  2018-10-22 23:43:38      NaN  \n",
       "2  2018-11-19 16:11:57  2018-11-19 16:12:00      NaN  \n",
       "3                  NaN  2018-10-29 15:20:49      NaN  \n",
       "4                  NaN  2018-10-31 12:06:08      NaN  "
      ]
     },
     "execution_count": 3,
     "metadata": {},
     "output_type": "execute_result"
    }
   ],
   "source": [
    "lt = pd.read_csv('files/processed_labeled_transactions.csv')\n",
    "lt.head()"
   ]
  },
  {
   "cell_type": "code",
   "execution_count": 4,
   "id": "6d343656-521e-4cff-863b-9fd3ad30c19e",
   "metadata": {
    "tags": []
   },
   "outputs": [
    {
     "name": "stderr",
     "output_type": "stream",
     "text": [
      "/tmp/ipykernel_11055/633477064.py:1: DtypeWarning: Columns (3) have mixed types. Specify dtype option on import or set low_memory=False.\n",
      "  ut = pd.read_csv('files/processed_unlabeled_transactions.csv')\n"
     ]
    },
    {
     "data": {
      "text/html": [
       "<div>\n",
       "<style scoped>\n",
       "    .dataframe tbody tr th:only-of-type {\n",
       "        vertical-align: middle;\n",
       "    }\n",
       "\n",
       "    .dataframe tbody tr th {\n",
       "        vertical-align: top;\n",
       "    }\n",
       "\n",
       "    .dataframe thead th {\n",
       "        text-align: right;\n",
       "    }\n",
       "</style>\n",
       "<table border=\"1\" class=\"dataframe\">\n",
       "  <thead>\n",
       "    <tr style=\"text-align: right;\">\n",
       "      <th></th>\n",
       "      <th>operation_id</th>\n",
       "      <th>request_id</th>\n",
       "      <th>account_id</th>\n",
       "      <th>device_id</th>\n",
       "      <th>counterparty_document</th>\n",
       "      <th>operation_type</th>\n",
       "      <th>amount</th>\n",
       "      <th>requested_at</th>\n",
       "      <th>processed_at</th>\n",
       "    </tr>\n",
       "  </thead>\n",
       "  <tbody>\n",
       "    <tr>\n",
       "      <th>0</th>\n",
       "      <td>f9eb1bfc-dd3e-4494-ad3a-5728059a334b</td>\n",
       "      <td>8ba7fb9c-a8b9-4595-8235-561012daa551</td>\n",
       "      <td>d24e533e-d54f-4ac5-874f-097f968c8b23</td>\n",
       "      <td>NaN</td>\n",
       "      <td>b20ca420-36b0-429f-85a5-7ffac69e82a1</td>\n",
       "      <td>cash_out_type_4</td>\n",
       "      <td>0.000001</td>\n",
       "      <td>2018-07-15 00:00:25.000000</td>\n",
       "      <td>2018-07-15 00:00:25.000000</td>\n",
       "    </tr>\n",
       "    <tr>\n",
       "      <th>1</th>\n",
       "      <td>98b084a3-353a-4ea4-8cb6-3a2b48f24d9b</td>\n",
       "      <td>f7f3b6cc-5690-4716-bc36-8a9e61ab60b0</td>\n",
       "      <td>d24e533e-d54f-4ac5-874f-097f968c8b23</td>\n",
       "      <td>NaN</td>\n",
       "      <td>b20ca420-36b0-429f-85a5-7ffac69e82a1</td>\n",
       "      <td>cash_out_type_4</td>\n",
       "      <td>0.000000</td>\n",
       "      <td>2018-07-15 00:20:32.000000</td>\n",
       "      <td>2018-07-15 00:20:32.000000</td>\n",
       "    </tr>\n",
       "    <tr>\n",
       "      <th>2</th>\n",
       "      <td>b04d0b3b-620f-4031-8598-14862d8385a4</td>\n",
       "      <td>c7120482-a055-4dc0-915c-ee467afa0d6b</td>\n",
       "      <td>d24e533e-d54f-4ac5-874f-097f968c8b23</td>\n",
       "      <td>NaN</td>\n",
       "      <td>b20ca420-36b0-429f-85a5-7ffac69e82a1</td>\n",
       "      <td>cash_out_type_4</td>\n",
       "      <td>0.000001</td>\n",
       "      <td>2018-09-01 23:51:38.000000</td>\n",
       "      <td>2018-09-01 23:51:38.000000</td>\n",
       "    </tr>\n",
       "    <tr>\n",
       "      <th>3</th>\n",
       "      <td>aa253da4-d86f-45fe-a30c-1e25aa752344</td>\n",
       "      <td>c97a2208-a1cc-472b-a8ff-4dd2dd54fd97</td>\n",
       "      <td>d24e533e-d54f-4ac5-874f-097f968c8b23</td>\n",
       "      <td>NaN</td>\n",
       "      <td>b20ca420-36b0-429f-85a5-7ffac69e82a1</td>\n",
       "      <td>cash_out_type_4</td>\n",
       "      <td>0.000001</td>\n",
       "      <td>2018-09-13 00:50:27.000000</td>\n",
       "      <td>2018-09-13 00:50:27.000000</td>\n",
       "    </tr>\n",
       "    <tr>\n",
       "      <th>4</th>\n",
       "      <td>ffed5732-c135-495f-9b43-52f4dbdd0fab</td>\n",
       "      <td>75588166-0282-401a-ace4-d42d2b33f75d</td>\n",
       "      <td>d24e533e-d54f-4ac5-874f-097f968c8b23</td>\n",
       "      <td>NaN</td>\n",
       "      <td>b20ca420-36b0-429f-85a5-7ffac69e82a1</td>\n",
       "      <td>cash_out_type_4</td>\n",
       "      <td>0.000000</td>\n",
       "      <td>2018-09-22 23:50:38.000000</td>\n",
       "      <td>2018-09-22 23:50:38.000000</td>\n",
       "    </tr>\n",
       "  </tbody>\n",
       "</table>\n",
       "</div>"
      ],
      "text/plain": [
       "                           operation_id                            request_id  \\\n",
       "0  f9eb1bfc-dd3e-4494-ad3a-5728059a334b  8ba7fb9c-a8b9-4595-8235-561012daa551   \n",
       "1  98b084a3-353a-4ea4-8cb6-3a2b48f24d9b  f7f3b6cc-5690-4716-bc36-8a9e61ab60b0   \n",
       "2  b04d0b3b-620f-4031-8598-14862d8385a4  c7120482-a055-4dc0-915c-ee467afa0d6b   \n",
       "3  aa253da4-d86f-45fe-a30c-1e25aa752344  c97a2208-a1cc-472b-a8ff-4dd2dd54fd97   \n",
       "4  ffed5732-c135-495f-9b43-52f4dbdd0fab  75588166-0282-401a-ace4-d42d2b33f75d   \n",
       "\n",
       "                             account_id device_id  \\\n",
       "0  d24e533e-d54f-4ac5-874f-097f968c8b23       NaN   \n",
       "1  d24e533e-d54f-4ac5-874f-097f968c8b23       NaN   \n",
       "2  d24e533e-d54f-4ac5-874f-097f968c8b23       NaN   \n",
       "3  d24e533e-d54f-4ac5-874f-097f968c8b23       NaN   \n",
       "4  d24e533e-d54f-4ac5-874f-097f968c8b23       NaN   \n",
       "\n",
       "                  counterparty_document   operation_type   amount  \\\n",
       "0  b20ca420-36b0-429f-85a5-7ffac69e82a1  cash_out_type_4 0.000001   \n",
       "1  b20ca420-36b0-429f-85a5-7ffac69e82a1  cash_out_type_4 0.000000   \n",
       "2  b20ca420-36b0-429f-85a5-7ffac69e82a1  cash_out_type_4 0.000001   \n",
       "3  b20ca420-36b0-429f-85a5-7ffac69e82a1  cash_out_type_4 0.000001   \n",
       "4  b20ca420-36b0-429f-85a5-7ffac69e82a1  cash_out_type_4 0.000000   \n",
       "\n",
       "                 requested_at                processed_at  \n",
       "0  2018-07-15 00:00:25.000000  2018-07-15 00:00:25.000000  \n",
       "1  2018-07-15 00:20:32.000000  2018-07-15 00:20:32.000000  \n",
       "2  2018-09-01 23:51:38.000000  2018-09-01 23:51:38.000000  \n",
       "3  2018-09-13 00:50:27.000000  2018-09-13 00:50:27.000000  \n",
       "4  2018-09-22 23:50:38.000000  2018-09-22 23:50:38.000000  "
      ]
     },
     "execution_count": 4,
     "metadata": {},
     "output_type": "execute_result"
    }
   ],
   "source": [
    "ut = pd.read_csv('files/processed_unlabeled_transactions.csv')\n",
    "ut.head()"
   ]
  },
  {
   "cell_type": "markdown",
   "id": "479cf7dd-d058-4a33-aad0-cda8003d1261",
   "metadata": {},
   "source": [
    "Since I don't intend to use anything related to the device_id (never seem nulls on the unlabeled table), the operation_type (categories are much different from one table to the other) and the requested_at (labeled have missings in this column and unlabeled does not), lets already drop these columns. Balance exists also in only one so we'll remove it"
   ]
  },
  {
   "cell_type": "code",
   "execution_count": 5,
   "id": "190219cb-8568-4b8f-b099-f7a1831d79af",
   "metadata": {
    "tags": []
   },
   "outputs": [],
   "source": [
    "dropme_coretables = [\n",
    "    'device_id',\n",
    "    'operation_type',\n",
    "    'requested_at',\n",
    "]    "
   ]
  },
  {
   "cell_type": "code",
   "execution_count": 6,
   "id": "fab90150-9dc3-4473-8167-b1d02421b0e9",
   "metadata": {
    "tags": []
   },
   "outputs": [],
   "source": [
    "lt.drop(columns=dropme_coretables+['balance'], inplace=True)\n",
    "ut.drop(columns=dropme_coretables, inplace=True)"
   ]
  },
  {
   "cell_type": "code",
   "execution_count": 7,
   "id": "1f843fcb-784a-41b7-9dd0-2977143abba5",
   "metadata": {
    "tags": []
   },
   "outputs": [
    {
     "data": {
      "text/plain": [
       "(940935, 7)"
      ]
     },
     "execution_count": 7,
     "metadata": {},
     "output_type": "execute_result"
    }
   ],
   "source": [
    "lt.shape"
   ]
  },
  {
   "cell_type": "code",
   "execution_count": 8,
   "id": "ad0b5c9c-49fa-42aa-8bb0-67b20f94126e",
   "metadata": {
    "tags": []
   },
   "outputs": [
    {
     "data": {
      "text/plain": [
       "(5087054, 6)"
      ]
     },
     "execution_count": 8,
     "metadata": {},
     "output_type": "execute_result"
    }
   ],
   "source": [
    "ut.shape"
   ]
  },
  {
   "cell_type": "markdown",
   "id": "2279fcb6-43ef-4ee7-a823-b2efcf8cc444",
   "metadata": {},
   "source": [
    "### Accounts"
   ]
  },
  {
   "cell_type": "code",
   "execution_count": 9,
   "id": "e10fb25e-34e4-4bd1-9e8d-cdee7bcbc11b",
   "metadata": {
    "tags": []
   },
   "outputs": [
    {
     "data": {
      "text/html": [
       "<div>\n",
       "<style scoped>\n",
       "    .dataframe tbody tr th:only-of-type {\n",
       "        vertical-align: middle;\n",
       "    }\n",
       "\n",
       "    .dataframe tbody tr th {\n",
       "        vertical-align: top;\n",
       "    }\n",
       "\n",
       "    .dataframe thead th {\n",
       "        text-align: right;\n",
       "    }\n",
       "</style>\n",
       "<table border=\"1\" class=\"dataframe\">\n",
       "  <thead>\n",
       "    <tr style=\"text-align: right;\">\n",
       "      <th></th>\n",
       "      <th>id</th>\n",
       "      <th>owner_id</th>\n",
       "      <th>owner_document</th>\n",
       "      <th>owner_type</th>\n",
       "      <th>inserted_at</th>\n",
       "    </tr>\n",
       "  </thead>\n",
       "  <tbody>\n",
       "    <tr>\n",
       "      <th>0</th>\n",
       "      <td>ac8a1faa-3748-4ef7-b140-8fe818cdc974</td>\n",
       "      <td>d2e3e3b7-e98d-4ef3-8a51-83db807b9a94</td>\n",
       "      <td>5e998c51-53cc-48f0-aef4-45ec12a466be</td>\n",
       "      <td>user</td>\n",
       "      <td>2017-03-16 16:33:43.603803</td>\n",
       "    </tr>\n",
       "    <tr>\n",
       "      <th>1</th>\n",
       "      <td>b2ccbb65-19b0-43fb-891f-faf785d00ade</td>\n",
       "      <td>e01a38b9-5e4c-43fb-9aef-d866054b00bd</td>\n",
       "      <td>4ca9177f-35cc-4067-9d0b-af621aaa2e65</td>\n",
       "      <td>user</td>\n",
       "      <td>2017-03-25 14:01:25.919929</td>\n",
       "    </tr>\n",
       "    <tr>\n",
       "      <th>2</th>\n",
       "      <td>c890a24f-f539-4dfe-a3d3-fe2c11c0aed6</td>\n",
       "      <td>c66561a4-66cc-4e2c-8379-3fd060b0e1ba</td>\n",
       "      <td>7df16b0b-0cda-40b8-91b5-5ed4d371a834</td>\n",
       "      <td>user</td>\n",
       "      <td>2017-03-25 14:04:11.917901</td>\n",
       "    </tr>\n",
       "    <tr>\n",
       "      <th>3</th>\n",
       "      <td>678269b6-7b71-48a2-82fb-19018432abf9</td>\n",
       "      <td>49a50a56-3f7a-435d-80a1-6e459c3948e8</td>\n",
       "      <td>d74146d2-af1c-4396-86f7-c98ccc177411</td>\n",
       "      <td>user</td>\n",
       "      <td>2017-03-27 13:59:43.513024</td>\n",
       "    </tr>\n",
       "    <tr>\n",
       "      <th>4</th>\n",
       "      <td>c6f2982a-4c2a-4dc2-b237-2c683235c3d8</td>\n",
       "      <td>596160cd-c41d-4689-bd4d-a055db788931</td>\n",
       "      <td>23d532c1-855b-42c2-a011-2e64b7078d4a</td>\n",
       "      <td>user</td>\n",
       "      <td>2017-03-27 14:00:58.316963</td>\n",
       "    </tr>\n",
       "  </tbody>\n",
       "</table>\n",
       "</div>"
      ],
      "text/plain": [
       "                                     id                              owner_id  \\\n",
       "0  ac8a1faa-3748-4ef7-b140-8fe818cdc974  d2e3e3b7-e98d-4ef3-8a51-83db807b9a94   \n",
       "1  b2ccbb65-19b0-43fb-891f-faf785d00ade  e01a38b9-5e4c-43fb-9aef-d866054b00bd   \n",
       "2  c890a24f-f539-4dfe-a3d3-fe2c11c0aed6  c66561a4-66cc-4e2c-8379-3fd060b0e1ba   \n",
       "3  678269b6-7b71-48a2-82fb-19018432abf9  49a50a56-3f7a-435d-80a1-6e459c3948e8   \n",
       "4  c6f2982a-4c2a-4dc2-b237-2c683235c3d8  596160cd-c41d-4689-bd4d-a055db788931   \n",
       "\n",
       "                         owner_document owner_type                 inserted_at  \n",
       "0  5e998c51-53cc-48f0-aef4-45ec12a466be       user  2017-03-16 16:33:43.603803  \n",
       "1  4ca9177f-35cc-4067-9d0b-af621aaa2e65       user  2017-03-25 14:01:25.919929  \n",
       "2  7df16b0b-0cda-40b8-91b5-5ed4d371a834       user  2017-03-25 14:04:11.917901  \n",
       "3  d74146d2-af1c-4396-86f7-c98ccc177411       user  2017-03-27 13:59:43.513024  \n",
       "4  23d532c1-855b-42c2-a011-2e64b7078d4a       user  2017-03-27 14:00:58.316963  "
      ]
     },
     "execution_count": 9,
     "metadata": {},
     "output_type": "execute_result"
    }
   ],
   "source": [
    "ac = pd.read_csv('files/processed_accounts.csv')\n",
    "ac.head()"
   ]
  },
  {
   "cell_type": "code",
   "execution_count": 10,
   "id": "c4f9f2c5-5763-4325-928b-28055ab0aade",
   "metadata": {
    "tags": []
   },
   "outputs": [],
   "source": [
    "ac.rename(columns={i: 'ac_'+i for i in ac.columns}, inplace=True)"
   ]
  },
  {
   "cell_type": "markdown",
   "id": "11f7f31c-a7a7-4e32-9d28-b8cfce5cca4a",
   "metadata": {},
   "source": [
    "Things seems to be an id-id join, nothing much to think here, so lets try and see if things keep the same size."
   ]
  },
  {
   "cell_type": "code",
   "execution_count": 11,
   "id": "1c3f4903-7372-45e1-8e4d-a647945e5162",
   "metadata": {
    "tags": []
   },
   "outputs": [
    {
     "data": {
      "text/plain": [
       "((940935, 7), (5087054, 6))"
      ]
     },
     "execution_count": 11,
     "metadata": {},
     "output_type": "execute_result"
    }
   ],
   "source": [
    "lt.shape, ut.shape"
   ]
  },
  {
   "cell_type": "code",
   "execution_count": 12,
   "id": "0f4dc699-cd67-4af4-967e-70716044f97a",
   "metadata": {
    "tags": []
   },
   "outputs": [],
   "source": [
    "lt = lt.merge(ac, left_on='account_id', right_on='ac_id', how='left')\n",
    "ut = ut.merge(ac, left_on='account_id', right_on='ac_id', how='left')"
   ]
  },
  {
   "cell_type": "code",
   "execution_count": 13,
   "id": "d483c143-2bdc-4780-b688-9144493f80a9",
   "metadata": {},
   "outputs": [
    {
     "data": {
      "text/plain": [
       "(0.0, 0.0)"
      ]
     },
     "execution_count": 13,
     "metadata": {},
     "output_type": "execute_result"
    }
   ],
   "source": [
    "# checking for post-event information\n",
    "\n",
    "(lt.ac_inserted_at > lt.processed_at).mean(), (ut.ac_inserted_at > ut.processed_at).mean()"
   ]
  },
  {
   "cell_type": "code",
   "execution_count": 14,
   "id": "ca351410-50ed-4446-acb9-65beb30eb080",
   "metadata": {
    "tags": []
   },
   "outputs": [
    {
     "data": {
      "text/plain": [
       "((940935, 12), (5087054, 11))"
      ]
     },
     "execution_count": 14,
     "metadata": {},
     "output_type": "execute_result"
    }
   ],
   "source": [
    "lt.shape, ut.shape"
   ]
  },
  {
   "cell_type": "code",
   "execution_count": 15,
   "id": "c97a17cf-bf1e-4327-b872-7842304462a4",
   "metadata": {
    "tags": []
   },
   "outputs": [],
   "source": [
    "lt.drop(columns=['ac_id'], inplace=True)\n",
    "ut.drop(columns=['ac_id'], inplace=True)"
   ]
  },
  {
   "cell_type": "code",
   "execution_count": 16,
   "id": "d8fad7e2-335d-4392-9764-22291d583e58",
   "metadata": {
    "tags": []
   },
   "outputs": [
    {
     "data": {
      "text/plain": [
       "operation_id            0.000180\n",
       "request_id              0.000000\n",
       "account_id              0.000000\n",
       "counterparty_document   0.000000\n",
       "amount                  0.000000\n",
       "processed_at            0.000000\n",
       "is_fraud                0.998369\n",
       "ac_owner_id             0.000000\n",
       "ac_owner_document       0.000000\n",
       "ac_owner_type           0.000000\n",
       "ac_inserted_at          0.000000\n",
       "dtype: float64"
      ]
     },
     "execution_count": 16,
     "metadata": {},
     "output_type": "execute_result"
    }
   ],
   "source": [
    "lt.isna().mean()"
   ]
  },
  {
   "cell_type": "code",
   "execution_count": 17,
   "id": "e8c5961b-1484-481d-8794-717eb0a6b856",
   "metadata": {
    "tags": []
   },
   "outputs": [
    {
     "data": {
      "text/plain": [
       "operation_id            0.000000\n",
       "request_id              0.675480\n",
       "account_id              0.000000\n",
       "counterparty_document   0.000000\n",
       "amount                  0.000070\n",
       "processed_at            0.000000\n",
       "ac_owner_id             0.000000\n",
       "ac_owner_document       0.000000\n",
       "ac_owner_type           0.000000\n",
       "ac_inserted_at          0.000000\n",
       "dtype: float64"
      ]
     },
     "execution_count": 17,
     "metadata": {},
     "output_type": "execute_result"
    }
   ],
   "source": [
    "ut.isna().mean()"
   ]
  },
  {
   "cell_type": "markdown",
   "id": "6b5a3ada-f9c0-489d-8e93-e47e8320de74",
   "metadata": {},
   "source": [
    "Ok, things worked out. Lets go to the next table."
   ]
  },
  {
   "cell_type": "markdown",
   "id": "8b39b05f-57f7-4fe0-a79c-3c30e2f008d6",
   "metadata": {},
   "source": [
    "### Users Organizations\n",
    "\n",
    "Even though this may seem out of place when reading on order, by the time I got to this table in alphabetical order, I realized maybe the way of joining things was supposed to be:\n",
    "\n",
    "- If ac_owner_type = organization, coalesce(ac_owner_id, uo_organization_id) = other_organization_id\n",
    "- If ac_owner_type = user, coalesce(ac_owner_id, uo_user_id) = other_user_id\n",
    "\n",
    "This will seem out of place but the option was training two models, one with only organization data and other with only user data, and the existence of a dictionary between the two of them made me think that maybe this was not supposed to happen. In the Organizations Metadata joining, you'll understand a little better how I came to this conclusion, so I ask to put a pin on that at the moment."
   ]
  },
  {
   "cell_type": "code",
   "execution_count": 18,
   "id": "8d114a29-1091-4a58-8cc9-c1c9516d9834",
   "metadata": {
    "tags": []
   },
   "outputs": [
    {
     "data": {
      "text/html": [
       "<div>\n",
       "<style scoped>\n",
       "    .dataframe tbody tr th:only-of-type {\n",
       "        vertical-align: middle;\n",
       "    }\n",
       "\n",
       "    .dataframe tbody tr th {\n",
       "        vertical-align: top;\n",
       "    }\n",
       "\n",
       "    .dataframe thead th {\n",
       "        text-align: right;\n",
       "    }\n",
       "</style>\n",
       "<table border=\"1\" class=\"dataframe\">\n",
       "  <thead>\n",
       "    <tr style=\"text-align: right;\">\n",
       "      <th></th>\n",
       "      <th>user_id</th>\n",
       "      <th>organization_id</th>\n",
       "    </tr>\n",
       "  </thead>\n",
       "  <tbody>\n",
       "    <tr>\n",
       "      <th>0</th>\n",
       "      <td>475c1048-860c-49e7-b94a-eb478eb78cf6</td>\n",
       "      <td>e4ef0830-64e3-4cae-bc14-a718849b60b7</td>\n",
       "    </tr>\n",
       "    <tr>\n",
       "      <th>1</th>\n",
       "      <td>769d83d0-1438-49d2-bf03-8b0e3584bdfe</td>\n",
       "      <td>2a15fe66-2d99-4b70-a11e-cdcb74163b65</td>\n",
       "    </tr>\n",
       "    <tr>\n",
       "      <th>2</th>\n",
       "      <td>8a1384f7-902e-433f-83a4-3705ba19fc4d</td>\n",
       "      <td>f4981be9-1c19-40c2-af09-4c429194ed0d</td>\n",
       "    </tr>\n",
       "    <tr>\n",
       "      <th>3</th>\n",
       "      <td>052ecf70-7e5d-4b49-912c-415ec718c1c9</td>\n",
       "      <td>c0508778-02cf-4ab4-a1e5-0d8a0c02a6b4</td>\n",
       "    </tr>\n",
       "    <tr>\n",
       "      <th>4</th>\n",
       "      <td>b058e64d-6449-4ddd-993a-4cb88d2fe97a</td>\n",
       "      <td>59f73def-619c-4d7a-bf66-b635be35b6e9</td>\n",
       "    </tr>\n",
       "  </tbody>\n",
       "</table>\n",
       "</div>"
      ],
      "text/plain": [
       "                                user_id                       organization_id\n",
       "0  475c1048-860c-49e7-b94a-eb478eb78cf6  e4ef0830-64e3-4cae-bc14-a718849b60b7\n",
       "1  769d83d0-1438-49d2-bf03-8b0e3584bdfe  2a15fe66-2d99-4b70-a11e-cdcb74163b65\n",
       "2  8a1384f7-902e-433f-83a4-3705ba19fc4d  f4981be9-1c19-40c2-af09-4c429194ed0d\n",
       "3  052ecf70-7e5d-4b49-912c-415ec718c1c9  c0508778-02cf-4ab4-a1e5-0d8a0c02a6b4\n",
       "4  b058e64d-6449-4ddd-993a-4cb88d2fe97a  59f73def-619c-4d7a-bf66-b635be35b6e9"
      ]
     },
     "execution_count": 18,
     "metadata": {},
     "output_type": "execute_result"
    }
   ],
   "source": [
    "uo = pd.read_csv('files/processed_users_organizations.csv')\n",
    "uo.head()"
   ]
  },
  {
   "cell_type": "code",
   "execution_count": 19,
   "id": "0b1797f5-aab4-4d4b-95bf-cafee70bcd38",
   "metadata": {
    "tags": []
   },
   "outputs": [
    {
     "data": {
      "text/plain": [
       "1    0.990238\n",
       "2    0.007862\n",
       "3    0.001163\n",
       "4    0.000277\n",
       "5    0.000240\n",
       "6    0.000074\n",
       "7    0.000037\n",
       "8    0.000037\n",
       "37   0.000018\n",
       "17   0.000018\n",
       "15   0.000018\n",
       "10   0.000018\n",
       "Name: organization_id, dtype: float64"
      ]
     },
     "execution_count": 19,
     "metadata": {},
     "output_type": "execute_result"
    }
   ],
   "source": [
    "uo.groupby('user_id').organization_id.count().value_counts(normalize=True)"
   ]
  },
  {
   "cell_type": "code",
   "execution_count": 20,
   "id": "e180ffec-a568-4dc5-9a8d-5705c612993f",
   "metadata": {
    "tags": []
   },
   "outputs": [
    {
     "data": {
      "text/plain": [
       "1    54951\n",
       "2        1\n",
       "5        1\n",
       "Name: user_id, dtype: int64"
      ]
     },
     "execution_count": 20,
     "metadata": {},
     "output_type": "execute_result"
    }
   ],
   "source": [
    "uo.groupby('organization_id').user_id.count().value_counts()"
   ]
  },
  {
   "cell_type": "markdown",
   "id": "7f1c76e8-a5d1-49e2-ba8f-6c1a249ecd20",
   "metadata": {},
   "source": [
    "So the best thing to do would be always joining many-many and aggregating. Since it is less than 1% of the customers that have more organizations than users, I'll just create a flag that indicates it and choose an arbitrary organization_id. I know this is not the best solution but I would have to refactor much of the code at the moment."
   ]
  },
  {
   "cell_type": "code",
   "execution_count": 21,
   "id": "a53c8c71-f86b-4370-b26b-bc976daf4c5c",
   "metadata": {
    "tags": []
   },
   "outputs": [],
   "source": [
    "uo = uo.groupby('user_id').agg(\n",
    "    organization_id=pd.NamedAgg('organization_id', 'max'),\n",
    "    flag_many_orgs=pd.NamedAgg('organization_id', 'count'),\n",
    ").reset_index()\n",
    "\n",
    "uo = uo.groupby('organization_id').agg(\n",
    "    user_id=pd.NamedAgg('user_id', 'max'),\n",
    "    flag_many_orgs=pd.NamedAgg('flag_many_orgs', 'max'),\n",
    ").reset_index()"
   ]
  },
  {
   "cell_type": "code",
   "execution_count": 22,
   "id": "a5d43827-0f9b-4a47-a675-72041de96556",
   "metadata": {
    "tags": []
   },
   "outputs": [
    {
     "data": {
      "text/plain": [
       "True"
      ]
     },
     "execution_count": 22,
     "metadata": {},
     "output_type": "execute_result"
    }
   ],
   "source": [
    "uo.user_id.nunique() == uo.shape[0] == uo.organization_id.nunique()"
   ]
  },
  {
   "cell_type": "code",
   "execution_count": 23,
   "id": "f30fb60e-fd50-499c-9d61-668ecf2e329e",
   "metadata": {
    "tags": []
   },
   "outputs": [],
   "source": [
    "uo.rename(columns={i:'uo_'+i for i in uo.columns}, inplace=True)"
   ]
  },
  {
   "cell_type": "code",
   "execution_count": 24,
   "id": "965927ca-acfc-4615-86ba-498e06af74a3",
   "metadata": {
    "tags": []
   },
   "outputs": [],
   "source": [
    "uo_orgs = uo.copy(deep=True)\n",
    "uo_orgs['ac_owner_type'] = 'organization'"
   ]
  },
  {
   "cell_type": "code",
   "execution_count": 25,
   "id": "8980b9dd-ae69-4161-9318-d40dacce6bfe",
   "metadata": {
    "tags": []
   },
   "outputs": [],
   "source": [
    "lt = lt.merge(uo_orgs, left_on=['ac_owner_id', 'ac_owner_type'], right_on=['uo_organization_id', 'ac_owner_type'], how='left').drop(columns='uo_organization_id')\n",
    "ut = ut.merge(uo_orgs, left_on=['ac_owner_id', 'ac_owner_type'], right_on=['uo_organization_id', 'ac_owner_type'], how='left').drop(columns='uo_organization_id')"
   ]
  },
  {
   "cell_type": "code",
   "execution_count": 26,
   "id": "b6f97510-c3dc-47bc-94d2-71fd63ede103",
   "metadata": {
    "tags": []
   },
   "outputs": [],
   "source": [
    "uo_user = uo.copy(deep=True)\n",
    "uo_user['ac_owner_type'] = 'user'"
   ]
  },
  {
   "cell_type": "code",
   "execution_count": 27,
   "id": "f578fe22-d192-4e89-91a6-f863f016ace1",
   "metadata": {
    "tags": []
   },
   "outputs": [],
   "source": [
    "uo_user.rename(columns={'uo_user_id': 'uo_user_id2'}, inplace=True)"
   ]
  },
  {
   "cell_type": "code",
   "execution_count": 28,
   "id": "b2444281-752b-4893-a8fe-1a0c5c20ec9c",
   "metadata": {
    "tags": []
   },
   "outputs": [],
   "source": [
    "lt = lt.merge(uo_user, left_on=['ac_owner_id', 'ac_owner_type'], right_on=['uo_user_id2', 'ac_owner_type'], how='left').drop(columns='uo_user_id2')\n",
    "ut = ut.merge(uo_user, left_on=['ac_owner_id', 'ac_owner_type'], right_on=['uo_user_id2', 'ac_owner_type'], how='left').drop(columns='uo_user_id2')"
   ]
  },
  {
   "cell_type": "code",
   "execution_count": 29,
   "id": "b6b57f7f-5023-4f7b-b103-5d7f0277e2ba",
   "metadata": {
    "tags": []
   },
   "outputs": [],
   "source": [
    "lt['uo_flag_many_orgs'] = lt['uo_flag_many_orgs_x'].combine_first(lt['uo_flag_many_orgs_y'])\n",
    "ut['uo_flag_many_orgs'] = ut['uo_flag_many_orgs_x'].combine_first(ut['uo_flag_many_orgs_y'])\n",
    "\n",
    "lt.drop(columns=['uo_flag_many_orgs_x', 'uo_flag_many_orgs_y'], inplace=True)\n",
    "ut.drop(columns=['uo_flag_many_orgs_x', 'uo_flag_many_orgs_y'], inplace=True)"
   ]
  },
  {
   "cell_type": "code",
   "execution_count": 30,
   "id": "1370f565-ad20-4822-ac9a-f70e65cfb130",
   "metadata": {
    "tags": []
   },
   "outputs": [
    {
     "data": {
      "text/plain": [
       "operation_id            0.000180\n",
       "request_id              0.000000\n",
       "account_id              0.000000\n",
       "counterparty_document   0.000000\n",
       "amount                  0.000000\n",
       "processed_at            0.000000\n",
       "is_fraud                0.998369\n",
       "ac_owner_id             0.000000\n",
       "ac_owner_document       0.000000\n",
       "ac_owner_type           0.000000\n",
       "ac_inserted_at          0.000000\n",
       "uo_user_id              0.132886\n",
       "uo_organization_id      0.992598\n",
       "uo_flag_many_orgs       0.125484\n",
       "dtype: float64"
      ]
     },
     "execution_count": 30,
     "metadata": {},
     "output_type": "execute_result"
    }
   ],
   "source": [
    "lt.isna().mean()"
   ]
  },
  {
   "cell_type": "code",
   "execution_count": 31,
   "id": "8b5c0d7a-84e5-4442-b8ac-8ac13332cc3a",
   "metadata": {
    "tags": []
   },
   "outputs": [
    {
     "data": {
      "text/plain": [
       "operation_id            0.000000\n",
       "request_id              0.675480\n",
       "account_id              0.000000\n",
       "counterparty_document   0.000000\n",
       "amount                  0.000070\n",
       "processed_at            0.000000\n",
       "ac_owner_id             0.000000\n",
       "ac_owner_document       0.000000\n",
       "ac_owner_type           0.000000\n",
       "ac_inserted_at          0.000000\n",
       "uo_user_id              0.123367\n",
       "uo_organization_id      0.992419\n",
       "uo_flag_many_orgs       0.115786\n",
       "dtype: float64"
      ]
     },
     "execution_count": 31,
     "metadata": {},
     "output_type": "execute_result"
    }
   ],
   "source": [
    "ut.isna().mean()"
   ]
  },
  {
   "cell_type": "code",
   "execution_count": 32,
   "id": "4e035147-d49d-48d9-a81b-4db2d2921f4a",
   "metadata": {
    "tags": []
   },
   "outputs": [
    {
     "data": {
      "text/plain": [
       "organization   0.882427\n",
       "user           0.117573\n",
       "Name: ac_owner_type, dtype: float64"
      ]
     },
     "execution_count": 32,
     "metadata": {},
     "output_type": "execute_result"
    }
   ],
   "source": [
    "lt.ac_owner_type.value_counts(normalize=True)"
   ]
  },
  {
   "cell_type": "markdown",
   "id": "2146b0ce-28fa-41ef-96eb-d59011365f65",
   "metadata": {},
   "source": [
    "The \"going back\" step, from an user recovering the organization, produced little to no result, but we'll keep it that way since organizations produced a lot of user_ids. So, finally:"
   ]
  },
  {
   "cell_type": "code",
   "execution_count": 33,
   "id": "2950b3e3-161d-4a59-800a-4b8fe2d5ff90",
   "metadata": {
    "tags": []
   },
   "outputs": [],
   "source": [
    "lt['ac_user_id'] = lt.apply(lambda x: x['ac_owner_id'] if x['ac_owner_type'] == 'user' else None, axis=1)\n",
    "ut['ac_user_id'] = ut.apply(lambda x: x['ac_owner_id'] if x['ac_owner_type'] == 'user' else None, axis=1)\n",
    "\n",
    "lt['ac_organization_id'] = lt.apply(lambda x: x['ac_owner_id'] if x['ac_owner_type'] == 'organization' else None, axis=1)\n",
    "ut['ac_organization_id'] = ut.apply(lambda x: x['ac_owner_id'] if x['ac_owner_type'] == 'organization' else None, axis=1)"
   ]
  },
  {
   "cell_type": "code",
   "execution_count": 34,
   "id": "8a04afd5-8b13-4422-abdb-f5d6d5b06111",
   "metadata": {
    "tags": []
   },
   "outputs": [],
   "source": [
    "lt['treated_user_id'] = lt['ac_user_id'].combine_first(lt['uo_user_id'])\n",
    "lt['treated_organization_id'] = lt['ac_organization_id'].combine_first(lt['uo_organization_id'])\n",
    "\n",
    "ut['treated_user_id'] = ut['ac_user_id'].combine_first(ut['uo_user_id'])\n",
    "ut['treated_organization_id'] = ut['ac_organization_id'].combine_first(ut['uo_organization_id'])"
   ]
  },
  {
   "cell_type": "code",
   "execution_count": 35,
   "id": "92628fb8-83c8-40fd-b82f-ce599f2e1a6a",
   "metadata": {
    "tags": []
   },
   "outputs": [
    {
     "data": {
      "text/plain": [
       "operation_id              0.000000\n",
       "request_id                0.675480\n",
       "account_id                0.000000\n",
       "counterparty_document     0.000000\n",
       "amount                    0.000070\n",
       "processed_at              0.000000\n",
       "ac_owner_id               0.000000\n",
       "ac_owner_document         0.000000\n",
       "ac_owner_type             0.000000\n",
       "ac_inserted_at            0.000000\n",
       "uo_user_id                0.123367\n",
       "uo_organization_id        0.992419\n",
       "uo_flag_many_orgs         0.115786\n",
       "ac_user_id                0.892636\n",
       "ac_organization_id        0.107364\n",
       "treated_user_id           0.016003\n",
       "treated_organization_id   0.099783\n",
       "dtype: float64"
      ]
     },
     "execution_count": 35,
     "metadata": {},
     "output_type": "execute_result"
    }
   ],
   "source": [
    "ut.isna().mean()"
   ]
  },
  {
   "cell_type": "code",
   "execution_count": 36,
   "id": "7bf0266a-a41c-4bb1-8730-c98db7464cd5",
   "metadata": {
    "tags": []
   },
   "outputs": [
    {
     "data": {
      "text/plain": [
       "operation_id              0.000180\n",
       "request_id                0.000000\n",
       "account_id                0.000000\n",
       "counterparty_document     0.000000\n",
       "amount                    0.000000\n",
       "processed_at              0.000000\n",
       "is_fraud                  0.998369\n",
       "ac_owner_id               0.000000\n",
       "ac_owner_document         0.000000\n",
       "ac_owner_type             0.000000\n",
       "ac_inserted_at            0.000000\n",
       "uo_user_id                0.132886\n",
       "uo_organization_id        0.992598\n",
       "uo_flag_many_orgs         0.125484\n",
       "ac_user_id                0.882427\n",
       "ac_organization_id        0.117573\n",
       "treated_user_id           0.015312\n",
       "treated_organization_id   0.110171\n",
       "dtype: float64"
      ]
     },
     "execution_count": 36,
     "metadata": {},
     "output_type": "execute_result"
    }
   ],
   "source": [
    "lt.isna().mean()"
   ]
  },
  {
   "cell_type": "markdown",
   "id": "04faf010-101c-46b2-91cc-d91f4b921882",
   "metadata": {},
   "source": [
    "The organization_id joins will not be very improved, by the user joins will."
   ]
  },
  {
   "cell_type": "markdown",
   "id": "cca81292-34f7-46fe-ac28-a7e12051134e",
   "metadata": {},
   "source": [
    "### Organizations Metadata\n",
    "\n",
    "This is the table where we need to divide in two, since it has different behaviours for partners and organizations"
   ]
  },
  {
   "cell_type": "code",
   "execution_count": 37,
   "id": "643a33cc-a733-46e4-99cb-a83f412d0489",
   "metadata": {
    "tags": []
   },
   "outputs": [
    {
     "data": {
      "text/html": [
       "<div>\n",
       "<style scoped>\n",
       "    .dataframe tbody tr th:only-of-type {\n",
       "        vertical-align: middle;\n",
       "    }\n",
       "\n",
       "    .dataframe tbody tr th {\n",
       "        vertical-align: top;\n",
       "    }\n",
       "\n",
       "    .dataframe thead th {\n",
       "        text-align: right;\n",
       "    }\n",
       "</style>\n",
       "<table border=\"1\" class=\"dataframe\">\n",
       "  <thead>\n",
       "    <tr style=\"text-align: right;\">\n",
       "      <th></th>\n",
       "      <th>id</th>\n",
       "      <th>organization_id</th>\n",
       "      <th>type</th>\n",
       "      <th>value</th>\n",
       "      <th>inserted_at</th>\n",
       "      <th>updated_at</th>\n",
       "    </tr>\n",
       "  </thead>\n",
       "  <tbody>\n",
       "    <tr>\n",
       "      <th>0</th>\n",
       "      <td>8a442911-65db-42a3-8063-2e8e2ddab984</td>\n",
       "      <td>417b2d7c-8a26-483b-920a-cc283095d044</td>\n",
       "      <td>user_is_partner</td>\n",
       "      <td>{\"mei\": false, \"partner\": true, \"user_id\": \"f3...</td>\n",
       "      <td>2018-11-25 02:31:05.472505</td>\n",
       "      <td>2018-11-25 02:31:05.472505</td>\n",
       "    </tr>\n",
       "    <tr>\n",
       "      <th>1</th>\n",
       "      <td>fa84c1d4-9362-472f-8ef9-aa14768deb22</td>\n",
       "      <td>417b2d7c-8a26-483b-920a-cc283095d044</td>\n",
       "      <td>organization_type</td>\n",
       "      <td>ME</td>\n",
       "      <td>2018-11-25 02:31:05.518456</td>\n",
       "      <td>2018-11-25 02:31:05.518456</td>\n",
       "    </tr>\n",
       "    <tr>\n",
       "      <th>2</th>\n",
       "      <td>089a96b0-8e31-4303-9b8f-e8eabd126b51</td>\n",
       "      <td>f4745c03-2491-49f1-953b-461fc7f72cf5</td>\n",
       "      <td>user_is_partner</td>\n",
       "      <td>{\"mei\": true, \"partner\": true, \"user_id\": \"dcd...</td>\n",
       "      <td>2018-11-25 02:36:04.694632</td>\n",
       "      <td>2018-11-25 02:36:04.694632</td>\n",
       "    </tr>\n",
       "    <tr>\n",
       "      <th>3</th>\n",
       "      <td>ebe81aa1-7076-47a9-a929-0555167b6d35</td>\n",
       "      <td>f4745c03-2491-49f1-953b-461fc7f72cf5</td>\n",
       "      <td>organization_type</td>\n",
       "      <td>ME</td>\n",
       "      <td>2018-11-25 02:36:04.605196</td>\n",
       "      <td>2018-11-25 02:36:04.605196</td>\n",
       "    </tr>\n",
       "    <tr>\n",
       "      <th>4</th>\n",
       "      <td>b301ec68-9042-4a74-88f4-82b3256d0137</td>\n",
       "      <td>b208f531-9beb-44ae-991c-effca11da1e5</td>\n",
       "      <td>user_is_partner</td>\n",
       "      <td>{\"mei\": true, \"partner\": true, \"user_id\": \"5c9...</td>\n",
       "      <td>2018-11-25 02:41:44.953192</td>\n",
       "      <td>2018-11-25 02:41:44.953192</td>\n",
       "    </tr>\n",
       "  </tbody>\n",
       "</table>\n",
       "</div>"
      ],
      "text/plain": [
       "                                     id                       organization_id  \\\n",
       "0  8a442911-65db-42a3-8063-2e8e2ddab984  417b2d7c-8a26-483b-920a-cc283095d044   \n",
       "1  fa84c1d4-9362-472f-8ef9-aa14768deb22  417b2d7c-8a26-483b-920a-cc283095d044   \n",
       "2  089a96b0-8e31-4303-9b8f-e8eabd126b51  f4745c03-2491-49f1-953b-461fc7f72cf5   \n",
       "3  ebe81aa1-7076-47a9-a929-0555167b6d35  f4745c03-2491-49f1-953b-461fc7f72cf5   \n",
       "4  b301ec68-9042-4a74-88f4-82b3256d0137  b208f531-9beb-44ae-991c-effca11da1e5   \n",
       "\n",
       "                type                                              value  \\\n",
       "0    user_is_partner  {\"mei\": false, \"partner\": true, \"user_id\": \"f3...   \n",
       "1  organization_type                                                 ME   \n",
       "2    user_is_partner  {\"mei\": true, \"partner\": true, \"user_id\": \"dcd...   \n",
       "3  organization_type                                                 ME   \n",
       "4    user_is_partner  {\"mei\": true, \"partner\": true, \"user_id\": \"5c9...   \n",
       "\n",
       "                  inserted_at                  updated_at  \n",
       "0  2018-11-25 02:31:05.472505  2018-11-25 02:31:05.472505  \n",
       "1  2018-11-25 02:31:05.518456  2018-11-25 02:31:05.518456  \n",
       "2  2018-11-25 02:36:04.694632  2018-11-25 02:36:04.694632  \n",
       "3  2018-11-25 02:36:04.605196  2018-11-25 02:36:04.605196  \n",
       "4  2018-11-25 02:41:44.953192  2018-11-25 02:41:44.953192  "
      ]
     },
     "execution_count": 37,
     "metadata": {},
     "output_type": "execute_result"
    }
   ],
   "source": [
    "om = pd.read_csv('files/processed_organizations_metadata.csv')\n",
    "om.head()"
   ]
  },
  {
   "cell_type": "code",
   "execution_count": 38,
   "id": "cc4aacba-213a-4730-bd35-1b712f7f1d66",
   "metadata": {
    "tags": []
   },
   "outputs": [
    {
     "data": {
      "text/plain": [
       "(292433, 6)"
      ]
     },
     "execution_count": 38,
     "metadata": {},
     "output_type": "execute_result"
    }
   ],
   "source": [
    "om.shape"
   ]
  },
  {
   "cell_type": "code",
   "execution_count": 39,
   "id": "0fb14162-6980-48be-9d0d-962db2ff2356",
   "metadata": {
    "tags": []
   },
   "outputs": [],
   "source": [
    "omup = om[om.type == 'user_is_partner'].copy(deep=True)\n",
    "omot = om[om.type == 'organization_type'].copy(deep=True)"
   ]
  },
  {
   "cell_type": "markdown",
   "id": "786a2630-9dcc-4a6d-a341-41e411881d5c",
   "metadata": {
    "tags": []
   },
   "source": [
    "#### OMUP"
   ]
  },
  {
   "cell_type": "code",
   "execution_count": 40,
   "id": "16b57ec0-8341-44f3-90c2-77aea94c2b27",
   "metadata": {
    "tags": []
   },
   "outputs": [
    {
     "data": {
      "text/plain": [
       "id                0.000000\n",
       "organization_id   0.000000\n",
       "type              0.000000\n",
       "value             0.000000\n",
       "inserted_at       0.000000\n",
       "updated_at        0.000000\n",
       "dtype: float64"
      ]
     },
     "execution_count": 40,
     "metadata": {},
     "output_type": "execute_result"
    }
   ],
   "source": [
    "omup.isna().mean()"
   ]
  },
  {
   "cell_type": "code",
   "execution_count": 41,
   "id": "6eaeb744-652c-4d6c-b6fe-66291f295c41",
   "metadata": {
    "tags": []
   },
   "outputs": [
    {
     "data": {
      "text/html": [
       "<div>\n",
       "<style scoped>\n",
       "    .dataframe tbody tr th:only-of-type {\n",
       "        vertical-align: middle;\n",
       "    }\n",
       "\n",
       "    .dataframe tbody tr th {\n",
       "        vertical-align: top;\n",
       "    }\n",
       "\n",
       "    .dataframe thead th {\n",
       "        text-align: right;\n",
       "    }\n",
       "</style>\n",
       "<table border=\"1\" class=\"dataframe\">\n",
       "  <thead>\n",
       "    <tr style=\"text-align: right;\">\n",
       "      <th></th>\n",
       "      <th>id</th>\n",
       "      <th>organization_id</th>\n",
       "      <th>type</th>\n",
       "      <th>value</th>\n",
       "      <th>inserted_at</th>\n",
       "      <th>updated_at</th>\n",
       "    </tr>\n",
       "  </thead>\n",
       "  <tbody>\n",
       "    <tr>\n",
       "      <th>96386</th>\n",
       "      <td>d20777aa-afff-40da-bce4-c6d39d8a2166</td>\n",
       "      <td>7bfb1775-f8f2-4b7b-a914-8d7c8fae540e</td>\n",
       "      <td>user_is_partner</td>\n",
       "      <td>{\"mei\": false, \"eireli\": false, \"partner\": tru...</td>\n",
       "      <td>2018-12-17 02:25:42.195539</td>\n",
       "      <td>2018-12-17 02:25:42.195539</td>\n",
       "    </tr>\n",
       "    <tr>\n",
       "      <th>96388</th>\n",
       "      <td>f2dbfb54-7541-46c2-8379-253fa2314379</td>\n",
       "      <td>6903ae42-8332-4cfb-b893-3f07b4e546dc</td>\n",
       "      <td>user_is_partner</td>\n",
       "      <td>{\"mei\": false, \"eireli\": true, \"partner\": true...</td>\n",
       "      <td>2018-12-17 02:42:06.787676</td>\n",
       "      <td>2018-12-17 02:42:06.787676</td>\n",
       "    </tr>\n",
       "    <tr>\n",
       "      <th>96390</th>\n",
       "      <td>d9f60603-14f2-49c4-988c-77b45d619779</td>\n",
       "      <td>2c166447-0bc3-47e1-8feb-5526d39137e7</td>\n",
       "      <td>user_is_partner</td>\n",
       "      <td>{\"mei\": false, \"eireli\": false, \"partner\": fal...</td>\n",
       "      <td>2018-12-17 02:44:30.201175</td>\n",
       "      <td>2018-12-17 02:44:30.201175</td>\n",
       "    </tr>\n",
       "    <tr>\n",
       "      <th>96392</th>\n",
       "      <td>4a5f2f1a-3e59-41ff-936f-7a4e76364b23</td>\n",
       "      <td>c9f5096b-b0e0-4b93-b4ef-af6781365500</td>\n",
       "      <td>user_is_partner</td>\n",
       "      <td>{\"mei\": true, \"eireli\": false, \"partner\": true...</td>\n",
       "      <td>2018-12-17 02:49:15.313589</td>\n",
       "      <td>2018-12-17 02:49:15.313589</td>\n",
       "    </tr>\n",
       "    <tr>\n",
       "      <th>96394</th>\n",
       "      <td>2e41df9f-5f22-4528-b247-7532d78bb8fc</td>\n",
       "      <td>9973e837-f9ac-43e0-a0ee-6ef07d131b95</td>\n",
       "      <td>user_is_partner</td>\n",
       "      <td>{\"mei\": true, \"eireli\": false, \"partner\": true...</td>\n",
       "      <td>2018-12-17 02:50:19.871628</td>\n",
       "      <td>2018-12-17 02:50:19.871628</td>\n",
       "    </tr>\n",
       "  </tbody>\n",
       "</table>\n",
       "</div>"
      ],
      "text/plain": [
       "                                         id  \\\n",
       "96386  d20777aa-afff-40da-bce4-c6d39d8a2166   \n",
       "96388  f2dbfb54-7541-46c2-8379-253fa2314379   \n",
       "96390  d9f60603-14f2-49c4-988c-77b45d619779   \n",
       "96392  4a5f2f1a-3e59-41ff-936f-7a4e76364b23   \n",
       "96394  2e41df9f-5f22-4528-b247-7532d78bb8fc   \n",
       "\n",
       "                            organization_id             type  \\\n",
       "96386  7bfb1775-f8f2-4b7b-a914-8d7c8fae540e  user_is_partner   \n",
       "96388  6903ae42-8332-4cfb-b893-3f07b4e546dc  user_is_partner   \n",
       "96390  2c166447-0bc3-47e1-8feb-5526d39137e7  user_is_partner   \n",
       "96392  c9f5096b-b0e0-4b93-b4ef-af6781365500  user_is_partner   \n",
       "96394  9973e837-f9ac-43e0-a0ee-6ef07d131b95  user_is_partner   \n",
       "\n",
       "                                                   value  \\\n",
       "96386  {\"mei\": false, \"eireli\": false, \"partner\": tru...   \n",
       "96388  {\"mei\": false, \"eireli\": true, \"partner\": true...   \n",
       "96390  {\"mei\": false, \"eireli\": false, \"partner\": fal...   \n",
       "96392  {\"mei\": true, \"eireli\": false, \"partner\": true...   \n",
       "96394  {\"mei\": true, \"eireli\": false, \"partner\": true...   \n",
       "\n",
       "                      inserted_at                  updated_at  \n",
       "96386  2018-12-17 02:25:42.195539  2018-12-17 02:25:42.195539  \n",
       "96388  2018-12-17 02:42:06.787676  2018-12-17 02:42:06.787676  \n",
       "96390  2018-12-17 02:44:30.201175  2018-12-17 02:44:30.201175  \n",
       "96392  2018-12-17 02:49:15.313589  2018-12-17 02:49:15.313589  \n",
       "96394  2018-12-17 02:50:19.871628  2018-12-17 02:50:19.871628  "
      ]
     },
     "execution_count": 41,
     "metadata": {},
     "output_type": "execute_result"
    }
   ],
   "source": [
    "omup.tail()"
   ]
  },
  {
   "cell_type": "code",
   "execution_count": 42,
   "id": "51894c18-255e-47c8-9348-5766efb6a298",
   "metadata": {
    "tags": []
   },
   "outputs": [],
   "source": [
    "exploded = pd.DataFrame([eval(i.replace('false', 'False').replace('true', 'True')) for i in omup.value.tolist()])"
   ]
  },
  {
   "cell_type": "code",
   "execution_count": 43,
   "id": "d60e62b4-592f-4a33-86d7-3c17854ddc4c",
   "metadata": {
    "tags": []
   },
   "outputs": [
    {
     "data": {
      "text/plain": [
       "(48198, 6)"
      ]
     },
     "execution_count": 43,
     "metadata": {},
     "output_type": "execute_result"
    }
   ],
   "source": [
    "omup.shape"
   ]
  },
  {
   "cell_type": "code",
   "execution_count": 44,
   "id": "58e4b862-a539-44ea-b920-75b10d1ceaf3",
   "metadata": {
    "tags": []
   },
   "outputs": [
    {
     "data": {
      "text/plain": [
       "(48198, 4)"
      ]
     },
     "execution_count": 44,
     "metadata": {},
     "output_type": "execute_result"
    }
   ],
   "source": [
    "exploded.shape"
   ]
  },
  {
   "cell_type": "code",
   "execution_count": 45,
   "id": "628e3bab-5c4f-422d-b2d7-98bb4a2267f8",
   "metadata": {
    "tags": []
   },
   "outputs": [],
   "source": [
    "omup = pd.concat([omup.reset_index().drop(columns=['index']), exploded], axis=1).drop(columns=['value'])"
   ]
  },
  {
   "cell_type": "code",
   "execution_count": 46,
   "id": "31d2358c-71db-4c01-b187-05dab2d5d484",
   "metadata": {
    "tags": []
   },
   "outputs": [
    {
     "data": {
      "text/plain": [
       "id                0.000000\n",
       "organization_id   0.000000\n",
       "type              0.000000\n",
       "inserted_at       0.000000\n",
       "updated_at        0.000000\n",
       "mei               0.000000\n",
       "partner           0.000000\n",
       "user_id           0.000000\n",
       "eireli            0.948629\n",
       "dtype: float64"
      ]
     },
     "execution_count": 46,
     "metadata": {},
     "output_type": "execute_result"
    }
   ],
   "source": [
    "omup.isna().mean()"
   ]
  },
  {
   "cell_type": "code",
   "execution_count": 47,
   "id": "e26a7a3f-74ae-4e87-87c3-01eaacdc377c",
   "metadata": {
    "tags": []
   },
   "outputs": [],
   "source": [
    "omup.rename(columns={i: 'omup_'+i for i in omup.columns}, inplace=True)"
   ]
  },
  {
   "cell_type": "code",
   "execution_count": 48,
   "id": "af10e774-729e-4d30-a6ee-5e9ef5dca310",
   "metadata": {
    "tags": []
   },
   "outputs": [
    {
     "data": {
      "text/html": [
       "<div>\n",
       "<style scoped>\n",
       "    .dataframe tbody tr th:only-of-type {\n",
       "        vertical-align: middle;\n",
       "    }\n",
       "\n",
       "    .dataframe tbody tr th {\n",
       "        vertical-align: top;\n",
       "    }\n",
       "\n",
       "    .dataframe thead th {\n",
       "        text-align: right;\n",
       "    }\n",
       "</style>\n",
       "<table border=\"1\" class=\"dataframe\">\n",
       "  <thead>\n",
       "    <tr style=\"text-align: right;\">\n",
       "      <th></th>\n",
       "      <th>omup_id</th>\n",
       "      <th>omup_organization_id</th>\n",
       "      <th>omup_type</th>\n",
       "      <th>omup_inserted_at</th>\n",
       "      <th>omup_updated_at</th>\n",
       "      <th>omup_mei</th>\n",
       "      <th>omup_partner</th>\n",
       "      <th>omup_user_id</th>\n",
       "      <th>omup_eireli</th>\n",
       "    </tr>\n",
       "  </thead>\n",
       "  <tbody>\n",
       "    <tr>\n",
       "      <th>0</th>\n",
       "      <td>8a442911-65db-42a3-8063-2e8e2ddab984</td>\n",
       "      <td>417b2d7c-8a26-483b-920a-cc283095d044</td>\n",
       "      <td>user_is_partner</td>\n",
       "      <td>2018-11-25 02:31:05.472505</td>\n",
       "      <td>2018-11-25 02:31:05.472505</td>\n",
       "      <td>False</td>\n",
       "      <td>True</td>\n",
       "      <td>f30ed2d8-4eda-4f80-ac87-1e0d85100093</td>\n",
       "      <td>NaN</td>\n",
       "    </tr>\n",
       "    <tr>\n",
       "      <th>1</th>\n",
       "      <td>089a96b0-8e31-4303-9b8f-e8eabd126b51</td>\n",
       "      <td>f4745c03-2491-49f1-953b-461fc7f72cf5</td>\n",
       "      <td>user_is_partner</td>\n",
       "      <td>2018-11-25 02:36:04.694632</td>\n",
       "      <td>2018-11-25 02:36:04.694632</td>\n",
       "      <td>True</td>\n",
       "      <td>True</td>\n",
       "      <td>dcdb8388-532b-4ca1-ad0e-c0d56d4b5536</td>\n",
       "      <td>NaN</td>\n",
       "    </tr>\n",
       "    <tr>\n",
       "      <th>2</th>\n",
       "      <td>b301ec68-9042-4a74-88f4-82b3256d0137</td>\n",
       "      <td>b208f531-9beb-44ae-991c-effca11da1e5</td>\n",
       "      <td>user_is_partner</td>\n",
       "      <td>2018-11-25 02:41:44.953192</td>\n",
       "      <td>2018-11-25 02:41:44.953192</td>\n",
       "      <td>True</td>\n",
       "      <td>True</td>\n",
       "      <td>5c911699-2ceb-4195-a50d-0cf913e96f5c</td>\n",
       "      <td>NaN</td>\n",
       "    </tr>\n",
       "    <tr>\n",
       "      <th>3</th>\n",
       "      <td>dc6c6614-fba7-4f73-afbb-71201482c673</td>\n",
       "      <td>02b9eb4f-e25e-4ac7-a4c7-a3e0cef53968</td>\n",
       "      <td>user_is_partner</td>\n",
       "      <td>2018-11-25 02:48:19.369816</td>\n",
       "      <td>2018-11-25 02:48:19.369816</td>\n",
       "      <td>False</td>\n",
       "      <td>True</td>\n",
       "      <td>2403e5c3-56eb-49aa-a8ac-4c0bea23ea6a</td>\n",
       "      <td>NaN</td>\n",
       "    </tr>\n",
       "    <tr>\n",
       "      <th>4</th>\n",
       "      <td>705e3f23-013b-4f09-a012-a6a881ab17c2</td>\n",
       "      <td>c05a9e40-a8e7-4ebf-a72c-06c00f1a8f89</td>\n",
       "      <td>user_is_partner</td>\n",
       "      <td>2018-11-25 02:55:30.619981</td>\n",
       "      <td>2018-11-25 02:55:30.619981</td>\n",
       "      <td>True</td>\n",
       "      <td>True</td>\n",
       "      <td>7be671b7-a648-40f3-8dd0-c40b83e9f9fa</td>\n",
       "      <td>NaN</td>\n",
       "    </tr>\n",
       "  </tbody>\n",
       "</table>\n",
       "</div>"
      ],
      "text/plain": [
       "                                omup_id                  omup_organization_id  \\\n",
       "0  8a442911-65db-42a3-8063-2e8e2ddab984  417b2d7c-8a26-483b-920a-cc283095d044   \n",
       "1  089a96b0-8e31-4303-9b8f-e8eabd126b51  f4745c03-2491-49f1-953b-461fc7f72cf5   \n",
       "2  b301ec68-9042-4a74-88f4-82b3256d0137  b208f531-9beb-44ae-991c-effca11da1e5   \n",
       "3  dc6c6614-fba7-4f73-afbb-71201482c673  02b9eb4f-e25e-4ac7-a4c7-a3e0cef53968   \n",
       "4  705e3f23-013b-4f09-a012-a6a881ab17c2  c05a9e40-a8e7-4ebf-a72c-06c00f1a8f89   \n",
       "\n",
       "         omup_type            omup_inserted_at             omup_updated_at  \\\n",
       "0  user_is_partner  2018-11-25 02:31:05.472505  2018-11-25 02:31:05.472505   \n",
       "1  user_is_partner  2018-11-25 02:36:04.694632  2018-11-25 02:36:04.694632   \n",
       "2  user_is_partner  2018-11-25 02:41:44.953192  2018-11-25 02:41:44.953192   \n",
       "3  user_is_partner  2018-11-25 02:48:19.369816  2018-11-25 02:48:19.369816   \n",
       "4  user_is_partner  2018-11-25 02:55:30.619981  2018-11-25 02:55:30.619981   \n",
       "\n",
       "   omup_mei  omup_partner                          omup_user_id omup_eireli  \n",
       "0     False          True  f30ed2d8-4eda-4f80-ac87-1e0d85100093         NaN  \n",
       "1      True          True  dcdb8388-532b-4ca1-ad0e-c0d56d4b5536         NaN  \n",
       "2      True          True  5c911699-2ceb-4195-a50d-0cf913e96f5c         NaN  \n",
       "3     False          True  2403e5c3-56eb-49aa-a8ac-4c0bea23ea6a         NaN  \n",
       "4      True          True  7be671b7-a648-40f3-8dd0-c40b83e9f9fa         NaN  "
      ]
     },
     "execution_count": 48,
     "metadata": {},
     "output_type": "execute_result"
    }
   ],
   "source": [
    "omup.head()"
   ]
  },
  {
   "cell_type": "code",
   "execution_count": 49,
   "id": "d04ac0a2-9b0b-4914-8f14-7a46fdf035da",
   "metadata": {
    "tags": []
   },
   "outputs": [
    {
     "data": {
      "text/html": [
       "<div>\n",
       "<style scoped>\n",
       "    .dataframe tbody tr th:only-of-type {\n",
       "        vertical-align: middle;\n",
       "    }\n",
       "\n",
       "    .dataframe tbody tr th {\n",
       "        vertical-align: top;\n",
       "    }\n",
       "\n",
       "    .dataframe thead th {\n",
       "        text-align: right;\n",
       "    }\n",
       "</style>\n",
       "<table border=\"1\" class=\"dataframe\">\n",
       "  <thead>\n",
       "    <tr style=\"text-align: right;\">\n",
       "      <th></th>\n",
       "      <th>operation_id</th>\n",
       "      <th>request_id</th>\n",
       "      <th>account_id</th>\n",
       "      <th>counterparty_document</th>\n",
       "      <th>amount</th>\n",
       "      <th>processed_at</th>\n",
       "      <th>ac_owner_id</th>\n",
       "      <th>ac_owner_document</th>\n",
       "      <th>ac_owner_type</th>\n",
       "      <th>ac_inserted_at</th>\n",
       "      <th>uo_user_id</th>\n",
       "      <th>uo_organization_id</th>\n",
       "      <th>uo_flag_many_orgs</th>\n",
       "      <th>ac_user_id</th>\n",
       "      <th>ac_organization_id</th>\n",
       "      <th>treated_user_id</th>\n",
       "      <th>treated_organization_id</th>\n",
       "    </tr>\n",
       "  </thead>\n",
       "  <tbody>\n",
       "    <tr>\n",
       "      <th>0</th>\n",
       "      <td>f9eb1bfc-dd3e-4494-ad3a-5728059a334b</td>\n",
       "      <td>8ba7fb9c-a8b9-4595-8235-561012daa551</td>\n",
       "      <td>d24e533e-d54f-4ac5-874f-097f968c8b23</td>\n",
       "      <td>b20ca420-36b0-429f-85a5-7ffac69e82a1</td>\n",
       "      <td>0.000001</td>\n",
       "      <td>2018-07-15 00:00:25.000000</td>\n",
       "      <td>117f2cec-83c9-4392-a78d-d1e073bdf7c6</td>\n",
       "      <td>b084e320-2020-4804-ba98-ec532d096c19</td>\n",
       "      <td>organization</td>\n",
       "      <td>2018-04-27 18:46:06.110555</td>\n",
       "      <td>f6938791-4f7a-4cbb-81c3-d2511f8d08d0</td>\n",
       "      <td>NaN</td>\n",
       "      <td>1.000000</td>\n",
       "      <td>None</td>\n",
       "      <td>117f2cec-83c9-4392-a78d-d1e073bdf7c6</td>\n",
       "      <td>f6938791-4f7a-4cbb-81c3-d2511f8d08d0</td>\n",
       "      <td>117f2cec-83c9-4392-a78d-d1e073bdf7c6</td>\n",
       "    </tr>\n",
       "    <tr>\n",
       "      <th>1</th>\n",
       "      <td>98b084a3-353a-4ea4-8cb6-3a2b48f24d9b</td>\n",
       "      <td>f7f3b6cc-5690-4716-bc36-8a9e61ab60b0</td>\n",
       "      <td>d24e533e-d54f-4ac5-874f-097f968c8b23</td>\n",
       "      <td>b20ca420-36b0-429f-85a5-7ffac69e82a1</td>\n",
       "      <td>0.000000</td>\n",
       "      <td>2018-07-15 00:20:32.000000</td>\n",
       "      <td>117f2cec-83c9-4392-a78d-d1e073bdf7c6</td>\n",
       "      <td>b084e320-2020-4804-ba98-ec532d096c19</td>\n",
       "      <td>organization</td>\n",
       "      <td>2018-04-27 18:46:06.110555</td>\n",
       "      <td>f6938791-4f7a-4cbb-81c3-d2511f8d08d0</td>\n",
       "      <td>NaN</td>\n",
       "      <td>1.000000</td>\n",
       "      <td>None</td>\n",
       "      <td>117f2cec-83c9-4392-a78d-d1e073bdf7c6</td>\n",
       "      <td>f6938791-4f7a-4cbb-81c3-d2511f8d08d0</td>\n",
       "      <td>117f2cec-83c9-4392-a78d-d1e073bdf7c6</td>\n",
       "    </tr>\n",
       "    <tr>\n",
       "      <th>2</th>\n",
       "      <td>b04d0b3b-620f-4031-8598-14862d8385a4</td>\n",
       "      <td>c7120482-a055-4dc0-915c-ee467afa0d6b</td>\n",
       "      <td>d24e533e-d54f-4ac5-874f-097f968c8b23</td>\n",
       "      <td>b20ca420-36b0-429f-85a5-7ffac69e82a1</td>\n",
       "      <td>0.000001</td>\n",
       "      <td>2018-09-01 23:51:38.000000</td>\n",
       "      <td>117f2cec-83c9-4392-a78d-d1e073bdf7c6</td>\n",
       "      <td>b084e320-2020-4804-ba98-ec532d096c19</td>\n",
       "      <td>organization</td>\n",
       "      <td>2018-04-27 18:46:06.110555</td>\n",
       "      <td>f6938791-4f7a-4cbb-81c3-d2511f8d08d0</td>\n",
       "      <td>NaN</td>\n",
       "      <td>1.000000</td>\n",
       "      <td>None</td>\n",
       "      <td>117f2cec-83c9-4392-a78d-d1e073bdf7c6</td>\n",
       "      <td>f6938791-4f7a-4cbb-81c3-d2511f8d08d0</td>\n",
       "      <td>117f2cec-83c9-4392-a78d-d1e073bdf7c6</td>\n",
       "    </tr>\n",
       "    <tr>\n",
       "      <th>3</th>\n",
       "      <td>aa253da4-d86f-45fe-a30c-1e25aa752344</td>\n",
       "      <td>c97a2208-a1cc-472b-a8ff-4dd2dd54fd97</td>\n",
       "      <td>d24e533e-d54f-4ac5-874f-097f968c8b23</td>\n",
       "      <td>b20ca420-36b0-429f-85a5-7ffac69e82a1</td>\n",
       "      <td>0.000001</td>\n",
       "      <td>2018-09-13 00:50:27.000000</td>\n",
       "      <td>117f2cec-83c9-4392-a78d-d1e073bdf7c6</td>\n",
       "      <td>b084e320-2020-4804-ba98-ec532d096c19</td>\n",
       "      <td>organization</td>\n",
       "      <td>2018-04-27 18:46:06.110555</td>\n",
       "      <td>f6938791-4f7a-4cbb-81c3-d2511f8d08d0</td>\n",
       "      <td>NaN</td>\n",
       "      <td>1.000000</td>\n",
       "      <td>None</td>\n",
       "      <td>117f2cec-83c9-4392-a78d-d1e073bdf7c6</td>\n",
       "      <td>f6938791-4f7a-4cbb-81c3-d2511f8d08d0</td>\n",
       "      <td>117f2cec-83c9-4392-a78d-d1e073bdf7c6</td>\n",
       "    </tr>\n",
       "    <tr>\n",
       "      <th>4</th>\n",
       "      <td>ffed5732-c135-495f-9b43-52f4dbdd0fab</td>\n",
       "      <td>75588166-0282-401a-ace4-d42d2b33f75d</td>\n",
       "      <td>d24e533e-d54f-4ac5-874f-097f968c8b23</td>\n",
       "      <td>b20ca420-36b0-429f-85a5-7ffac69e82a1</td>\n",
       "      <td>0.000000</td>\n",
       "      <td>2018-09-22 23:50:38.000000</td>\n",
       "      <td>117f2cec-83c9-4392-a78d-d1e073bdf7c6</td>\n",
       "      <td>b084e320-2020-4804-ba98-ec532d096c19</td>\n",
       "      <td>organization</td>\n",
       "      <td>2018-04-27 18:46:06.110555</td>\n",
       "      <td>f6938791-4f7a-4cbb-81c3-d2511f8d08d0</td>\n",
       "      <td>NaN</td>\n",
       "      <td>1.000000</td>\n",
       "      <td>None</td>\n",
       "      <td>117f2cec-83c9-4392-a78d-d1e073bdf7c6</td>\n",
       "      <td>f6938791-4f7a-4cbb-81c3-d2511f8d08d0</td>\n",
       "      <td>117f2cec-83c9-4392-a78d-d1e073bdf7c6</td>\n",
       "    </tr>\n",
       "  </tbody>\n",
       "</table>\n",
       "</div>"
      ],
      "text/plain": [
       "                           operation_id                            request_id  \\\n",
       "0  f9eb1bfc-dd3e-4494-ad3a-5728059a334b  8ba7fb9c-a8b9-4595-8235-561012daa551   \n",
       "1  98b084a3-353a-4ea4-8cb6-3a2b48f24d9b  f7f3b6cc-5690-4716-bc36-8a9e61ab60b0   \n",
       "2  b04d0b3b-620f-4031-8598-14862d8385a4  c7120482-a055-4dc0-915c-ee467afa0d6b   \n",
       "3  aa253da4-d86f-45fe-a30c-1e25aa752344  c97a2208-a1cc-472b-a8ff-4dd2dd54fd97   \n",
       "4  ffed5732-c135-495f-9b43-52f4dbdd0fab  75588166-0282-401a-ace4-d42d2b33f75d   \n",
       "\n",
       "                             account_id                 counterparty_document  \\\n",
       "0  d24e533e-d54f-4ac5-874f-097f968c8b23  b20ca420-36b0-429f-85a5-7ffac69e82a1   \n",
       "1  d24e533e-d54f-4ac5-874f-097f968c8b23  b20ca420-36b0-429f-85a5-7ffac69e82a1   \n",
       "2  d24e533e-d54f-4ac5-874f-097f968c8b23  b20ca420-36b0-429f-85a5-7ffac69e82a1   \n",
       "3  d24e533e-d54f-4ac5-874f-097f968c8b23  b20ca420-36b0-429f-85a5-7ffac69e82a1   \n",
       "4  d24e533e-d54f-4ac5-874f-097f968c8b23  b20ca420-36b0-429f-85a5-7ffac69e82a1   \n",
       "\n",
       "    amount                processed_at                           ac_owner_id  \\\n",
       "0 0.000001  2018-07-15 00:00:25.000000  117f2cec-83c9-4392-a78d-d1e073bdf7c6   \n",
       "1 0.000000  2018-07-15 00:20:32.000000  117f2cec-83c9-4392-a78d-d1e073bdf7c6   \n",
       "2 0.000001  2018-09-01 23:51:38.000000  117f2cec-83c9-4392-a78d-d1e073bdf7c6   \n",
       "3 0.000001  2018-09-13 00:50:27.000000  117f2cec-83c9-4392-a78d-d1e073bdf7c6   \n",
       "4 0.000000  2018-09-22 23:50:38.000000  117f2cec-83c9-4392-a78d-d1e073bdf7c6   \n",
       "\n",
       "                      ac_owner_document ac_owner_type  \\\n",
       "0  b084e320-2020-4804-ba98-ec532d096c19  organization   \n",
       "1  b084e320-2020-4804-ba98-ec532d096c19  organization   \n",
       "2  b084e320-2020-4804-ba98-ec532d096c19  organization   \n",
       "3  b084e320-2020-4804-ba98-ec532d096c19  organization   \n",
       "4  b084e320-2020-4804-ba98-ec532d096c19  organization   \n",
       "\n",
       "               ac_inserted_at                            uo_user_id  \\\n",
       "0  2018-04-27 18:46:06.110555  f6938791-4f7a-4cbb-81c3-d2511f8d08d0   \n",
       "1  2018-04-27 18:46:06.110555  f6938791-4f7a-4cbb-81c3-d2511f8d08d0   \n",
       "2  2018-04-27 18:46:06.110555  f6938791-4f7a-4cbb-81c3-d2511f8d08d0   \n",
       "3  2018-04-27 18:46:06.110555  f6938791-4f7a-4cbb-81c3-d2511f8d08d0   \n",
       "4  2018-04-27 18:46:06.110555  f6938791-4f7a-4cbb-81c3-d2511f8d08d0   \n",
       "\n",
       "  uo_organization_id  uo_flag_many_orgs ac_user_id  \\\n",
       "0                NaN           1.000000       None   \n",
       "1                NaN           1.000000       None   \n",
       "2                NaN           1.000000       None   \n",
       "3                NaN           1.000000       None   \n",
       "4                NaN           1.000000       None   \n",
       "\n",
       "                     ac_organization_id                       treated_user_id  \\\n",
       "0  117f2cec-83c9-4392-a78d-d1e073bdf7c6  f6938791-4f7a-4cbb-81c3-d2511f8d08d0   \n",
       "1  117f2cec-83c9-4392-a78d-d1e073bdf7c6  f6938791-4f7a-4cbb-81c3-d2511f8d08d0   \n",
       "2  117f2cec-83c9-4392-a78d-d1e073bdf7c6  f6938791-4f7a-4cbb-81c3-d2511f8d08d0   \n",
       "3  117f2cec-83c9-4392-a78d-d1e073bdf7c6  f6938791-4f7a-4cbb-81c3-d2511f8d08d0   \n",
       "4  117f2cec-83c9-4392-a78d-d1e073bdf7c6  f6938791-4f7a-4cbb-81c3-d2511f8d08d0   \n",
       "\n",
       "                treated_organization_id  \n",
       "0  117f2cec-83c9-4392-a78d-d1e073bdf7c6  \n",
       "1  117f2cec-83c9-4392-a78d-d1e073bdf7c6  \n",
       "2  117f2cec-83c9-4392-a78d-d1e073bdf7c6  \n",
       "3  117f2cec-83c9-4392-a78d-d1e073bdf7c6  \n",
       "4  117f2cec-83c9-4392-a78d-d1e073bdf7c6  "
      ]
     },
     "execution_count": 49,
     "metadata": {},
     "output_type": "execute_result"
    }
   ],
   "source": [
    "ut.head()"
   ]
  },
  {
   "cell_type": "markdown",
   "id": "8e941697-e5e8-4346-ba11-24ff7ce57aa1",
   "metadata": {},
   "source": [
    "From what I understood from the relations of the table (See the attached relational_schema.png where I try to infer the relational schema of these tables), I'll need the organizations table to link this to the core tables by the means of the accounts table. Lets already read it and make the joins."
   ]
  },
  {
   "cell_type": "code",
   "execution_count": 50,
   "id": "0459802a-da1f-43b0-87f8-75d0775c2191",
   "metadata": {
    "tags": []
   },
   "outputs": [
    {
     "data": {
      "text/html": [
       "<div>\n",
       "<style scoped>\n",
       "    .dataframe tbody tr th:only-of-type {\n",
       "        vertical-align: middle;\n",
       "    }\n",
       "\n",
       "    .dataframe tbody tr th {\n",
       "        vertical-align: top;\n",
       "    }\n",
       "\n",
       "    .dataframe thead th {\n",
       "        text-align: right;\n",
       "    }\n",
       "</style>\n",
       "<table border=\"1\" class=\"dataframe\">\n",
       "  <thead>\n",
       "    <tr style=\"text-align: right;\">\n",
       "      <th></th>\n",
       "      <th>id</th>\n",
       "      <th>document</th>\n",
       "      <th>inserted_at</th>\n",
       "    </tr>\n",
       "  </thead>\n",
       "  <tbody>\n",
       "    <tr>\n",
       "      <th>0</th>\n",
       "      <td>4f680da2-7b7c-4d48-9151-6f49437b4c27</td>\n",
       "      <td>9487f858-03b5-4eb4-afda-3e472643ef32</td>\n",
       "      <td>2018-11-01 17:40:15.194651</td>\n",
       "    </tr>\n",
       "    <tr>\n",
       "      <th>1</th>\n",
       "      <td>2a98430a-4908-4f3d-9c0b-bba3ca1bdd2a</td>\n",
       "      <td>a7899558-55ca-4c09-a535-a91abfb19c3c</td>\n",
       "      <td>2017-08-09 13:36:41.156395</td>\n",
       "    </tr>\n",
       "    <tr>\n",
       "      <th>2</th>\n",
       "      <td>3dc6651c-7968-456b-ae00-791da8ae0571</td>\n",
       "      <td>b5f5e3fc-a1cc-4d8b-a667-1e05b0d92376</td>\n",
       "      <td>2018-08-23 15:14:47.894131</td>\n",
       "    </tr>\n",
       "    <tr>\n",
       "      <th>3</th>\n",
       "      <td>4bd05bbe-ebd6-483e-a249-7c9204f88eeb</td>\n",
       "      <td>58b11bce-88c4-4279-afc3-338a4dac5348</td>\n",
       "      <td>2018-07-24 12:38:20.251984</td>\n",
       "    </tr>\n",
       "    <tr>\n",
       "      <th>4</th>\n",
       "      <td>1a69bc7e-a978-48c0-bad5-484c260c4254</td>\n",
       "      <td>1d8bb9cf-8f6b-46d4-b73b-96f4f176b9c1</td>\n",
       "      <td>2018-05-01 21:10:01.128368</td>\n",
       "    </tr>\n",
       "  </tbody>\n",
       "</table>\n",
       "</div>"
      ],
      "text/plain": [
       "                                     id                              document  \\\n",
       "0  4f680da2-7b7c-4d48-9151-6f49437b4c27  9487f858-03b5-4eb4-afda-3e472643ef32   \n",
       "1  2a98430a-4908-4f3d-9c0b-bba3ca1bdd2a  a7899558-55ca-4c09-a535-a91abfb19c3c   \n",
       "2  3dc6651c-7968-456b-ae00-791da8ae0571  b5f5e3fc-a1cc-4d8b-a667-1e05b0d92376   \n",
       "3  4bd05bbe-ebd6-483e-a249-7c9204f88eeb  58b11bce-88c4-4279-afc3-338a4dac5348   \n",
       "4  1a69bc7e-a978-48c0-bad5-484c260c4254  1d8bb9cf-8f6b-46d4-b73b-96f4f176b9c1   \n",
       "\n",
       "                  inserted_at  \n",
       "0  2018-11-01 17:40:15.194651  \n",
       "1  2017-08-09 13:36:41.156395  \n",
       "2  2018-08-23 15:14:47.894131  \n",
       "3  2018-07-24 12:38:20.251984  \n",
       "4  2018-05-01 21:10:01.128368  "
      ]
     },
     "execution_count": 50,
     "metadata": {},
     "output_type": "execute_result"
    }
   ],
   "source": [
    "og = pd.read_csv('files/processed_organizations.csv')\n",
    "og.head()"
   ]
  },
  {
   "cell_type": "code",
   "execution_count": 51,
   "id": "a0cd7119-8481-4b29-ae58-dc5d30c83c62",
   "metadata": {
    "tags": []
   },
   "outputs": [
    {
     "data": {
      "text/plain": [
       "True"
      ]
     },
     "execution_count": 51,
     "metadata": {},
     "output_type": "execute_result"
    }
   ],
   "source": [
    "og.id.nunique() == og.shape[0]"
   ]
  },
  {
   "cell_type": "code",
   "execution_count": 52,
   "id": "bf0e2473-b635-4e9d-af5f-c2e023e96449",
   "metadata": {
    "tags": []
   },
   "outputs": [],
   "source": [
    "og.rename(columns={i: 'og_'+i for i in og.columns}, inplace=True)"
   ]
  },
  {
   "cell_type": "raw",
   "id": "e66fc926-c6fc-4073-b917-0bcc3b02f9d1",
   "metadata": {
    "tags": []
   },
   "source": [
    "omup.head()"
   ]
  },
  {
   "cell_type": "code",
   "execution_count": 53,
   "id": "e9844eaa-5692-4ea9-bc0d-0d2950b0605d",
   "metadata": {
    "tags": []
   },
   "outputs": [
    {
     "data": {
      "text/plain": [
       "(48198, 9)"
      ]
     },
     "execution_count": 53,
     "metadata": {},
     "output_type": "execute_result"
    }
   ],
   "source": [
    "omup.shape"
   ]
  },
  {
   "cell_type": "code",
   "execution_count": 54,
   "id": "3273228f-7e81-4d84-9397-bc917312fe7a",
   "metadata": {
    "tags": []
   },
   "outputs": [],
   "source": [
    "omup_by_og = omup.merge(og, left_on='omup_organization_id', right_on='og_id', how='left')"
   ]
  },
  {
   "cell_type": "code",
   "execution_count": 55,
   "id": "1926a302-7165-44da-ad3f-6f137cfb3f65",
   "metadata": {
    "tags": []
   },
   "outputs": [
    {
     "data": {
      "text/plain": [
       "(48198, 12)"
      ]
     },
     "execution_count": 55,
     "metadata": {},
     "output_type": "execute_result"
    }
   ],
   "source": [
    "omup_by_og.shape"
   ]
  },
  {
   "cell_type": "code",
   "execution_count": 56,
   "id": "57c7d44f-bdaa-4c03-bc1f-d172ec95742f",
   "metadata": {
    "tags": []
   },
   "outputs": [
    {
     "data": {
      "text/plain": [
       "omup_id                0.000000\n",
       "omup_organization_id   0.000000\n",
       "omup_type              0.000000\n",
       "omup_inserted_at       0.000000\n",
       "omup_updated_at        0.000000\n",
       "omup_mei               0.000000\n",
       "omup_partner           0.000000\n",
       "omup_user_id           0.000000\n",
       "omup_eireli            0.948629\n",
       "og_id                  0.912175\n",
       "og_document            0.912175\n",
       "og_inserted_at         0.912175\n",
       "dtype: float64"
      ]
     },
     "execution_count": 56,
     "metadata": {},
     "output_type": "execute_result"
    }
   ],
   "source": [
    "omup_by_og.isna().mean()"
   ]
  },
  {
   "cell_type": "markdown",
   "id": "f0c707d3-7f4c-4f93-9921-ce66393352c1",
   "metadata": {},
   "source": [
    "This doesn't seems right. There is a path that can be walked, joining users by user_id and organizations by documents_id. I'll try to make these joins and see if I get a better match. If this does not work, I'll use the owner_id on the accounts."
   ]
  },
  {
   "cell_type": "code",
   "execution_count": 57,
   "id": "f21cd0a0-a203-4c4f-afe8-43c503994f85",
   "metadata": {
    "tags": []
   },
   "outputs": [
    {
     "data": {
      "text/html": [
       "<div>\n",
       "<style scoped>\n",
       "    .dataframe tbody tr th:only-of-type {\n",
       "        vertical-align: middle;\n",
       "    }\n",
       "\n",
       "    .dataframe tbody tr th {\n",
       "        vertical-align: top;\n",
       "    }\n",
       "\n",
       "    .dataframe thead th {\n",
       "        text-align: right;\n",
       "    }\n",
       "</style>\n",
       "<table border=\"1\" class=\"dataframe\">\n",
       "  <thead>\n",
       "    <tr style=\"text-align: right;\">\n",
       "      <th></th>\n",
       "      <th>id</th>\n",
       "      <th>document</th>\n",
       "      <th>inserted_at</th>\n",
       "    </tr>\n",
       "  </thead>\n",
       "  <tbody>\n",
       "    <tr>\n",
       "      <th>0</th>\n",
       "      <td>659945ba-eb5b-4112-b338-8284aec5d99b</td>\n",
       "      <td>96e7c1d9-8482-4bd6-abe7-90ad0b9854eb</td>\n",
       "      <td>2018-04-24 19:40:00.914691</td>\n",
       "    </tr>\n",
       "    <tr>\n",
       "      <th>1</th>\n",
       "      <td>7d8795b3-e8ea-4e01-8f5e-0151a41e7021</td>\n",
       "      <td>9f11c509-9971-43d2-8112-752f6537a44d</td>\n",
       "      <td>2018-11-05 16:34:40.898502</td>\n",
       "    </tr>\n",
       "    <tr>\n",
       "      <th>2</th>\n",
       "      <td>75f5fe7d-05a8-4c1c-bfad-0ea8ad901200</td>\n",
       "      <td>953f9416-0b9a-48e9-bd4a-39f8fcd18fe5</td>\n",
       "      <td>2018-04-26 18:22:38.902776</td>\n",
       "    </tr>\n",
       "    <tr>\n",
       "      <th>3</th>\n",
       "      <td>c8fc220a-bda9-4174-a633-0515fdff92c2</td>\n",
       "      <td>4888e307-afb7-4c75-8f8c-0e2d7fc6880c</td>\n",
       "      <td>2018-08-29 19:20:57.890656</td>\n",
       "    </tr>\n",
       "    <tr>\n",
       "      <th>4</th>\n",
       "      <td>0bc08c41-5d93-4740-9d1f-e188fbdf7931</td>\n",
       "      <td>4200c844-f81b-4b3a-9c19-10d9d35c26ef</td>\n",
       "      <td>2018-05-28 02:50:12.368302</td>\n",
       "    </tr>\n",
       "  </tbody>\n",
       "</table>\n",
       "</div>"
      ],
      "text/plain": [
       "                                     id                              document  \\\n",
       "0  659945ba-eb5b-4112-b338-8284aec5d99b  96e7c1d9-8482-4bd6-abe7-90ad0b9854eb   \n",
       "1  7d8795b3-e8ea-4e01-8f5e-0151a41e7021  9f11c509-9971-43d2-8112-752f6537a44d   \n",
       "2  75f5fe7d-05a8-4c1c-bfad-0ea8ad901200  953f9416-0b9a-48e9-bd4a-39f8fcd18fe5   \n",
       "3  c8fc220a-bda9-4174-a633-0515fdff92c2  4888e307-afb7-4c75-8f8c-0e2d7fc6880c   \n",
       "4  0bc08c41-5d93-4740-9d1f-e188fbdf7931  4200c844-f81b-4b3a-9c19-10d9d35c26ef   \n",
       "\n",
       "                  inserted_at  \n",
       "0  2018-04-24 19:40:00.914691  \n",
       "1  2018-11-05 16:34:40.898502  \n",
       "2  2018-04-26 18:22:38.902776  \n",
       "3  2018-08-29 19:20:57.890656  \n",
       "4  2018-05-28 02:50:12.368302  "
      ]
     },
     "execution_count": 57,
     "metadata": {},
     "output_type": "execute_result"
    }
   ],
   "source": [
    "us = pd.read_csv('files/processed_users.csv')\n",
    "us.head()"
   ]
  },
  {
   "cell_type": "code",
   "execution_count": 58,
   "id": "e054374c-dd53-4469-a505-208ba7ceda53",
   "metadata": {
    "tags": []
   },
   "outputs": [],
   "source": [
    "us.rename(columns={i: 'us_'+i for i in us.columns}, inplace=True)"
   ]
  },
  {
   "cell_type": "code",
   "execution_count": 59,
   "id": "528a5fc5-f450-47b4-a846-8c03540fb71f",
   "metadata": {
    "tags": []
   },
   "outputs": [
    {
     "data": {
      "text/plain": [
       "(48198, 9)"
      ]
     },
     "execution_count": 59,
     "metadata": {},
     "output_type": "execute_result"
    }
   ],
   "source": [
    "omup.shape"
   ]
  },
  {
   "cell_type": "code",
   "execution_count": 60,
   "id": "79996bc7-75f3-4e94-9cb6-4512342eebe3",
   "metadata": {
    "tags": []
   },
   "outputs": [
    {
     "data": {
      "text/plain": [
       "omup_id                0.000000\n",
       "omup_organization_id   0.000000\n",
       "omup_type              0.000000\n",
       "omup_inserted_at       0.000000\n",
       "omup_updated_at        0.000000\n",
       "omup_mei               0.000000\n",
       "omup_partner           0.000000\n",
       "omup_user_id           0.000000\n",
       "omup_eireli            0.948629\n",
       "us_id                  0.902091\n",
       "us_document            0.902091\n",
       "us_inserted_at         0.902091\n",
       "dtype: float64"
      ]
     },
     "execution_count": 60,
     "metadata": {},
     "output_type": "execute_result"
    }
   ],
   "source": [
    "omup.merge(us, left_on='omup_user_id', right_on='us_id', how='left').isna().mean()"
   ]
  },
  {
   "cell_type": "markdown",
   "id": "706e6f88-063c-481d-991a-75f5c3ca9f58",
   "metadata": {},
   "source": [
    "Nope. Last try:"
   ]
  },
  {
   "cell_type": "code",
   "execution_count": 61,
   "id": "368bdae1-e95d-4c62-9b91-af0601b51bfd",
   "metadata": {
    "tags": []
   },
   "outputs": [
    {
     "data": {
      "text/plain": [
       "operation_id              0.000180\n",
       "request_id                0.000000\n",
       "account_id                0.000000\n",
       "counterparty_document     0.000000\n",
       "amount                    0.000000\n",
       "processed_at              0.000000\n",
       "is_fraud                  0.998369\n",
       "ac_owner_id               0.000000\n",
       "ac_owner_document         0.000000\n",
       "ac_owner_type             0.000000\n",
       "ac_inserted_at            0.000000\n",
       "uo_user_id                0.132886\n",
       "uo_organization_id        0.992598\n",
       "uo_flag_many_orgs         0.125484\n",
       "ac_user_id                0.882427\n",
       "ac_organization_id        0.117573\n",
       "treated_user_id           0.015312\n",
       "treated_organization_id   0.110171\n",
       "dtype: float64"
      ]
     },
     "execution_count": 61,
     "metadata": {},
     "output_type": "execute_result"
    }
   ],
   "source": [
    "lt.isna().mean()"
   ]
  },
  {
   "cell_type": "code",
   "execution_count": 62,
   "id": "092a7512-3244-4ca3-bf6f-eb9b4ab1f497",
   "metadata": {
    "tags": []
   },
   "outputs": [
    {
     "data": {
      "text/plain": [
       "48198"
      ]
     },
     "execution_count": 62,
     "metadata": {},
     "output_type": "execute_result"
    }
   ],
   "source": [
    "omup.omup_organization_id.nunique()"
   ]
  },
  {
   "cell_type": "code",
   "execution_count": 63,
   "id": "e1b8ffda-680c-495c-b201-177ef5733e8f",
   "metadata": {
    "tags": []
   },
   "outputs": [
    {
     "data": {
      "text/plain": [
       "(48198, 9)"
      ]
     },
     "execution_count": 63,
     "metadata": {},
     "output_type": "execute_result"
    }
   ],
   "source": [
    "omup.shape"
   ]
  },
  {
   "cell_type": "code",
   "execution_count": 64,
   "id": "a6ef56c1-8e26-42f1-b86f-ebce1043def8",
   "metadata": {
    "tags": []
   },
   "outputs": [
    {
     "data": {
      "text/plain": [
       "(940935, 18)"
      ]
     },
     "execution_count": 64,
     "metadata": {},
     "output_type": "execute_result"
    }
   ],
   "source": [
    "lt.shape"
   ]
  },
  {
   "cell_type": "code",
   "execution_count": 65,
   "id": "8dd89202-46aa-4e57-9865-6c01a080627d",
   "metadata": {
    "tags": []
   },
   "outputs": [
    {
     "data": {
      "text/plain": [
       "operation_id              0.000180\n",
       "request_id                0.000000\n",
       "account_id                0.000000\n",
       "counterparty_document     0.000000\n",
       "amount                    0.000000\n",
       "processed_at              0.000000\n",
       "is_fraud                  0.998369\n",
       "ac_owner_id               0.000000\n",
       "ac_owner_document         0.000000\n",
       "ac_owner_type             0.000000\n",
       "ac_inserted_at            0.000000\n",
       "uo_user_id                0.132886\n",
       "uo_organization_id        0.992598\n",
       "uo_flag_many_orgs         0.125484\n",
       "ac_user_id                0.882427\n",
       "ac_organization_id        0.117573\n",
       "treated_user_id           0.015312\n",
       "treated_organization_id   0.110171\n",
       "omup_id                   0.973283\n",
       "omup_organization_id      0.973283\n",
       "omup_type                 0.973283\n",
       "omup_inserted_at          0.973283\n",
       "omup_updated_at           0.973283\n",
       "omup_mei                  0.973283\n",
       "omup_partner              0.973283\n",
       "omup_user_id              0.973283\n",
       "omup_eireli               0.999922\n",
       "dtype: float64"
      ]
     },
     "execution_count": 65,
     "metadata": {},
     "output_type": "execute_result"
    }
   ],
   "source": [
    "lt.merge(omup, left_on=['treated_organization_id'], right_on=['omup_organization_id'], how='left').isna().mean()"
   ]
  },
  {
   "cell_type": "markdown",
   "id": "3ad1ed59-a6b2-4961-9cca-235a78924b68",
   "metadata": {},
   "source": [
    "This is probably the best join I'll make, so I'll keep this strategy. \"Eireli\" reeks of bad data so I'll not give too much of a though about it."
   ]
  },
  {
   "cell_type": "code",
   "execution_count": 66,
   "id": "7b04fcfd-8d1c-42e6-b137-84858645bdf5",
   "metadata": {
    "tags": []
   },
   "outputs": [
    {
     "data": {
      "text/plain": [
       "((940935, 18), (5087054, 17))"
      ]
     },
     "execution_count": 66,
     "metadata": {},
     "output_type": "execute_result"
    }
   ],
   "source": [
    "lt.shape, ut.shape"
   ]
  },
  {
   "cell_type": "code",
   "execution_count": 67,
   "id": "b5d6dabb-a41f-428e-a95e-29c57f9fea12",
   "metadata": {
    "tags": []
   },
   "outputs": [],
   "source": [
    "lt2 = lt.merge(omup, left_on=['treated_organization_id'], right_on=['omup_organization_id'], how='left')\n",
    "ut2 = ut.merge(omup, left_on=['treated_organization_id'], right_on=['omup_organization_id'], how='left')"
   ]
  },
  {
   "cell_type": "code",
   "execution_count": 68,
   "id": "ad1b72f6-9148-4558-822e-76c2eeabdaa5",
   "metadata": {
    "tags": []
   },
   "outputs": [
    {
     "data": {
      "text/plain": [
       "((940935, 27), (5087054, 26))"
      ]
     },
     "execution_count": 68,
     "metadata": {},
     "output_type": "execute_result"
    }
   ],
   "source": [
    "lt2.shape, ut2.shape"
   ]
  },
  {
   "cell_type": "code",
   "execution_count": 69,
   "id": "582c05cd-d2b9-4b44-a465-d9e32b0066b7",
   "metadata": {
    "tags": []
   },
   "outputs": [
    {
     "data": {
      "text/plain": [
       "operation_id              0.000000\n",
       "request_id                0.675480\n",
       "account_id                0.000000\n",
       "counterparty_document     0.000000\n",
       "amount                    0.000070\n",
       "processed_at              0.000000\n",
       "ac_owner_id               0.000000\n",
       "ac_owner_document         0.000000\n",
       "ac_owner_type             0.000000\n",
       "ac_inserted_at            0.000000\n",
       "uo_user_id                0.123367\n",
       "uo_organization_id        0.992419\n",
       "uo_flag_many_orgs         0.115786\n",
       "ac_user_id                0.892636\n",
       "ac_organization_id        0.107364\n",
       "treated_user_id           0.016003\n",
       "treated_organization_id   0.099783\n",
       "omup_id                   0.998902\n",
       "omup_organization_id      0.998902\n",
       "omup_type                 0.998902\n",
       "omup_inserted_at          0.998902\n",
       "omup_updated_at           0.998902\n",
       "omup_mei                  0.998902\n",
       "omup_partner              0.998902\n",
       "omup_user_id              0.998902\n",
       "omup_eireli               0.999953\n",
       "dtype: float64"
      ]
     },
     "execution_count": 69,
     "metadata": {},
     "output_type": "execute_result"
    }
   ],
   "source": [
    "ut2.isna().mean()"
   ]
  },
  {
   "cell_type": "code",
   "execution_count": 70,
   "id": "7a2dc873-2708-4028-b512-ec21d6370c3d",
   "metadata": {
    "tags": []
   },
   "outputs": [
    {
     "data": {
      "text/plain": [
       "organization    4540887\n",
       "user             546167\n",
       "Name: ac_owner_type, dtype: int64"
      ]
     },
     "execution_count": 70,
     "metadata": {},
     "output_type": "execute_result"
    }
   ],
   "source": [
    "ut2.ac_owner_type.value_counts()"
   ]
  },
  {
   "cell_type": "markdown",
   "id": "fda6bce0-6405-4be4-9f45-ef808af2db23",
   "metadata": {},
   "source": [
    "I really don't know what else could be done here, so I'll not use this subset of the organizations_metadata table."
   ]
  },
  {
   "cell_type": "markdown",
   "id": "fe007669-8b8a-4e7b-a361-3222402f7abc",
   "metadata": {},
   "source": [
    "### OMOT"
   ]
  },
  {
   "cell_type": "code",
   "execution_count": 71,
   "id": "17cbf768-5b71-45ba-ad35-a44687b74ce5",
   "metadata": {
    "tags": []
   },
   "outputs": [
    {
     "data": {
      "text/html": [
       "<div>\n",
       "<style scoped>\n",
       "    .dataframe tbody tr th:only-of-type {\n",
       "        vertical-align: middle;\n",
       "    }\n",
       "\n",
       "    .dataframe tbody tr th {\n",
       "        vertical-align: top;\n",
       "    }\n",
       "\n",
       "    .dataframe thead th {\n",
       "        text-align: right;\n",
       "    }\n",
       "</style>\n",
       "<table border=\"1\" class=\"dataframe\">\n",
       "  <thead>\n",
       "    <tr style=\"text-align: right;\">\n",
       "      <th></th>\n",
       "      <th>id</th>\n",
       "      <th>organization_id</th>\n",
       "      <th>type</th>\n",
       "      <th>value</th>\n",
       "      <th>inserted_at</th>\n",
       "      <th>updated_at</th>\n",
       "    </tr>\n",
       "  </thead>\n",
       "  <tbody>\n",
       "    <tr>\n",
       "      <th>1</th>\n",
       "      <td>fa84c1d4-9362-472f-8ef9-aa14768deb22</td>\n",
       "      <td>417b2d7c-8a26-483b-920a-cc283095d044</td>\n",
       "      <td>organization_type</td>\n",
       "      <td>ME</td>\n",
       "      <td>2018-11-25 02:31:05.518456</td>\n",
       "      <td>2018-11-25 02:31:05.518456</td>\n",
       "    </tr>\n",
       "    <tr>\n",
       "      <th>3</th>\n",
       "      <td>ebe81aa1-7076-47a9-a929-0555167b6d35</td>\n",
       "      <td>f4745c03-2491-49f1-953b-461fc7f72cf5</td>\n",
       "      <td>organization_type</td>\n",
       "      <td>ME</td>\n",
       "      <td>2018-11-25 02:36:04.605196</td>\n",
       "      <td>2018-11-25 02:36:04.605196</td>\n",
       "    </tr>\n",
       "    <tr>\n",
       "      <th>5</th>\n",
       "      <td>b0c366c5-2901-4f68-8bb4-92a612fe9350</td>\n",
       "      <td>b208f531-9beb-44ae-991c-effca11da1e5</td>\n",
       "      <td>organization_type</td>\n",
       "      <td>ME</td>\n",
       "      <td>2018-11-25 02:41:44.862583</td>\n",
       "      <td>2018-11-25 02:41:44.862583</td>\n",
       "    </tr>\n",
       "    <tr>\n",
       "      <th>7</th>\n",
       "      <td>2c7da962-0aee-4603-b1ab-d8b0c81f2283</td>\n",
       "      <td>02b9eb4f-e25e-4ac7-a4c7-a3e0cef53968</td>\n",
       "      <td>organization_type</td>\n",
       "      <td>ME</td>\n",
       "      <td>2018-11-25 02:48:19.247844</td>\n",
       "      <td>2018-11-25 02:48:19.247844</td>\n",
       "    </tr>\n",
       "    <tr>\n",
       "      <th>9</th>\n",
       "      <td>f6922f73-302a-40dc-9456-35a635287759</td>\n",
       "      <td>c05a9e40-a8e7-4ebf-a72c-06c00f1a8f89</td>\n",
       "      <td>organization_type</td>\n",
       "      <td>ME</td>\n",
       "      <td>2018-11-25 02:55:30.487795</td>\n",
       "      <td>2018-11-25 02:55:30.487795</td>\n",
       "    </tr>\n",
       "  </tbody>\n",
       "</table>\n",
       "</div>"
      ],
      "text/plain": [
       "                                     id                       organization_id  \\\n",
       "1  fa84c1d4-9362-472f-8ef9-aa14768deb22  417b2d7c-8a26-483b-920a-cc283095d044   \n",
       "3  ebe81aa1-7076-47a9-a929-0555167b6d35  f4745c03-2491-49f1-953b-461fc7f72cf5   \n",
       "5  b0c366c5-2901-4f68-8bb4-92a612fe9350  b208f531-9beb-44ae-991c-effca11da1e5   \n",
       "7  2c7da962-0aee-4603-b1ab-d8b0c81f2283  02b9eb4f-e25e-4ac7-a4c7-a3e0cef53968   \n",
       "9  f6922f73-302a-40dc-9456-35a635287759  c05a9e40-a8e7-4ebf-a72c-06c00f1a8f89   \n",
       "\n",
       "                type value                 inserted_at  \\\n",
       "1  organization_type    ME  2018-11-25 02:31:05.518456   \n",
       "3  organization_type    ME  2018-11-25 02:36:04.605196   \n",
       "5  organization_type    ME  2018-11-25 02:41:44.862583   \n",
       "7  organization_type    ME  2018-11-25 02:48:19.247844   \n",
       "9  organization_type    ME  2018-11-25 02:55:30.487795   \n",
       "\n",
       "                   updated_at  \n",
       "1  2018-11-25 02:31:05.518456  \n",
       "3  2018-11-25 02:36:04.605196  \n",
       "5  2018-11-25 02:41:44.862583  \n",
       "7  2018-11-25 02:48:19.247844  \n",
       "9  2018-11-25 02:55:30.487795  "
      ]
     },
     "execution_count": 71,
     "metadata": {},
     "output_type": "execute_result"
    }
   ],
   "source": [
    "omot.head()"
   ]
  },
  {
   "cell_type": "code",
   "execution_count": 72,
   "id": "99a75db4-a48a-4639-9b87-548b67d5d7e9",
   "metadata": {
    "tags": []
   },
   "outputs": [],
   "source": [
    "omot.rename(columns={i:'omot_'+i for i in omot.columns}, inplace=True)"
   ]
  },
  {
   "cell_type": "code",
   "execution_count": 73,
   "id": "84f7a2b5-7338-405b-a7e7-9c28f45ce5f8",
   "metadata": {
    "tags": []
   },
   "outputs": [
    {
     "data": {
      "text/plain": [
       "((940935, 18), (5087054, 17))"
      ]
     },
     "execution_count": 73,
     "metadata": {},
     "output_type": "execute_result"
    }
   ],
   "source": [
    "lt.shape, ut.shape"
   ]
  },
  {
   "cell_type": "code",
   "execution_count": 74,
   "id": "e105c1ae-df0b-4ab7-8caa-ab23d4d46c19",
   "metadata": {
    "tags": []
   },
   "outputs": [],
   "source": [
    "lt2 = lt.merge(omot, left_on=['treated_organization_id'], right_on=['omot_organization_id'], how='left')\n",
    "ut2 = ut.merge(omot, left_on=['treated_organization_id'], right_on=['omot_organization_id'], how='left')"
   ]
  },
  {
   "cell_type": "code",
   "execution_count": 75,
   "id": "b1013897-351a-4e2c-8b7e-0a099cf5c6e7",
   "metadata": {
    "tags": []
   },
   "outputs": [
    {
     "data": {
      "text/plain": [
       "((940959, 24), (5087284, 23))"
      ]
     },
     "execution_count": 75,
     "metadata": {},
     "output_type": "execute_result"
    }
   ],
   "source": [
    "lt2.shape, ut2.shape"
   ]
  },
  {
   "cell_type": "code",
   "execution_count": 76,
   "id": "e48e9baf-1143-43ba-bd6e-b8da6fc9c8ca",
   "metadata": {
    "tags": []
   },
   "outputs": [
    {
     "data": {
      "text/plain": [
       "(24, 230)"
      ]
     },
     "execution_count": 76,
     "metadata": {},
     "output_type": "execute_result"
    }
   ],
   "source": [
    "940959-940935, 5087284-5087054"
   ]
  },
  {
   "cell_type": "code",
   "execution_count": 77,
   "id": "13107bf4-2890-4312-95bc-3283dacc2425",
   "metadata": {
    "tags": []
   },
   "outputs": [
    {
     "data": {
      "text/plain": [
       "operation_id              0.000180\n",
       "request_id                0.000000\n",
       "account_id                0.000000\n",
       "counterparty_document     0.000000\n",
       "amount                    0.000000\n",
       "processed_at              0.000000\n",
       "is_fraud                  0.998369\n",
       "ac_owner_id               0.000000\n",
       "ac_owner_document         0.000000\n",
       "ac_owner_type             0.000000\n",
       "ac_inserted_at            0.000000\n",
       "uo_user_id                0.132883\n",
       "uo_organization_id        0.992598\n",
       "uo_flag_many_orgs         0.125480\n",
       "ac_user_id                0.882430\n",
       "ac_organization_id        0.117570\n",
       "treated_user_id           0.015312\n",
       "treated_organization_id   0.110168\n",
       "omot_id                   0.158613\n",
       "omot_organization_id      0.158613\n",
       "omot_type                 0.158613\n",
       "omot_value                0.218513\n",
       "omot_inserted_at          0.158613\n",
       "omot_updated_at           0.158613\n",
       "dtype: float64"
      ]
     },
     "execution_count": 77,
     "metadata": {},
     "output_type": "execute_result"
    }
   ],
   "source": [
    "lt2.isna().mean()"
   ]
  },
  {
   "cell_type": "code",
   "execution_count": 78,
   "id": "2e275fa4-d94e-4a8e-9de1-b1084b176108",
   "metadata": {
    "tags": []
   },
   "outputs": [
    {
     "data": {
      "text/plain": [
       "operation_id              0.000000\n",
       "request_id                0.675473\n",
       "account_id                0.000000\n",
       "counterparty_document     0.000000\n",
       "amount                    0.000070\n",
       "processed_at              0.000000\n",
       "ac_owner_id               0.000000\n",
       "ac_owner_document         0.000000\n",
       "ac_owner_type             0.000000\n",
       "ac_inserted_at            0.000000\n",
       "uo_user_id                0.123362\n",
       "uo_organization_id        0.992420\n",
       "uo_flag_many_orgs         0.115781\n",
       "ac_user_id                0.892641\n",
       "ac_organization_id        0.107359\n",
       "treated_user_id           0.016002\n",
       "treated_organization_id   0.099779\n",
       "omot_id                   0.155371\n",
       "omot_organization_id      0.155371\n",
       "omot_type                 0.155371\n",
       "omot_value                0.180916\n",
       "omot_inserted_at          0.155371\n",
       "omot_updated_at           0.155371\n",
       "dtype: float64"
      ]
     },
     "execution_count": 78,
     "metadata": {},
     "output_type": "execute_result"
    }
   ],
   "source": [
    "ut2.isna().mean()"
   ]
  },
  {
   "cell_type": "markdown",
   "id": "ab9d2e37-55f6-47d6-b856-7bd07269f5fa",
   "metadata": {},
   "source": [
    "Somethings got duplicated, so I'll aggregate by organization_id before the join. Since the volume of duplicates is not big, I'll not focus on creating much different metrics here."
   ]
  },
  {
   "cell_type": "code",
   "execution_count": 79,
   "id": "ee8538ba-3b20-4729-9e5e-35b6b49d7b68",
   "metadata": {
    "tags": []
   },
   "outputs": [
    {
     "data": {
      "text/html": [
       "<div>\n",
       "<style scoped>\n",
       "    .dataframe tbody tr th:only-of-type {\n",
       "        vertical-align: middle;\n",
       "    }\n",
       "\n",
       "    .dataframe tbody tr th {\n",
       "        vertical-align: top;\n",
       "    }\n",
       "\n",
       "    .dataframe thead th {\n",
       "        text-align: right;\n",
       "    }\n",
       "</style>\n",
       "<table border=\"1\" class=\"dataframe\">\n",
       "  <thead>\n",
       "    <tr style=\"text-align: right;\">\n",
       "      <th></th>\n",
       "      <th>omot_id</th>\n",
       "      <th>omot_organization_id</th>\n",
       "      <th>omot_type</th>\n",
       "      <th>omot_value</th>\n",
       "      <th>omot_inserted_at</th>\n",
       "      <th>omot_updated_at</th>\n",
       "    </tr>\n",
       "  </thead>\n",
       "  <tbody>\n",
       "    <tr>\n",
       "      <th>1</th>\n",
       "      <td>fa84c1d4-9362-472f-8ef9-aa14768deb22</td>\n",
       "      <td>417b2d7c-8a26-483b-920a-cc283095d044</td>\n",
       "      <td>organization_type</td>\n",
       "      <td>ME</td>\n",
       "      <td>2018-11-25 02:31:05.518456</td>\n",
       "      <td>2018-11-25 02:31:05.518456</td>\n",
       "    </tr>\n",
       "    <tr>\n",
       "      <th>3</th>\n",
       "      <td>ebe81aa1-7076-47a9-a929-0555167b6d35</td>\n",
       "      <td>f4745c03-2491-49f1-953b-461fc7f72cf5</td>\n",
       "      <td>organization_type</td>\n",
       "      <td>ME</td>\n",
       "      <td>2018-11-25 02:36:04.605196</td>\n",
       "      <td>2018-11-25 02:36:04.605196</td>\n",
       "    </tr>\n",
       "    <tr>\n",
       "      <th>5</th>\n",
       "      <td>b0c366c5-2901-4f68-8bb4-92a612fe9350</td>\n",
       "      <td>b208f531-9beb-44ae-991c-effca11da1e5</td>\n",
       "      <td>organization_type</td>\n",
       "      <td>ME</td>\n",
       "      <td>2018-11-25 02:41:44.862583</td>\n",
       "      <td>2018-11-25 02:41:44.862583</td>\n",
       "    </tr>\n",
       "    <tr>\n",
       "      <th>7</th>\n",
       "      <td>2c7da962-0aee-4603-b1ab-d8b0c81f2283</td>\n",
       "      <td>02b9eb4f-e25e-4ac7-a4c7-a3e0cef53968</td>\n",
       "      <td>organization_type</td>\n",
       "      <td>ME</td>\n",
       "      <td>2018-11-25 02:48:19.247844</td>\n",
       "      <td>2018-11-25 02:48:19.247844</td>\n",
       "    </tr>\n",
       "    <tr>\n",
       "      <th>9</th>\n",
       "      <td>f6922f73-302a-40dc-9456-35a635287759</td>\n",
       "      <td>c05a9e40-a8e7-4ebf-a72c-06c00f1a8f89</td>\n",
       "      <td>organization_type</td>\n",
       "      <td>ME</td>\n",
       "      <td>2018-11-25 02:55:30.487795</td>\n",
       "      <td>2018-11-25 02:55:30.487795</td>\n",
       "    </tr>\n",
       "  </tbody>\n",
       "</table>\n",
       "</div>"
      ],
      "text/plain": [
       "                                omot_id                  omot_organization_id  \\\n",
       "1  fa84c1d4-9362-472f-8ef9-aa14768deb22  417b2d7c-8a26-483b-920a-cc283095d044   \n",
       "3  ebe81aa1-7076-47a9-a929-0555167b6d35  f4745c03-2491-49f1-953b-461fc7f72cf5   \n",
       "5  b0c366c5-2901-4f68-8bb4-92a612fe9350  b208f531-9beb-44ae-991c-effca11da1e5   \n",
       "7  2c7da962-0aee-4603-b1ab-d8b0c81f2283  02b9eb4f-e25e-4ac7-a4c7-a3e0cef53968   \n",
       "9  f6922f73-302a-40dc-9456-35a635287759  c05a9e40-a8e7-4ebf-a72c-06c00f1a8f89   \n",
       "\n",
       "           omot_type omot_value            omot_inserted_at  \\\n",
       "1  organization_type         ME  2018-11-25 02:31:05.518456   \n",
       "3  organization_type         ME  2018-11-25 02:36:04.605196   \n",
       "5  organization_type         ME  2018-11-25 02:41:44.862583   \n",
       "7  organization_type         ME  2018-11-25 02:48:19.247844   \n",
       "9  organization_type         ME  2018-11-25 02:55:30.487795   \n",
       "\n",
       "              omot_updated_at  \n",
       "1  2018-11-25 02:31:05.518456  \n",
       "3  2018-11-25 02:36:04.605196  \n",
       "5  2018-11-25 02:41:44.862583  \n",
       "7  2018-11-25 02:48:19.247844  \n",
       "9  2018-11-25 02:55:30.487795  "
      ]
     },
     "execution_count": 79,
     "metadata": {},
     "output_type": "execute_result"
    }
   ],
   "source": [
    "omot.head()"
   ]
  },
  {
   "cell_type": "code",
   "execution_count": 80,
   "id": "1df48bcb-98a3-463a-8d8a-135417cbe968",
   "metadata": {
    "tags": []
   },
   "outputs": [
    {
     "data": {
      "text/plain": [
       "244235"
      ]
     },
     "execution_count": 80,
     "metadata": {},
     "output_type": "execute_result"
    }
   ],
   "source": [
    "omot.omot_id.nunique()"
   ]
  },
  {
   "cell_type": "code",
   "execution_count": 81,
   "id": "73bf0dbb-7b92-4dc5-be48-91ad5830dad9",
   "metadata": {
    "tags": []
   },
   "outputs": [
    {
     "data": {
      "text/plain": [
       "244233"
      ]
     },
     "execution_count": 81,
     "metadata": {},
     "output_type": "execute_result"
    }
   ],
   "source": [
    "omot.omot_organization_id.nunique()"
   ]
  },
  {
   "cell_type": "code",
   "execution_count": 82,
   "id": "cf17b915-96ce-4ce2-b2e4-8b27ca4ca24d",
   "metadata": {
    "tags": []
   },
   "outputs": [],
   "source": [
    "omot2 = omot.groupby(['omot_organization_id']).agg(\n",
    "    omot_value=pd.NamedAgg('omot_value', 'max'),\n",
    "    omot_inserted_at=pd.NamedAgg('omot_inserted_at', 'max'),\n",
    "    omot_updated_at=pd.NamedAgg('omot_updated_at', 'max'),\n",
    "    omot_counter=pd.NamedAgg('omot_id', 'count')\n",
    ").reset_index()"
   ]
  },
  {
   "cell_type": "code",
   "execution_count": 83,
   "id": "221355db-3982-46ba-8706-7f8dcdb907e4",
   "metadata": {
    "tags": []
   },
   "outputs": [
    {
     "data": {
      "text/html": [
       "<div>\n",
       "<style scoped>\n",
       "    .dataframe tbody tr th:only-of-type {\n",
       "        vertical-align: middle;\n",
       "    }\n",
       "\n",
       "    .dataframe tbody tr th {\n",
       "        vertical-align: top;\n",
       "    }\n",
       "\n",
       "    .dataframe thead th {\n",
       "        text-align: right;\n",
       "    }\n",
       "</style>\n",
       "<table border=\"1\" class=\"dataframe\">\n",
       "  <thead>\n",
       "    <tr style=\"text-align: right;\">\n",
       "      <th></th>\n",
       "      <th>omot_id</th>\n",
       "      <th>omot_organization_id</th>\n",
       "      <th>omot_type</th>\n",
       "      <th>omot_value</th>\n",
       "      <th>omot_inserted_at</th>\n",
       "      <th>omot_updated_at</th>\n",
       "    </tr>\n",
       "  </thead>\n",
       "  <tbody>\n",
       "    <tr>\n",
       "      <th>1</th>\n",
       "      <td>fa84c1d4-9362-472f-8ef9-aa14768deb22</td>\n",
       "      <td>417b2d7c-8a26-483b-920a-cc283095d044</td>\n",
       "      <td>organization_type</td>\n",
       "      <td>ME</td>\n",
       "      <td>2018-11-25 02:31:05.518456</td>\n",
       "      <td>2018-11-25 02:31:05.518456</td>\n",
       "    </tr>\n",
       "    <tr>\n",
       "      <th>3</th>\n",
       "      <td>ebe81aa1-7076-47a9-a929-0555167b6d35</td>\n",
       "      <td>f4745c03-2491-49f1-953b-461fc7f72cf5</td>\n",
       "      <td>organization_type</td>\n",
       "      <td>ME</td>\n",
       "      <td>2018-11-25 02:36:04.605196</td>\n",
       "      <td>2018-11-25 02:36:04.605196</td>\n",
       "    </tr>\n",
       "    <tr>\n",
       "      <th>5</th>\n",
       "      <td>b0c366c5-2901-4f68-8bb4-92a612fe9350</td>\n",
       "      <td>b208f531-9beb-44ae-991c-effca11da1e5</td>\n",
       "      <td>organization_type</td>\n",
       "      <td>ME</td>\n",
       "      <td>2018-11-25 02:41:44.862583</td>\n",
       "      <td>2018-11-25 02:41:44.862583</td>\n",
       "    </tr>\n",
       "    <tr>\n",
       "      <th>7</th>\n",
       "      <td>2c7da962-0aee-4603-b1ab-d8b0c81f2283</td>\n",
       "      <td>02b9eb4f-e25e-4ac7-a4c7-a3e0cef53968</td>\n",
       "      <td>organization_type</td>\n",
       "      <td>ME</td>\n",
       "      <td>2018-11-25 02:48:19.247844</td>\n",
       "      <td>2018-11-25 02:48:19.247844</td>\n",
       "    </tr>\n",
       "    <tr>\n",
       "      <th>9</th>\n",
       "      <td>f6922f73-302a-40dc-9456-35a635287759</td>\n",
       "      <td>c05a9e40-a8e7-4ebf-a72c-06c00f1a8f89</td>\n",
       "      <td>organization_type</td>\n",
       "      <td>ME</td>\n",
       "      <td>2018-11-25 02:55:30.487795</td>\n",
       "      <td>2018-11-25 02:55:30.487795</td>\n",
       "    </tr>\n",
       "  </tbody>\n",
       "</table>\n",
       "</div>"
      ],
      "text/plain": [
       "                                omot_id                  omot_organization_id  \\\n",
       "1  fa84c1d4-9362-472f-8ef9-aa14768deb22  417b2d7c-8a26-483b-920a-cc283095d044   \n",
       "3  ebe81aa1-7076-47a9-a929-0555167b6d35  f4745c03-2491-49f1-953b-461fc7f72cf5   \n",
       "5  b0c366c5-2901-4f68-8bb4-92a612fe9350  b208f531-9beb-44ae-991c-effca11da1e5   \n",
       "7  2c7da962-0aee-4603-b1ab-d8b0c81f2283  02b9eb4f-e25e-4ac7-a4c7-a3e0cef53968   \n",
       "9  f6922f73-302a-40dc-9456-35a635287759  c05a9e40-a8e7-4ebf-a72c-06c00f1a8f89   \n",
       "\n",
       "           omot_type omot_value            omot_inserted_at  \\\n",
       "1  organization_type         ME  2018-11-25 02:31:05.518456   \n",
       "3  organization_type         ME  2018-11-25 02:36:04.605196   \n",
       "5  organization_type         ME  2018-11-25 02:41:44.862583   \n",
       "7  organization_type         ME  2018-11-25 02:48:19.247844   \n",
       "9  organization_type         ME  2018-11-25 02:55:30.487795   \n",
       "\n",
       "              omot_updated_at  \n",
       "1  2018-11-25 02:31:05.518456  \n",
       "3  2018-11-25 02:36:04.605196  \n",
       "5  2018-11-25 02:41:44.862583  \n",
       "7  2018-11-25 02:48:19.247844  \n",
       "9  2018-11-25 02:55:30.487795  "
      ]
     },
     "execution_count": 83,
     "metadata": {},
     "output_type": "execute_result"
    }
   ],
   "source": [
    "omot.head()"
   ]
  },
  {
   "cell_type": "code",
   "execution_count": 84,
   "id": "157220a6-8de3-4c31-8c19-87f22c204459",
   "metadata": {
    "tags": []
   },
   "outputs": [
    {
     "data": {
      "text/plain": [
       "1"
      ]
     },
     "execution_count": 84,
     "metadata": {},
     "output_type": "execute_result"
    }
   ],
   "source": [
    "(omot2['omot_counter'] != 1).sum()"
   ]
  },
  {
   "cell_type": "markdown",
   "id": "e0ba97f6-26e4-4b20-af82-4cc2c48f4efb",
   "metadata": {},
   "source": [
    "Yeah, a single point is not relevant, I'll drop this feature."
   ]
  },
  {
   "cell_type": "code",
   "execution_count": 85,
   "id": "803a8ebc-ab19-44aa-bce2-2e1e914fd211",
   "metadata": {
    "tags": []
   },
   "outputs": [],
   "source": [
    "omot2.drop(columns=['omot_counter'], inplace=True)"
   ]
  },
  {
   "cell_type": "code",
   "execution_count": 86,
   "id": "7b11c818-3b44-4c23-82f9-eca3dde5b23e",
   "metadata": {
    "tags": []
   },
   "outputs": [
    {
     "data": {
      "text/plain": [
       "((940935, 18), (5087054, 17))"
      ]
     },
     "execution_count": 86,
     "metadata": {},
     "output_type": "execute_result"
    }
   ],
   "source": [
    "lt.shape, ut.shape"
   ]
  },
  {
   "cell_type": "code",
   "execution_count": 87,
   "id": "7ebf67b5-60f1-4d22-891a-9bb32c4792ef",
   "metadata": {
    "tags": []
   },
   "outputs": [],
   "source": [
    "lt2 = lt.merge(omot2, left_on=['ac_organization_id'], right_on=['omot_organization_id'], how='left')\n",
    "ut2 = ut.merge(omot2, left_on=['ac_organization_id'], right_on=['omot_organization_id'], how='left')"
   ]
  },
  {
   "cell_type": "code",
   "execution_count": 88,
   "id": "71b2511f-3389-4400-99af-4fb4ae54fe15",
   "metadata": {},
   "outputs": [],
   "source": [
    "# Since this is not a log table, we'll have to use the updated_date to remove post-event information\n",
    "\n",
    "omot_cols = ['omot_id', 'omot_organization_id', 'omot_type', 'omot_value', 'omot_inserted_at', 'omot_updated_at']\n",
    "\n",
    "lt2.loc[pd.to_datetime(lt2['omot_updated_at']) > pd.to_datetime(lt2['processed_at']), omot_cols] = None\n",
    "ut2.loc[pd.to_datetime(ut2['omot_updated_at']) > pd.to_datetime(ut2['processed_at']), omot_cols] = None\n",
    "\n",
    "lt2.loc[pd.to_datetime(lt2['omot_inserted_at']) > pd.to_datetime(lt2['processed_at']), omot_cols] = None\n",
    "ut2.loc[pd.to_datetime(ut2['omot_inserted_at']) > pd.to_datetime(ut2['processed_at']), omot_cols] = None"
   ]
  },
  {
   "cell_type": "code",
   "execution_count": 89,
   "id": "bb0daacb-e2d9-4e06-8eb1-d6641c98e4bf",
   "metadata": {
    "tags": []
   },
   "outputs": [
    {
     "data": {
      "text/plain": [
       "((940935, 24), (5087054, 23))"
      ]
     },
     "execution_count": 89,
     "metadata": {},
     "output_type": "execute_result"
    }
   ],
   "source": [
    "lt2.shape, ut2.shape"
   ]
  },
  {
   "cell_type": "code",
   "execution_count": 90,
   "id": "0c198bee-a8c1-46a9-aaef-fb27f93a53b3",
   "metadata": {
    "tags": []
   },
   "outputs": [
    {
     "data": {
      "text/plain": [
       "operation_id              0.000180\n",
       "request_id                0.000000\n",
       "account_id                0.000000\n",
       "counterparty_document     0.000000\n",
       "amount                    0.000000\n",
       "processed_at              0.000000\n",
       "is_fraud                  0.998369\n",
       "ac_owner_id               0.000000\n",
       "ac_owner_document         0.000000\n",
       "ac_owner_type             0.000000\n",
       "ac_inserted_at            0.000000\n",
       "uo_user_id                0.132886\n",
       "uo_organization_id        0.992598\n",
       "uo_flag_many_orgs         0.125484\n",
       "ac_user_id                0.882427\n",
       "ac_organization_id        0.117573\n",
       "treated_user_id           0.015312\n",
       "treated_organization_id   0.110171\n",
       "omot_organization_id      0.226773\n",
       "omot_value                0.285591\n",
       "omot_inserted_at          0.226773\n",
       "omot_updated_at           0.226773\n",
       "omot_id                   1.000000\n",
       "omot_type                 1.000000\n",
       "dtype: float64"
      ]
     },
     "execution_count": 90,
     "metadata": {},
     "output_type": "execute_result"
    }
   ],
   "source": [
    "lt2.isna().mean()"
   ]
  },
  {
   "cell_type": "code",
   "execution_count": 91,
   "id": "3f6fbeb0-892f-47a6-875b-f4d48a8b676c",
   "metadata": {
    "tags": []
   },
   "outputs": [
    {
     "data": {
      "text/plain": [
       "operation_id              0.000000\n",
       "request_id                0.675480\n",
       "account_id                0.000000\n",
       "counterparty_document     0.000000\n",
       "amount                    0.000070\n",
       "processed_at              0.000000\n",
       "ac_owner_id               0.000000\n",
       "ac_owner_document         0.000000\n",
       "ac_owner_type             0.000000\n",
       "ac_inserted_at            0.000000\n",
       "uo_user_id                0.123367\n",
       "uo_organization_id        0.992419\n",
       "uo_flag_many_orgs         0.115786\n",
       "ac_user_id                0.892636\n",
       "ac_organization_id        0.107364\n",
       "treated_user_id           0.016003\n",
       "treated_organization_id   0.099783\n",
       "omot_organization_id      0.404880\n",
       "omot_value                0.429475\n",
       "omot_inserted_at          0.404880\n",
       "omot_updated_at           0.404880\n",
       "omot_id                   1.000000\n",
       "omot_type                 1.000000\n",
       "dtype: float64"
      ]
     },
     "execution_count": 91,
     "metadata": {},
     "output_type": "execute_result"
    }
   ],
   "source": [
    "ut2.isna().mean()"
   ]
  },
  {
   "cell_type": "markdown",
   "id": "fe99dd4b-8549-4e7b-9ec6-eacbca745136",
   "metadata": {},
   "source": [
    "Null means are similar, I'll consider this done and go to the next table."
   ]
  },
  {
   "cell_type": "markdown",
   "id": "1fad8ccc-c138-4c85-90ea-354d215a0155",
   "metadata": {},
   "source": [
    "### Organizations"
   ]
  },
  {
   "cell_type": "code",
   "execution_count": 92,
   "id": "4b0bb5fe-1701-40e8-8d3a-2c1a0d27548e",
   "metadata": {
    "tags": []
   },
   "outputs": [
    {
     "data": {
      "text/html": [
       "<div>\n",
       "<style scoped>\n",
       "    .dataframe tbody tr th:only-of-type {\n",
       "        vertical-align: middle;\n",
       "    }\n",
       "\n",
       "    .dataframe tbody tr th {\n",
       "        vertical-align: top;\n",
       "    }\n",
       "\n",
       "    .dataframe thead th {\n",
       "        text-align: right;\n",
       "    }\n",
       "</style>\n",
       "<table border=\"1\" class=\"dataframe\">\n",
       "  <thead>\n",
       "    <tr style=\"text-align: right;\">\n",
       "      <th></th>\n",
       "      <th>id</th>\n",
       "      <th>document</th>\n",
       "      <th>inserted_at</th>\n",
       "    </tr>\n",
       "  </thead>\n",
       "  <tbody>\n",
       "    <tr>\n",
       "      <th>0</th>\n",
       "      <td>4f680da2-7b7c-4d48-9151-6f49437b4c27</td>\n",
       "      <td>9487f858-03b5-4eb4-afda-3e472643ef32</td>\n",
       "      <td>2018-11-01 17:40:15.194651</td>\n",
       "    </tr>\n",
       "    <tr>\n",
       "      <th>1</th>\n",
       "      <td>2a98430a-4908-4f3d-9c0b-bba3ca1bdd2a</td>\n",
       "      <td>a7899558-55ca-4c09-a535-a91abfb19c3c</td>\n",
       "      <td>2017-08-09 13:36:41.156395</td>\n",
       "    </tr>\n",
       "    <tr>\n",
       "      <th>2</th>\n",
       "      <td>3dc6651c-7968-456b-ae00-791da8ae0571</td>\n",
       "      <td>b5f5e3fc-a1cc-4d8b-a667-1e05b0d92376</td>\n",
       "      <td>2018-08-23 15:14:47.894131</td>\n",
       "    </tr>\n",
       "    <tr>\n",
       "      <th>3</th>\n",
       "      <td>4bd05bbe-ebd6-483e-a249-7c9204f88eeb</td>\n",
       "      <td>58b11bce-88c4-4279-afc3-338a4dac5348</td>\n",
       "      <td>2018-07-24 12:38:20.251984</td>\n",
       "    </tr>\n",
       "    <tr>\n",
       "      <th>4</th>\n",
       "      <td>1a69bc7e-a978-48c0-bad5-484c260c4254</td>\n",
       "      <td>1d8bb9cf-8f6b-46d4-b73b-96f4f176b9c1</td>\n",
       "      <td>2018-05-01 21:10:01.128368</td>\n",
       "    </tr>\n",
       "  </tbody>\n",
       "</table>\n",
       "</div>"
      ],
      "text/plain": [
       "                                     id                              document  \\\n",
       "0  4f680da2-7b7c-4d48-9151-6f49437b4c27  9487f858-03b5-4eb4-afda-3e472643ef32   \n",
       "1  2a98430a-4908-4f3d-9c0b-bba3ca1bdd2a  a7899558-55ca-4c09-a535-a91abfb19c3c   \n",
       "2  3dc6651c-7968-456b-ae00-791da8ae0571  b5f5e3fc-a1cc-4d8b-a667-1e05b0d92376   \n",
       "3  4bd05bbe-ebd6-483e-a249-7c9204f88eeb  58b11bce-88c4-4279-afc3-338a4dac5348   \n",
       "4  1a69bc7e-a978-48c0-bad5-484c260c4254  1d8bb9cf-8f6b-46d4-b73b-96f4f176b9c1   \n",
       "\n",
       "                  inserted_at  \n",
       "0  2018-11-01 17:40:15.194651  \n",
       "1  2017-08-09 13:36:41.156395  \n",
       "2  2018-08-23 15:14:47.894131  \n",
       "3  2018-07-24 12:38:20.251984  \n",
       "4  2018-05-01 21:10:01.128368  "
      ]
     },
     "execution_count": 92,
     "metadata": {},
     "output_type": "execute_result"
    }
   ],
   "source": [
    "og = pd.read_csv('files/processed_organizations.csv')\n",
    "og.head()"
   ]
  },
  {
   "cell_type": "code",
   "execution_count": 93,
   "id": "d0c18fac-54a2-4dec-a6ef-4ee9c47b7fca",
   "metadata": {
    "tags": []
   },
   "outputs": [],
   "source": [
    "og.rename(columns={i: 'og_'+i for i in og.columns}, inplace=True)"
   ]
  },
  {
   "cell_type": "code",
   "execution_count": 94,
   "id": "8e05ef64-1c02-4431-b0d1-55ef58a67161",
   "metadata": {
    "tags": []
   },
   "outputs": [
    {
     "data": {
      "text/plain": [
       "True"
      ]
     },
     "execution_count": 94,
     "metadata": {},
     "output_type": "execute_result"
    }
   ],
   "source": [
    "og.shape[0] == og.og_id.nunique()"
   ]
  },
  {
   "cell_type": "code",
   "execution_count": 95,
   "id": "e96d46e5-6c7f-4e8c-8359-efd41bd8c05a",
   "metadata": {
    "tags": []
   },
   "outputs": [
    {
     "data": {
      "text/plain": [
       "((940935, 24), (5087054, 23))"
      ]
     },
     "execution_count": 95,
     "metadata": {},
     "output_type": "execute_result"
    }
   ],
   "source": [
    "lt2.shape, ut2.shape"
   ]
  },
  {
   "cell_type": "code",
   "execution_count": 96,
   "id": "99fed340-7829-4848-be72-0e08c76e8b85",
   "metadata": {
    "tags": []
   },
   "outputs": [],
   "source": [
    "lt3 = lt2.merge(og, left_on=['treated_organization_id'], right_on=['og_id',], how='left')\n",
    "ut3 = ut2.merge(og, left_on=['treated_organization_id'], right_on=['og_id',], how='left')"
   ]
  },
  {
   "cell_type": "code",
   "execution_count": 97,
   "id": "32bddbe0-834a-489d-b796-04786dea4ce8",
   "metadata": {},
   "outputs": [],
   "source": [
    "og_cols = ['og_id', 'og_document', 'og_inserted_at']\n",
    "\n",
    "lt3.loc[pd.to_datetime(lt3['og_inserted_at']) > pd.to_datetime(lt3['processed_at']), og_cols] = None\n",
    "ut3.loc[pd.to_datetime(ut3['og_inserted_at']) > pd.to_datetime(ut3['processed_at']), og_cols] = None"
   ]
  },
  {
   "cell_type": "code",
   "execution_count": 98,
   "id": "c6319ec1-a63f-4c98-8869-3bc4a191ba7b",
   "metadata": {
    "tags": []
   },
   "outputs": [
    {
     "data": {
      "text/plain": [
       "((940935, 27), (5087054, 26))"
      ]
     },
     "execution_count": 98,
     "metadata": {},
     "output_type": "execute_result"
    }
   ],
   "source": [
    "lt3.shape, ut3.shape"
   ]
  },
  {
   "cell_type": "markdown",
   "id": "b56b5487-32b7-4632-b694-3309aa8ce146",
   "metadata": {},
   "source": [
    "### Users Metadata"
   ]
  },
  {
   "cell_type": "code",
   "execution_count": 99,
   "id": "ed363133-d628-4001-a898-8a183f850f07",
   "metadata": {
    "tags": []
   },
   "outputs": [
    {
     "data": {
      "text/html": [
       "<div>\n",
       "<style scoped>\n",
       "    .dataframe tbody tr th:only-of-type {\n",
       "        vertical-align: middle;\n",
       "    }\n",
       "\n",
       "    .dataframe tbody tr th {\n",
       "        vertical-align: top;\n",
       "    }\n",
       "\n",
       "    .dataframe thead th {\n",
       "        text-align: right;\n",
       "    }\n",
       "</style>\n",
       "<table border=\"1\" class=\"dataframe\">\n",
       "  <thead>\n",
       "    <tr style=\"text-align: right;\">\n",
       "      <th></th>\n",
       "      <th>id</th>\n",
       "      <th>user_id</th>\n",
       "      <th>type</th>\n",
       "      <th>value</th>\n",
       "      <th>inserted_at</th>\n",
       "      <th>updated_at</th>\n",
       "    </tr>\n",
       "  </thead>\n",
       "  <tbody>\n",
       "    <tr>\n",
       "      <th>0</th>\n",
       "      <td>5e820e59-2793-4aa8-be6e-95d547872de7</td>\n",
       "      <td>7ac5f4a4-e46f-4d1a-b530-50d1930d9b95</td>\n",
       "      <td>age_range</td>\n",
       "      <td>40-59</td>\n",
       "      <td>2018-05-24 12:32:21.406260</td>\n",
       "      <td>2018-05-24 12:32:21.406260</td>\n",
       "    </tr>\n",
       "    <tr>\n",
       "      <th>1</th>\n",
       "      <td>862263f6-e6a0-4d7f-b14d-7112bdea27a5</td>\n",
       "      <td>7ac5f4a4-e46f-4d1a-b530-50d1930d9b95</td>\n",
       "      <td>number_of_selfies_sent</td>\n",
       "      <td>5</td>\n",
       "      <td>2018-05-24 12:32:21.618808</td>\n",
       "      <td>2018-05-24 12:32:21.618808</td>\n",
       "    </tr>\n",
       "    <tr>\n",
       "      <th>2</th>\n",
       "      <td>12333e49-de34-4cc0-a1f2-1bf05d7da186</td>\n",
       "      <td>0e836b54-9f64-4814-b328-7e4ac41ac5ba</td>\n",
       "      <td>age_range</td>\n",
       "      <td>&gt;= 60</td>\n",
       "      <td>2018-08-25 01:41:57.876757</td>\n",
       "      <td>2018-08-25 01:41:57.876757</td>\n",
       "    </tr>\n",
       "    <tr>\n",
       "      <th>3</th>\n",
       "      <td>b4751efa-3407-4074-8bf0-10a6e4235729</td>\n",
       "      <td>0e836b54-9f64-4814-b328-7e4ac41ac5ba</td>\n",
       "      <td>number_of_selfies_sent</td>\n",
       "      <td>5</td>\n",
       "      <td>2018-08-25 01:41:58.054672</td>\n",
       "      <td>2018-08-25 01:41:58.054672</td>\n",
       "    </tr>\n",
       "    <tr>\n",
       "      <th>4</th>\n",
       "      <td>4fac990f-b252-4621-b47c-2481f5030cec</td>\n",
       "      <td>074a93a5-4dfb-4dd1-b099-cc83fcd1e617</td>\n",
       "      <td>age_range</td>\n",
       "      <td>25-39</td>\n",
       "      <td>2018-05-24 20:46:14.904279</td>\n",
       "      <td>2018-05-24 20:46:14.904279</td>\n",
       "    </tr>\n",
       "  </tbody>\n",
       "</table>\n",
       "</div>"
      ],
      "text/plain": [
       "                                     id                               user_id  \\\n",
       "0  5e820e59-2793-4aa8-be6e-95d547872de7  7ac5f4a4-e46f-4d1a-b530-50d1930d9b95   \n",
       "1  862263f6-e6a0-4d7f-b14d-7112bdea27a5  7ac5f4a4-e46f-4d1a-b530-50d1930d9b95   \n",
       "2  12333e49-de34-4cc0-a1f2-1bf05d7da186  0e836b54-9f64-4814-b328-7e4ac41ac5ba   \n",
       "3  b4751efa-3407-4074-8bf0-10a6e4235729  0e836b54-9f64-4814-b328-7e4ac41ac5ba   \n",
       "4  4fac990f-b252-4621-b47c-2481f5030cec  074a93a5-4dfb-4dd1-b099-cc83fcd1e617   \n",
       "\n",
       "                     type  value                 inserted_at  \\\n",
       "0               age_range  40-59  2018-05-24 12:32:21.406260   \n",
       "1  number_of_selfies_sent      5  2018-05-24 12:32:21.618808   \n",
       "2               age_range  >= 60  2018-08-25 01:41:57.876757   \n",
       "3  number_of_selfies_sent      5  2018-08-25 01:41:58.054672   \n",
       "4               age_range  25-39  2018-05-24 20:46:14.904279   \n",
       "\n",
       "                   updated_at  \n",
       "0  2018-05-24 12:32:21.406260  \n",
       "1  2018-05-24 12:32:21.618808  \n",
       "2  2018-08-25 01:41:57.876757  \n",
       "3  2018-08-25 01:41:58.054672  \n",
       "4  2018-05-24 20:46:14.904279  "
      ]
     },
     "execution_count": 99,
     "metadata": {},
     "output_type": "execute_result"
    }
   ],
   "source": [
    "um = pd.read_csv('files/processed_users_metadata.csv')\n",
    "um.head()"
   ]
  },
  {
   "cell_type": "code",
   "execution_count": 100,
   "id": "65936649-fa07-491f-9fe6-4d1ce0f3d6f9",
   "metadata": {
    "tags": []
   },
   "outputs": [
    {
     "data": {
      "text/plain": [
       "(525479, 6)"
      ]
     },
     "execution_count": 100,
     "metadata": {},
     "output_type": "execute_result"
    }
   ],
   "source": [
    "um.shape"
   ]
  },
  {
   "cell_type": "code",
   "execution_count": 101,
   "id": "a7db305a-2d67-4ee8-97e4-764f8b150083",
   "metadata": {
    "tags": []
   },
   "outputs": [
    {
     "data": {
      "text/plain": [
       "262821"
      ]
     },
     "execution_count": 101,
     "metadata": {},
     "output_type": "execute_result"
    }
   ],
   "source": [
    "um.user_id.nunique()"
   ]
  },
  {
   "cell_type": "code",
   "execution_count": 102,
   "id": "7741ade3-a2e0-4610-9d0c-048997a1bd65",
   "metadata": {
    "tags": []
   },
   "outputs": [],
   "source": [
    "um.rename(columns={i:'um_'+i for i in um.columns}, inplace=True)"
   ]
  },
  {
   "cell_type": "code",
   "execution_count": 103,
   "id": "8cc074fa-9e58-4d22-a8e8-09331ae6e321",
   "metadata": {
    "tags": []
   },
   "outputs": [
    {
     "data": {
      "text/plain": [
       "2    262647\n",
       "1       169\n",
       "3         4\n",
       "4         1\n",
       "Name: um_type, dtype: int64"
      ]
     },
     "execution_count": 103,
     "metadata": {},
     "output_type": "execute_result"
    }
   ],
   "source": [
    "um.groupby(['um_user_id']).um_type.count().value_counts()"
   ]
  },
  {
   "cell_type": "markdown",
   "id": "90392775-f5a6-4407-a18b-51e8bfb83c55",
   "metadata": {
    "tags": []
   },
   "source": [
    "Mostly 2 entries by user_id, so we'll just assume it. I see no reason to think that having only one of these entries represents something"
   ]
  },
  {
   "cell_type": "code",
   "execution_count": 104,
   "id": "21cec610-8d74-404b-85c6-0cba0e7ca09b",
   "metadata": {
    "tags": []
   },
   "outputs": [],
   "source": [
    "## I know this could be done easier with a few auxiliar columns but it is a solution that does not escale. For multiple possible types, this would work better.\n",
    "\n",
    "um_dates = um.groupby(['um_user_id']).agg(\n",
    "    um_inserted_at=pd.NamedAgg('um_inserted_at', 'max'),\n",
    "    um_updated_at=pd.NamedAgg('um_updated_at', 'max'),\n",
    ").reset_index()\n",
    "\n",
    "um_cols = um.pivot_table(index=['um_user_id'], columns='um_type', values='um_value', aggfunc='max').reset_index()\n",
    "\n",
    "um2 = um_dates.merge(um_cols, on='um_user_id', how='left')"
   ]
  },
  {
   "cell_type": "code",
   "execution_count": 105,
   "id": "51f4f904-4305-4e37-af82-034405f4e5e2",
   "metadata": {
    "tags": []
   },
   "outputs": [
    {
     "data": {
      "text/plain": [
       "(262821, 5)"
      ]
     },
     "execution_count": 105,
     "metadata": {},
     "output_type": "execute_result"
    }
   ],
   "source": [
    "um2.shape"
   ]
  },
  {
   "cell_type": "code",
   "execution_count": 106,
   "id": "2dab4573-40a6-4ac0-8d33-550e81ec6a77",
   "metadata": {
    "tags": []
   },
   "outputs": [
    {
     "data": {
      "text/plain": [
       "262821"
      ]
     },
     "execution_count": 106,
     "metadata": {},
     "output_type": "execute_result"
    }
   ],
   "source": [
    "262647+169+4+1"
   ]
  },
  {
   "cell_type": "code",
   "execution_count": 107,
   "id": "158049a8-a365-44d9-9d1d-040ac49c8c40",
   "metadata": {
    "tags": []
   },
   "outputs": [
    {
     "data": {
      "text/plain": [
       "um_user_id               0.000000\n",
       "um_inserted_at           0.000000\n",
       "um_updated_at            0.000000\n",
       "age_range                0.000194\n",
       "number_of_selfies_sent   0.000449\n",
       "dtype: float64"
      ]
     },
     "execution_count": 107,
     "metadata": {},
     "output_type": "execute_result"
    }
   ],
   "source": [
    "um2.isna().mean()"
   ]
  },
  {
   "cell_type": "code",
   "execution_count": 108,
   "id": "6bf1f782-11a1-474d-bf4c-c8d21b7c16ab",
   "metadata": {
    "tags": []
   },
   "outputs": [
    {
     "data": {
      "text/plain": [
       "((940935, 27), (5087054, 26))"
      ]
     },
     "execution_count": 108,
     "metadata": {},
     "output_type": "execute_result"
    }
   ],
   "source": [
    "lt3.shape, ut3.shape"
   ]
  },
  {
   "cell_type": "code",
   "execution_count": 109,
   "id": "cc2c339f-b10f-4e28-ad44-0478ac4bf58f",
   "metadata": {
    "tags": []
   },
   "outputs": [],
   "source": [
    "lt4 = lt3.merge(um2, left_on=['treated_user_id'], right_on=['um_user_id'], how='left')\n",
    "ut4 = ut3.merge(um2, left_on=['treated_user_id'], right_on=['um_user_id'], how='left')"
   ]
  },
  {
   "cell_type": "code",
   "execution_count": 110,
   "id": "6b03c6f6-a3fe-405d-8db9-b4fc3e78a3f0",
   "metadata": {},
   "outputs": [],
   "source": [
    "um_cols = ['um_user_id', 'um_inserted_at', 'um_updated_at', 'age_range', 'number_of_selfies']\n",
    "\n",
    "lt4.loc[pd.to_datetime(lt4['um_inserted_at']) > pd.to_datetime(lt4['processed_at']), um_cols] = None\n",
    "ut4.loc[pd.to_datetime(ut4['um_inserted_at']) > pd.to_datetime(ut4['processed_at']), um_cols] = None\n",
    "\n",
    "lt4.loc[pd.to_datetime(lt4['um_updated_at']) > pd.to_datetime(lt4['processed_at']), um_cols] = None\n",
    "ut4.loc[pd.to_datetime(ut4['um_updated_at']) > pd.to_datetime(ut4['processed_at']), um_cols] = None"
   ]
  },
  {
   "cell_type": "code",
   "execution_count": 111,
   "id": "98eb09ac-6c35-4707-a702-8e75885862e6",
   "metadata": {
    "tags": []
   },
   "outputs": [
    {
     "data": {
      "text/plain": [
       "((940935, 33), (5087054, 32))"
      ]
     },
     "execution_count": 111,
     "metadata": {},
     "output_type": "execute_result"
    }
   ],
   "source": [
    "lt4.shape, ut4.shape"
   ]
  },
  {
   "cell_type": "code",
   "execution_count": 112,
   "id": "5a798714-9b5d-4ad3-ad08-a50399478e3a",
   "metadata": {
    "tags": []
   },
   "outputs": [
    {
     "data": {
      "text/html": [
       "<div>\n",
       "<style scoped>\n",
       "    .dataframe tbody tr th:only-of-type {\n",
       "        vertical-align: middle;\n",
       "    }\n",
       "\n",
       "    .dataframe tbody tr th {\n",
       "        vertical-align: top;\n",
       "    }\n",
       "\n",
       "    .dataframe thead th {\n",
       "        text-align: right;\n",
       "    }\n",
       "</style>\n",
       "<table border=\"1\" class=\"dataframe\">\n",
       "  <thead>\n",
       "    <tr style=\"text-align: right;\">\n",
       "      <th></th>\n",
       "      <th>operation_id</th>\n",
       "      <th>request_id</th>\n",
       "      <th>account_id</th>\n",
       "      <th>counterparty_document</th>\n",
       "      <th>amount</th>\n",
       "      <th>processed_at</th>\n",
       "      <th>is_fraud</th>\n",
       "      <th>ac_owner_id</th>\n",
       "      <th>ac_owner_document</th>\n",
       "      <th>ac_owner_type</th>\n",
       "      <th>...</th>\n",
       "      <th>omot_type</th>\n",
       "      <th>og_id</th>\n",
       "      <th>og_document</th>\n",
       "      <th>og_inserted_at</th>\n",
       "      <th>um_user_id</th>\n",
       "      <th>um_inserted_at</th>\n",
       "      <th>um_updated_at</th>\n",
       "      <th>age_range</th>\n",
       "      <th>number_of_selfies_sent</th>\n",
       "      <th>number_of_selfies</th>\n",
       "    </tr>\n",
       "  </thead>\n",
       "  <tbody>\n",
       "    <tr>\n",
       "      <th>0</th>\n",
       "      <td>37e105f1-003f-465b-8179-e7705b12a24d</td>\n",
       "      <td>c1820b88-ac54-444f-b9a0-70de30124d95</td>\n",
       "      <td>a7b4f041-ef6a-4e17-baf9-cd471ef0f484</td>\n",
       "      <td>38e6f7c9-e935-4c7c-8915-ef923a5ca914</td>\n",
       "      <td>0.000099</td>\n",
       "      <td>2018-11-21 15:41:23</td>\n",
       "      <td>NaN</td>\n",
       "      <td>fc417977-7cfc-49c1-9d5a-2f4f0bccb1d0</td>\n",
       "      <td>0e7ac07d-87bd-46bc-975f-d29216e5bacd</td>\n",
       "      <td>organization</td>\n",
       "      <td>...</td>\n",
       "      <td>NaN</td>\n",
       "      <td>fc417977-7cfc-49c1-9d5a-2f4f0bccb1d0</td>\n",
       "      <td>0e7ac07d-87bd-46bc-975f-d29216e5bacd</td>\n",
       "      <td>2018-11-11 11:42:17.070072</td>\n",
       "      <td>None</td>\n",
       "      <td>None</td>\n",
       "      <td>None</td>\n",
       "      <td>None</td>\n",
       "      <td>5</td>\n",
       "      <td>NaN</td>\n",
       "    </tr>\n",
       "    <tr>\n",
       "      <th>1</th>\n",
       "      <td>72d66c19-130b-4d51-8ed7-e3b6c0b65034</td>\n",
       "      <td>9400a9f4-6ab8-40cd-b806-1569b693a88e</td>\n",
       "      <td>ed310df0-6834-4899-811e-5faf13b2a99c</td>\n",
       "      <td>9bd89feb-e952-47c1-bbf5-d4c17b36d852</td>\n",
       "      <td>0.000013</td>\n",
       "      <td>2018-10-22 23:43:38</td>\n",
       "      <td>NaN</td>\n",
       "      <td>754f7e12-e612-4d72-aad4-b1c32849ddf8</td>\n",
       "      <td>91e5290a-e5a9-4b74-88e5-1ad98877c1ce</td>\n",
       "      <td>organization</td>\n",
       "      <td>...</td>\n",
       "      <td>NaN</td>\n",
       "      <td>754f7e12-e612-4d72-aad4-b1c32849ddf8</td>\n",
       "      <td>91e5290a-e5a9-4b74-88e5-1ad98877c1ce</td>\n",
       "      <td>2018-07-02 20:08:17.093421</td>\n",
       "      <td>a8339829-8163-49dd-a881-c3f5ca407a94</td>\n",
       "      <td>2018-07-02 20:15:32.540356</td>\n",
       "      <td>2018-07-02 20:15:32.540356</td>\n",
       "      <td>&gt;= 60</td>\n",
       "      <td>5</td>\n",
       "      <td>NaN</td>\n",
       "    </tr>\n",
       "    <tr>\n",
       "      <th>2</th>\n",
       "      <td>31abd386-09f7-4f18-9b01-d2682e3c2c65</td>\n",
       "      <td>80adf85b-56cc-4730-903d-e63c75ae839a</td>\n",
       "      <td>ed310df0-6834-4899-811e-5faf13b2a99c</td>\n",
       "      <td>9bd89feb-e952-47c1-bbf5-d4c17b36d852</td>\n",
       "      <td>0.000016</td>\n",
       "      <td>2018-11-19 16:12:00</td>\n",
       "      <td>NaN</td>\n",
       "      <td>754f7e12-e612-4d72-aad4-b1c32849ddf8</td>\n",
       "      <td>91e5290a-e5a9-4b74-88e5-1ad98877c1ce</td>\n",
       "      <td>organization</td>\n",
       "      <td>...</td>\n",
       "      <td>NaN</td>\n",
       "      <td>754f7e12-e612-4d72-aad4-b1c32849ddf8</td>\n",
       "      <td>91e5290a-e5a9-4b74-88e5-1ad98877c1ce</td>\n",
       "      <td>2018-07-02 20:08:17.093421</td>\n",
       "      <td>a8339829-8163-49dd-a881-c3f5ca407a94</td>\n",
       "      <td>2018-07-02 20:15:32.540356</td>\n",
       "      <td>2018-07-02 20:15:32.540356</td>\n",
       "      <td>&gt;= 60</td>\n",
       "      <td>5</td>\n",
       "      <td>NaN</td>\n",
       "    </tr>\n",
       "    <tr>\n",
       "      <th>3</th>\n",
       "      <td>27543733-e8a8-4593-88fb-921e205a6e0c</td>\n",
       "      <td>6edfea5c-4125-49fa-bbe7-b39433f6e49a</td>\n",
       "      <td>ed310df0-6834-4899-811e-5faf13b2a99c</td>\n",
       "      <td>e573e2d3-39af-4f71-97df-bf400e854a8a</td>\n",
       "      <td>0.000001</td>\n",
       "      <td>2018-10-29 15:20:49</td>\n",
       "      <td>NaN</td>\n",
       "      <td>754f7e12-e612-4d72-aad4-b1c32849ddf8</td>\n",
       "      <td>91e5290a-e5a9-4b74-88e5-1ad98877c1ce</td>\n",
       "      <td>organization</td>\n",
       "      <td>...</td>\n",
       "      <td>NaN</td>\n",
       "      <td>754f7e12-e612-4d72-aad4-b1c32849ddf8</td>\n",
       "      <td>91e5290a-e5a9-4b74-88e5-1ad98877c1ce</td>\n",
       "      <td>2018-07-02 20:08:17.093421</td>\n",
       "      <td>a8339829-8163-49dd-a881-c3f5ca407a94</td>\n",
       "      <td>2018-07-02 20:15:32.540356</td>\n",
       "      <td>2018-07-02 20:15:32.540356</td>\n",
       "      <td>&gt;= 60</td>\n",
       "      <td>5</td>\n",
       "      <td>NaN</td>\n",
       "    </tr>\n",
       "    <tr>\n",
       "      <th>4</th>\n",
       "      <td>6aff8f2d-0730-4f94-846b-14c059550ab2</td>\n",
       "      <td>88ddff46-6714-4a47-9407-a7d54996dde1</td>\n",
       "      <td>ed310df0-6834-4899-811e-5faf13b2a99c</td>\n",
       "      <td>88f94e8a-0145-489f-9f1d-d4755456e965</td>\n",
       "      <td>0.000045</td>\n",
       "      <td>2018-10-31 12:06:08</td>\n",
       "      <td>NaN</td>\n",
       "      <td>754f7e12-e612-4d72-aad4-b1c32849ddf8</td>\n",
       "      <td>91e5290a-e5a9-4b74-88e5-1ad98877c1ce</td>\n",
       "      <td>organization</td>\n",
       "      <td>...</td>\n",
       "      <td>NaN</td>\n",
       "      <td>754f7e12-e612-4d72-aad4-b1c32849ddf8</td>\n",
       "      <td>91e5290a-e5a9-4b74-88e5-1ad98877c1ce</td>\n",
       "      <td>2018-07-02 20:08:17.093421</td>\n",
       "      <td>a8339829-8163-49dd-a881-c3f5ca407a94</td>\n",
       "      <td>2018-07-02 20:15:32.540356</td>\n",
       "      <td>2018-07-02 20:15:32.540356</td>\n",
       "      <td>&gt;= 60</td>\n",
       "      <td>5</td>\n",
       "      <td>NaN</td>\n",
       "    </tr>\n",
       "  </tbody>\n",
       "</table>\n",
       "<p>5 rows × 33 columns</p>\n",
       "</div>"
      ],
      "text/plain": [
       "                           operation_id                            request_id  \\\n",
       "0  37e105f1-003f-465b-8179-e7705b12a24d  c1820b88-ac54-444f-b9a0-70de30124d95   \n",
       "1  72d66c19-130b-4d51-8ed7-e3b6c0b65034  9400a9f4-6ab8-40cd-b806-1569b693a88e   \n",
       "2  31abd386-09f7-4f18-9b01-d2682e3c2c65  80adf85b-56cc-4730-903d-e63c75ae839a   \n",
       "3  27543733-e8a8-4593-88fb-921e205a6e0c  6edfea5c-4125-49fa-bbe7-b39433f6e49a   \n",
       "4  6aff8f2d-0730-4f94-846b-14c059550ab2  88ddff46-6714-4a47-9407-a7d54996dde1   \n",
       "\n",
       "                             account_id                 counterparty_document  \\\n",
       "0  a7b4f041-ef6a-4e17-baf9-cd471ef0f484  38e6f7c9-e935-4c7c-8915-ef923a5ca914   \n",
       "1  ed310df0-6834-4899-811e-5faf13b2a99c  9bd89feb-e952-47c1-bbf5-d4c17b36d852   \n",
       "2  ed310df0-6834-4899-811e-5faf13b2a99c  9bd89feb-e952-47c1-bbf5-d4c17b36d852   \n",
       "3  ed310df0-6834-4899-811e-5faf13b2a99c  e573e2d3-39af-4f71-97df-bf400e854a8a   \n",
       "4  ed310df0-6834-4899-811e-5faf13b2a99c  88f94e8a-0145-489f-9f1d-d4755456e965   \n",
       "\n",
       "    amount         processed_at is_fraud  \\\n",
       "0 0.000099  2018-11-21 15:41:23      NaN   \n",
       "1 0.000013  2018-10-22 23:43:38      NaN   \n",
       "2 0.000016  2018-11-19 16:12:00      NaN   \n",
       "3 0.000001  2018-10-29 15:20:49      NaN   \n",
       "4 0.000045  2018-10-31 12:06:08      NaN   \n",
       "\n",
       "                            ac_owner_id                     ac_owner_document  \\\n",
       "0  fc417977-7cfc-49c1-9d5a-2f4f0bccb1d0  0e7ac07d-87bd-46bc-975f-d29216e5bacd   \n",
       "1  754f7e12-e612-4d72-aad4-b1c32849ddf8  91e5290a-e5a9-4b74-88e5-1ad98877c1ce   \n",
       "2  754f7e12-e612-4d72-aad4-b1c32849ddf8  91e5290a-e5a9-4b74-88e5-1ad98877c1ce   \n",
       "3  754f7e12-e612-4d72-aad4-b1c32849ddf8  91e5290a-e5a9-4b74-88e5-1ad98877c1ce   \n",
       "4  754f7e12-e612-4d72-aad4-b1c32849ddf8  91e5290a-e5a9-4b74-88e5-1ad98877c1ce   \n",
       "\n",
       "  ac_owner_type  ... omot_type                                 og_id  \\\n",
       "0  organization  ...       NaN  fc417977-7cfc-49c1-9d5a-2f4f0bccb1d0   \n",
       "1  organization  ...       NaN  754f7e12-e612-4d72-aad4-b1c32849ddf8   \n",
       "2  organization  ...       NaN  754f7e12-e612-4d72-aad4-b1c32849ddf8   \n",
       "3  organization  ...       NaN  754f7e12-e612-4d72-aad4-b1c32849ddf8   \n",
       "4  organization  ...       NaN  754f7e12-e612-4d72-aad4-b1c32849ddf8   \n",
       "\n",
       "                            og_document              og_inserted_at  \\\n",
       "0  0e7ac07d-87bd-46bc-975f-d29216e5bacd  2018-11-11 11:42:17.070072   \n",
       "1  91e5290a-e5a9-4b74-88e5-1ad98877c1ce  2018-07-02 20:08:17.093421   \n",
       "2  91e5290a-e5a9-4b74-88e5-1ad98877c1ce  2018-07-02 20:08:17.093421   \n",
       "3  91e5290a-e5a9-4b74-88e5-1ad98877c1ce  2018-07-02 20:08:17.093421   \n",
       "4  91e5290a-e5a9-4b74-88e5-1ad98877c1ce  2018-07-02 20:08:17.093421   \n",
       "\n",
       "                             um_user_id              um_inserted_at  \\\n",
       "0                                  None                        None   \n",
       "1  a8339829-8163-49dd-a881-c3f5ca407a94  2018-07-02 20:15:32.540356   \n",
       "2  a8339829-8163-49dd-a881-c3f5ca407a94  2018-07-02 20:15:32.540356   \n",
       "3  a8339829-8163-49dd-a881-c3f5ca407a94  2018-07-02 20:15:32.540356   \n",
       "4  a8339829-8163-49dd-a881-c3f5ca407a94  2018-07-02 20:15:32.540356   \n",
       "\n",
       "                um_updated_at age_range number_of_selfies_sent  \\\n",
       "0                        None      None                      5   \n",
       "1  2018-07-02 20:15:32.540356     >= 60                      5   \n",
       "2  2018-07-02 20:15:32.540356     >= 60                      5   \n",
       "3  2018-07-02 20:15:32.540356     >= 60                      5   \n",
       "4  2018-07-02 20:15:32.540356     >= 60                      5   \n",
       "\n",
       "  number_of_selfies  \n",
       "0               NaN  \n",
       "1               NaN  \n",
       "2               NaN  \n",
       "3               NaN  \n",
       "4               NaN  \n",
       "\n",
       "[5 rows x 33 columns]"
      ]
     },
     "execution_count": 112,
     "metadata": {},
     "output_type": "execute_result"
    }
   ],
   "source": [
    "lt4.head()"
   ]
  },
  {
   "cell_type": "markdown",
   "id": "86f58331-5ecd-49c2-ae0a-b11dd898d96d",
   "metadata": {},
   "source": [
    "### Users"
   ]
  },
  {
   "cell_type": "code",
   "execution_count": 113,
   "id": "60878618-4f6c-467a-957e-4a52555ac93e",
   "metadata": {
    "tags": []
   },
   "outputs": [
    {
     "data": {
      "text/html": [
       "<div>\n",
       "<style scoped>\n",
       "    .dataframe tbody tr th:only-of-type {\n",
       "        vertical-align: middle;\n",
       "    }\n",
       "\n",
       "    .dataframe tbody tr th {\n",
       "        vertical-align: top;\n",
       "    }\n",
       "\n",
       "    .dataframe thead th {\n",
       "        text-align: right;\n",
       "    }\n",
       "</style>\n",
       "<table border=\"1\" class=\"dataframe\">\n",
       "  <thead>\n",
       "    <tr style=\"text-align: right;\">\n",
       "      <th></th>\n",
       "      <th>id</th>\n",
       "      <th>document</th>\n",
       "      <th>inserted_at</th>\n",
       "    </tr>\n",
       "  </thead>\n",
       "  <tbody>\n",
       "    <tr>\n",
       "      <th>0</th>\n",
       "      <td>659945ba-eb5b-4112-b338-8284aec5d99b</td>\n",
       "      <td>96e7c1d9-8482-4bd6-abe7-90ad0b9854eb</td>\n",
       "      <td>2018-04-24 19:40:00.914691</td>\n",
       "    </tr>\n",
       "    <tr>\n",
       "      <th>1</th>\n",
       "      <td>7d8795b3-e8ea-4e01-8f5e-0151a41e7021</td>\n",
       "      <td>9f11c509-9971-43d2-8112-752f6537a44d</td>\n",
       "      <td>2018-11-05 16:34:40.898502</td>\n",
       "    </tr>\n",
       "    <tr>\n",
       "      <th>2</th>\n",
       "      <td>75f5fe7d-05a8-4c1c-bfad-0ea8ad901200</td>\n",
       "      <td>953f9416-0b9a-48e9-bd4a-39f8fcd18fe5</td>\n",
       "      <td>2018-04-26 18:22:38.902776</td>\n",
       "    </tr>\n",
       "    <tr>\n",
       "      <th>3</th>\n",
       "      <td>c8fc220a-bda9-4174-a633-0515fdff92c2</td>\n",
       "      <td>4888e307-afb7-4c75-8f8c-0e2d7fc6880c</td>\n",
       "      <td>2018-08-29 19:20:57.890656</td>\n",
       "    </tr>\n",
       "    <tr>\n",
       "      <th>4</th>\n",
       "      <td>0bc08c41-5d93-4740-9d1f-e188fbdf7931</td>\n",
       "      <td>4200c844-f81b-4b3a-9c19-10d9d35c26ef</td>\n",
       "      <td>2018-05-28 02:50:12.368302</td>\n",
       "    </tr>\n",
       "  </tbody>\n",
       "</table>\n",
       "</div>"
      ],
      "text/plain": [
       "                                     id                              document  \\\n",
       "0  659945ba-eb5b-4112-b338-8284aec5d99b  96e7c1d9-8482-4bd6-abe7-90ad0b9854eb   \n",
       "1  7d8795b3-e8ea-4e01-8f5e-0151a41e7021  9f11c509-9971-43d2-8112-752f6537a44d   \n",
       "2  75f5fe7d-05a8-4c1c-bfad-0ea8ad901200  953f9416-0b9a-48e9-bd4a-39f8fcd18fe5   \n",
       "3  c8fc220a-bda9-4174-a633-0515fdff92c2  4888e307-afb7-4c75-8f8c-0e2d7fc6880c   \n",
       "4  0bc08c41-5d93-4740-9d1f-e188fbdf7931  4200c844-f81b-4b3a-9c19-10d9d35c26ef   \n",
       "\n",
       "                  inserted_at  \n",
       "0  2018-04-24 19:40:00.914691  \n",
       "1  2018-11-05 16:34:40.898502  \n",
       "2  2018-04-26 18:22:38.902776  \n",
       "3  2018-08-29 19:20:57.890656  \n",
       "4  2018-05-28 02:50:12.368302  "
      ]
     },
     "execution_count": 113,
     "metadata": {},
     "output_type": "execute_result"
    }
   ],
   "source": [
    "us = pd.read_csv('files/processed_users.csv')\n",
    "us.head()"
   ]
  },
  {
   "cell_type": "code",
   "execution_count": 114,
   "id": "81d9a745-638d-4ab1-a674-06628c1ee3d4",
   "metadata": {
    "tags": []
   },
   "outputs": [],
   "source": [
    "us.rename(columns={i: 'us_'+i for i in us.columns}, inplace=True)"
   ]
  },
  {
   "cell_type": "code",
   "execution_count": 115,
   "id": "0251f803-c1a3-4376-abba-536ca767243b",
   "metadata": {
    "tags": []
   },
   "outputs": [
    {
     "data": {
      "text/plain": [
       "((940935, 33), (5087054, 32))"
      ]
     },
     "execution_count": 115,
     "metadata": {},
     "output_type": "execute_result"
    }
   ],
   "source": [
    "lt4.shape, ut4.shape"
   ]
  },
  {
   "cell_type": "code",
   "execution_count": 116,
   "id": "aac51393-a3d4-4a83-9a0d-815779d39990",
   "metadata": {
    "tags": []
   },
   "outputs": [],
   "source": [
    "lt5 = lt4.merge(us, left_on=['treated_user_id'], right_on=['us_id'], how='left')\n",
    "ut5 = ut4.merge(us, left_on=['treated_user_id'], right_on=['us_id'], how='left')"
   ]
  },
  {
   "cell_type": "code",
   "execution_count": 117,
   "id": "a390015e-b0d8-4219-8b48-c12ac3a9b8da",
   "metadata": {},
   "outputs": [],
   "source": [
    "us_cols = ['us_id', 'us_document', 'us_inserted_at']\n",
    "\n",
    "lt5.loc[pd.to_datetime(lt5['us_inserted_at']) > pd.to_datetime(lt5['processed_at']), us_cols] = None\n",
    "ut5.loc[pd.to_datetime(ut5['us_inserted_at']) > pd.to_datetime(ut5['processed_at']), us_cols] = None"
   ]
  },
  {
   "cell_type": "code",
   "execution_count": 118,
   "id": "1515a45c-414d-4cd1-b209-90029576d003",
   "metadata": {
    "tags": []
   },
   "outputs": [
    {
     "data": {
      "text/plain": [
       "((940935, 36), (5087054, 35))"
      ]
     },
     "execution_count": 118,
     "metadata": {},
     "output_type": "execute_result"
    }
   ],
   "source": [
    "lt5.shape, ut5.shape"
   ]
  },
  {
   "cell_type": "code",
   "execution_count": 119,
   "id": "c5cb2718-0b3b-42f9-a41a-40c179965caf",
   "metadata": {
    "tags": []
   },
   "outputs": [
    {
     "data": {
      "text/plain": [
       "Index(['operation_id', 'request_id', 'account_id', 'counterparty_document',\n",
       "       'amount', 'processed_at', 'is_fraud', 'ac_owner_id',\n",
       "       'ac_owner_document', 'ac_owner_type', 'ac_inserted_at', 'uo_user_id',\n",
       "       'uo_organization_id', 'uo_flag_many_orgs', 'ac_user_id',\n",
       "       'ac_organization_id', 'treated_user_id', 'treated_organization_id',\n",
       "       'omot_organization_id', 'omot_value', 'omot_inserted_at',\n",
       "       'omot_updated_at', 'omot_id', 'omot_type', 'og_id', 'og_document',\n",
       "       'og_inserted_at', 'um_user_id', 'um_inserted_at', 'um_updated_at',\n",
       "       'age_range', 'number_of_selfies_sent', 'number_of_selfies', 'us_id',\n",
       "       'us_document', 'us_inserted_at'],\n",
       "      dtype='object')"
      ]
     },
     "execution_count": 119,
     "metadata": {},
     "output_type": "execute_result"
    }
   ],
   "source": [
    "lt5.columns"
   ]
  },
  {
   "cell_type": "markdown",
   "id": "99a7b8a3-50fc-44ad-8bb5-ce3de4f661f8",
   "metadata": {},
   "source": [
    "### Saving the Final Dataframe\n",
    "\n",
    "Here I'll choose only the columns I intend to use. Throught the notebooks I explain why these decisions where taken, but mostly I keep only what can be used, ignore ID's that are not the user_id (which I'll use to create books) and remove anything that have a very different behaviour between the labeled and unlabeled transaction tables."
   ]
  },
  {
   "cell_type": "code",
   "execution_count": 120,
   "id": "9969dce3-9f1f-4a4c-91ef-2a1b92f63774",
   "metadata": {},
   "outputs": [],
   "source": [
    "keep_cols = [\n",
    "    'treated_user_id', \n",
    "    'amount', \n",
    "    'processed_at', \n",
    "    'ac_owner_type',\n",
    "    'ac_inserted_at', \n",
    "    'uo_flag_many_orgs',  \n",
    "    'omot_value', \n",
    "    'omot_inserted_at',\n",
    "    'omot_updated_at', \n",
    "    'og_inserted_at', \n",
    "    'um_inserted_at', \n",
    "    'um_updated_at',\n",
    "    'age_range', \n",
    "    'number_of_selfies_sent', \n",
    "    'us_inserted_at',\n",
    "]"
   ]
  },
  {
   "cell_type": "code",
   "execution_count": 121,
   "id": "b5698621-91d3-4738-be5d-07def73fc796",
   "metadata": {
    "tags": []
   },
   "outputs": [],
   "source": [
    "lt5[keep_cols+['is_fraud']].to_csv('files/labeled_transactions_enriched.csv', sep=';', index=False)\n",
    "ut5[keep_cols].to_csv('files/unlabeled_transactions_enriched.csv', sep=';', index=False)"
   ]
  }
 ],
 "metadata": {
  "availableInstances": [
   {
    "_defaultOrder": 0,
    "_isFastLaunch": true,
    "category": "General purpose",
    "gpuNum": 0,
    "hideHardwareSpecs": false,
    "memoryGiB": 4,
    "name": "ml.t3.medium",
    "vcpuNum": 2
   },
   {
    "_defaultOrder": 1,
    "_isFastLaunch": false,
    "category": "General purpose",
    "gpuNum": 0,
    "hideHardwareSpecs": false,
    "memoryGiB": 8,
    "name": "ml.t3.large",
    "vcpuNum": 2
   },
   {
    "_defaultOrder": 2,
    "_isFastLaunch": false,
    "category": "General purpose",
    "gpuNum": 0,
    "hideHardwareSpecs": false,
    "memoryGiB": 16,
    "name": "ml.t3.xlarge",
    "vcpuNum": 4
   },
   {
    "_defaultOrder": 3,
    "_isFastLaunch": false,
    "category": "General purpose",
    "gpuNum": 0,
    "hideHardwareSpecs": false,
    "memoryGiB": 32,
    "name": "ml.t3.2xlarge",
    "vcpuNum": 8
   },
   {
    "_defaultOrder": 4,
    "_isFastLaunch": true,
    "category": "General purpose",
    "gpuNum": 0,
    "hideHardwareSpecs": false,
    "memoryGiB": 8,
    "name": "ml.m5.large",
    "vcpuNum": 2
   },
   {
    "_defaultOrder": 5,
    "_isFastLaunch": false,
    "category": "General purpose",
    "gpuNum": 0,
    "hideHardwareSpecs": false,
    "memoryGiB": 16,
    "name": "ml.m5.xlarge",
    "vcpuNum": 4
   },
   {
    "_defaultOrder": 6,
    "_isFastLaunch": false,
    "category": "General purpose",
    "gpuNum": 0,
    "hideHardwareSpecs": false,
    "memoryGiB": 32,
    "name": "ml.m5.2xlarge",
    "vcpuNum": 8
   },
   {
    "_defaultOrder": 7,
    "_isFastLaunch": false,
    "category": "General purpose",
    "gpuNum": 0,
    "hideHardwareSpecs": false,
    "memoryGiB": 64,
    "name": "ml.m5.4xlarge",
    "vcpuNum": 16
   },
   {
    "_defaultOrder": 8,
    "_isFastLaunch": false,
    "category": "General purpose",
    "gpuNum": 0,
    "hideHardwareSpecs": false,
    "memoryGiB": 128,
    "name": "ml.m5.8xlarge",
    "vcpuNum": 32
   },
   {
    "_defaultOrder": 9,
    "_isFastLaunch": false,
    "category": "General purpose",
    "gpuNum": 0,
    "hideHardwareSpecs": false,
    "memoryGiB": 192,
    "name": "ml.m5.12xlarge",
    "vcpuNum": 48
   },
   {
    "_defaultOrder": 10,
    "_isFastLaunch": false,
    "category": "General purpose",
    "gpuNum": 0,
    "hideHardwareSpecs": false,
    "memoryGiB": 256,
    "name": "ml.m5.16xlarge",
    "vcpuNum": 64
   },
   {
    "_defaultOrder": 11,
    "_isFastLaunch": false,
    "category": "General purpose",
    "gpuNum": 0,
    "hideHardwareSpecs": false,
    "memoryGiB": 384,
    "name": "ml.m5.24xlarge",
    "vcpuNum": 96
   },
   {
    "_defaultOrder": 12,
    "_isFastLaunch": false,
    "category": "General purpose",
    "gpuNum": 0,
    "hideHardwareSpecs": false,
    "memoryGiB": 8,
    "name": "ml.m5d.large",
    "vcpuNum": 2
   },
   {
    "_defaultOrder": 13,
    "_isFastLaunch": false,
    "category": "General purpose",
    "gpuNum": 0,
    "hideHardwareSpecs": false,
    "memoryGiB": 16,
    "name": "ml.m5d.xlarge",
    "vcpuNum": 4
   },
   {
    "_defaultOrder": 14,
    "_isFastLaunch": false,
    "category": "General purpose",
    "gpuNum": 0,
    "hideHardwareSpecs": false,
    "memoryGiB": 32,
    "name": "ml.m5d.2xlarge",
    "vcpuNum": 8
   },
   {
    "_defaultOrder": 15,
    "_isFastLaunch": false,
    "category": "General purpose",
    "gpuNum": 0,
    "hideHardwareSpecs": false,
    "memoryGiB": 64,
    "name": "ml.m5d.4xlarge",
    "vcpuNum": 16
   },
   {
    "_defaultOrder": 16,
    "_isFastLaunch": false,
    "category": "General purpose",
    "gpuNum": 0,
    "hideHardwareSpecs": false,
    "memoryGiB": 128,
    "name": "ml.m5d.8xlarge",
    "vcpuNum": 32
   },
   {
    "_defaultOrder": 17,
    "_isFastLaunch": false,
    "category": "General purpose",
    "gpuNum": 0,
    "hideHardwareSpecs": false,
    "memoryGiB": 192,
    "name": "ml.m5d.12xlarge",
    "vcpuNum": 48
   },
   {
    "_defaultOrder": 18,
    "_isFastLaunch": false,
    "category": "General purpose",
    "gpuNum": 0,
    "hideHardwareSpecs": false,
    "memoryGiB": 256,
    "name": "ml.m5d.16xlarge",
    "vcpuNum": 64
   },
   {
    "_defaultOrder": 19,
    "_isFastLaunch": false,
    "category": "General purpose",
    "gpuNum": 0,
    "hideHardwareSpecs": false,
    "memoryGiB": 384,
    "name": "ml.m5d.24xlarge",
    "vcpuNum": 96
   },
   {
    "_defaultOrder": 20,
    "_isFastLaunch": false,
    "category": "General purpose",
    "gpuNum": 0,
    "hideHardwareSpecs": true,
    "memoryGiB": 0,
    "name": "ml.geospatial.interactive",
    "supportedImageNames": [
     "sagemaker-geospatial-v1-0"
    ],
    "vcpuNum": 0
   },
   {
    "_defaultOrder": 21,
    "_isFastLaunch": true,
    "category": "Compute optimized",
    "gpuNum": 0,
    "hideHardwareSpecs": false,
    "memoryGiB": 4,
    "name": "ml.c5.large",
    "vcpuNum": 2
   },
   {
    "_defaultOrder": 22,
    "_isFastLaunch": false,
    "category": "Compute optimized",
    "gpuNum": 0,
    "hideHardwareSpecs": false,
    "memoryGiB": 8,
    "name": "ml.c5.xlarge",
    "vcpuNum": 4
   },
   {
    "_defaultOrder": 23,
    "_isFastLaunch": false,
    "category": "Compute optimized",
    "gpuNum": 0,
    "hideHardwareSpecs": false,
    "memoryGiB": 16,
    "name": "ml.c5.2xlarge",
    "vcpuNum": 8
   },
   {
    "_defaultOrder": 24,
    "_isFastLaunch": false,
    "category": "Compute optimized",
    "gpuNum": 0,
    "hideHardwareSpecs": false,
    "memoryGiB": 32,
    "name": "ml.c5.4xlarge",
    "vcpuNum": 16
   },
   {
    "_defaultOrder": 25,
    "_isFastLaunch": false,
    "category": "Compute optimized",
    "gpuNum": 0,
    "hideHardwareSpecs": false,
    "memoryGiB": 72,
    "name": "ml.c5.9xlarge",
    "vcpuNum": 36
   },
   {
    "_defaultOrder": 26,
    "_isFastLaunch": false,
    "category": "Compute optimized",
    "gpuNum": 0,
    "hideHardwareSpecs": false,
    "memoryGiB": 96,
    "name": "ml.c5.12xlarge",
    "vcpuNum": 48
   },
   {
    "_defaultOrder": 27,
    "_isFastLaunch": false,
    "category": "Compute optimized",
    "gpuNum": 0,
    "hideHardwareSpecs": false,
    "memoryGiB": 144,
    "name": "ml.c5.18xlarge",
    "vcpuNum": 72
   },
   {
    "_defaultOrder": 28,
    "_isFastLaunch": false,
    "category": "Compute optimized",
    "gpuNum": 0,
    "hideHardwareSpecs": false,
    "memoryGiB": 192,
    "name": "ml.c5.24xlarge",
    "vcpuNum": 96
   },
   {
    "_defaultOrder": 29,
    "_isFastLaunch": true,
    "category": "Accelerated computing",
    "gpuNum": 1,
    "hideHardwareSpecs": false,
    "memoryGiB": 16,
    "name": "ml.g4dn.xlarge",
    "vcpuNum": 4
   },
   {
    "_defaultOrder": 30,
    "_isFastLaunch": false,
    "category": "Accelerated computing",
    "gpuNum": 1,
    "hideHardwareSpecs": false,
    "memoryGiB": 32,
    "name": "ml.g4dn.2xlarge",
    "vcpuNum": 8
   },
   {
    "_defaultOrder": 31,
    "_isFastLaunch": false,
    "category": "Accelerated computing",
    "gpuNum": 1,
    "hideHardwareSpecs": false,
    "memoryGiB": 64,
    "name": "ml.g4dn.4xlarge",
    "vcpuNum": 16
   },
   {
    "_defaultOrder": 32,
    "_isFastLaunch": false,
    "category": "Accelerated computing",
    "gpuNum": 1,
    "hideHardwareSpecs": false,
    "memoryGiB": 128,
    "name": "ml.g4dn.8xlarge",
    "vcpuNum": 32
   },
   {
    "_defaultOrder": 33,
    "_isFastLaunch": false,
    "category": "Accelerated computing",
    "gpuNum": 4,
    "hideHardwareSpecs": false,
    "memoryGiB": 192,
    "name": "ml.g4dn.12xlarge",
    "vcpuNum": 48
   },
   {
    "_defaultOrder": 34,
    "_isFastLaunch": false,
    "category": "Accelerated computing",
    "gpuNum": 1,
    "hideHardwareSpecs": false,
    "memoryGiB": 256,
    "name": "ml.g4dn.16xlarge",
    "vcpuNum": 64
   },
   {
    "_defaultOrder": 35,
    "_isFastLaunch": false,
    "category": "Accelerated computing",
    "gpuNum": 1,
    "hideHardwareSpecs": false,
    "memoryGiB": 61,
    "name": "ml.p3.2xlarge",
    "vcpuNum": 8
   },
   {
    "_defaultOrder": 36,
    "_isFastLaunch": false,
    "category": "Accelerated computing",
    "gpuNum": 4,
    "hideHardwareSpecs": false,
    "memoryGiB": 244,
    "name": "ml.p3.8xlarge",
    "vcpuNum": 32
   },
   {
    "_defaultOrder": 37,
    "_isFastLaunch": false,
    "category": "Accelerated computing",
    "gpuNum": 8,
    "hideHardwareSpecs": false,
    "memoryGiB": 488,
    "name": "ml.p3.16xlarge",
    "vcpuNum": 64
   },
   {
    "_defaultOrder": 38,
    "_isFastLaunch": false,
    "category": "Accelerated computing",
    "gpuNum": 8,
    "hideHardwareSpecs": false,
    "memoryGiB": 768,
    "name": "ml.p3dn.24xlarge",
    "vcpuNum": 96
   },
   {
    "_defaultOrder": 39,
    "_isFastLaunch": false,
    "category": "Memory Optimized",
    "gpuNum": 0,
    "hideHardwareSpecs": false,
    "memoryGiB": 16,
    "name": "ml.r5.large",
    "vcpuNum": 2
   },
   {
    "_defaultOrder": 40,
    "_isFastLaunch": false,
    "category": "Memory Optimized",
    "gpuNum": 0,
    "hideHardwareSpecs": false,
    "memoryGiB": 32,
    "name": "ml.r5.xlarge",
    "vcpuNum": 4
   },
   {
    "_defaultOrder": 41,
    "_isFastLaunch": false,
    "category": "Memory Optimized",
    "gpuNum": 0,
    "hideHardwareSpecs": false,
    "memoryGiB": 64,
    "name": "ml.r5.2xlarge",
    "vcpuNum": 8
   },
   {
    "_defaultOrder": 42,
    "_isFastLaunch": false,
    "category": "Memory Optimized",
    "gpuNum": 0,
    "hideHardwareSpecs": false,
    "memoryGiB": 128,
    "name": "ml.r5.4xlarge",
    "vcpuNum": 16
   },
   {
    "_defaultOrder": 43,
    "_isFastLaunch": false,
    "category": "Memory Optimized",
    "gpuNum": 0,
    "hideHardwareSpecs": false,
    "memoryGiB": 256,
    "name": "ml.r5.8xlarge",
    "vcpuNum": 32
   },
   {
    "_defaultOrder": 44,
    "_isFastLaunch": false,
    "category": "Memory Optimized",
    "gpuNum": 0,
    "hideHardwareSpecs": false,
    "memoryGiB": 384,
    "name": "ml.r5.12xlarge",
    "vcpuNum": 48
   },
   {
    "_defaultOrder": 45,
    "_isFastLaunch": false,
    "category": "Memory Optimized",
    "gpuNum": 0,
    "hideHardwareSpecs": false,
    "memoryGiB": 512,
    "name": "ml.r5.16xlarge",
    "vcpuNum": 64
   },
   {
    "_defaultOrder": 46,
    "_isFastLaunch": false,
    "category": "Memory Optimized",
    "gpuNum": 0,
    "hideHardwareSpecs": false,
    "memoryGiB": 768,
    "name": "ml.r5.24xlarge",
    "vcpuNum": 96
   },
   {
    "_defaultOrder": 47,
    "_isFastLaunch": false,
    "category": "Accelerated computing",
    "gpuNum": 1,
    "hideHardwareSpecs": false,
    "memoryGiB": 16,
    "name": "ml.g5.xlarge",
    "vcpuNum": 4
   },
   {
    "_defaultOrder": 48,
    "_isFastLaunch": false,
    "category": "Accelerated computing",
    "gpuNum": 1,
    "hideHardwareSpecs": false,
    "memoryGiB": 32,
    "name": "ml.g5.2xlarge",
    "vcpuNum": 8
   },
   {
    "_defaultOrder": 49,
    "_isFastLaunch": false,
    "category": "Accelerated computing",
    "gpuNum": 1,
    "hideHardwareSpecs": false,
    "memoryGiB": 64,
    "name": "ml.g5.4xlarge",
    "vcpuNum": 16
   },
   {
    "_defaultOrder": 50,
    "_isFastLaunch": false,
    "category": "Accelerated computing",
    "gpuNum": 1,
    "hideHardwareSpecs": false,
    "memoryGiB": 128,
    "name": "ml.g5.8xlarge",
    "vcpuNum": 32
   },
   {
    "_defaultOrder": 51,
    "_isFastLaunch": false,
    "category": "Accelerated computing",
    "gpuNum": 1,
    "hideHardwareSpecs": false,
    "memoryGiB": 256,
    "name": "ml.g5.16xlarge",
    "vcpuNum": 64
   },
   {
    "_defaultOrder": 52,
    "_isFastLaunch": false,
    "category": "Accelerated computing",
    "gpuNum": 4,
    "hideHardwareSpecs": false,
    "memoryGiB": 192,
    "name": "ml.g5.12xlarge",
    "vcpuNum": 48
   },
   {
    "_defaultOrder": 53,
    "_isFastLaunch": false,
    "category": "Accelerated computing",
    "gpuNum": 4,
    "hideHardwareSpecs": false,
    "memoryGiB": 384,
    "name": "ml.g5.24xlarge",
    "vcpuNum": 96
   },
   {
    "_defaultOrder": 54,
    "_isFastLaunch": false,
    "category": "Accelerated computing",
    "gpuNum": 8,
    "hideHardwareSpecs": false,
    "memoryGiB": 768,
    "name": "ml.g5.48xlarge",
    "vcpuNum": 192
   },
   {
    "_defaultOrder": 55,
    "_isFastLaunch": false,
    "category": "Accelerated computing",
    "gpuNum": 8,
    "hideHardwareSpecs": false,
    "memoryGiB": 1152,
    "name": "ml.p4d.24xlarge",
    "vcpuNum": 96
   },
   {
    "_defaultOrder": 56,
    "_isFastLaunch": false,
    "category": "Accelerated computing",
    "gpuNum": 8,
    "hideHardwareSpecs": false,
    "memoryGiB": 1152,
    "name": "ml.p4de.24xlarge",
    "vcpuNum": 96
   }
  ],
  "instance_type": "ml.m5.4xlarge",
  "kernelspec": {
   "display_name": "Python 3 (Data Science 3.0)",
   "language": "python",
   "name": "python3__SAGEMAKER_INTERNAL__arn:aws:sagemaker:us-east-1:081325390199:image/sagemaker-data-science-310-v1"
  },
  "language_info": {
   "codemirror_mode": {
    "name": "ipython",
    "version": 3
   },
   "file_extension": ".py",
   "mimetype": "text/x-python",
   "name": "python",
   "nbconvert_exporter": "python",
   "pygments_lexer": "ipython3",
   "version": "3.10.6"
  }
 },
 "nbformat": 4,
 "nbformat_minor": 5
}
