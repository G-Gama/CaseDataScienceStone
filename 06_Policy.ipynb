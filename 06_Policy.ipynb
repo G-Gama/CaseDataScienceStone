{
 "cells": [
  {
   "cell_type": "markdown",
   "id": "2da1622b-f862-4e24-b4a7-2f4ce3bb300c",
   "metadata": {
    "jp-MarkdownHeadingCollapsed": true,
    "tags": []
   },
   "source": [
    "# Pip Installs"
   ]
  },
  {
   "cell_type": "code",
   "execution_count": 2,
   "id": "9f5a63c1-bd6a-4820-be10-c2def94792c5",
   "metadata": {},
   "outputs": [
    {
     "name": "stdout",
     "output_type": "stream",
     "text": [
      "Requirement already satisfied: boruta==0.3 in /opt/conda/lib/python3.10/site-packages (0.3)\n",
      "Requirement already satisfied: numpy>=1.10.4 in /opt/conda/lib/python3.10/site-packages (from boruta==0.3) (1.21.6)\n",
      "Requirement already satisfied: scikit-learn>=0.17.1 in /opt/conda/lib/python3.10/site-packages (from boruta==0.3) (1.0.1)\n",
      "Requirement already satisfied: scipy>=0.17.0 in /opt/conda/lib/python3.10/site-packages (from boruta==0.3) (1.11.2)\n",
      "Requirement already satisfied: joblib>=0.11 in /opt/conda/lib/python3.10/site-packages (from scikit-learn>=0.17.1->boruta==0.3) (1.3.2)\n",
      "Requirement already satisfied: threadpoolctl>=2.0.0 in /opt/conda/lib/python3.10/site-packages (from scikit-learn>=0.17.1->boruta==0.3) (2.2.0)\n",
      "\u001b[33mWARNING: Running pip as the 'root' user can result in broken permissions and conflicting behaviour with the system package manager. It is recommended to use a virtual environment instead: https://pip.pypa.io/warnings/venv\u001b[0m\u001b[33m\n",
      "\u001b[0m"
     ]
    }
   ],
   "source": [
    "!pip install boruta==0.3"
   ]
  },
  {
   "cell_type": "code",
   "execution_count": 3,
   "id": "07e2f57b-c8b9-4995-aeea-87a5b48712ec",
   "metadata": {},
   "outputs": [
    {
     "name": "stdout",
     "output_type": "stream",
     "text": [
      "Requirement already satisfied: xgboost==2.0.0 in /opt/conda/lib/python3.10/site-packages (2.0.0)\n",
      "Requirement already satisfied: numpy in /opt/conda/lib/python3.10/site-packages (from xgboost==2.0.0) (1.21.6)\n",
      "Requirement already satisfied: scipy in /opt/conda/lib/python3.10/site-packages (from xgboost==2.0.0) (1.11.2)\n",
      "\u001b[33mWARNING: Running pip as the 'root' user can result in broken permissions and conflicting behaviour with the system package manager. It is recommended to use a virtual environment instead: https://pip.pypa.io/warnings/venv\u001b[0m\u001b[33m\n",
      "\u001b[0m"
     ]
    }
   ],
   "source": [
    "!pip install xgboost==2.0.0"
   ]
  },
  {
   "cell_type": "code",
   "execution_count": 4,
   "id": "1ab0bf28-85d1-4b69-9ef9-7e00eb5d93d7",
   "metadata": {},
   "outputs": [
    {
     "name": "stdout",
     "output_type": "stream",
     "text": [
      "Requirement already satisfied: optuna==3.3.0 in /opt/conda/lib/python3.10/site-packages (3.3.0)\n",
      "Requirement already satisfied: alembic>=1.5.0 in /opt/conda/lib/python3.10/site-packages (from optuna==3.3.0) (1.12.0)\n",
      "Requirement already satisfied: cmaes>=0.10.0 in /opt/conda/lib/python3.10/site-packages (from optuna==3.3.0) (0.10.0)\n",
      "Requirement already satisfied: colorlog in /opt/conda/lib/python3.10/site-packages (from optuna==3.3.0) (6.7.0)\n",
      "Requirement already satisfied: numpy in /opt/conda/lib/python3.10/site-packages (from optuna==3.3.0) (1.21.6)\n",
      "Requirement already satisfied: packaging>=20.0 in /opt/conda/lib/python3.10/site-packages (from optuna==3.3.0) (21.3)\n",
      "Requirement already satisfied: sqlalchemy>=1.3.0 in /opt/conda/lib/python3.10/site-packages (from optuna==3.3.0) (1.4.39)\n",
      "Requirement already satisfied: tqdm in /opt/conda/lib/python3.10/site-packages (from optuna==3.3.0) (4.64.1)\n",
      "Requirement already satisfied: PyYAML in /opt/conda/lib/python3.10/site-packages/PyYAML-6.0-py3.10-linux-x86_64.egg (from optuna==3.3.0) (6.0)\n",
      "Requirement already satisfied: Mako in /opt/conda/lib/python3.10/site-packages (from alembic>=1.5.0->optuna==3.3.0) (1.2.4)\n",
      "Requirement already satisfied: typing-extensions>=4 in /opt/conda/lib/python3.10/site-packages (from alembic>=1.5.0->optuna==3.3.0) (4.3.0)\n",
      "Requirement already satisfied: pyparsing!=3.0.5,>=2.0.2 in /opt/conda/lib/python3.10/site-packages (from packaging>=20.0->optuna==3.3.0) (3.0.9)\n",
      "Requirement already satisfied: greenlet!=0.4.17 in /opt/conda/lib/python3.10/site-packages (from sqlalchemy>=1.3.0->optuna==3.3.0) (1.1.1)\n",
      "Requirement already satisfied: MarkupSafe>=0.9.2 in /opt/conda/lib/python3.10/site-packages (from Mako->alembic>=1.5.0->optuna==3.3.0) (2.1.3)\n",
      "\u001b[33mWARNING: Running pip as the 'root' user can result in broken permissions and conflicting behaviour with the system package manager. It is recommended to use a virtual environment instead: https://pip.pypa.io/warnings/venv\u001b[0m\u001b[33m\n",
      "\u001b[0m"
     ]
    }
   ],
   "source": [
    "!pip install optuna==3.3.0"
   ]
  },
  {
   "cell_type": "code",
   "execution_count": 5,
   "id": "e4b9d939-e252-4ecb-95ff-478c32044b16",
   "metadata": {},
   "outputs": [
    {
     "name": "stdout",
     "output_type": "stream",
     "text": [
      "Requirement already satisfied: shap==0.42.1 in /opt/conda/lib/python3.10/site-packages (0.42.1)\n",
      "Requirement already satisfied: numpy in /opt/conda/lib/python3.10/site-packages (from shap==0.42.1) (1.21.6)\n",
      "Requirement already satisfied: scipy in /opt/conda/lib/python3.10/site-packages (from shap==0.42.1) (1.11.2)\n",
      "Requirement already satisfied: scikit-learn in /opt/conda/lib/python3.10/site-packages (from shap==0.42.1) (1.0.1)\n",
      "Requirement already satisfied: pandas in /opt/conda/lib/python3.10/site-packages (from shap==0.42.1) (1.4.4)\n",
      "Requirement already satisfied: tqdm>=4.27.0 in /opt/conda/lib/python3.10/site-packages (from shap==0.42.1) (4.64.1)\n",
      "Requirement already satisfied: packaging>20.9 in /opt/conda/lib/python3.10/site-packages (from shap==0.42.1) (21.3)\n",
      "Requirement already satisfied: slicer==0.0.7 in /opt/conda/lib/python3.10/site-packages (from shap==0.42.1) (0.0.7)\n",
      "Requirement already satisfied: numba in /opt/conda/lib/python3.10/site-packages (from shap==0.42.1) (0.55.1)\n",
      "Requirement already satisfied: cloudpickle in /opt/conda/lib/python3.10/site-packages (from shap==0.42.1) (2.2.1)\n",
      "Requirement already satisfied: pyparsing!=3.0.5,>=2.0.2 in /opt/conda/lib/python3.10/site-packages (from packaging>20.9->shap==0.42.1) (3.0.9)\n",
      "Requirement already satisfied: llvmlite<0.39,>=0.38.0rc1 in /opt/conda/lib/python3.10/site-packages (from numba->shap==0.42.1) (0.38.0)\n",
      "Requirement already satisfied: setuptools in /opt/conda/lib/python3.10/site-packages (from numba->shap==0.42.1) (68.2.0)\n",
      "Requirement already satisfied: python-dateutil>=2.8.1 in /opt/conda/lib/python3.10/site-packages (from pandas->shap==0.42.1) (2.8.2)\n",
      "Requirement already satisfied: pytz>=2020.1 in /opt/conda/lib/python3.10/site-packages (from pandas->shap==0.42.1) (2022.1)\n",
      "Requirement already satisfied: joblib>=0.11 in /opt/conda/lib/python3.10/site-packages (from scikit-learn->shap==0.42.1) (1.3.2)\n",
      "Requirement already satisfied: threadpoolctl>=2.0.0 in /opt/conda/lib/python3.10/site-packages (from scikit-learn->shap==0.42.1) (2.2.0)\n",
      "Requirement already satisfied: six>=1.5 in /opt/conda/lib/python3.10/site-packages (from python-dateutil>=2.8.1->pandas->shap==0.42.1) (1.16.0)\n",
      "\u001b[33mWARNING: Running pip as the 'root' user can result in broken permissions and conflicting behaviour with the system package manager. It is recommended to use a virtual environment instead: https://pip.pypa.io/warnings/venv\u001b[0m\u001b[33m\n",
      "\u001b[0m"
     ]
    }
   ],
   "source": [
    "!pip install shap==0.42.1"
   ]
  },
  {
   "cell_type": "markdown",
   "id": "03daf7cd-1f40-4b96-ae07-c33e85d99c53",
   "metadata": {},
   "source": [
    "# In This Notebook\n",
    "\n",
    "We'll score the unlabeled dataset and create a policy where we don't deny more than 300 customers a day.\n",
    "\n",
    "Normally, I'd try to understand with the business teams exactly what metric they are trying to maximize, what are the business constraints when taking decisions and try to create metrics regarding how much money we would save by denying said transactions, but since I have no way of knowing exactly how much it costs when a fraud occurs and how much money a transaction gives the company, in an almost ludical way I'll assume there is a team with the capacity of evaluating only 300 transactions a day and I need to choose which ones they'll evaluate."
   ]
  },
  {
   "cell_type": "code",
   "execution_count": 6,
   "id": "74288790-f2c6-4567-b94f-007012496aa4",
   "metadata": {
    "tags": []
   },
   "outputs": [],
   "source": [
    "import pandas as pd\n",
    "import numpy as np\n",
    "from matplotlib import pyplot as plt\n",
    "import seaborn as sns\n",
    "from sklearn.model_selection import train_test_split\n",
    "from sklearn.model_selection import KFold\n",
    "\n",
    "from sklearn.compose import TransformedTargetRegressor\n",
    "from sklearn.pipeline import FeatureUnion, Pipeline, make_pipeline\n",
    "from sklearn.base import BaseEstimator, TransformerMixin\n",
    "\n",
    "from boruta import BorutaPy\n",
    "from sklearn.ensemble import RandomForestClassifier\n",
    "\n",
    "\n",
    "from xgboost import XGBClassifier\n",
    "import optuna\n",
    "from optuna import Trial, visualization\n",
    "\n",
    "from sklearn.metrics import roc_auc_score, roc_curve\n",
    "from scipy.stats import ks_2samp\n",
    "import shap\n",
    "\n",
    "np.random.seed(3108)\n",
    "# I'm not iterating over the seed, this is just my birthdate"
   ]
  },
  {
   "cell_type": "markdown",
   "id": "4225ef89-5cef-4abd-95d3-6217bc3753d8",
   "metadata": {
    "jp-MarkdownHeadingCollapsed": true,
    "tags": []
   },
   "source": [
    "# Transformers\n",
    "\n",
    "Even though it would be very simple separating these transformers in an aux file, and the code being duplicated hurts the DRY-code principle, in notebook 05 I wanted to show how these transformers are created so I don't see a reason to do that in the case scenario."
   ]
  },
  {
   "cell_type": "code",
   "execution_count": 7,
   "id": "5f9026bc-cec4-45a8-9e2b-8d5d3fb11266",
   "metadata": {
    "tags": []
   },
   "outputs": [],
   "source": [
    "class SeasonalCols(BaseEstimator, TransformerMixin):\n",
    "    \"\"\"\n",
    "    I'll create a value that indicates if the transaction ocurred too late \n",
    "    at night or during the weekend. First I was thinking about creating\n",
    "    flags that indicated if the transaction was on the weekend or during\n",
    "    the night but to be honest I see no reason to not use the full value.\n",
    "    \n",
    "    Here we could create stuff like \"month\" or \"day of month\" but since\n",
    "    we don't have much of a historic dataframe I'll keep myself to just\n",
    "    the hour and the day-of-week. \n",
    "    \"\"\"\n",
    "    def __init__(self, date_col):\n",
    "        self.date_col = date_col\n",
    "        \n",
    "    def fit(self, X, y = None):\n",
    "        return self\n",
    "\n",
    "    def transform(self, X, y = None):\n",
    "        X_ = X.copy()\n",
    "        X_[self.date_col] = pd.to_datetime(X_[self.date_col])\n",
    "        X_[self.date_col+'_weekday'] = pd.to_datetime(X_[self.date_col]).dt.weekday\n",
    "        X_[self.date_col+'_hour'] = pd.to_datetime(X_[self.date_col]).dt.hour\n",
    "        print(\"DayOfWeek and Hour Variables Created!\")\n",
    "        \n",
    "        return X_\n",
    "\n",
    "class DatesToDateDiff(BaseEstimator, TransformerMixin):\n",
    "    \"\"\"\n",
    "    This will help us transform dates to numbers, by taking how many days \n",
    "    passed between one event and the other one.\n",
    "    \"\"\"\n",
    "    def __init__(self, date_cols):\n",
    "        self.date_cols = date_cols\n",
    "        \n",
    "    def fit(self, X, y = None):\n",
    "        return self\n",
    "\n",
    "    def transform(self, X, y = None):\n",
    "        X_ = X.copy()\n",
    "        date_cols = self.date_cols.copy()\n",
    "        \n",
    "        for date_col in date_cols:\n",
    "            X_[date_col] = pd.to_datetime(X_[date_col])\n",
    "            \n",
    "        while len(date_cols) > 1:\n",
    "            base_date = date_cols.pop()\n",
    "            for date_col in date_cols:\n",
    "                col_name = 'diff_{}_{}'.format(base_date, date_col)\n",
    "                X_[col_name] = (X_[base_date] - X_[date_col])/np.timedelta64(1, 'D')\n",
    "            \n",
    "            print(\"DateDiffs regarding {} timestamp created!\".format(base_date))\n",
    "                \n",
    "        X_.drop(columns=self.date_cols, inplace=True)\n",
    "        return X_\n",
    "\n",
    "class OneHotEncoder(BaseEstimator, TransformerMixin):\n",
    "    \"\"\"\n",
    "    With this personalized OneHotEncoder, we'll map every category that has more than x%\n",
    "    presence on the dataset and, if it has, create a flag regarding it. If not, we could\n",
    "    call it \"others\" and group them, but I'll just assume it's the \"leave one out\" class \n",
    "    of the encoder.\n",
    "    \"\"\"\n",
    "    def __init__(self, cat_variable, minor_category=0.05):\n",
    "        self.cat_variable = cat_variable\n",
    "        self.minor_category = minor_category\n",
    "        \n",
    "    def fit(self, X, y = None):\n",
    "        X_ = X.copy()\n",
    "        mapper = dict(X_[self.cat_variable].fillna('NULL').value_counts(normalize=True))\n",
    "        mapper = [key for key, val in mapper.items() if val > self.minor_category]\n",
    "        self.mapper = mapper\n",
    "        return self\n",
    "\n",
    "    def transform(self, X, y = None):\n",
    "        X_ = X.copy()\n",
    "        \n",
    "        for category in self.mapper:\n",
    "            cat_flag = '{}_{}'.format(self.cat_variable, category)\n",
    "            X_[cat_flag] = 0\n",
    "            X_.loc[X_[self.cat_variable].fillna('NULL') == category, cat_flag] = 1\n",
    "        X_.drop(columns=[self.cat_variable], inplace=True)\n",
    "        \n",
    "        print(\"OneHotEncode for var {} Done!\".format(self.cat_variable))\n",
    "        return X_\n",
    "\n",
    "class FillNulls(BaseEstimator, TransformerMixin):\n",
    "    \"\"\"\n",
    "    Fill nulls with Special Value. Since I intend to use tree based algorithms, \n",
    "    I'll fill nulls with -999 as a special value.\n",
    "    \"\"\"\n",
    "    def __init__(self, special_value=-999):\n",
    "        self.special_value = special_value\n",
    "        \n",
    "    def fit(self, X, y = None):\n",
    "        return self\n",
    "\n",
    "    def transform(self, X, y = None):\n",
    "        X_ = X.copy()\n",
    "        X_ = X_.fillna(self.special_value)\n",
    "        print(\"Nulls Filled With {}!\".format(self.special_value))\n",
    "        return X_\n",
    "\n",
    "class BorutaAdjusted(BaseEstimator, TransformerMixin):\n",
    "    \"\"\"\n",
    "    Small adjusts on BorutaPy just so we can add it to the sklearn pipeline.\n",
    "    \"\"\"\n",
    "    def __init__(self, feat_selector):\n",
    "        self.feat_selector = feat_selector\n",
    "        \n",
    "        \n",
    "    def fit(self, X, y):\n",
    "        X_ = X.copy()\n",
    "        y_ = y.copy()\n",
    "        \n",
    "        np.int = int\n",
    "        np.float = float\n",
    "        np.bool = bool\n",
    "        \n",
    "        self.feat_selector.fit(X_.values, y_.values)\n",
    "        return self\n",
    "\n",
    "    def transform(self, X, y=None):\n",
    "        X_ = X.copy()\n",
    "        \n",
    "        boruta_decisions = dict(zip(X_.columns, self.feat_selector.support_))\n",
    "        choosen_cols = [key for key, value in boruta_decisions.items() if value]\n",
    "        \n",
    "        vars_removed = X.shape[1] - len(choosen_cols)\n",
    "        \n",
    "        print('{} vars removed due to low impact by the Boruta Step!'.format(vars_removed))\n",
    "        \n",
    "        return X_[choosen_cols]\n",
    "\n",
    "class XGBoostTransformer(BaseEstimator, TransformerMixin):\n",
    "    \"\"\"\n",
    "    Small adjusts on XGBoost just so we can add it to the sklearn pipeline.\n",
    "    I also would like to keep the explainer cols so...\n",
    "    \"\"\"\n",
    "    def __init__(self, params):\n",
    "        self.params = params\n",
    "        self.model = XGBClassifier(**params)\n",
    "        \n",
    "        \n",
    "    def fit(self, X, y):\n",
    "        X_ = X.copy()\n",
    "        y_ = y.copy()\n",
    "        \n",
    "        self.model.fit(X_.values, y_.values)\n",
    "        return self\n",
    "\n",
    "    def transform(self, X, y=None):\n",
    "        X_ = X.copy()\n",
    "        \n",
    "        preds = self.model.predict_proba(X_)[:, 1]\n",
    "        X_['preds'] = preds\n",
    "        print(\"Finished Scoring the Model!\")\n",
    "        return X_"
   ]
  },
  {
   "cell_type": "markdown",
   "id": "74bdf0c1-f59e-4245-9240-d56298e8b885",
   "metadata": {},
   "source": [
    "# Loading the Pipeline"
   ]
  },
  {
   "cell_type": "code",
   "execution_count": 8,
   "id": "a2494948-fdb6-43ae-9544-1ce74f7b2b2b",
   "metadata": {
    "tags": []
   },
   "outputs": [],
   "source": [
    "import pickle\n",
    "\n",
    "with open(r\"files/best_model.pickle\", \"rb\") as input_file:\n",
    "    pipe = pickle.load(input_file)"
   ]
  },
  {
   "cell_type": "markdown",
   "id": "541cbc72-733e-45ab-8dfe-9759ff45abcb",
   "metadata": {},
   "source": [
    "# Reading Unlabeled Data and Applying the Pipe"
   ]
  },
  {
   "cell_type": "code",
   "execution_count": 9,
   "id": "338fd274-d54b-4c12-a039-2df6bcdbaf14",
   "metadata": {
    "tags": []
   },
   "outputs": [],
   "source": [
    "# Reading the treated dataset\n",
    "\n",
    "ut = pd.read_csv('files/unlabeled_transactions_enriched2.csv', sep=';')\n",
    "\n",
    "# Caught a typo on 03_Joins, will redo a step here just so I don't have to rerrun everything\n",
    "us_cols = ['us_inserted_at']\n",
    "ut.loc[pd.to_datetime(ut['us_inserted_at']) > pd.to_datetime(ut['processed_at']), us_cols] = None"
   ]
  },
  {
   "cell_type": "code",
   "execution_count": 10,
   "id": "626eb966-f419-453d-a2af-85e92fbd8dab",
   "metadata": {
    "tags": []
   },
   "outputs": [],
   "source": [
    "X = ut.drop(columns=['treated_user_id'])"
   ]
  },
  {
   "cell_type": "code",
   "execution_count": 11,
   "id": "1371138f-36ed-4f86-99f5-9a53af4036c0",
   "metadata": {
    "tags": []
   },
   "outputs": [
    {
     "name": "stdout",
     "output_type": "stream",
     "text": [
      "DayOfWeek and Hour Variables Created!\n",
      "OneHotEncode for var ac_owner_type Done!\n",
      "OneHotEncode for var omot_value Done!\n",
      "OneHotEncode for var age_range Done!\n",
      "DateDiffs regarding us_inserted_at timestamp created!\n",
      "DateDiffs regarding um_updated_at timestamp created!\n",
      "DateDiffs regarding um_inserted_at timestamp created!\n",
      "DateDiffs regarding og_inserted_at timestamp created!\n",
      "DateDiffs regarding omot_updated_at timestamp created!\n",
      "DateDiffs regarding omot_inserted_at timestamp created!\n",
      "DateDiffs regarding ac_inserted_at timestamp created!\n",
      "Nulls Filled With -999!\n",
      "9 vars removed due to low impact by the Boruta Step!\n",
      "Finished Scoring the Model!\n",
      "The whole scoring process took 35 seconds to run.\n"
     ]
    }
   ],
   "source": [
    "import time\n",
    "start_time = time.time()\n",
    "\n",
    "X_final = pipe.transform(X)\n",
    "\n",
    "print(\"The whole scoring process took {:.0f} seconds to run.\".format(time.time() - start_time))"
   ]
  },
  {
   "cell_type": "code",
   "execution_count": 12,
   "id": "a2587a7b-bb12-4fc2-ba44-c1ef72027208",
   "metadata": {
    "tags": []
   },
   "outputs": [],
   "source": [
    "X_final['processed_at'] = pd.to_datetime(ut['processed_at'])"
   ]
  },
  {
   "cell_type": "markdown",
   "id": "87b51221-0e33-431e-8e17-6e49beeb639f",
   "metadata": {},
   "source": [
    "# Policy Development\n",
    "\n",
    "I'll iterate over possible cut values, where I "
   ]
  },
  {
   "cell_type": "code",
   "execution_count": 13,
   "id": "7e0cfdf2-578c-4372-9dc7-f6f6ba9e23a4",
   "metadata": {
    "tags": []
   },
   "outputs": [],
   "source": [
    "X_final['date'] = X_final['processed_at'].dt.date"
   ]
  },
  {
   "cell_type": "code",
   "execution_count": 14,
   "id": "ac670353-657b-4da3-b89d-abd8e90995c4",
   "metadata": {
    "tags": []
   },
   "outputs": [
    {
     "name": "stdout",
     "output_type": "stream",
     "text": [
      "3500\n",
      "4000\n",
      "4500\n"
     ]
    }
   ],
   "source": [
    "X_final_ = X_final.copy()\n",
    "results = {}\n",
    "\n",
    "for i in range(3500, 5000, 20):\n",
    "    if i % 500 == 0:\n",
    "        print(i)\n",
    "        \n",
    "    i = i/10000\n",
    "    X_final_['denied'] = X_final_['preds'] > i\n",
    "    \n",
    "    deny_q90 = X_final_.groupby('date').denied.sum().quantile(0.9)\n",
    "    deny_q50 = X_final_.groupby('date').denied.sum().quantile(0.5)\n",
    "    deny_mean = X_final_.groupby('date').denied.sum().mean()\n",
    "    \n",
    "    results.update({i: {'deny_mean': deny_mean, 'deny_q50': deny_q50, 'deny_q90': deny_q90}})"
   ]
  },
  {
   "cell_type": "code",
   "execution_count": 15,
   "id": "38fea44d-4006-482c-9a16-cb450cabfcc5",
   "metadata": {
    "tags": []
   },
   "outputs": [],
   "source": [
    "results = pd.DataFrame.from_dict(results, orient='index')"
   ]
  },
  {
   "cell_type": "code",
   "execution_count": 16,
   "id": "9e8b62b5-ce1d-4c2c-a86a-e2e459ae12cd",
   "metadata": {
    "tags": []
   },
   "outputs": [],
   "source": [
    "results.reset_index(inplace=True)"
   ]
  },
  {
   "cell_type": "markdown",
   "id": "04c36ec3-eba2-4bd5-96f7-b96d615a1ddf",
   "metadata": {},
   "source": [
    "In the graph below, I've plotted how many people would be sent to further analysis if we've cut every transaction above a certain threshold. We can see that using a score of .41 for this threshold will make about 90% of the days have no more than 300 cuts, with a mean of about 140 transactions denied daily and an median of 130 daily transactions denied."
   ]
  },
  {
   "cell_type": "code",
   "execution_count": 17,
   "id": "f2addef3-f785-4d06-a4e9-b74f5fe5d350",
   "metadata": {
    "tags": []
   },
   "outputs": [
    {
     "data": {
      "image/png": "[encoded data removed]",
      "text/plain": [
       "<Figure size 1200x800 with 1 Axes>"
      ]
     },
     "metadata": {},
     "output_type": "display_data"
    }
   ],
   "source": [
    "fig = plt.figure(figsize=(12, 8))\n",
    "\n",
    "plt.plot(results['index'], results['deny_mean'], label='Denial Mean')\n",
    "plt.plot(results['index'], results['deny_q50'], label='Denial Median')\n",
    "plt.plot(results['index'], results['deny_q90'], label='Denial Q90')\n",
    "plt.plot([0.41, 0.41], [110, 310], '--', color='darkgrey', label='Proposed Threshold')\n",
    "plt.plot(results['index'], [300 for i in range(results.shape[0])], '--', color='red', alpha=0.6, label='Expected Cut (300 a day)')\n",
    "\n",
    "plt.legend(loc='best')\n",
    "\n",
    "plt.xlim([0.35,0.5])\n",
    "plt.ylim([0,400])\n",
    "\n",
    "sns.despine()"
   ]
  },
  {
   "cell_type": "code",
   "execution_count": 18,
   "id": "d2545d97-36fa-42e1-a1cb-85d2fcc9d59f",
   "metadata": {
    "tags": []
   },
   "outputs": [
    {
     "data": {
      "text/html": [
       "<div>\n",
       "<style scoped>\n",
       "    .dataframe tbody tr th:only-of-type {\n",
       "        vertical-align: middle;\n",
       "    }\n",
       "\n",
       "    .dataframe tbody tr th {\n",
       "        vertical-align: top;\n",
       "    }\n",
       "\n",
       "    .dataframe thead th {\n",
       "        text-align: right;\n",
       "    }\n",
       "</style>\n",
       "<table border=\"1\" class=\"dataframe\">\n",
       "  <thead>\n",
       "    <tr style=\"text-align: right;\">\n",
       "      <th></th>\n",
       "      <th>index</th>\n",
       "      <th>deny_mean</th>\n",
       "      <th>deny_q50</th>\n",
       "      <th>deny_q90</th>\n",
       "    </tr>\n",
       "  </thead>\n",
       "  <tbody>\n",
       "    <tr>\n",
       "      <th>26</th>\n",
       "      <td>0.402</td>\n",
       "      <td>142.9625</td>\n",
       "      <td>130.0</td>\n",
       "      <td>297.2</td>\n",
       "    </tr>\n",
       "    <tr>\n",
       "      <th>27</th>\n",
       "      <td>0.404</td>\n",
       "      <td>140.8625</td>\n",
       "      <td>129.5</td>\n",
       "      <td>292.4</td>\n",
       "    </tr>\n",
       "    <tr>\n",
       "      <th>28</th>\n",
       "      <td>0.406</td>\n",
       "      <td>138.7875</td>\n",
       "      <td>127.5</td>\n",
       "      <td>288.5</td>\n",
       "    </tr>\n",
       "    <tr>\n",
       "      <th>29</th>\n",
       "      <td>0.408</td>\n",
       "      <td>136.8875</td>\n",
       "      <td>126.5</td>\n",
       "      <td>286.0</td>\n",
       "    </tr>\n",
       "    <tr>\n",
       "      <th>30</th>\n",
       "      <td>0.410</td>\n",
       "      <td>134.8000</td>\n",
       "      <td>125.0</td>\n",
       "      <td>281.2</td>\n",
       "    </tr>\n",
       "  </tbody>\n",
       "</table>\n",
       "</div>"
      ],
      "text/plain": [
       "    index  deny_mean  deny_q50  deny_q90\n",
       "26  0.402   142.9625     130.0     297.2\n",
       "27  0.404   140.8625     129.5     292.4\n",
       "28  0.406   138.7875     127.5     288.5\n",
       "29  0.408   136.8875     126.5     286.0\n",
       "30  0.410   134.8000     125.0     281.2"
      ]
     },
     "execution_count": 18,
     "metadata": {},
     "output_type": "execute_result"
    }
   ],
   "source": [
    "results[results['deny_q90'] < 300].head()"
   ]
  },
  {
   "cell_type": "code",
   "execution_count": 19,
   "id": "c2c44aa5-8773-40a0-a6e1-51c1d662dfcb",
   "metadata": {
    "tags": []
   },
   "outputs": [],
   "source": [
    "X_final['denied'] = X_final['preds'] > 0.41"
   ]
  },
  {
   "cell_type": "code",
   "execution_count": 20,
   "id": "a7336cc3-d24e-4091-95f1-fb2057dcedad",
   "metadata": {
    "tags": []
   },
   "outputs": [],
   "source": [
    "denials = X_final.groupby('date').agg(\n",
    "    avg_denials=pd.NamedAgg('denied', 'mean'),\n",
    "    total_denials=pd.NamedAgg('denied', 'sum'),\n",
    ").reset_index()"
   ]
  },
  {
   "cell_type": "code",
   "execution_count": 21,
   "id": "d24d088a-97e9-4dab-8b4e-1b3c148fa31e",
   "metadata": {
    "tags": []
   },
   "outputs": [
    {
     "data": {
      "text/html": [
       "<div>\n",
       "<style scoped>\n",
       "    .dataframe tbody tr th:only-of-type {\n",
       "        vertical-align: middle;\n",
       "    }\n",
       "\n",
       "    .dataframe tbody tr th {\n",
       "        vertical-align: top;\n",
       "    }\n",
       "\n",
       "    .dataframe thead th {\n",
       "        text-align: right;\n",
       "    }\n",
       "</style>\n",
       "<table border=\"1\" class=\"dataframe\">\n",
       "  <thead>\n",
       "    <tr style=\"text-align: right;\">\n",
       "      <th></th>\n",
       "      <th>date</th>\n",
       "      <th>avg_denials</th>\n",
       "      <th>total_denials</th>\n",
       "    </tr>\n",
       "  </thead>\n",
       "  <tbody>\n",
       "    <tr>\n",
       "      <th>0</th>\n",
       "      <td>2018-07-15</td>\n",
       "      <td>0.000000</td>\n",
       "      <td>0</td>\n",
       "    </tr>\n",
       "    <tr>\n",
       "      <th>1</th>\n",
       "      <td>2018-07-16</td>\n",
       "      <td>0.004725</td>\n",
       "      <td>476</td>\n",
       "    </tr>\n",
       "  </tbody>\n",
       "</table>\n",
       "</div>"
      ],
      "text/plain": [
       "         date  avg_denials  total_denials\n",
       "0  2018-07-15     0.000000              0\n",
       "1  2018-07-16     0.004725            476"
      ]
     },
     "execution_count": 21,
     "metadata": {},
     "output_type": "execute_result"
    }
   ],
   "source": [
    "denials.head(2)"
   ]
  },
  {
   "cell_type": "code",
   "execution_count": 22,
   "id": "278e0f18-ef78-4a00-b217-8e1c89b222ea",
   "metadata": {
    "tags": []
   },
   "outputs": [
    {
     "data": {
      "text/plain": [
       "date             2018-10-17\n",
       "avg_denials        0.008262\n",
       "total_denials          1001\n",
       "dtype: object"
      ]
     },
     "execution_count": 22,
     "metadata": {},
     "output_type": "execute_result"
    }
   ],
   "source": [
    "denials.max()"
   ]
  },
  {
   "cell_type": "code",
   "execution_count": 23,
   "id": "afc8f15c-9f4c-4c34-ae82-777a0653c107",
   "metadata": {
    "tags": []
   },
   "outputs": [
    {
     "data": {
      "image/png": "[encoded data removed]",
      "text/plain": [
       "<Figure size 1200x800 with 1 Axes>"
      ]
     },
     "metadata": {},
     "output_type": "display_data"
    }
   ],
   "source": [
    "fig = plt.figure(figsize=(12,8))\n",
    "\n",
    "plt.xlabel('Date')\n",
    "plt.ylabel('Denied Transactions', )\n",
    "plt.scatter(pd.to_datetime(denials['date']), denials['total_denials'], color='#800000', label='Daily Denied Transactions')\n",
    "plt.plot(pd.to_datetime(denials['date']),  [300 for i in range(denials.shape[0])], '--', color='red', alpha=0.6, label='_Expected Cut (300 a day)')\n",
    "\n",
    "sns.despine()\n",
    "plt.legend(loc='best')\n",
    "\n",
    "plt.ylim([0, 600])\n",
    "\n",
    "fig.tight_layout()  # otherwise the right y-label is slightly clipped"
   ]
  },
  {
   "cell_type": "markdown",
   "id": "60da02ae-7275-47b0-b10a-e4589feba902",
   "metadata": {},
   "source": [
    "This leaves us with a simple question: whats the fraud rate of the public with a score of more than 0.41?\n",
    "\n",
    "Even though I'm using the training set to check here, this could give us a great insight on the subject:"
   ]
  },
  {
   "cell_type": "code",
   "execution_count": 24,
   "id": "060c8c48-4085-4963-af10-2f8fd434359d",
   "metadata": {
    "tags": []
   },
   "outputs": [
    {
     "name": "stderr",
     "output_type": "stream",
     "text": [
      "Columns (15) have mixed types. Specify dtype option on import or set low_memory=False.\n"
     ]
    }
   ],
   "source": [
    "lt = pd.read_csv('files/labeled_transactions_enriched2.csv', sep=';')\n",
    "\n",
    "# Caught a typo on 03_Joins, will redo a step here just so I don't have to rerrun everything\n",
    "us_cols = ['us_inserted_at']\n",
    "lt.loc[pd.to_datetime(lt['us_inserted_at']) > pd.to_datetime(lt['processed_at']), us_cols] = None\n",
    "\n",
    "X_train = lt.drop(columns=['treated_user_id', 'is_fraud'])\n",
    "y_train = lt['is_fraud'].replace('True', '1').astype(int)"
   ]
  },
  {
   "cell_type": "code",
   "execution_count": 25,
   "id": "6e401207-07ca-4ffc-9155-32223641d719",
   "metadata": {
    "tags": []
   },
   "outputs": [
    {
     "name": "stdout",
     "output_type": "stream",
     "text": [
      "DayOfWeek and Hour Variables Created!\n",
      "OneHotEncode for var ac_owner_type Done!\n",
      "OneHotEncode for var omot_value Done!\n",
      "OneHotEncode for var age_range Done!\n",
      "DateDiffs regarding us_inserted_at timestamp created!\n",
      "DateDiffs regarding um_updated_at timestamp created!\n",
      "DateDiffs regarding um_inserted_at timestamp created!\n",
      "DateDiffs regarding og_inserted_at timestamp created!\n",
      "DateDiffs regarding omot_updated_at timestamp created!\n",
      "DateDiffs regarding omot_inserted_at timestamp created!\n",
      "DateDiffs regarding ac_inserted_at timestamp created!\n",
      "Nulls Filled With -999!\n",
      "9 vars removed due to low impact by the Boruta Step!\n",
      "Finished Scoring the Model!\n",
      "The whole scoring process took 7 seconds to run.\n"
     ]
    }
   ],
   "source": [
    "start_time = time.time()\n",
    "\n",
    "X_train = pipe.transform(X_train)\n",
    "\n",
    "print(\"The whole scoring process took {:.0f} seconds to run.\".format(time.time() - start_time))"
   ]
  },
  {
   "cell_type": "code",
   "execution_count": 26,
   "id": "937bc77c-1796-4ec9-b13f-cdf86f08e83f",
   "metadata": {
    "tags": []
   },
   "outputs": [],
   "source": [
    "X_train['denied'] = X_train['preds'].apply(lambda x: 'FurtherAnalysis' if x > 0.41 else 'GreenFlag')\n",
    "X_train['y_true'] = y_train\n",
    "\n",
    "denial_rate = X_train.groupby('denied').y_true.mean()"
   ]
  },
  {
   "cell_type": "code",
   "execution_count": 27,
   "id": "bf194847-29ae-4b8a-8fa1-f74cd5606e4a",
   "metadata": {
    "tags": []
   },
   "outputs": [
    {
     "data": {
      "text/plain": [
       "denied\n",
       "FurtherAnalysis    0.175798\n",
       "GreenFlag          0.000786\n",
       "Name: y_true, dtype: float64"
      ]
     },
     "execution_count": 27,
     "metadata": {},
     "output_type": "execute_result"
    }
   ],
   "source": [
    "denial_rate"
   ]
  },
  {
   "cell_type": "code",
   "execution_count": 28,
   "id": "b697b329-7463-4315-b313-73781c5a978d",
   "metadata": {
    "tags": []
   },
   "outputs": [
    {
     "data": {
      "text/plain": [
       "223.66181482278662"
      ]
     },
     "execution_count": 28,
     "metadata": {},
     "output_type": "execute_result"
    }
   ],
   "source": [
    "denial_rate.max()/denial_rate.min()"
   ]
  },
  {
   "cell_type": "markdown",
   "id": "2c30d2cf-4251-4dc2-bce6-01e23ae55bba",
   "metadata": {},
   "source": [
    "Having more than 1 in 6 chance of being a fraudulant transaction, and more than 200x riskier than the unflagged group, this policy could really help to relieve the analysis team and avoid fraudulent transactions to occur."
   ]
  }
 ],
 "metadata": {
  "availableInstances": [
   {
    "_defaultOrder": 0,
    "_isFastLaunch": true,
    "category": "General purpose",
    "gpuNum": 0,
    "hideHardwareSpecs": false,
    "memoryGiB": 4,
    "name": "ml.t3.medium",
    "vcpuNum": 2
   },
   {
    "_defaultOrder": 1,
    "_isFastLaunch": false,
    "category": "General purpose",
    "gpuNum": 0,
    "hideHardwareSpecs": false,
    "memoryGiB": 8,
    "name": "ml.t3.large",
    "vcpuNum": 2
   },
   {
    "_defaultOrder": 2,
    "_isFastLaunch": false,
    "category": "General purpose",
    "gpuNum": 0,
    "hideHardwareSpecs": false,
    "memoryGiB": 16,
    "name": "ml.t3.xlarge",
    "vcpuNum": 4
   },
   {
    "_defaultOrder": 3,
    "_isFastLaunch": false,
    "category": "General purpose",
    "gpuNum": 0,
    "hideHardwareSpecs": false,
    "memoryGiB": 32,
    "name": "ml.t3.2xlarge",
    "vcpuNum": 8
   },
   {
    "_defaultOrder": 4,
    "_isFastLaunch": true,
    "category": "General purpose",
    "gpuNum": 0,
    "hideHardwareSpecs": false,
    "memoryGiB": 8,
    "name": "ml.m5.large",
    "vcpuNum": 2
   },
   {
    "_defaultOrder": 5,
    "_isFastLaunch": false,
    "category": "General purpose",
    "gpuNum": 0,
    "hideHardwareSpecs": false,
    "memoryGiB": 16,
    "name": "ml.m5.xlarge",
    "vcpuNum": 4
   },
   {
    "_defaultOrder": 6,
    "_isFastLaunch": false,
    "category": "General purpose",
    "gpuNum": 0,
    "hideHardwareSpecs": false,
    "memoryGiB": 32,
    "name": "ml.m5.2xlarge",
    "vcpuNum": 8
   },
   {
    "_defaultOrder": 7,
    "_isFastLaunch": false,
    "category": "General purpose",
    "gpuNum": 0,
    "hideHardwareSpecs": false,
    "memoryGiB": 64,
    "name": "ml.m5.4xlarge",
    "vcpuNum": 16
   },
   {
    "_defaultOrder": 8,
    "_isFastLaunch": false,
    "category": "General purpose",
    "gpuNum": 0,
    "hideHardwareSpecs": false,
    "memoryGiB": 128,
    "name": "ml.m5.8xlarge",
    "vcpuNum": 32
   },
   {
    "_defaultOrder": 9,
    "_isFastLaunch": false,
    "category": "General purpose",
    "gpuNum": 0,
    "hideHardwareSpecs": false,
    "memoryGiB": 192,
    "name": "ml.m5.12xlarge",
    "vcpuNum": 48
   },
   {
    "_defaultOrder": 10,
    "_isFastLaunch": false,
    "category": "General purpose",
    "gpuNum": 0,
    "hideHardwareSpecs": false,
    "memoryGiB": 256,
    "name": "ml.m5.16xlarge",
    "vcpuNum": 64
   },
   {
    "_defaultOrder": 11,
    "_isFastLaunch": false,
    "category": "General purpose",
    "gpuNum": 0,
    "hideHardwareSpecs": false,
    "memoryGiB": 384,
    "name": "ml.m5.24xlarge",
    "vcpuNum": 96
   },
   {
    "_defaultOrder": 12,
    "_isFastLaunch": false,
    "category": "General purpose",
    "gpuNum": 0,
    "hideHardwareSpecs": false,
    "memoryGiB": 8,
    "name": "ml.m5d.large",
    "vcpuNum": 2
   },
   {
    "_defaultOrder": 13,
    "_isFastLaunch": false,
    "category": "General purpose",
    "gpuNum": 0,
    "hideHardwareSpecs": false,
    "memoryGiB": 16,
    "name": "ml.m5d.xlarge",
    "vcpuNum": 4
   },
   {
    "_defaultOrder": 14,
    "_isFastLaunch": false,
    "category": "General purpose",
    "gpuNum": 0,
    "hideHardwareSpecs": false,
    "memoryGiB": 32,
    "name": "ml.m5d.2xlarge",
    "vcpuNum": 8
   },
   {
    "_defaultOrder": 15,
    "_isFastLaunch": false,
    "category": "General purpose",
    "gpuNum": 0,
    "hideHardwareSpecs": false,
    "memoryGiB": 64,
    "name": "ml.m5d.4xlarge",
    "vcpuNum": 16
   },
   {
    "_defaultOrder": 16,
    "_isFastLaunch": false,
    "category": "General purpose",
    "gpuNum": 0,
    "hideHardwareSpecs": false,
    "memoryGiB": 128,
    "name": "ml.m5d.8xlarge",
    "vcpuNum": 32
   },
   {
    "_defaultOrder": 17,
    "_isFastLaunch": false,
    "category": "General purpose",
    "gpuNum": 0,
    "hideHardwareSpecs": false,
    "memoryGiB": 192,
    "name": "ml.m5d.12xlarge",
    "vcpuNum": 48
   },
   {
    "_defaultOrder": 18,
    "_isFastLaunch": false,
    "category": "General purpose",
    "gpuNum": 0,
    "hideHardwareSpecs": false,
    "memoryGiB": 256,
    "name": "ml.m5d.16xlarge",
    "vcpuNum": 64
   },
   {
    "_defaultOrder": 19,
    "_isFastLaunch": false,
    "category": "General purpose",
    "gpuNum": 0,
    "hideHardwareSpecs": false,
    "memoryGiB": 384,
    "name": "ml.m5d.24xlarge",
    "vcpuNum": 96
   },
   {
    "_defaultOrder": 20,
    "_isFastLaunch": false,
    "category": "General purpose",
    "gpuNum": 0,
    "hideHardwareSpecs": true,
    "memoryGiB": 0,
    "name": "ml.geospatial.interactive",
    "supportedImageNames": [
     "sagemaker-geospatial-v1-0"
    ],
    "vcpuNum": 0
   },
   {
    "_defaultOrder": 21,
    "_isFastLaunch": true,
    "category": "Compute optimized",
    "gpuNum": 0,
    "hideHardwareSpecs": false,
    "memoryGiB": 4,
    "name": "ml.c5.large",
    "vcpuNum": 2
   },
   {
    "_defaultOrder": 22,
    "_isFastLaunch": false,
    "category": "Compute optimized",
    "gpuNum": 0,
    "hideHardwareSpecs": false,
    "memoryGiB": 8,
    "name": "ml.c5.xlarge",
    "vcpuNum": 4
   },
   {
    "_defaultOrder": 23,
    "_isFastLaunch": false,
    "category": "Compute optimized",
    "gpuNum": 0,
    "hideHardwareSpecs": false,
    "memoryGiB": 16,
    "name": "ml.c5.2xlarge",
    "vcpuNum": 8
   },
   {
    "_defaultOrder": 24,
    "_isFastLaunch": false,
    "category": "Compute optimized",
    "gpuNum": 0,
    "hideHardwareSpecs": false,
    "memoryGiB": 32,
    "name": "ml.c5.4xlarge",
    "vcpuNum": 16
   },
   {
    "_defaultOrder": 25,
    "_isFastLaunch": false,
    "category": "Compute optimized",
    "gpuNum": 0,
    "hideHardwareSpecs": false,
    "memoryGiB": 72,
    "name": "ml.c5.9xlarge",
    "vcpuNum": 36
   },
   {
    "_defaultOrder": 26,
    "_isFastLaunch": false,
    "category": "Compute optimized",
    "gpuNum": 0,
    "hideHardwareSpecs": false,
    "memoryGiB": 96,
    "name": "ml.c5.12xlarge",
    "vcpuNum": 48
   },
   {
    "_defaultOrder": 27,
    "_isFastLaunch": false,
    "category": "Compute optimized",
    "gpuNum": 0,
    "hideHardwareSpecs": false,
    "memoryGiB": 144,
    "name": "ml.c5.18xlarge",
    "vcpuNum": 72
   },
   {
    "_defaultOrder": 28,
    "_isFastLaunch": false,
    "category": "Compute optimized",
    "gpuNum": 0,
    "hideHardwareSpecs": false,
    "memoryGiB": 192,
    "name": "ml.c5.24xlarge",
    "vcpuNum": 96
   },
   {
    "_defaultOrder": 29,
    "_isFastLaunch": true,
    "category": "Accelerated computing",
    "gpuNum": 1,
    "hideHardwareSpecs": false,
    "memoryGiB": 16,
    "name": "ml.g4dn.xlarge",
    "vcpuNum": 4
   },
   {
    "_defaultOrder": 30,
    "_isFastLaunch": false,
    "category": "Accelerated computing",
    "gpuNum": 1,
    "hideHardwareSpecs": false,
    "memoryGiB": 32,
    "name": "ml.g4dn.2xlarge",
    "vcpuNum": 8
   },
   {
    "_defaultOrder": 31,
    "_isFastLaunch": false,
    "category": "Accelerated computing",
    "gpuNum": 1,
    "hideHardwareSpecs": false,
    "memoryGiB": 64,
    "name": "ml.g4dn.4xlarge",
    "vcpuNum": 16
   },
   {
    "_defaultOrder": 32,
    "_isFastLaunch": false,
    "category": "Accelerated computing",
    "gpuNum": 1,
    "hideHardwareSpecs": false,
    "memoryGiB": 128,
    "name": "ml.g4dn.8xlarge",
    "vcpuNum": 32
   },
   {
    "_defaultOrder": 33,
    "_isFastLaunch": false,
    "category": "Accelerated computing",
    "gpuNum": 4,
    "hideHardwareSpecs": false,
    "memoryGiB": 192,
    "name": "ml.g4dn.12xlarge",
    "vcpuNum": 48
   },
   {
    "_defaultOrder": 34,
    "_isFastLaunch": false,
    "category": "Accelerated computing",
    "gpuNum": 1,
    "hideHardwareSpecs": false,
    "memoryGiB": 256,
    "name": "ml.g4dn.16xlarge",
    "vcpuNum": 64
   },
   {
    "_defaultOrder": 35,
    "_isFastLaunch": false,
    "category": "Accelerated computing",
    "gpuNum": 1,
    "hideHardwareSpecs": false,
    "memoryGiB": 61,
    "name": "ml.p3.2xlarge",
    "vcpuNum": 8
   },
   {
    "_defaultOrder": 36,
    "_isFastLaunch": false,
    "category": "Accelerated computing",
    "gpuNum": 4,
    "hideHardwareSpecs": false,
    "memoryGiB": 244,
    "name": "ml.p3.8xlarge",
    "vcpuNum": 32
   },
   {
    "_defaultOrder": 37,
    "_isFastLaunch": false,
    "category": "Accelerated computing",
    "gpuNum": 8,
    "hideHardwareSpecs": false,
    "memoryGiB": 488,
    "name": "ml.p3.16xlarge",
    "vcpuNum": 64
   },
   {
    "_defaultOrder": 38,
    "_isFastLaunch": false,
    "category": "Accelerated computing",
    "gpuNum": 8,
    "hideHardwareSpecs": false,
    "memoryGiB": 768,
    "name": "ml.p3dn.24xlarge",
    "vcpuNum": 96
   },
   {
    "_defaultOrder": 39,
    "_isFastLaunch": false,
    "category": "Memory Optimized",
    "gpuNum": 0,
    "hideHardwareSpecs": false,
    "memoryGiB": 16,
    "name": "ml.r5.large",
    "vcpuNum": 2
   },
   {
    "_defaultOrder": 40,
    "_isFastLaunch": false,
    "category": "Memory Optimized",
    "gpuNum": 0,
    "hideHardwareSpecs": false,
    "memoryGiB": 32,
    "name": "ml.r5.xlarge",
    "vcpuNum": 4
   },
   {
    "_defaultOrder": 41,
    "_isFastLaunch": false,
    "category": "Memory Optimized",
    "gpuNum": 0,
    "hideHardwareSpecs": false,
    "memoryGiB": 64,
    "name": "ml.r5.2xlarge",
    "vcpuNum": 8
   },
   {
    "_defaultOrder": 42,
    "_isFastLaunch": false,
    "category": "Memory Optimized",
    "gpuNum": 0,
    "hideHardwareSpecs": false,
    "memoryGiB": 128,
    "name": "ml.r5.4xlarge",
    "vcpuNum": 16
   },
   {
    "_defaultOrder": 43,
    "_isFastLaunch": false,
    "category": "Memory Optimized",
    "gpuNum": 0,
    "hideHardwareSpecs": false,
    "memoryGiB": 256,
    "name": "ml.r5.8xlarge",
    "vcpuNum": 32
   },
   {
    "_defaultOrder": 44,
    "_isFastLaunch": false,
    "category": "Memory Optimized",
    "gpuNum": 0,
    "hideHardwareSpecs": false,
    "memoryGiB": 384,
    "name": "ml.r5.12xlarge",
    "vcpuNum": 48
   },
   {
    "_defaultOrder": 45,
    "_isFastLaunch": false,
    "category": "Memory Optimized",
    "gpuNum": 0,
    "hideHardwareSpecs": false,
    "memoryGiB": 512,
    "name": "ml.r5.16xlarge",
    "vcpuNum": 64
   },
   {
    "_defaultOrder": 46,
    "_isFastLaunch": false,
    "category": "Memory Optimized",
    "gpuNum": 0,
    "hideHardwareSpecs": false,
    "memoryGiB": 768,
    "name": "ml.r5.24xlarge",
    "vcpuNum": 96
   },
   {
    "_defaultOrder": 47,
    "_isFastLaunch": false,
    "category": "Accelerated computing",
    "gpuNum": 1,
    "hideHardwareSpecs": false,
    "memoryGiB": 16,
    "name": "ml.g5.xlarge",
    "vcpuNum": 4
   },
   {
    "_defaultOrder": 48,
    "_isFastLaunch": false,
    "category": "Accelerated computing",
    "gpuNum": 1,
    "hideHardwareSpecs": false,
    "memoryGiB": 32,
    "name": "ml.g5.2xlarge",
    "vcpuNum": 8
   },
   {
    "_defaultOrder": 49,
    "_isFastLaunch": false,
    "category": "Accelerated computing",
    "gpuNum": 1,
    "hideHardwareSpecs": false,
    "memoryGiB": 64,
    "name": "ml.g5.4xlarge",
    "vcpuNum": 16
   },
   {
    "_defaultOrder": 50,
    "_isFastLaunch": false,
    "category": "Accelerated computing",
    "gpuNum": 1,
    "hideHardwareSpecs": false,
    "memoryGiB": 128,
    "name": "ml.g5.8xlarge",
    "vcpuNum": 32
   },
   {
    "_defaultOrder": 51,
    "_isFastLaunch": false,
    "category": "Accelerated computing",
    "gpuNum": 1,
    "hideHardwareSpecs": false,
    "memoryGiB": 256,
    "name": "ml.g5.16xlarge",
    "vcpuNum": 64
   },
   {
    "_defaultOrder": 52,
    "_isFastLaunch": false,
    "category": "Accelerated computing",
    "gpuNum": 4,
    "hideHardwareSpecs": false,
    "memoryGiB": 192,
    "name": "ml.g5.12xlarge",
    "vcpuNum": 48
   },
   {
    "_defaultOrder": 53,
    "_isFastLaunch": false,
    "category": "Accelerated computing",
    "gpuNum": 4,
    "hideHardwareSpecs": false,
    "memoryGiB": 384,
    "name": "ml.g5.24xlarge",
    "vcpuNum": 96
   },
   {
    "_defaultOrder": 54,
    "_isFastLaunch": false,
    "category": "Accelerated computing",
    "gpuNum": 8,
    "hideHardwareSpecs": false,
    "memoryGiB": 768,
    "name": "ml.g5.48xlarge",
    "vcpuNum": 192
   },
   {
    "_defaultOrder": 55,
    "_isFastLaunch": false,
    "category": "Accelerated computing",
    "gpuNum": 8,
    "hideHardwareSpecs": false,
    "memoryGiB": 1152,
    "name": "ml.p4d.24xlarge",
    "vcpuNum": 96
   },
   {
    "_defaultOrder": 56,
    "_isFastLaunch": false,
    "category": "Accelerated computing",
    "gpuNum": 8,
    "hideHardwareSpecs": false,
    "memoryGiB": 1152,
    "name": "ml.p4de.24xlarge",
    "vcpuNum": 96
   }
  ],
  "instance_type": "ml.t3.medium",
  "kernelspec": {
   "display_name": "Python 3 (Data Science 3.0)",
   "language": "python",
   "name": "python3__SAGEMAKER_INTERNAL__arn:aws:sagemaker:us-east-1:081325390199:image/sagemaker-data-science-310-v1"
  },
  "language_info": {
   "codemirror_mode": {
    "name": "ipython",
    "version": 3
   },
   "file_extension": ".py",
   "mimetype": "text/x-python",
   "name": "python",
   "nbconvert_exporter": "python",
   "pygments_lexer": "ipython3",
   "version": "3.10.6"
  }
 },
 "nbformat": 4,
 "nbformat_minor": 5
}
