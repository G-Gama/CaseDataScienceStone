{
 "cells": [
  {
   "cell_type": "markdown",
   "id": "c29ba2b1-a1a2-41fb-b80c-72311702eaf2",
   "metadata": {},
   "source": [
    "# In This Notebook\n",
    "\n",
    "In this notebook, I'll create some books regarding the customer behavior and denylists. In a production environment, these books could be consulted by creating and Kafka topic that get the necessary data and consulting it, or even a batch process that is orquestrated via airflow and feeds a MongoDB, which can be read by an API. Since doing these would take a lot of time, I'll just assume the data will be sent by the request when developing my model."
   ]
  },
  {
   "cell_type": "code",
   "execution_count": 2,
   "id": "3c7e18f8-b758-47b1-96f2-53b3ddc827ed",
   "metadata": {
    "tags": []
   },
   "outputs": [],
   "source": [
    "import pandas as pd\n",
    "import numpy as np\n",
    "from matplotlib import pyplot as plt\n",
    "import seaborn as sns"
   ]
  },
  {
   "cell_type": "code",
   "execution_count": 3,
   "id": "b48ec1e5-949a-4d27-bc9d-d5d8edc963ea",
   "metadata": {
    "tags": []
   },
   "outputs": [],
   "source": [
    "keep_cols = [\n",
    "    'treated_user_id', \n",
    "    'amount', \n",
    "    'processed_at', \n",
    "    'ac_owner_type',\n",
    "    'ac_inserted_at', \n",
    "    'uo_flag_many_orgs',  \n",
    "    'omot_value', \n",
    "    'omot_inserted_at',\n",
    "    'omot_updated_at', \n",
    "    'og_inserted_at', \n",
    "    'um_inserted_at', \n",
    "    'um_updated_at',\n",
    "    'age_range', \n",
    "    'number_of_selfies_sent', \n",
    "    'us_inserted_at',\n",
    "]"
   ]
  },
  {
   "cell_type": "code",
   "execution_count": 4,
   "id": "42d2ad16-8feb-4d2b-ab2c-3fb8c206d5ab",
   "metadata": {
    "tags": []
   },
   "outputs": [
    {
     "name": "stderr",
     "output_type": "stream",
     "text": [
      "/tmp/ipykernel_11131/3033762708.py:1: DtypeWarning: Columns (15) have mixed types. Specify dtype option on import or set low_memory=False.\n",
      "  lt = pd.read_csv('files/labeled_transactions_enriched.csv', sep=';')[keep_cols+['is_fraud']]\n"
     ]
    }
   ],
   "source": [
    "lt = pd.read_csv('files/labeled_transactions_enriched.csv', sep=';')[keep_cols+['is_fraud']]"
   ]
  },
  {
   "cell_type": "code",
   "execution_count": 5,
   "id": "2ccf1c2f-d37a-4ffc-99bb-c9c27e9d68a7",
   "metadata": {
    "tags": []
   },
   "outputs": [
    {
     "data": {
      "text/html": [
       "<div>\n",
       "<style scoped>\n",
       "    .dataframe tbody tr th:only-of-type {\n",
       "        vertical-align: middle;\n",
       "    }\n",
       "\n",
       "    .dataframe tbody tr th {\n",
       "        vertical-align: top;\n",
       "    }\n",
       "\n",
       "    .dataframe thead th {\n",
       "        text-align: right;\n",
       "    }\n",
       "</style>\n",
       "<table border=\"1\" class=\"dataframe\">\n",
       "  <thead>\n",
       "    <tr style=\"text-align: right;\">\n",
       "      <th></th>\n",
       "      <th>treated_user_id</th>\n",
       "      <th>amount</th>\n",
       "      <th>processed_at</th>\n",
       "      <th>ac_owner_type</th>\n",
       "      <th>ac_inserted_at</th>\n",
       "      <th>uo_flag_many_orgs</th>\n",
       "      <th>omot_value</th>\n",
       "      <th>omot_inserted_at</th>\n",
       "      <th>omot_updated_at</th>\n",
       "      <th>og_inserted_at</th>\n",
       "      <th>um_inserted_at</th>\n",
       "      <th>um_updated_at</th>\n",
       "      <th>age_range</th>\n",
       "      <th>number_of_selfies_sent</th>\n",
       "      <th>us_inserted_at</th>\n",
       "      <th>is_fraud</th>\n",
       "    </tr>\n",
       "  </thead>\n",
       "  <tbody>\n",
       "    <tr>\n",
       "      <th>0</th>\n",
       "      <td>a3c9aab8-8569-4c50-85a1-24d94c2fb0d1</td>\n",
       "      <td>9.932046e-05</td>\n",
       "      <td>2018-11-21 15:41:23</td>\n",
       "      <td>organization</td>\n",
       "      <td>2018-11-11 11:42:21.569236</td>\n",
       "      <td>1.0</td>\n",
       "      <td>EPP</td>\n",
       "      <td>2018-11-11 11:42:20.049020</td>\n",
       "      <td>2018-11-11 11:42:20.049020</td>\n",
       "      <td>2018-11-11 11:42:17.070072</td>\n",
       "      <td>NaN</td>\n",
       "      <td>NaN</td>\n",
       "      <td>NaN</td>\n",
       "      <td>5.0</td>\n",
       "      <td>2018-11-11 11:42:16.661117</td>\n",
       "      <td>NaN</td>\n",
       "    </tr>\n",
       "    <tr>\n",
       "      <th>1</th>\n",
       "      <td>a8339829-8163-49dd-a881-c3f5ca407a94</td>\n",
       "      <td>1.285222e-05</td>\n",
       "      <td>2018-10-22 23:43:38</td>\n",
       "      <td>organization</td>\n",
       "      <td>2018-07-02 20:08:21.256596</td>\n",
       "      <td>1.0</td>\n",
       "      <td>EPP</td>\n",
       "      <td>2018-07-02 20:08:17.474345</td>\n",
       "      <td>2018-08-24 16:28:02.057540</td>\n",
       "      <td>2018-07-02 20:08:17.093421</td>\n",
       "      <td>2018-07-02 20:15:32.540356</td>\n",
       "      <td>2018-07-02 20:15:32.540356</td>\n",
       "      <td>&gt;= 60</td>\n",
       "      <td>5.0</td>\n",
       "      <td>2018-07-02 20:08:16.699874</td>\n",
       "      <td>NaN</td>\n",
       "    </tr>\n",
       "    <tr>\n",
       "      <th>2</th>\n",
       "      <td>a8339829-8163-49dd-a881-c3f5ca407a94</td>\n",
       "      <td>1.582566e-05</td>\n",
       "      <td>2018-11-19 16:12:00</td>\n",
       "      <td>organization</td>\n",
       "      <td>2018-07-02 20:08:21.256596</td>\n",
       "      <td>1.0</td>\n",
       "      <td>EPP</td>\n",
       "      <td>2018-07-02 20:08:17.474345</td>\n",
       "      <td>2018-08-24 16:28:02.057540</td>\n",
       "      <td>2018-07-02 20:08:17.093421</td>\n",
       "      <td>2018-07-02 20:15:32.540356</td>\n",
       "      <td>2018-07-02 20:15:32.540356</td>\n",
       "      <td>&gt;= 60</td>\n",
       "      <td>5.0</td>\n",
       "      <td>2018-07-02 20:08:16.699874</td>\n",
       "      <td>NaN</td>\n",
       "    </tr>\n",
       "    <tr>\n",
       "      <th>3</th>\n",
       "      <td>a8339829-8163-49dd-a881-c3f5ca407a94</td>\n",
       "      <td>5.672962e-07</td>\n",
       "      <td>2018-10-29 15:20:49</td>\n",
       "      <td>organization</td>\n",
       "      <td>2018-07-02 20:08:21.256596</td>\n",
       "      <td>1.0</td>\n",
       "      <td>EPP</td>\n",
       "      <td>2018-07-02 20:08:17.474345</td>\n",
       "      <td>2018-08-24 16:28:02.057540</td>\n",
       "      <td>2018-07-02 20:08:17.093421</td>\n",
       "      <td>2018-07-02 20:15:32.540356</td>\n",
       "      <td>2018-07-02 20:15:32.540356</td>\n",
       "      <td>&gt;= 60</td>\n",
       "      <td>5.0</td>\n",
       "      <td>2018-07-02 20:08:16.699874</td>\n",
       "      <td>NaN</td>\n",
       "    </tr>\n",
       "    <tr>\n",
       "      <th>4</th>\n",
       "      <td>a8339829-8163-49dd-a881-c3f5ca407a94</td>\n",
       "      <td>4.470917e-05</td>\n",
       "      <td>2018-10-31 12:06:08</td>\n",
       "      <td>organization</td>\n",
       "      <td>2018-07-02 20:08:21.256596</td>\n",
       "      <td>1.0</td>\n",
       "      <td>EPP</td>\n",
       "      <td>2018-07-02 20:08:17.474345</td>\n",
       "      <td>2018-08-24 16:28:02.057540</td>\n",
       "      <td>2018-07-02 20:08:17.093421</td>\n",
       "      <td>2018-07-02 20:15:32.540356</td>\n",
       "      <td>2018-07-02 20:15:32.540356</td>\n",
       "      <td>&gt;= 60</td>\n",
       "      <td>5.0</td>\n",
       "      <td>2018-07-02 20:08:16.699874</td>\n",
       "      <td>NaN</td>\n",
       "    </tr>\n",
       "  </tbody>\n",
       "</table>\n",
       "</div>"
      ],
      "text/plain": [
       "                        treated_user_id        amount         processed_at  \\\n",
       "0  a3c9aab8-8569-4c50-85a1-24d94c2fb0d1  9.932046e-05  2018-11-21 15:41:23   \n",
       "1  a8339829-8163-49dd-a881-c3f5ca407a94  1.285222e-05  2018-10-22 23:43:38   \n",
       "2  a8339829-8163-49dd-a881-c3f5ca407a94  1.582566e-05  2018-11-19 16:12:00   \n",
       "3  a8339829-8163-49dd-a881-c3f5ca407a94  5.672962e-07  2018-10-29 15:20:49   \n",
       "4  a8339829-8163-49dd-a881-c3f5ca407a94  4.470917e-05  2018-10-31 12:06:08   \n",
       "\n",
       "  ac_owner_type              ac_inserted_at  uo_flag_many_orgs omot_value  \\\n",
       "0  organization  2018-11-11 11:42:21.569236                1.0        EPP   \n",
       "1  organization  2018-07-02 20:08:21.256596                1.0        EPP   \n",
       "2  organization  2018-07-02 20:08:21.256596                1.0        EPP   \n",
       "3  organization  2018-07-02 20:08:21.256596                1.0        EPP   \n",
       "4  organization  2018-07-02 20:08:21.256596                1.0        EPP   \n",
       "\n",
       "             omot_inserted_at             omot_updated_at  \\\n",
       "0  2018-11-11 11:42:20.049020  2018-11-11 11:42:20.049020   \n",
       "1  2018-07-02 20:08:17.474345  2018-08-24 16:28:02.057540   \n",
       "2  2018-07-02 20:08:17.474345  2018-08-24 16:28:02.057540   \n",
       "3  2018-07-02 20:08:17.474345  2018-08-24 16:28:02.057540   \n",
       "4  2018-07-02 20:08:17.474345  2018-08-24 16:28:02.057540   \n",
       "\n",
       "               og_inserted_at              um_inserted_at  \\\n",
       "0  2018-11-11 11:42:17.070072                         NaN   \n",
       "1  2018-07-02 20:08:17.093421  2018-07-02 20:15:32.540356   \n",
       "2  2018-07-02 20:08:17.093421  2018-07-02 20:15:32.540356   \n",
       "3  2018-07-02 20:08:17.093421  2018-07-02 20:15:32.540356   \n",
       "4  2018-07-02 20:08:17.093421  2018-07-02 20:15:32.540356   \n",
       "\n",
       "                um_updated_at age_range  number_of_selfies_sent  \\\n",
       "0                         NaN       NaN                     5.0   \n",
       "1  2018-07-02 20:15:32.540356     >= 60                     5.0   \n",
       "2  2018-07-02 20:15:32.540356     >= 60                     5.0   \n",
       "3  2018-07-02 20:15:32.540356     >= 60                     5.0   \n",
       "4  2018-07-02 20:15:32.540356     >= 60                     5.0   \n",
       "\n",
       "               us_inserted_at is_fraud  \n",
       "0  2018-11-11 11:42:16.661117      NaN  \n",
       "1  2018-07-02 20:08:16.699874      NaN  \n",
       "2  2018-07-02 20:08:16.699874      NaN  \n",
       "3  2018-07-02 20:08:16.699874      NaN  \n",
       "4  2018-07-02 20:08:16.699874      NaN  "
      ]
     },
     "execution_count": 5,
     "metadata": {},
     "output_type": "execute_result"
    }
   ],
   "source": [
    "lt.head()"
   ]
  },
  {
   "cell_type": "code",
   "execution_count": 6,
   "id": "f1656a4d-22c4-4973-a312-2ec020fb434d",
   "metadata": {
    "tags": []
   },
   "outputs": [
    {
     "data": {
      "text/plain": [
       "treated_user_id           0.015312\n",
       "amount                    0.000000\n",
       "processed_at              0.000000\n",
       "ac_owner_type             0.000000\n",
       "ac_inserted_at            0.000000\n",
       "uo_flag_many_orgs         0.125484\n",
       "omot_value                0.285591\n",
       "omot_inserted_at          0.226773\n",
       "omot_updated_at           0.226773\n",
       "og_inserted_at            0.111149\n",
       "um_inserted_at            0.132238\n",
       "um_updated_at             0.132238\n",
       "age_range                 0.132407\n",
       "number_of_selfies_sent    0.015317\n",
       "us_inserted_at            0.015326\n",
       "is_fraud                  0.998369\n",
       "dtype: float64"
      ]
     },
     "execution_count": 6,
     "metadata": {},
     "output_type": "execute_result"
    }
   ],
   "source": [
    "lt.isna().mean()"
   ]
  },
  {
   "cell_type": "code",
   "execution_count": 7,
   "id": "1d1c2262-5652-4bb0-9a22-868c3c02ceef",
   "metadata": {
    "tags": []
   },
   "outputs": [],
   "source": [
    "lt['is_fraud'] = lt['is_fraud'].fillna(0)"
   ]
  },
  {
   "cell_type": "markdown",
   "id": "3b0d2563-38b0-46b0-93d6-2f54cce0dc92",
   "metadata": {},
   "source": [
    "# Denylist\n",
    "\n",
    "I intend to create a Denylist, that would not work as a model: I'll create a flag that indicates if, at the time of the fraud, the user has been associated with some fraudulent transaction in the past. I believe it will be a very good feature, if it is, I'll use it as an hard cut instead of feeding the transactions to the model.\n",
    "\n",
    "Even though sometimes we can have medians of up to 20 days between a fraud and the moment it was reported, since I don't have this report-moment on the dataframe, I'll use the processed_at (moment the transaction was processed)."
   ]
  },
  {
   "cell_type": "code",
   "execution_count": 8,
   "id": "bd54adb1-037b-494c-9a49-0ffd8673d88c",
   "metadata": {
    "tags": []
   },
   "outputs": [
    {
     "data": {
      "text/html": [
       "<div>\n",
       "<style scoped>\n",
       "    .dataframe tbody tr th:only-of-type {\n",
       "        vertical-align: middle;\n",
       "    }\n",
       "\n",
       "    .dataframe tbody tr th {\n",
       "        vertical-align: top;\n",
       "    }\n",
       "\n",
       "    .dataframe thead th {\n",
       "        text-align: right;\n",
       "    }\n",
       "</style>\n",
       "<table border=\"1\" class=\"dataframe\">\n",
       "  <thead>\n",
       "    <tr style=\"text-align: right;\">\n",
       "      <th></th>\n",
       "      <th>treated_user_id</th>\n",
       "      <th>denylisted_at</th>\n",
       "      <th>denylisted</th>\n",
       "    </tr>\n",
       "  </thead>\n",
       "  <tbody>\n",
       "    <tr>\n",
       "      <th>0</th>\n",
       "      <td>00a97c12-1222-4903-82ea-ab9c1961ff27</td>\n",
       "      <td>2018-10-19 19:14:12</td>\n",
       "      <td>1</td>\n",
       "    </tr>\n",
       "    <tr>\n",
       "      <th>1</th>\n",
       "      <td>02848250-b706-43e5-b81d-ca5e80b15d7d</td>\n",
       "      <td>2018-11-05 11:49:08</td>\n",
       "      <td>1</td>\n",
       "    </tr>\n",
       "    <tr>\n",
       "      <th>2</th>\n",
       "      <td>02a00bcb-a39a-4741-bcaf-b6b3ef6ab8c2</td>\n",
       "      <td>2018-10-18 15:14:32</td>\n",
       "      <td>1</td>\n",
       "    </tr>\n",
       "    <tr>\n",
       "      <th>3</th>\n",
       "      <td>03498637-2712-4410-a683-aaa6b0776dbb</td>\n",
       "      <td>2018-11-15 12:18:35</td>\n",
       "      <td>1</td>\n",
       "    </tr>\n",
       "    <tr>\n",
       "      <th>4</th>\n",
       "      <td>0362e038-0223-4b9e-a864-33b1a74cac62</td>\n",
       "      <td>2018-11-19 11:28:15</td>\n",
       "      <td>1</td>\n",
       "    </tr>\n",
       "    <tr>\n",
       "      <th>...</th>\n",
       "      <td>...</td>\n",
       "      <td>...</td>\n",
       "      <td>...</td>\n",
       "    </tr>\n",
       "    <tr>\n",
       "      <th>604</th>\n",
       "      <td>feb64fd1-8cfb-4bd2-8c74-fe71ed166cf1</td>\n",
       "      <td>2018-11-15 20:06:52</td>\n",
       "      <td>1</td>\n",
       "    </tr>\n",
       "    <tr>\n",
       "      <th>605</th>\n",
       "      <td>fec7c414-a9be-4e17-b97a-3c75701f0098</td>\n",
       "      <td>2018-10-29 12:55:11</td>\n",
       "      <td>1</td>\n",
       "    </tr>\n",
       "    <tr>\n",
       "      <th>606</th>\n",
       "      <td>feff421e-4393-42f6-8eb0-d976bed6bf14</td>\n",
       "      <td>2018-10-30 13:31:35</td>\n",
       "      <td>1</td>\n",
       "    </tr>\n",
       "    <tr>\n",
       "      <th>607</th>\n",
       "      <td>ff57b119-9dc4-4fa2-a825-8519f86d34bd</td>\n",
       "      <td>2018-10-18 19:29:16</td>\n",
       "      <td>1</td>\n",
       "    </tr>\n",
       "    <tr>\n",
       "      <th>608</th>\n",
       "      <td>ff775467-a123-49b7-aef3-6e1e7d6ca9c2</td>\n",
       "      <td>2018-11-06 18:50:42</td>\n",
       "      <td>1</td>\n",
       "    </tr>\n",
       "  </tbody>\n",
       "</table>\n",
       "<p>609 rows × 3 columns</p>\n",
       "</div>"
      ],
      "text/plain": [
       "                          treated_user_id        denylisted_at  denylisted\n",
       "0    00a97c12-1222-4903-82ea-ab9c1961ff27  2018-10-19 19:14:12           1\n",
       "1    02848250-b706-43e5-b81d-ca5e80b15d7d  2018-11-05 11:49:08           1\n",
       "2    02a00bcb-a39a-4741-bcaf-b6b3ef6ab8c2  2018-10-18 15:14:32           1\n",
       "3    03498637-2712-4410-a683-aaa6b0776dbb  2018-11-15 12:18:35           1\n",
       "4    0362e038-0223-4b9e-a864-33b1a74cac62  2018-11-19 11:28:15           1\n",
       "..                                    ...                  ...         ...\n",
       "604  feb64fd1-8cfb-4bd2-8c74-fe71ed166cf1  2018-11-15 20:06:52           1\n",
       "605  fec7c414-a9be-4e17-b97a-3c75701f0098  2018-10-29 12:55:11           1\n",
       "606  feff421e-4393-42f6-8eb0-d976bed6bf14  2018-10-30 13:31:35           1\n",
       "607  ff57b119-9dc4-4fa2-a825-8519f86d34bd  2018-10-18 19:29:16           1\n",
       "608  ff775467-a123-49b7-aef3-6e1e7d6ca9c2  2018-11-06 18:50:42           1\n",
       "\n",
       "[609 rows x 3 columns]"
      ]
     },
     "execution_count": 8,
     "metadata": {},
     "output_type": "execute_result"
    }
   ],
   "source": [
    "denylist = lt[lt.is_fraud == 1]\n",
    "denylist = denylist.groupby('treated_user_id').agg(\n",
    "    denylisted_at = pd.NamedAgg('processed_at', 'min')\n",
    ").reset_index()\n",
    "denylist['denylisted'] = 1\n",
    "\n",
    "denylist"
   ]
  },
  {
   "cell_type": "code",
   "execution_count": 9,
   "id": "42460dad-1232-493e-82de-70633c36ff34",
   "metadata": {
    "tags": []
   },
   "outputs": [],
   "source": [
    "def get_denylist(df, denylist=denylist, left_uid='treated_user_id', left_timestamp='processed_at'):\n",
    "    \"\"\"\n",
    "    We could do better by checking if the left col has columns named 'denylisted_at'\n",
    "    or 'denylisted', but this should be sufficiently efficient.\n",
    "    \"\"\"\n",
    "    \n",
    "    df2 = df.copy(deep=True)\n",
    "    df2 = df2.merge(denylist, left_on=left_uid, right_on='treated_user_id', how='left')\n",
    "    df2['diff_to_denylisted'] = (pd.to_datetime(df2[left_timestamp]) - pd.to_datetime(df2.denylisted_at)).dt.total_seconds()\n",
    "    df2.loc[(df2.denylisted == 1)&(df2.diff_to_denylisted <= 0), 'denylisted'] = 0\n",
    "    df2['denylisted'] = df2['denylisted'].fillna(0)\n",
    "    df2.drop(columns=['diff_to_denylisted'])\n",
    "    \n",
    "    return df2"
   ]
  },
  {
   "cell_type": "code",
   "execution_count": 10,
   "id": "28a2517e-a035-4f47-be0f-dc1edf4296af",
   "metadata": {
    "tags": []
   },
   "outputs": [],
   "source": [
    "lt2 = get_denylist(lt)"
   ]
  },
  {
   "cell_type": "code",
   "execution_count": 11,
   "id": "34a3a393-e0ae-44b0-a225-e076342cdb56",
   "metadata": {
    "tags": []
   },
   "outputs": [
    {
     "data": {
      "text/plain": [
       "denylisted\n",
       "0.0    0.000790\n",
       "1.0    0.113146\n",
       "Name: is_fraud, dtype: float64"
      ]
     },
     "execution_count": 11,
     "metadata": {},
     "output_type": "execute_result"
    }
   ],
   "source": [
    "lt2.groupby('denylisted').is_fraud.mean()"
   ]
  },
  {
   "cell_type": "code",
   "execution_count": 12,
   "id": "f0d3cb80-701a-4c8c-a87e-1823183a652d",
   "metadata": {
    "tags": []
   },
   "outputs": [
    {
     "data": {
      "text/plain": [
       "denylisted\n",
       "0.0    738\n",
       "1.0    797\n",
       "Name: is_fraud, dtype: object"
      ]
     },
     "execution_count": 12,
     "metadata": {},
     "output_type": "execute_result"
    }
   ],
   "source": [
    "lt2.groupby('denylisted').is_fraud.sum()"
   ]
  },
  {
   "cell_type": "code",
   "execution_count": 13,
   "id": "519bdd94-9c91-4dcf-bf34-5f52cd56e473",
   "metadata": {
    "tags": []
   },
   "outputs": [
    {
     "data": {
      "text/plain": [
       "143.22278481012657"
      ]
     },
     "execution_count": 13,
     "metadata": {},
     "output_type": "execute_result"
    }
   ],
   "source": [
    "0.113146/0.000790"
   ]
  },
  {
   "cell_type": "markdown",
   "id": "f10b3504-fe52-4fcb-8a82-9cbbeba000c0",
   "metadata": {},
   "source": [
    "I'll keep these guys to try to infer some behaviour from the datapoints, but we can clearly see that the chance of a denylisted customer to have a fraudulent transaction is more than 140x higher than that of a not flagged customer. If using this does not exceed by much our 300 transactions a day threshold on the unlabeled data, I'll use them to hardcut some transactions."
   ]
  },
  {
   "cell_type": "code",
   "execution_count": 14,
   "id": "decef0e9-163d-484b-a5c8-01ba354b918d",
   "metadata": {},
   "outputs": [],
   "source": [
    "ut = pd.read_csv('files/unlabeled_transactions_enriched.csv', sep=';')[keep_cols]"
   ]
  },
  {
   "cell_type": "code",
   "execution_count": 15,
   "id": "0a1dbc5f-d494-4b7b-86ab-6b229c857eab",
   "metadata": {
    "tags": []
   },
   "outputs": [
    {
     "data": {
      "text/html": [
       "<div>\n",
       "<style scoped>\n",
       "    .dataframe tbody tr th:only-of-type {\n",
       "        vertical-align: middle;\n",
       "    }\n",
       "\n",
       "    .dataframe tbody tr th {\n",
       "        vertical-align: top;\n",
       "    }\n",
       "\n",
       "    .dataframe thead th {\n",
       "        text-align: right;\n",
       "    }\n",
       "</style>\n",
       "<table border=\"1\" class=\"dataframe\">\n",
       "  <thead>\n",
       "    <tr style=\"text-align: right;\">\n",
       "      <th></th>\n",
       "      <th>treated_user_id</th>\n",
       "      <th>amount</th>\n",
       "      <th>processed_at</th>\n",
       "      <th>ac_owner_type</th>\n",
       "      <th>ac_inserted_at</th>\n",
       "      <th>uo_flag_many_orgs</th>\n",
       "      <th>omot_value</th>\n",
       "      <th>omot_inserted_at</th>\n",
       "      <th>omot_updated_at</th>\n",
       "      <th>og_inserted_at</th>\n",
       "      <th>um_inserted_at</th>\n",
       "      <th>um_updated_at</th>\n",
       "      <th>age_range</th>\n",
       "      <th>number_of_selfies_sent</th>\n",
       "      <th>us_inserted_at</th>\n",
       "    </tr>\n",
       "  </thead>\n",
       "  <tbody>\n",
       "    <tr>\n",
       "      <th>0</th>\n",
       "      <td>f6938791-4f7a-4cbb-81c3-d2511f8d08d0</td>\n",
       "      <td>5.528906e-07</td>\n",
       "      <td>2018-07-15 00:00:25.000000</td>\n",
       "      <td>organization</td>\n",
       "      <td>2018-04-27 18:46:06.110555</td>\n",
       "      <td>1.0</td>\n",
       "      <td>ME</td>\n",
       "      <td>2018-04-27 00:05:38.248259</td>\n",
       "      <td>2018-04-27 00:05:38.248259</td>\n",
       "      <td>2018-04-27 00:05:37.897738</td>\n",
       "      <td>2018-04-27 00:09:29.893733</td>\n",
       "      <td>2018-04-27 00:09:29.893733</td>\n",
       "      <td>25-39</td>\n",
       "      <td>5.0</td>\n",
       "      <td>2018-04-27 00:05:37.477665</td>\n",
       "    </tr>\n",
       "    <tr>\n",
       "      <th>1</th>\n",
       "      <td>f6938791-4f7a-4cbb-81c3-d2511f8d08d0</td>\n",
       "      <td>6.086869e-08</td>\n",
       "      <td>2018-07-15 00:20:32.000000</td>\n",
       "      <td>organization</td>\n",
       "      <td>2018-04-27 18:46:06.110555</td>\n",
       "      <td>1.0</td>\n",
       "      <td>ME</td>\n",
       "      <td>2018-04-27 00:05:38.248259</td>\n",
       "      <td>2018-04-27 00:05:38.248259</td>\n",
       "      <td>2018-04-27 00:05:37.897738</td>\n",
       "      <td>2018-04-27 00:09:29.893733</td>\n",
       "      <td>2018-04-27 00:09:29.893733</td>\n",
       "      <td>25-39</td>\n",
       "      <td>5.0</td>\n",
       "      <td>2018-04-27 00:05:37.477665</td>\n",
       "    </tr>\n",
       "    <tr>\n",
       "      <th>2</th>\n",
       "      <td>f6938791-4f7a-4cbb-81c3-d2511f8d08d0</td>\n",
       "      <td>7.050623e-07</td>\n",
       "      <td>2018-09-01 23:51:38.000000</td>\n",
       "      <td>organization</td>\n",
       "      <td>2018-04-27 18:46:06.110555</td>\n",
       "      <td>1.0</td>\n",
       "      <td>ME</td>\n",
       "      <td>2018-04-27 00:05:38.248259</td>\n",
       "      <td>2018-04-27 00:05:38.248259</td>\n",
       "      <td>2018-04-27 00:05:37.897738</td>\n",
       "      <td>2018-04-27 00:09:29.893733</td>\n",
       "      <td>2018-04-27 00:09:29.893733</td>\n",
       "      <td>25-39</td>\n",
       "      <td>5.0</td>\n",
       "      <td>2018-04-27 00:05:37.477665</td>\n",
       "    </tr>\n",
       "    <tr>\n",
       "      <th>3</th>\n",
       "      <td>f6938791-4f7a-4cbb-81c3-d2511f8d08d0</td>\n",
       "      <td>7.152071e-07</td>\n",
       "      <td>2018-09-13 00:50:27.000000</td>\n",
       "      <td>organization</td>\n",
       "      <td>2018-04-27 18:46:06.110555</td>\n",
       "      <td>1.0</td>\n",
       "      <td>ME</td>\n",
       "      <td>2018-04-27 00:05:38.248259</td>\n",
       "      <td>2018-04-27 00:05:38.248259</td>\n",
       "      <td>2018-04-27 00:05:37.897738</td>\n",
       "      <td>2018-04-27 00:09:29.893733</td>\n",
       "      <td>2018-04-27 00:09:29.893733</td>\n",
       "      <td>25-39</td>\n",
       "      <td>5.0</td>\n",
       "      <td>2018-04-27 00:05:37.477665</td>\n",
       "    </tr>\n",
       "    <tr>\n",
       "      <th>4</th>\n",
       "      <td>f6938791-4f7a-4cbb-81c3-d2511f8d08d0</td>\n",
       "      <td>3.855017e-07</td>\n",
       "      <td>2018-09-22 23:50:38.000000</td>\n",
       "      <td>organization</td>\n",
       "      <td>2018-04-27 18:46:06.110555</td>\n",
       "      <td>1.0</td>\n",
       "      <td>ME</td>\n",
       "      <td>2018-04-27 00:05:38.248259</td>\n",
       "      <td>2018-04-27 00:05:38.248259</td>\n",
       "      <td>2018-04-27 00:05:37.897738</td>\n",
       "      <td>2018-04-27 00:09:29.893733</td>\n",
       "      <td>2018-04-27 00:09:29.893733</td>\n",
       "      <td>25-39</td>\n",
       "      <td>5.0</td>\n",
       "      <td>2018-04-27 00:05:37.477665</td>\n",
       "    </tr>\n",
       "  </tbody>\n",
       "</table>\n",
       "</div>"
      ],
      "text/plain": [
       "                        treated_user_id        amount  \\\n",
       "0  f6938791-4f7a-4cbb-81c3-d2511f8d08d0  5.528906e-07   \n",
       "1  f6938791-4f7a-4cbb-81c3-d2511f8d08d0  6.086869e-08   \n",
       "2  f6938791-4f7a-4cbb-81c3-d2511f8d08d0  7.050623e-07   \n",
       "3  f6938791-4f7a-4cbb-81c3-d2511f8d08d0  7.152071e-07   \n",
       "4  f6938791-4f7a-4cbb-81c3-d2511f8d08d0  3.855017e-07   \n",
       "\n",
       "                 processed_at ac_owner_type              ac_inserted_at  \\\n",
       "0  2018-07-15 00:00:25.000000  organization  2018-04-27 18:46:06.110555   \n",
       "1  2018-07-15 00:20:32.000000  organization  2018-04-27 18:46:06.110555   \n",
       "2  2018-09-01 23:51:38.000000  organization  2018-04-27 18:46:06.110555   \n",
       "3  2018-09-13 00:50:27.000000  organization  2018-04-27 18:46:06.110555   \n",
       "4  2018-09-22 23:50:38.000000  organization  2018-04-27 18:46:06.110555   \n",
       "\n",
       "   uo_flag_many_orgs omot_value            omot_inserted_at  \\\n",
       "0                1.0         ME  2018-04-27 00:05:38.248259   \n",
       "1                1.0         ME  2018-04-27 00:05:38.248259   \n",
       "2                1.0         ME  2018-04-27 00:05:38.248259   \n",
       "3                1.0         ME  2018-04-27 00:05:38.248259   \n",
       "4                1.0         ME  2018-04-27 00:05:38.248259   \n",
       "\n",
       "              omot_updated_at              og_inserted_at  \\\n",
       "0  2018-04-27 00:05:38.248259  2018-04-27 00:05:37.897738   \n",
       "1  2018-04-27 00:05:38.248259  2018-04-27 00:05:37.897738   \n",
       "2  2018-04-27 00:05:38.248259  2018-04-27 00:05:37.897738   \n",
       "3  2018-04-27 00:05:38.248259  2018-04-27 00:05:37.897738   \n",
       "4  2018-04-27 00:05:38.248259  2018-04-27 00:05:37.897738   \n",
       "\n",
       "               um_inserted_at               um_updated_at age_range  \\\n",
       "0  2018-04-27 00:09:29.893733  2018-04-27 00:09:29.893733     25-39   \n",
       "1  2018-04-27 00:09:29.893733  2018-04-27 00:09:29.893733     25-39   \n",
       "2  2018-04-27 00:09:29.893733  2018-04-27 00:09:29.893733     25-39   \n",
       "3  2018-04-27 00:09:29.893733  2018-04-27 00:09:29.893733     25-39   \n",
       "4  2018-04-27 00:09:29.893733  2018-04-27 00:09:29.893733     25-39   \n",
       "\n",
       "   number_of_selfies_sent              us_inserted_at  \n",
       "0                     5.0  2018-04-27 00:05:37.477665  \n",
       "1                     5.0  2018-04-27 00:05:37.477665  \n",
       "2                     5.0  2018-04-27 00:05:37.477665  \n",
       "3                     5.0  2018-04-27 00:05:37.477665  \n",
       "4                     5.0  2018-04-27 00:05:37.477665  "
      ]
     },
     "execution_count": 15,
     "metadata": {},
     "output_type": "execute_result"
    }
   ],
   "source": [
    "ut.head()"
   ]
  },
  {
   "cell_type": "code",
   "execution_count": 16,
   "id": "186c0edf-5bff-4391-8b92-8a7bfd3f1201",
   "metadata": {},
   "outputs": [],
   "source": [
    "ut2 = get_denylist(ut)"
   ]
  },
  {
   "cell_type": "code",
   "execution_count": 17,
   "id": "708aff93-5673-4156-9b5f-3f2a8844c458",
   "metadata": {
    "tags": []
   },
   "outputs": [],
   "source": [
    "ut2['transaction_date'] = pd.to_datetime(ut2['processed_at']).dt.date"
   ]
  },
  {
   "cell_type": "code",
   "execution_count": 18,
   "id": "b0e65b32-a4c8-472d-969c-dea15c3da408",
   "metadata": {
    "tags": []
   },
   "outputs": [],
   "source": [
    "ut2.reset_index(inplace=True)"
   ]
  },
  {
   "cell_type": "code",
   "execution_count": 19,
   "id": "b303ad6a-1e9c-48d1-b89c-ee984a378b2d",
   "metadata": {
    "tags": []
   },
   "outputs": [],
   "source": [
    "ut2_daily_counter = ut2.groupby('transaction_date').agg(\n",
    "    counter=pd.NamedAgg('index', 'count'),\n",
    "    denylist=pd.NamedAgg('denylisted', 'sum')\n",
    ").reset_index()"
   ]
  },
  {
   "cell_type": "code",
   "execution_count": 20,
   "id": "88394be1-3d80-46a0-95c1-2ac7499ee58a",
   "metadata": {
    "tags": []
   },
   "outputs": [
    {
     "data": {
      "text/plain": [
       "0.0"
      ]
     },
     "execution_count": 20,
     "metadata": {},
     "output_type": "execute_result"
    }
   ],
   "source": [
    "ut2_daily_counter.denylist.mean()"
   ]
  },
  {
   "cell_type": "markdown",
   "id": "8f57ee2c-2b24-4f80-8dd0-ee63c48ff7fc",
   "metadata": {},
   "source": [
    "Strange, the join doesn't seem to work even though it uses the same function as the other join."
   ]
  },
  {
   "cell_type": "code",
   "execution_count": 21,
   "id": "0f86765e-e55d-48a0-9620-d05ff65fe1b3",
   "metadata": {
    "tags": []
   },
   "outputs": [
    {
     "data": {
      "text/plain": [
       "('2018-07-15 00:00:25.000000', '2018-10-17 23:59:58.000000')"
      ]
     },
     "execution_count": 21,
     "metadata": {},
     "output_type": "execute_result"
    }
   ],
   "source": [
    "ut2.processed_at.min(), ut2.processed_at.max()"
   ]
  },
  {
   "cell_type": "code",
   "execution_count": 22,
   "id": "05512126-de4a-4cf2-b173-368e9398787e",
   "metadata": {
    "tags": []
   },
   "outputs": [
    {
     "data": {
      "text/plain": [
       "('2018-10-18 00:00:25', '2018-11-24 23:58:54')"
      ]
     },
     "execution_count": 22,
     "metadata": {},
     "output_type": "execute_result"
    }
   ],
   "source": [
    "lt2.processed_at.min(), lt2.processed_at.max()"
   ]
  },
  {
   "cell_type": "markdown",
   "id": "c33566b6-10e6-47b1-9e86-d3802578f979",
   "metadata": {},
   "source": [
    "I hadn't realized the dataframes used two different time periods, so the Denylist strategy won't work."
   ]
  },
  {
   "cell_type": "markdown",
   "id": "1c3c7d0a-db7a-4cff-b8cf-defcf543e8c1",
   "metadata": {},
   "source": [
    "# Behaviour Book\n",
    "\n",
    "I will measure how many transactions the user has done in the past and their value."
   ]
  },
  {
   "cell_type": "code",
   "execution_count": 23,
   "id": "b7c64682-9576-410d-8109-9f5d324ef5c5",
   "metadata": {
    "tags": []
   },
   "outputs": [
    {
     "data": {
      "text/html": [
       "<div>\n",
       "<style scoped>\n",
       "    .dataframe tbody tr th:only-of-type {\n",
       "        vertical-align: middle;\n",
       "    }\n",
       "\n",
       "    .dataframe tbody tr th {\n",
       "        vertical-align: top;\n",
       "    }\n",
       "\n",
       "    .dataframe thead th {\n",
       "        text-align: right;\n",
       "    }\n",
       "</style>\n",
       "<table border=\"1\" class=\"dataframe\">\n",
       "  <thead>\n",
       "    <tr style=\"text-align: right;\">\n",
       "      <th></th>\n",
       "      <th>treated_user_id</th>\n",
       "      <th>amount</th>\n",
       "      <th>processed_at</th>\n",
       "      <th>ac_owner_type</th>\n",
       "      <th>ac_inserted_at</th>\n",
       "      <th>uo_flag_many_orgs</th>\n",
       "      <th>omot_value</th>\n",
       "      <th>omot_inserted_at</th>\n",
       "      <th>omot_updated_at</th>\n",
       "      <th>og_inserted_at</th>\n",
       "      <th>um_inserted_at</th>\n",
       "      <th>um_updated_at</th>\n",
       "      <th>age_range</th>\n",
       "      <th>number_of_selfies_sent</th>\n",
       "      <th>us_inserted_at</th>\n",
       "      <th>is_fraud</th>\n",
       "      <th>denylisted_at</th>\n",
       "      <th>denylisted</th>\n",
       "      <th>diff_to_denylisted</th>\n",
       "    </tr>\n",
       "  </thead>\n",
       "  <tbody>\n",
       "    <tr>\n",
       "      <th>0</th>\n",
       "      <td>a3c9aab8-8569-4c50-85a1-24d94c2fb0d1</td>\n",
       "      <td>0.000099</td>\n",
       "      <td>2018-11-21 15:41:23</td>\n",
       "      <td>organization</td>\n",
       "      <td>2018-11-11 11:42:21.569236</td>\n",
       "      <td>1.0</td>\n",
       "      <td>EPP</td>\n",
       "      <td>2018-11-11 11:42:20.049020</td>\n",
       "      <td>2018-11-11 11:42:20.049020</td>\n",
       "      <td>2018-11-11 11:42:17.070072</td>\n",
       "      <td>NaN</td>\n",
       "      <td>NaN</td>\n",
       "      <td>NaN</td>\n",
       "      <td>5.0</td>\n",
       "      <td>2018-11-11 11:42:16.661117</td>\n",
       "      <td>0</td>\n",
       "      <td>NaN</td>\n",
       "      <td>0.0</td>\n",
       "      <td>NaN</td>\n",
       "    </tr>\n",
       "    <tr>\n",
       "      <th>1</th>\n",
       "      <td>a8339829-8163-49dd-a881-c3f5ca407a94</td>\n",
       "      <td>0.000013</td>\n",
       "      <td>2018-10-22 23:43:38</td>\n",
       "      <td>organization</td>\n",
       "      <td>2018-07-02 20:08:21.256596</td>\n",
       "      <td>1.0</td>\n",
       "      <td>EPP</td>\n",
       "      <td>2018-07-02 20:08:17.474345</td>\n",
       "      <td>2018-08-24 16:28:02.057540</td>\n",
       "      <td>2018-07-02 20:08:17.093421</td>\n",
       "      <td>2018-07-02 20:15:32.540356</td>\n",
       "      <td>2018-07-02 20:15:32.540356</td>\n",
       "      <td>&gt;= 60</td>\n",
       "      <td>5.0</td>\n",
       "      <td>2018-07-02 20:08:16.699874</td>\n",
       "      <td>0</td>\n",
       "      <td>NaN</td>\n",
       "      <td>0.0</td>\n",
       "      <td>NaN</td>\n",
       "    </tr>\n",
       "  </tbody>\n",
       "</table>\n",
       "</div>"
      ],
      "text/plain": [
       "                        treated_user_id    amount         processed_at  \\\n",
       "0  a3c9aab8-8569-4c50-85a1-24d94c2fb0d1  0.000099  2018-11-21 15:41:23   \n",
       "1  a8339829-8163-49dd-a881-c3f5ca407a94  0.000013  2018-10-22 23:43:38   \n",
       "\n",
       "  ac_owner_type              ac_inserted_at  uo_flag_many_orgs omot_value  \\\n",
       "0  organization  2018-11-11 11:42:21.569236                1.0        EPP   \n",
       "1  organization  2018-07-02 20:08:21.256596                1.0        EPP   \n",
       "\n",
       "             omot_inserted_at             omot_updated_at  \\\n",
       "0  2018-11-11 11:42:20.049020  2018-11-11 11:42:20.049020   \n",
       "1  2018-07-02 20:08:17.474345  2018-08-24 16:28:02.057540   \n",
       "\n",
       "               og_inserted_at              um_inserted_at  \\\n",
       "0  2018-11-11 11:42:17.070072                         NaN   \n",
       "1  2018-07-02 20:08:17.093421  2018-07-02 20:15:32.540356   \n",
       "\n",
       "                um_updated_at age_range  number_of_selfies_sent  \\\n",
       "0                         NaN       NaN                     5.0   \n",
       "1  2018-07-02 20:15:32.540356     >= 60                     5.0   \n",
       "\n",
       "               us_inserted_at is_fraud denylisted_at  denylisted  \\\n",
       "0  2018-11-11 11:42:16.661117        0           NaN         0.0   \n",
       "1  2018-07-02 20:08:16.699874        0           NaN         0.0   \n",
       "\n",
       "   diff_to_denylisted  \n",
       "0                 NaN  \n",
       "1                 NaN  "
      ]
     },
     "execution_count": 23,
     "metadata": {},
     "output_type": "execute_result"
    }
   ],
   "source": [
    "lt2.head(2)"
   ]
  },
  {
   "cell_type": "code",
   "execution_count": 24,
   "id": "d035e7eb-0ee0-40b8-bd58-34e9bbe30252",
   "metadata": {
    "tags": []
   },
   "outputs": [
    {
     "name": "stderr",
     "output_type": "stream",
     "text": [
      "/tmp/ipykernel_11131/74402363.py:3: FutureWarning: The frame.append method is deprecated and will be removed from pandas in a future version. Use pandas.concat instead.\n",
      "  full_t_table = lt[full_t_table_cols].append(ut[full_t_table_cols])\n"
     ]
    }
   ],
   "source": [
    "full_t_table_cols = ['treated_user_id', 'amount', 'processed_at']\n",
    "\n",
    "full_t_table = lt[full_t_table_cols].append(ut[full_t_table_cols])\n",
    "full_t_table.dropna(inplace=True)"
   ]
  },
  {
   "cell_type": "code",
   "execution_count": 25,
   "id": "ff99b664-050a-4c1a-9031-1997723accb5",
   "metadata": {
    "tags": []
   },
   "outputs": [],
   "source": [
    "full_t_table.drop_duplicates(subset=['treated_user_id', 'processed_at'], keep='first', inplace=True)"
   ]
  },
  {
   "cell_type": "code",
   "execution_count": 26,
   "id": "4d954a54-da86-4bb4-bb7c-701c575bdaf7",
   "metadata": {},
   "outputs": [],
   "source": [
    "full_t_table.sort_values(by=['treated_user_id', 'processed_at'], inplace=True)\n",
    "\n",
    "full_t_table['past_amount'] = full_t_table.groupby('treated_user_id').amount.cumsum() - full_t_table.amount\n",
    "full_t_table['past_transactions'] = full_t_table.groupby('treated_user_id').amount.cumcount()\n",
    "\n",
    "full_t_table.drop(columns=['amount'], inplace=True)"
   ]
  },
  {
   "cell_type": "code",
   "execution_count": 27,
   "id": "7e8420a9-774c-4bd1-a49d-6aa303c769f3",
   "metadata": {
    "tags": []
   },
   "outputs": [
    {
     "data": {
      "text/html": [
       "<div>\n",
       "<style scoped>\n",
       "    .dataframe tbody tr th:only-of-type {\n",
       "        vertical-align: middle;\n",
       "    }\n",
       "\n",
       "    .dataframe tbody tr th {\n",
       "        vertical-align: top;\n",
       "    }\n",
       "\n",
       "    .dataframe thead th {\n",
       "        text-align: right;\n",
       "    }\n",
       "</style>\n",
       "<table border=\"1\" class=\"dataframe\">\n",
       "  <thead>\n",
       "    <tr style=\"text-align: right;\">\n",
       "      <th></th>\n",
       "      <th>treated_user_id</th>\n",
       "      <th>processed_at</th>\n",
       "      <th>past_amount</th>\n",
       "      <th>past_transactions</th>\n",
       "    </tr>\n",
       "  </thead>\n",
       "  <tbody>\n",
       "    <tr>\n",
       "      <th>595611</th>\n",
       "      <td>fffaa4f5-5559-40d7-9679-9d41d2268e63</td>\n",
       "      <td>2018-11-22 18:45:39</td>\n",
       "      <td>0.000264</td>\n",
       "      <td>199</td>\n",
       "    </tr>\n",
       "    <tr>\n",
       "      <th>5059508</th>\n",
       "      <td>fffbf832-052e-43f2-8465-b325c5553f61</td>\n",
       "      <td>2018-08-02 19:55:23.854363</td>\n",
       "      <td>0.000000</td>\n",
       "      <td>0</td>\n",
       "    </tr>\n",
       "    <tr>\n",
       "      <th>5059510</th>\n",
       "      <td>fffbf832-052e-43f2-8465-b325c5553f61</td>\n",
       "      <td>2018-08-03 10:28:51.386623</td>\n",
       "      <td>0.000008</td>\n",
       "      <td>1</td>\n",
       "    </tr>\n",
       "    <tr>\n",
       "      <th>5059509</th>\n",
       "      <td>fffbf832-052e-43f2-8465-b325c5553f61</td>\n",
       "      <td>2018-09-27 20:15:25.934235</td>\n",
       "      <td>0.000015</td>\n",
       "      <td>2</td>\n",
       "    </tr>\n",
       "    <tr>\n",
       "      <th>5059511</th>\n",
       "      <td>fffbf832-052e-43f2-8465-b325c5553f61</td>\n",
       "      <td>2018-09-28 09:33:32.212275</td>\n",
       "      <td>0.000015</td>\n",
       "      <td>3</td>\n",
       "    </tr>\n",
       "    <tr>\n",
       "      <th>5059507</th>\n",
       "      <td>fffbf832-052e-43f2-8465-b325c5553f61</td>\n",
       "      <td>2018-10-01 16:01:08.967369</td>\n",
       "      <td>0.000015</td>\n",
       "      <td>4</td>\n",
       "    </tr>\n",
       "    <tr>\n",
       "      <th>5059512</th>\n",
       "      <td>fffbf832-052e-43f2-8465-b325c5553f61</td>\n",
       "      <td>2018-10-01 16:22:23.175637</td>\n",
       "      <td>0.000044</td>\n",
       "      <td>5</td>\n",
       "    </tr>\n",
       "    <tr>\n",
       "      <th>759016</th>\n",
       "      <td>fffbf832-052e-43f2-8465-b325c5553f61</td>\n",
       "      <td>2018-10-19 13:27:58</td>\n",
       "      <td>0.000073</td>\n",
       "      <td>6</td>\n",
       "    </tr>\n",
       "    <tr>\n",
       "      <th>759017</th>\n",
       "      <td>fffbf832-052e-43f2-8465-b325c5553f61</td>\n",
       "      <td>2018-11-13 17:36:29</td>\n",
       "      <td>0.000096</td>\n",
       "      <td>7</td>\n",
       "    </tr>\n",
       "    <tr>\n",
       "      <th>759023</th>\n",
       "      <td>fffbf832-052e-43f2-8465-b325c5553f61</td>\n",
       "      <td>2018-11-22 20:01:38</td>\n",
       "      <td>0.000096</td>\n",
       "      <td>8</td>\n",
       "    </tr>\n",
       "    <tr>\n",
       "      <th>759021</th>\n",
       "      <td>fffbf832-052e-43f2-8465-b325c5553f61</td>\n",
       "      <td>2018-11-22 20:02:56</td>\n",
       "      <td>0.000103</td>\n",
       "      <td>9</td>\n",
       "    </tr>\n",
       "    <tr>\n",
       "      <th>759022</th>\n",
       "      <td>fffbf832-052e-43f2-8465-b325c5553f61</td>\n",
       "      <td>2018-11-22 20:03:30</td>\n",
       "      <td>0.000105</td>\n",
       "      <td>10</td>\n",
       "    </tr>\n",
       "    <tr>\n",
       "      <th>759019</th>\n",
       "      <td>fffbf832-052e-43f2-8465-b325c5553f61</td>\n",
       "      <td>2018-11-22 20:04:12</td>\n",
       "      <td>0.000106</td>\n",
       "      <td>11</td>\n",
       "    </tr>\n",
       "    <tr>\n",
       "      <th>759020</th>\n",
       "      <td>fffbf832-052e-43f2-8465-b325c5553f61</td>\n",
       "      <td>2018-11-22 20:08:25</td>\n",
       "      <td>0.000106</td>\n",
       "      <td>12</td>\n",
       "    </tr>\n",
       "    <tr>\n",
       "      <th>759018</th>\n",
       "      <td>fffbf832-052e-43f2-8465-b325c5553f61</td>\n",
       "      <td>2018-11-23 17:34:04</td>\n",
       "      <td>0.000106</td>\n",
       "      <td>13</td>\n",
       "    </tr>\n",
       "  </tbody>\n",
       "</table>\n",
       "</div>"
      ],
      "text/plain": [
       "                              treated_user_id                processed_at  \\\n",
       "595611   fffaa4f5-5559-40d7-9679-9d41d2268e63         2018-11-22 18:45:39   \n",
       "5059508  fffbf832-052e-43f2-8465-b325c5553f61  2018-08-02 19:55:23.854363   \n",
       "5059510  fffbf832-052e-43f2-8465-b325c5553f61  2018-08-03 10:28:51.386623   \n",
       "5059509  fffbf832-052e-43f2-8465-b325c5553f61  2018-09-27 20:15:25.934235   \n",
       "5059511  fffbf832-052e-43f2-8465-b325c5553f61  2018-09-28 09:33:32.212275   \n",
       "5059507  fffbf832-052e-43f2-8465-b325c5553f61  2018-10-01 16:01:08.967369   \n",
       "5059512  fffbf832-052e-43f2-8465-b325c5553f61  2018-10-01 16:22:23.175637   \n",
       "759016   fffbf832-052e-43f2-8465-b325c5553f61         2018-10-19 13:27:58   \n",
       "759017   fffbf832-052e-43f2-8465-b325c5553f61         2018-11-13 17:36:29   \n",
       "759023   fffbf832-052e-43f2-8465-b325c5553f61         2018-11-22 20:01:38   \n",
       "759021   fffbf832-052e-43f2-8465-b325c5553f61         2018-11-22 20:02:56   \n",
       "759022   fffbf832-052e-43f2-8465-b325c5553f61         2018-11-22 20:03:30   \n",
       "759019   fffbf832-052e-43f2-8465-b325c5553f61         2018-11-22 20:04:12   \n",
       "759020   fffbf832-052e-43f2-8465-b325c5553f61         2018-11-22 20:08:25   \n",
       "759018   fffbf832-052e-43f2-8465-b325c5553f61         2018-11-23 17:34:04   \n",
       "\n",
       "         past_amount  past_transactions  \n",
       "595611      0.000264                199  \n",
       "5059508     0.000000                  0  \n",
       "5059510     0.000008                  1  \n",
       "5059509     0.000015                  2  \n",
       "5059511     0.000015                  3  \n",
       "5059507     0.000015                  4  \n",
       "5059512     0.000044                  5  \n",
       "759016      0.000073                  6  \n",
       "759017      0.000096                  7  \n",
       "759023      0.000096                  8  \n",
       "759021      0.000103                  9  \n",
       "759022      0.000105                 10  \n",
       "759019      0.000106                 11  \n",
       "759020      0.000106                 12  \n",
       "759018      0.000106                 13  "
      ]
     },
     "execution_count": 27,
     "metadata": {},
     "output_type": "execute_result"
    }
   ],
   "source": [
    "full_t_table.tail(15)"
   ]
  },
  {
   "cell_type": "markdown",
   "id": "fef65b16-4120-4d4f-ad27-519e63c621cb",
   "metadata": {},
   "source": [
    "The Behaviour table seems to work just fine."
   ]
  },
  {
   "cell_type": "code",
   "execution_count": 28,
   "id": "92b41d3f-ec0d-40ae-bcf2-d14864c5c668",
   "metadata": {
    "tags": []
   },
   "outputs": [],
   "source": [
    "lt2 = lt.merge(full_t_table, on=['treated_user_id', 'processed_at'], how='left')"
   ]
  },
  {
   "cell_type": "code",
   "execution_count": 29,
   "id": "196ad1d5-df65-4ba8-a0f9-25813d59b6c5",
   "metadata": {
    "tags": []
   },
   "outputs": [
    {
     "data": {
      "text/plain": [
       "((940935, 18), (940935, 16))"
      ]
     },
     "execution_count": 29,
     "metadata": {},
     "output_type": "execute_result"
    }
   ],
   "source": [
    "lt2.shape, lt.shape"
   ]
  },
  {
   "cell_type": "code",
   "execution_count": 30,
   "id": "fbb335b7-4f0d-467a-be56-95ca11892cbe",
   "metadata": {
    "tags": []
   },
   "outputs": [],
   "source": [
    "ut2 = ut.merge(full_t_table, on=['treated_user_id', 'processed_at'], how='left')"
   ]
  },
  {
   "cell_type": "code",
   "execution_count": 31,
   "id": "0dbe7f1f-6269-4f5b-bbf2-7718f1243528",
   "metadata": {
    "tags": []
   },
   "outputs": [
    {
     "data": {
      "text/plain": [
       "((5087054, 17), (5087054, 15))"
      ]
     },
     "execution_count": 31,
     "metadata": {},
     "output_type": "execute_result"
    }
   ],
   "source": [
    "ut2.shape, ut.shape"
   ]
  },
  {
   "cell_type": "code",
   "execution_count": 32,
   "id": "4cf5b604-95ca-45cd-8ea3-9bc8070090b2",
   "metadata": {
    "tags": []
   },
   "outputs": [],
   "source": [
    "lt2.to_csv('files/labeled_transactions_enriched2.csv', sep=';', index=False)\n",
    "ut2.to_csv('files/unlabeled_transactions_enriched2.csv', sep=';', index=False)"
   ]
  },
  {
   "cell_type": "code",
   "execution_count": null,
   "id": "f53ada83-22ce-4647-8e8c-37109dda06f2",
   "metadata": {},
   "outputs": [],
   "source": []
  }
 ],
 "metadata": {
  "availableInstances": [
   {
    "_defaultOrder": 0,
    "_isFastLaunch": true,
    "category": "General purpose",
    "gpuNum": 0,
    "hideHardwareSpecs": false,
    "memoryGiB": 4,
    "name": "ml.t3.medium",
    "vcpuNum": 2
   },
   {
    "_defaultOrder": 1,
    "_isFastLaunch": false,
    "category": "General purpose",
    "gpuNum": 0,
    "hideHardwareSpecs": false,
    "memoryGiB": 8,
    "name": "ml.t3.large",
    "vcpuNum": 2
   },
   {
    "_defaultOrder": 2,
    "_isFastLaunch": false,
    "category": "General purpose",
    "gpuNum": 0,
    "hideHardwareSpecs": false,
    "memoryGiB": 16,
    "name": "ml.t3.xlarge",
    "vcpuNum": 4
   },
   {
    "_defaultOrder": 3,
    "_isFastLaunch": false,
    "category": "General purpose",
    "gpuNum": 0,
    "hideHardwareSpecs": false,
    "memoryGiB": 32,
    "name": "ml.t3.2xlarge",
    "vcpuNum": 8
   },
   {
    "_defaultOrder": 4,
    "_isFastLaunch": true,
    "category": "General purpose",
    "gpuNum": 0,
    "hideHardwareSpecs": false,
    "memoryGiB": 8,
    "name": "ml.m5.large",
    "vcpuNum": 2
   },
   {
    "_defaultOrder": 5,
    "_isFastLaunch": false,
    "category": "General purpose",
    "gpuNum": 0,
    "hideHardwareSpecs": false,
    "memoryGiB": 16,
    "name": "ml.m5.xlarge",
    "vcpuNum": 4
   },
   {
    "_defaultOrder": 6,
    "_isFastLaunch": false,
    "category": "General purpose",
    "gpuNum": 0,
    "hideHardwareSpecs": false,
    "memoryGiB": 32,
    "name": "ml.m5.2xlarge",
    "vcpuNum": 8
   },
   {
    "_defaultOrder": 7,
    "_isFastLaunch": false,
    "category": "General purpose",
    "gpuNum": 0,
    "hideHardwareSpecs": false,
    "memoryGiB": 64,
    "name": "ml.m5.4xlarge",
    "vcpuNum": 16
   },
   {
    "_defaultOrder": 8,
    "_isFastLaunch": false,
    "category": "General purpose",
    "gpuNum": 0,
    "hideHardwareSpecs": false,
    "memoryGiB": 128,
    "name": "ml.m5.8xlarge",
    "vcpuNum": 32
   },
   {
    "_defaultOrder": 9,
    "_isFastLaunch": false,
    "category": "General purpose",
    "gpuNum": 0,
    "hideHardwareSpecs": false,
    "memoryGiB": 192,
    "name": "ml.m5.12xlarge",
    "vcpuNum": 48
   },
   {
    "_defaultOrder": 10,
    "_isFastLaunch": false,
    "category": "General purpose",
    "gpuNum": 0,
    "hideHardwareSpecs": false,
    "memoryGiB": 256,
    "name": "ml.m5.16xlarge",
    "vcpuNum": 64
   },
   {
    "_defaultOrder": 11,
    "_isFastLaunch": false,
    "category": "General purpose",
    "gpuNum": 0,
    "hideHardwareSpecs": false,
    "memoryGiB": 384,
    "name": "ml.m5.24xlarge",
    "vcpuNum": 96
   },
   {
    "_defaultOrder": 12,
    "_isFastLaunch": false,
    "category": "General purpose",
    "gpuNum": 0,
    "hideHardwareSpecs": false,
    "memoryGiB": 8,
    "name": "ml.m5d.large",
    "vcpuNum": 2
   },
   {
    "_defaultOrder": 13,
    "_isFastLaunch": false,
    "category": "General purpose",
    "gpuNum": 0,
    "hideHardwareSpecs": false,
    "memoryGiB": 16,
    "name": "ml.m5d.xlarge",
    "vcpuNum": 4
   },
   {
    "_defaultOrder": 14,
    "_isFastLaunch": false,
    "category": "General purpose",
    "gpuNum": 0,
    "hideHardwareSpecs": false,
    "memoryGiB": 32,
    "name": "ml.m5d.2xlarge",
    "vcpuNum": 8
   },
   {
    "_defaultOrder": 15,
    "_isFastLaunch": false,
    "category": "General purpose",
    "gpuNum": 0,
    "hideHardwareSpecs": false,
    "memoryGiB": 64,
    "name": "ml.m5d.4xlarge",
    "vcpuNum": 16
   },
   {
    "_defaultOrder": 16,
    "_isFastLaunch": false,
    "category": "General purpose",
    "gpuNum": 0,
    "hideHardwareSpecs": false,
    "memoryGiB": 128,
    "name": "ml.m5d.8xlarge",
    "vcpuNum": 32
   },
   {
    "_defaultOrder": 17,
    "_isFastLaunch": false,
    "category": "General purpose",
    "gpuNum": 0,
    "hideHardwareSpecs": false,
    "memoryGiB": 192,
    "name": "ml.m5d.12xlarge",
    "vcpuNum": 48
   },
   {
    "_defaultOrder": 18,
    "_isFastLaunch": false,
    "category": "General purpose",
    "gpuNum": 0,
    "hideHardwareSpecs": false,
    "memoryGiB": 256,
    "name": "ml.m5d.16xlarge",
    "vcpuNum": 64
   },
   {
    "_defaultOrder": 19,
    "_isFastLaunch": false,
    "category": "General purpose",
    "gpuNum": 0,
    "hideHardwareSpecs": false,
    "memoryGiB": 384,
    "name": "ml.m5d.24xlarge",
    "vcpuNum": 96
   },
   {
    "_defaultOrder": 20,
    "_isFastLaunch": false,
    "category": "General purpose",
    "gpuNum": 0,
    "hideHardwareSpecs": true,
    "memoryGiB": 0,
    "name": "ml.geospatial.interactive",
    "supportedImageNames": [
     "sagemaker-geospatial-v1-0"
    ],
    "vcpuNum": 0
   },
   {
    "_defaultOrder": 21,
    "_isFastLaunch": true,
    "category": "Compute optimized",
    "gpuNum": 0,
    "hideHardwareSpecs": false,
    "memoryGiB": 4,
    "name": "ml.c5.large",
    "vcpuNum": 2
   },
   {
    "_defaultOrder": 22,
    "_isFastLaunch": false,
    "category": "Compute optimized",
    "gpuNum": 0,
    "hideHardwareSpecs": false,
    "memoryGiB": 8,
    "name": "ml.c5.xlarge",
    "vcpuNum": 4
   },
   {
    "_defaultOrder": 23,
    "_isFastLaunch": false,
    "category": "Compute optimized",
    "gpuNum": 0,
    "hideHardwareSpecs": false,
    "memoryGiB": 16,
    "name": "ml.c5.2xlarge",
    "vcpuNum": 8
   },
   {
    "_defaultOrder": 24,
    "_isFastLaunch": false,
    "category": "Compute optimized",
    "gpuNum": 0,
    "hideHardwareSpecs": false,
    "memoryGiB": 32,
    "name": "ml.c5.4xlarge",
    "vcpuNum": 16
   },
   {
    "_defaultOrder": 25,
    "_isFastLaunch": false,
    "category": "Compute optimized",
    "gpuNum": 0,
    "hideHardwareSpecs": false,
    "memoryGiB": 72,
    "name": "ml.c5.9xlarge",
    "vcpuNum": 36
   },
   {
    "_defaultOrder": 26,
    "_isFastLaunch": false,
    "category": "Compute optimized",
    "gpuNum": 0,
    "hideHardwareSpecs": false,
    "memoryGiB": 96,
    "name": "ml.c5.12xlarge",
    "vcpuNum": 48
   },
   {
    "_defaultOrder": 27,
    "_isFastLaunch": false,
    "category": "Compute optimized",
    "gpuNum": 0,
    "hideHardwareSpecs": false,
    "memoryGiB": 144,
    "name": "ml.c5.18xlarge",
    "vcpuNum": 72
   },
   {
    "_defaultOrder": 28,
    "_isFastLaunch": false,
    "category": "Compute optimized",
    "gpuNum": 0,
    "hideHardwareSpecs": false,
    "memoryGiB": 192,
    "name": "ml.c5.24xlarge",
    "vcpuNum": 96
   },
   {
    "_defaultOrder": 29,
    "_isFastLaunch": true,
    "category": "Accelerated computing",
    "gpuNum": 1,
    "hideHardwareSpecs": false,
    "memoryGiB": 16,
    "name": "ml.g4dn.xlarge",
    "vcpuNum": 4
   },
   {
    "_defaultOrder": 30,
    "_isFastLaunch": false,
    "category": "Accelerated computing",
    "gpuNum": 1,
    "hideHardwareSpecs": false,
    "memoryGiB": 32,
    "name": "ml.g4dn.2xlarge",
    "vcpuNum": 8
   },
   {
    "_defaultOrder": 31,
    "_isFastLaunch": false,
    "category": "Accelerated computing",
    "gpuNum": 1,
    "hideHardwareSpecs": false,
    "memoryGiB": 64,
    "name": "ml.g4dn.4xlarge",
    "vcpuNum": 16
   },
   {
    "_defaultOrder": 32,
    "_isFastLaunch": false,
    "category": "Accelerated computing",
    "gpuNum": 1,
    "hideHardwareSpecs": false,
    "memoryGiB": 128,
    "name": "ml.g4dn.8xlarge",
    "vcpuNum": 32
   },
   {
    "_defaultOrder": 33,
    "_isFastLaunch": false,
    "category": "Accelerated computing",
    "gpuNum": 4,
    "hideHardwareSpecs": false,
    "memoryGiB": 192,
    "name": "ml.g4dn.12xlarge",
    "vcpuNum": 48
   },
   {
    "_defaultOrder": 34,
    "_isFastLaunch": false,
    "category": "Accelerated computing",
    "gpuNum": 1,
    "hideHardwareSpecs": false,
    "memoryGiB": 256,
    "name": "ml.g4dn.16xlarge",
    "vcpuNum": 64
   },
   {
    "_defaultOrder": 35,
    "_isFastLaunch": false,
    "category": "Accelerated computing",
    "gpuNum": 1,
    "hideHardwareSpecs": false,
    "memoryGiB": 61,
    "name": "ml.p3.2xlarge",
    "vcpuNum": 8
   },
   {
    "_defaultOrder": 36,
    "_isFastLaunch": false,
    "category": "Accelerated computing",
    "gpuNum": 4,
    "hideHardwareSpecs": false,
    "memoryGiB": 244,
    "name": "ml.p3.8xlarge",
    "vcpuNum": 32
   },
   {
    "_defaultOrder": 37,
    "_isFastLaunch": false,
    "category": "Accelerated computing",
    "gpuNum": 8,
    "hideHardwareSpecs": false,
    "memoryGiB": 488,
    "name": "ml.p3.16xlarge",
    "vcpuNum": 64
   },
   {
    "_defaultOrder": 38,
    "_isFastLaunch": false,
    "category": "Accelerated computing",
    "gpuNum": 8,
    "hideHardwareSpecs": false,
    "memoryGiB": 768,
    "name": "ml.p3dn.24xlarge",
    "vcpuNum": 96
   },
   {
    "_defaultOrder": 39,
    "_isFastLaunch": false,
    "category": "Memory Optimized",
    "gpuNum": 0,
    "hideHardwareSpecs": false,
    "memoryGiB": 16,
    "name": "ml.r5.large",
    "vcpuNum": 2
   },
   {
    "_defaultOrder": 40,
    "_isFastLaunch": false,
    "category": "Memory Optimized",
    "gpuNum": 0,
    "hideHardwareSpecs": false,
    "memoryGiB": 32,
    "name": "ml.r5.xlarge",
    "vcpuNum": 4
   },
   {
    "_defaultOrder": 41,
    "_isFastLaunch": false,
    "category": "Memory Optimized",
    "gpuNum": 0,
    "hideHardwareSpecs": false,
    "memoryGiB": 64,
    "name": "ml.r5.2xlarge",
    "vcpuNum": 8
   },
   {
    "_defaultOrder": 42,
    "_isFastLaunch": false,
    "category": "Memory Optimized",
    "gpuNum": 0,
    "hideHardwareSpecs": false,
    "memoryGiB": 128,
    "name": "ml.r5.4xlarge",
    "vcpuNum": 16
   },
   {
    "_defaultOrder": 43,
    "_isFastLaunch": false,
    "category": "Memory Optimized",
    "gpuNum": 0,
    "hideHardwareSpecs": false,
    "memoryGiB": 256,
    "name": "ml.r5.8xlarge",
    "vcpuNum": 32
   },
   {
    "_defaultOrder": 44,
    "_isFastLaunch": false,
    "category": "Memory Optimized",
    "gpuNum": 0,
    "hideHardwareSpecs": false,
    "memoryGiB": 384,
    "name": "ml.r5.12xlarge",
    "vcpuNum": 48
   },
   {
    "_defaultOrder": 45,
    "_isFastLaunch": false,
    "category": "Memory Optimized",
    "gpuNum": 0,
    "hideHardwareSpecs": false,
    "memoryGiB": 512,
    "name": "ml.r5.16xlarge",
    "vcpuNum": 64
   },
   {
    "_defaultOrder": 46,
    "_isFastLaunch": false,
    "category": "Memory Optimized",
    "gpuNum": 0,
    "hideHardwareSpecs": false,
    "memoryGiB": 768,
    "name": "ml.r5.24xlarge",
    "vcpuNum": 96
   },
   {
    "_defaultOrder": 47,
    "_isFastLaunch": false,
    "category": "Accelerated computing",
    "gpuNum": 1,
    "hideHardwareSpecs": false,
    "memoryGiB": 16,
    "name": "ml.g5.xlarge",
    "vcpuNum": 4
   },
   {
    "_defaultOrder": 48,
    "_isFastLaunch": false,
    "category": "Accelerated computing",
    "gpuNum": 1,
    "hideHardwareSpecs": false,
    "memoryGiB": 32,
    "name": "ml.g5.2xlarge",
    "vcpuNum": 8
   },
   {
    "_defaultOrder": 49,
    "_isFastLaunch": false,
    "category": "Accelerated computing",
    "gpuNum": 1,
    "hideHardwareSpecs": false,
    "memoryGiB": 64,
    "name": "ml.g5.4xlarge",
    "vcpuNum": 16
   },
   {
    "_defaultOrder": 50,
    "_isFastLaunch": false,
    "category": "Accelerated computing",
    "gpuNum": 1,
    "hideHardwareSpecs": false,
    "memoryGiB": 128,
    "name": "ml.g5.8xlarge",
    "vcpuNum": 32
   },
   {
    "_defaultOrder": 51,
    "_isFastLaunch": false,
    "category": "Accelerated computing",
    "gpuNum": 1,
    "hideHardwareSpecs": false,
    "memoryGiB": 256,
    "name": "ml.g5.16xlarge",
    "vcpuNum": 64
   },
   {
    "_defaultOrder": 52,
    "_isFastLaunch": false,
    "category": "Accelerated computing",
    "gpuNum": 4,
    "hideHardwareSpecs": false,
    "memoryGiB": 192,
    "name": "ml.g5.12xlarge",
    "vcpuNum": 48
   },
   {
    "_defaultOrder": 53,
    "_isFastLaunch": false,
    "category": "Accelerated computing",
    "gpuNum": 4,
    "hideHardwareSpecs": false,
    "memoryGiB": 384,
    "name": "ml.g5.24xlarge",
    "vcpuNum": 96
   },
   {
    "_defaultOrder": 54,
    "_isFastLaunch": false,
    "category": "Accelerated computing",
    "gpuNum": 8,
    "hideHardwareSpecs": false,
    "memoryGiB": 768,
    "name": "ml.g5.48xlarge",
    "vcpuNum": 192
   },
   {
    "_defaultOrder": 55,
    "_isFastLaunch": false,
    "category": "Accelerated computing",
    "gpuNum": 8,
    "hideHardwareSpecs": false,
    "memoryGiB": 1152,
    "name": "ml.p4d.24xlarge",
    "vcpuNum": 96
   },
   {
    "_defaultOrder": 56,
    "_isFastLaunch": false,
    "category": "Accelerated computing",
    "gpuNum": 8,
    "hideHardwareSpecs": false,
    "memoryGiB": 1152,
    "name": "ml.p4de.24xlarge",
    "vcpuNum": 96
   }
  ],
  "kernelspec": {
   "display_name": "Python 3 (Data Science 3.0)",
   "language": "python",
   "name": "python3__SAGEMAKER_INTERNAL__arn:aws:sagemaker:us-east-1:081325390199:image/sagemaker-data-science-310-v1"
  },
  "language_info": {
   "codemirror_mode": {
    "name": "ipython",
    "version": 3
   },
   "file_extension": ".py",
   "mimetype": "text/x-python",
   "name": "python",
   "nbconvert_exporter": "python",
   "pygments_lexer": "ipython3",
   "version": "3.10.6"
  }
 },
 "nbformat": 4,
 "nbformat_minor": 5
}
