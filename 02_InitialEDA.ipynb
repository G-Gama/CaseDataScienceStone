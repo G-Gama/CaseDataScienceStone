{
 "cells": [
  {
   "cell_type": "markdown",
   "id": "8df37ba6-0f29-403a-b45f-758235d735cf",
   "metadata": {},
   "source": [
    "# In this Notebook\n",
    "\n",
    "I'll make some initial EDA, trying to understand the tables we got, create some visualizations and metrics that could help us."
   ]
  },
  {
   "cell_type": "code",
   "execution_count": 2,
   "id": "30045fc0-23dd-4ad6-8259-f95231d7467d",
   "metadata": {
    "tags": []
   },
   "outputs": [],
   "source": [
    "import pandas as pd\n",
    "import numpy as np\n",
    "from matplotlib import pyplot as plt\n",
    "import seaborn as sns\n",
    "\n",
    "pd.options.display.float_format = '{:.6f}'.format"
   ]
  },
  {
   "cell_type": "markdown",
   "id": "8f7b3b6e-9bf2-4524-af79-3e6359cde8cc",
   "metadata": {},
   "source": [
    "# Reading the Tables\n",
    "\n",
    "In this section, before even making sanity checks on the table, I'll see what each table is, if it is imported correctly and ask myself some questions about it."
   ]
  },
  {
   "cell_type": "markdown",
   "id": "0e3ae192-d706-44c6-b217-90c011b0a09e",
   "metadata": {},
   "source": [
    "### Accounts"
   ]
  },
  {
   "cell_type": "code",
   "execution_count": 3,
   "id": "6a79b4d8-75c6-4055-be4a-336b24886047",
   "metadata": {
    "tags": []
   },
   "outputs": [
    {
     "data": {
      "text/html": [
       "<div>\n",
       "<style scoped>\n",
       "    .dataframe tbody tr th:only-of-type {\n",
       "        vertical-align: middle;\n",
       "    }\n",
       "\n",
       "    .dataframe tbody tr th {\n",
       "        vertical-align: top;\n",
       "    }\n",
       "\n",
       "    .dataframe thead th {\n",
       "        text-align: right;\n",
       "    }\n",
       "</style>\n",
       "<table border=\"1\" class=\"dataframe\">\n",
       "  <thead>\n",
       "    <tr style=\"text-align: right;\">\n",
       "      <th></th>\n",
       "      <th>id</th>\n",
       "      <th>owner_id</th>\n",
       "      <th>owner_document</th>\n",
       "      <th>owner_type</th>\n",
       "      <th>inserted_at</th>\n",
       "    </tr>\n",
       "  </thead>\n",
       "  <tbody>\n",
       "    <tr>\n",
       "      <th>0</th>\n",
       "      <td>ac8a1faa-3748-4ef7-b140-8fe818cdc974</td>\n",
       "      <td>d2e3e3b7-e98d-4ef3-8a51-83db807b9a94</td>\n",
       "      <td>5e998c51-53cc-48f0-aef4-45ec12a466be</td>\n",
       "      <td>user</td>\n",
       "      <td>2017-03-16 16:33:43.603803</td>\n",
       "    </tr>\n",
       "    <tr>\n",
       "      <th>1</th>\n",
       "      <td>b2ccbb65-19b0-43fb-891f-faf785d00ade</td>\n",
       "      <td>e01a38b9-5e4c-43fb-9aef-d866054b00bd</td>\n",
       "      <td>4ca9177f-35cc-4067-9d0b-af621aaa2e65</td>\n",
       "      <td>user</td>\n",
       "      <td>2017-03-25 14:01:25.919929</td>\n",
       "    </tr>\n",
       "    <tr>\n",
       "      <th>2</th>\n",
       "      <td>c890a24f-f539-4dfe-a3d3-fe2c11c0aed6</td>\n",
       "      <td>c66561a4-66cc-4e2c-8379-3fd060b0e1ba</td>\n",
       "      <td>7df16b0b-0cda-40b8-91b5-5ed4d371a834</td>\n",
       "      <td>user</td>\n",
       "      <td>2017-03-25 14:04:11.917901</td>\n",
       "    </tr>\n",
       "    <tr>\n",
       "      <th>3</th>\n",
       "      <td>678269b6-7b71-48a2-82fb-19018432abf9</td>\n",
       "      <td>49a50a56-3f7a-435d-80a1-6e459c3948e8</td>\n",
       "      <td>d74146d2-af1c-4396-86f7-c98ccc177411</td>\n",
       "      <td>user</td>\n",
       "      <td>2017-03-27 13:59:43.513024</td>\n",
       "    </tr>\n",
       "    <tr>\n",
       "      <th>4</th>\n",
       "      <td>c6f2982a-4c2a-4dc2-b237-2c683235c3d8</td>\n",
       "      <td>596160cd-c41d-4689-bd4d-a055db788931</td>\n",
       "      <td>23d532c1-855b-42c2-a011-2e64b7078d4a</td>\n",
       "      <td>user</td>\n",
       "      <td>2017-03-27 14:00:58.316963</td>\n",
       "    </tr>\n",
       "  </tbody>\n",
       "</table>\n",
       "</div>"
      ],
      "text/plain": [
       "                                     id                              owner_id  \\\n",
       "0  ac8a1faa-3748-4ef7-b140-8fe818cdc974  d2e3e3b7-e98d-4ef3-8a51-83db807b9a94   \n",
       "1  b2ccbb65-19b0-43fb-891f-faf785d00ade  e01a38b9-5e4c-43fb-9aef-d866054b00bd   \n",
       "2  c890a24f-f539-4dfe-a3d3-fe2c11c0aed6  c66561a4-66cc-4e2c-8379-3fd060b0e1ba   \n",
       "3  678269b6-7b71-48a2-82fb-19018432abf9  49a50a56-3f7a-435d-80a1-6e459c3948e8   \n",
       "4  c6f2982a-4c2a-4dc2-b237-2c683235c3d8  596160cd-c41d-4689-bd4d-a055db788931   \n",
       "\n",
       "                         owner_document owner_type                 inserted_at  \n",
       "0  5e998c51-53cc-48f0-aef4-45ec12a466be       user  2017-03-16 16:33:43.603803  \n",
       "1  4ca9177f-35cc-4067-9d0b-af621aaa2e65       user  2017-03-25 14:01:25.919929  \n",
       "2  7df16b0b-0cda-40b8-91b5-5ed4d371a834       user  2017-03-25 14:04:11.917901  \n",
       "3  d74146d2-af1c-4396-86f7-c98ccc177411       user  2017-03-27 13:59:43.513024  \n",
       "4  23d532c1-855b-42c2-a011-2e64b7078d4a       user  2017-03-27 14:00:58.316963  "
      ]
     },
     "execution_count": 3,
     "metadata": {},
     "output_type": "execute_result"
    }
   ],
   "source": [
    "accounts = pd.read_csv('files/processed_accounts.csv')\n",
    "accounts.head()"
   ]
  },
  {
   "cell_type": "code",
   "execution_count": 4,
   "id": "405a46ad-9da1-41da-8c56-d77fec772bc2",
   "metadata": {
    "tags": []
   },
   "outputs": [
    {
     "name": "stdout",
     "output_type": "stream",
     "text": [
      "<class 'pandas.core.frame.DataFrame'>\n",
      "RangeIndex: 293002 entries, 0 to 293001\n",
      "Data columns (total 5 columns):\n",
      " #   Column          Non-Null Count   Dtype \n",
      "---  ------          --------------   ----- \n",
      " 0   id              293002 non-null  object\n",
      " 1   owner_id        293002 non-null  object\n",
      " 2   owner_document  293002 non-null  object\n",
      " 3   owner_type      293002 non-null  object\n",
      " 4   inserted_at     293002 non-null  object\n",
      "dtypes: object(5)\n",
      "memory usage: 11.2+ MB\n"
     ]
    }
   ],
   "source": [
    "accounts.info()"
   ]
  },
  {
   "cell_type": "code",
   "execution_count": 5,
   "id": "322c969d-304c-498e-9e00-34050cd2aba3",
   "metadata": {
    "tags": []
   },
   "outputs": [
    {
     "data": {
      "text/plain": [
       "organization    197777\n",
       "user             95225\n",
       "Name: owner_type, dtype: int64"
      ]
     },
     "execution_count": 5,
     "metadata": {},
     "output_type": "execute_result"
    }
   ],
   "source": [
    "## Curious to see what the owner_type is about\n",
    "\n",
    "accounts.owner_type.value_counts(dropna=False)"
   ]
  },
  {
   "cell_type": "markdown",
   "id": "976887d7-f19d-402e-8508-c48b689c4795",
   "metadata": {},
   "source": [
    "Seems to be only an table talking about account creation and what is the type of this instance."
   ]
  },
  {
   "cell_type": "markdown",
   "id": "68a4dceb-4d02-4f54-82fb-e90b9d40296d",
   "metadata": {},
   "source": [
    "### Labeled Transactions"
   ]
  },
  {
   "cell_type": "code",
   "execution_count": 6,
   "id": "7a156544-33ee-4279-ac35-e76900ad2493",
   "metadata": {
    "tags": []
   },
   "outputs": [
    {
     "data": {
      "text/html": [
       "<div>\n",
       "<style scoped>\n",
       "    .dataframe tbody tr th:only-of-type {\n",
       "        vertical-align: middle;\n",
       "    }\n",
       "\n",
       "    .dataframe tbody tr th {\n",
       "        vertical-align: top;\n",
       "    }\n",
       "\n",
       "    .dataframe thead th {\n",
       "        text-align: right;\n",
       "    }\n",
       "</style>\n",
       "<table border=\"1\" class=\"dataframe\">\n",
       "  <thead>\n",
       "    <tr style=\"text-align: right;\">\n",
       "      <th></th>\n",
       "      <th>operation_id</th>\n",
       "      <th>request_id</th>\n",
       "      <th>account_id</th>\n",
       "      <th>device_id</th>\n",
       "      <th>counterparty_document</th>\n",
       "      <th>operation_type</th>\n",
       "      <th>amount</th>\n",
       "      <th>balance</th>\n",
       "      <th>requested_at</th>\n",
       "      <th>processed_at</th>\n",
       "      <th>is_fraud</th>\n",
       "    </tr>\n",
       "  </thead>\n",
       "  <tbody>\n",
       "    <tr>\n",
       "      <th>0</th>\n",
       "      <td>37e105f1-003f-465b-8179-e7705b12a24d</td>\n",
       "      <td>c1820b88-ac54-444f-b9a0-70de30124d95</td>\n",
       "      <td>a7b4f041-ef6a-4e17-baf9-cd471ef0f484</td>\n",
       "      <td>ef1756b6-354c-4ea4-b175-4eba835b60a5</td>\n",
       "      <td>38e6f7c9-e935-4c7c-8915-ef923a5ca914</td>\n",
       "      <td>cash_out_type_1</td>\n",
       "      <td>0.000099</td>\n",
       "      <td>0.000167</td>\n",
       "      <td>2018-11-21 15:41:23</td>\n",
       "      <td>2018-11-21 15:41:23</td>\n",
       "      <td>NaN</td>\n",
       "    </tr>\n",
       "    <tr>\n",
       "      <th>1</th>\n",
       "      <td>72d66c19-130b-4d51-8ed7-e3b6c0b65034</td>\n",
       "      <td>9400a9f4-6ab8-40cd-b806-1569b693a88e</td>\n",
       "      <td>ed310df0-6834-4899-811e-5faf13b2a99c</td>\n",
       "      <td>ef1756b6-354c-4ea4-b175-4eba835b60a5</td>\n",
       "      <td>9bd89feb-e952-47c1-bbf5-d4c17b36d852</td>\n",
       "      <td>cash_out_type_3</td>\n",
       "      <td>0.000013</td>\n",
       "      <td>0.000533</td>\n",
       "      <td>NaN</td>\n",
       "      <td>2018-10-22 23:43:38</td>\n",
       "      <td>NaN</td>\n",
       "    </tr>\n",
       "    <tr>\n",
       "      <th>2</th>\n",
       "      <td>31abd386-09f7-4f18-9b01-d2682e3c2c65</td>\n",
       "      <td>80adf85b-56cc-4730-903d-e63c75ae839a</td>\n",
       "      <td>ed310df0-6834-4899-811e-5faf13b2a99c</td>\n",
       "      <td>ef1756b6-354c-4ea4-b175-4eba835b60a5</td>\n",
       "      <td>9bd89feb-e952-47c1-bbf5-d4c17b36d852</td>\n",
       "      <td>cash_out_type_3</td>\n",
       "      <td>0.000016</td>\n",
       "      <td>0.000347</td>\n",
       "      <td>2018-11-19 16:11:57</td>\n",
       "      <td>2018-11-19 16:12:00</td>\n",
       "      <td>NaN</td>\n",
       "    </tr>\n",
       "    <tr>\n",
       "      <th>3</th>\n",
       "      <td>27543733-e8a8-4593-88fb-921e205a6e0c</td>\n",
       "      <td>6edfea5c-4125-49fa-bbe7-b39433f6e49a</td>\n",
       "      <td>ed310df0-6834-4899-811e-5faf13b2a99c</td>\n",
       "      <td>ef1756b6-354c-4ea4-b175-4eba835b60a5</td>\n",
       "      <td>e573e2d3-39af-4f71-97df-bf400e854a8a</td>\n",
       "      <td>cash_out_type_3</td>\n",
       "      <td>0.000001</td>\n",
       "      <td>0.000572</td>\n",
       "      <td>NaN</td>\n",
       "      <td>2018-10-29 15:20:49</td>\n",
       "      <td>NaN</td>\n",
       "    </tr>\n",
       "    <tr>\n",
       "      <th>4</th>\n",
       "      <td>6aff8f2d-0730-4f94-846b-14c059550ab2</td>\n",
       "      <td>88ddff46-6714-4a47-9407-a7d54996dde1</td>\n",
       "      <td>ed310df0-6834-4899-811e-5faf13b2a99c</td>\n",
       "      <td>ef1756b6-354c-4ea4-b175-4eba835b60a5</td>\n",
       "      <td>88f94e8a-0145-489f-9f1d-d4755456e965</td>\n",
       "      <td>cash_out_type_3</td>\n",
       "      <td>0.000045</td>\n",
       "      <td>0.000346</td>\n",
       "      <td>NaN</td>\n",
       "      <td>2018-10-31 12:06:08</td>\n",
       "      <td>NaN</td>\n",
       "    </tr>\n",
       "  </tbody>\n",
       "</table>\n",
       "</div>"
      ],
      "text/plain": [
       "                           operation_id                            request_id  \\\n",
       "0  37e105f1-003f-465b-8179-e7705b12a24d  c1820b88-ac54-444f-b9a0-70de30124d95   \n",
       "1  72d66c19-130b-4d51-8ed7-e3b6c0b65034  9400a9f4-6ab8-40cd-b806-1569b693a88e   \n",
       "2  31abd386-09f7-4f18-9b01-d2682e3c2c65  80adf85b-56cc-4730-903d-e63c75ae839a   \n",
       "3  27543733-e8a8-4593-88fb-921e205a6e0c  6edfea5c-4125-49fa-bbe7-b39433f6e49a   \n",
       "4  6aff8f2d-0730-4f94-846b-14c059550ab2  88ddff46-6714-4a47-9407-a7d54996dde1   \n",
       "\n",
       "                             account_id                             device_id  \\\n",
       "0  a7b4f041-ef6a-4e17-baf9-cd471ef0f484  ef1756b6-354c-4ea4-b175-4eba835b60a5   \n",
       "1  ed310df0-6834-4899-811e-5faf13b2a99c  ef1756b6-354c-4ea4-b175-4eba835b60a5   \n",
       "2  ed310df0-6834-4899-811e-5faf13b2a99c  ef1756b6-354c-4ea4-b175-4eba835b60a5   \n",
       "3  ed310df0-6834-4899-811e-5faf13b2a99c  ef1756b6-354c-4ea4-b175-4eba835b60a5   \n",
       "4  ed310df0-6834-4899-811e-5faf13b2a99c  ef1756b6-354c-4ea4-b175-4eba835b60a5   \n",
       "\n",
       "                  counterparty_document   operation_type   amount  balance  \\\n",
       "0  38e6f7c9-e935-4c7c-8915-ef923a5ca914  cash_out_type_1 0.000099 0.000167   \n",
       "1  9bd89feb-e952-47c1-bbf5-d4c17b36d852  cash_out_type_3 0.000013 0.000533   \n",
       "2  9bd89feb-e952-47c1-bbf5-d4c17b36d852  cash_out_type_3 0.000016 0.000347   \n",
       "3  e573e2d3-39af-4f71-97df-bf400e854a8a  cash_out_type_3 0.000001 0.000572   \n",
       "4  88f94e8a-0145-489f-9f1d-d4755456e965  cash_out_type_3 0.000045 0.000346   \n",
       "\n",
       "          requested_at         processed_at is_fraud  \n",
       "0  2018-11-21 15:41:23  2018-11-21 15:41:23      NaN  \n",
       "1                  NaN  2018-10-22 23:43:38      NaN  \n",
       "2  2018-11-19 16:11:57  2018-11-19 16:12:00      NaN  \n",
       "3                  NaN  2018-10-29 15:20:49      NaN  \n",
       "4                  NaN  2018-10-31 12:06:08      NaN  "
      ]
     },
     "execution_count": 6,
     "metadata": {},
     "output_type": "execute_result"
    }
   ],
   "source": [
    "labeled_transactions = pd.read_csv('files/processed_labeled_transactions.csv')\n",
    "labeled_transactions.head()"
   ]
  },
  {
   "cell_type": "code",
   "execution_count": 7,
   "id": "798c3e3f-a53c-4c8a-9c32-6274bd50926f",
   "metadata": {
    "tags": []
   },
   "outputs": [
    {
     "name": "stdout",
     "output_type": "stream",
     "text": [
      "<class 'pandas.core.frame.DataFrame'>\n",
      "RangeIndex: 940935 entries, 0 to 940934\n",
      "Data columns (total 11 columns):\n",
      " #   Column                 Non-Null Count   Dtype  \n",
      "---  ------                 --------------   -----  \n",
      " 0   operation_id           940766 non-null  object \n",
      " 1   request_id             940935 non-null  object \n",
      " 2   account_id             940935 non-null  object \n",
      " 3   device_id              940935 non-null  object \n",
      " 4   counterparty_document  940935 non-null  object \n",
      " 5   operation_type         940935 non-null  object \n",
      " 6   amount                 940935 non-null  float64\n",
      " 7   balance                886975 non-null  float64\n",
      " 8   requested_at           396444 non-null  object \n",
      " 9   processed_at           940935 non-null  object \n",
      " 10  is_fraud               1535 non-null    object \n",
      "dtypes: float64(2), object(9)\n",
      "memory usage: 79.0+ MB\n"
     ]
    }
   ],
   "source": [
    "labeled_transactions.info()"
   ]
  },
  {
   "cell_type": "code",
   "execution_count": 8,
   "id": "678f348c-1245-4e3e-9fc4-ce517c8f28de",
   "metadata": {
    "tags": []
   },
   "outputs": [
    {
     "data": {
      "text/plain": [
       "cash_out_type_2    665133\n",
       "cash_out_type_3    260343\n",
       "cash_out_type_1     15449\n",
       "cash_out_type_6        10\n",
       "Name: operation_type, dtype: int64"
      ]
     },
     "execution_count": 8,
     "metadata": {},
     "output_type": "execute_result"
    }
   ],
   "source": [
    "## Operation Types\n",
    "\n",
    "labeled_transactions.operation_type.value_counts(dropna=False)"
   ]
  },
  {
   "cell_type": "code",
   "execution_count": 9,
   "id": "4382bc06-b9a4-49d4-a409-6604efa872db",
   "metadata": {
    "tags": []
   },
   "outputs": [
    {
     "data": {
      "text/plain": [
       "NaN     939400\n",
       "True      1535\n",
       "Name: is_fraud, dtype: int64"
      ]
     },
     "execution_count": 9,
     "metadata": {},
     "output_type": "execute_result"
    }
   ],
   "source": [
    "## frauds\n",
    "\n",
    "labeled_transactions.is_fraud.value_counts(dropna=False)"
   ]
  },
  {
   "cell_type": "code",
   "execution_count": 10,
   "id": "e160afe1-97a4-435a-9cad-9aefae29b8db",
   "metadata": {
    "tags": []
   },
   "outputs": [],
   "source": [
    "## Curious to see if the cashouttype is related to default"
   ]
  },
  {
   "cell_type": "code",
   "execution_count": 11,
   "id": "ffdd2325-3cbf-4f8d-a0cf-f7a695f16bba",
   "metadata": {
    "tags": []
   },
   "outputs": [],
   "source": [
    "lt2 = labeled_transactions.copy(deep=True)\n",
    "\n",
    "lt2['is_fraud'] = lt2['is_fraud'].fillna(False).astype(int)"
   ]
  },
  {
   "cell_type": "code",
   "execution_count": 12,
   "id": "faeba168-58d8-42d3-a8eb-9fb21f8d5ad7",
   "metadata": {
    "tags": []
   },
   "outputs": [
    {
     "data": {
      "text/plain": [
       "1535"
      ]
     },
     "execution_count": 12,
     "metadata": {},
     "output_type": "execute_result"
    }
   ],
   "source": [
    "lt2['is_fraud'].sum()"
   ]
  },
  {
   "cell_type": "code",
   "execution_count": 13,
   "id": "426429b5-7354-4eaa-b5ad-dce407e23612",
   "metadata": {
    "tags": []
   },
   "outputs": [
    {
     "data": {
      "text/plain": [
       "operation_type\n",
       "cash_out_type_1   0.003301\n",
       "cash_out_type_2   0.002097\n",
       "cash_out_type_3   0.000342\n",
       "cash_out_type_6   0.000000\n",
       "Name: is_fraud, dtype: float64"
      ]
     },
     "execution_count": 13,
     "metadata": {},
     "output_type": "execute_result"
    }
   ],
   "source": [
    "lt2.groupby('operation_type').is_fraud.mean()"
   ]
  },
  {
   "cell_type": "markdown",
   "id": "4043de7f-5769-44e9-af63-ef45dd7c6352",
   "metadata": {},
   "source": [
    "There seems to be a relation between frauds and operation type, but since types 3 and 6 are so rare, we should use better metrics to understand this relation. Lets put a pin in that and keep exploring the table."
   ]
  },
  {
   "cell_type": "code",
   "execution_count": 14,
   "id": "38aa8f65-64b6-496f-a572-4060d0735bd6",
   "metadata": {
    "tags": []
   },
   "outputs": [
    {
     "data": {
      "text/plain": [
       "(940935, 11)"
      ]
     },
     "execution_count": 14,
     "metadata": {},
     "output_type": "execute_result"
    }
   ],
   "source": [
    "lt2.shape"
   ]
  },
  {
   "cell_type": "code",
   "execution_count": 15,
   "id": "a6e93164-19e6-46c1-a198-8c3620e067d5",
   "metadata": {
    "tags": []
   },
   "outputs": [
    {
     "data": {
      "text/plain": [
       "1.74328478053833e-05"
      ]
     },
     "execution_count": 15,
     "metadata": {},
     "output_type": "execute_result"
    }
   ],
   "source": [
    "lt2.amount.mean()"
   ]
  },
  {
   "cell_type": "code",
   "execution_count": 16,
   "id": "631c0b04-d9b6-48a0-af7f-9a89e34e3673",
   "metadata": {
    "tags": []
   },
   "outputs": [
    {
     "data": {
      "text/html": [
       "<div>\n",
       "<style scoped>\n",
       "    .dataframe tbody tr th:only-of-type {\n",
       "        vertical-align: middle;\n",
       "    }\n",
       "\n",
       "    .dataframe tbody tr th {\n",
       "        vertical-align: top;\n",
       "    }\n",
       "\n",
       "    .dataframe thead th {\n",
       "        text-align: right;\n",
       "    }\n",
       "</style>\n",
       "<table border=\"1\" class=\"dataframe\">\n",
       "  <thead>\n",
       "    <tr style=\"text-align: right;\">\n",
       "      <th></th>\n",
       "      <th>amount</th>\n",
       "      <th>balance</th>\n",
       "      <th>is_fraud</th>\n",
       "    </tr>\n",
       "  </thead>\n",
       "  <tbody>\n",
       "    <tr>\n",
       "      <th>count</th>\n",
       "      <td>940935.000000</td>\n",
       "      <td>886975.000000</td>\n",
       "      <td>940935.000000</td>\n",
       "    </tr>\n",
       "    <tr>\n",
       "      <th>mean</th>\n",
       "      <td>0.000017</td>\n",
       "      <td>0.000117</td>\n",
       "      <td>0.001631</td>\n",
       "    </tr>\n",
       "    <tr>\n",
       "      <th>std</th>\n",
       "      <td>0.001566</td>\n",
       "      <td>0.000592</td>\n",
       "      <td>0.040357</td>\n",
       "    </tr>\n",
       "    <tr>\n",
       "      <th>min</th>\n",
       "      <td>0.000000</td>\n",
       "      <td>0.000000</td>\n",
       "      <td>0.000000</td>\n",
       "    </tr>\n",
       "    <tr>\n",
       "      <th>25%</th>\n",
       "      <td>0.000001</td>\n",
       "      <td>0.000005</td>\n",
       "      <td>0.000000</td>\n",
       "    </tr>\n",
       "    <tr>\n",
       "      <th>50%</th>\n",
       "      <td>0.000004</td>\n",
       "      <td>0.000014</td>\n",
       "      <td>0.000000</td>\n",
       "    </tr>\n",
       "    <tr>\n",
       "      <th>75%</th>\n",
       "      <td>0.000009</td>\n",
       "      <td>0.000043</td>\n",
       "      <td>0.000000</td>\n",
       "    </tr>\n",
       "    <tr>\n",
       "      <th>max</th>\n",
       "      <td>1.000000</td>\n",
       "      <td>0.076443</td>\n",
       "      <td>1.000000</td>\n",
       "    </tr>\n",
       "  </tbody>\n",
       "</table>\n",
       "</div>"
      ],
      "text/plain": [
       "             amount       balance      is_fraud\n",
       "count 940935.000000 886975.000000 940935.000000\n",
       "mean       0.000017      0.000117      0.001631\n",
       "std        0.001566      0.000592      0.040357\n",
       "min        0.000000      0.000000      0.000000\n",
       "25%        0.000001      0.000005      0.000000\n",
       "50%        0.000004      0.000014      0.000000\n",
       "75%        0.000009      0.000043      0.000000\n",
       "max        1.000000      0.076443      1.000000"
      ]
     },
     "execution_count": 16,
     "metadata": {},
     "output_type": "execute_result"
    }
   ],
   "source": [
    "lt2.describe()"
   ]
  },
  {
   "cell_type": "code",
   "execution_count": 17,
   "id": "da195661-2159-439e-91b8-8e2d3936dc38",
   "metadata": {
    "tags": []
   },
   "outputs": [
    {
     "data": {
      "text/html": [
       "<div>\n",
       "<style scoped>\n",
       "    .dataframe tbody tr th:only-of-type {\n",
       "        vertical-align: middle;\n",
       "    }\n",
       "\n",
       "    .dataframe tbody tr th {\n",
       "        vertical-align: top;\n",
       "    }\n",
       "\n",
       "    .dataframe thead th {\n",
       "        text-align: right;\n",
       "    }\n",
       "</style>\n",
       "<table border=\"1\" class=\"dataframe\">\n",
       "  <thead>\n",
       "    <tr style=\"text-align: right;\">\n",
       "      <th></th>\n",
       "      <th>amount</th>\n",
       "      <th>balance</th>\n",
       "    </tr>\n",
       "    <tr>\n",
       "      <th>is_fraud</th>\n",
       "      <th></th>\n",
       "      <th></th>\n",
       "    </tr>\n",
       "  </thead>\n",
       "  <tbody>\n",
       "    <tr>\n",
       "      <th>0</th>\n",
       "      <td>0.000017</td>\n",
       "      <td>0.000117</td>\n",
       "    </tr>\n",
       "    <tr>\n",
       "      <th>1</th>\n",
       "      <td>0.000019</td>\n",
       "      <td>0.000078</td>\n",
       "    </tr>\n",
       "  </tbody>\n",
       "</table>\n",
       "</div>"
      ],
      "text/plain": [
       "           amount  balance\n",
       "is_fraud                  \n",
       "0        0.000017 0.000117\n",
       "1        0.000019 0.000078"
      ]
     },
     "execution_count": 17,
     "metadata": {},
     "output_type": "execute_result"
    }
   ],
   "source": [
    "# Histplots would give me an better understanding but they are tooking quite a tool on the SageMakers CPU. I'll keep a pin on it and after the feature engineering step, I'll evaluate things with better strategies.\n",
    "\n",
    "lt2.groupby('is_fraud').agg({'amount':'mean', 'balance':'mean'})"
   ]
  },
  {
   "cell_type": "markdown",
   "id": "2e414074-3f4c-4307-a33a-9737f19a6a42",
   "metadata": {},
   "source": [
    "There seems to be a weak relation between balance and frauds, and the amount seems to had undergone some kind of min-max normalization method."
   ]
  },
  {
   "cell_type": "code",
   "execution_count": 18,
   "id": "46068628-6e4c-41f8-acef-ec4dec7adb6b",
   "metadata": {
    "tags": []
   },
   "outputs": [
    {
     "name": "stdout",
     "output_type": "stream",
     "text": [
      "dates are equal:  118766\n",
      "Requests before processes:  277675\n",
      "Requests after processes:  3\n",
      "Some date is missing:  544491\n"
     ]
    }
   ],
   "source": [
    "print(\"dates are equal: \", (lt2.requested_at == lt2.processed_at).sum())\n",
    "print(\"Requests before processes: \", (lt2.requested_at < lt2.processed_at).sum())\n",
    "print(\"Requests after processes: \", (lt2.requested_at > lt2.processed_at).sum())\n",
    "print(\"Some date is missing: \", (lt2[['requested_at', 'processed_at']].isna().max(axis=1).sum()))"
   ]
  },
  {
   "cell_type": "code",
   "execution_count": 19,
   "id": "69bac9de-df86-4b63-bc1b-21ca8dee037f",
   "metadata": {
    "tags": []
   },
   "outputs": [
    {
     "data": {
      "text/plain": [
       "True"
      ]
     },
     "execution_count": 19,
     "metadata": {},
     "output_type": "execute_result"
    }
   ],
   "source": [
    "118766+277675+3+544491 == lt2.shape[0]"
   ]
  },
  {
   "cell_type": "code",
   "execution_count": 20,
   "id": "768da0f5-6198-436c-afb2-7fbfa85e6458",
   "metadata": {
    "tags": []
   },
   "outputs": [
    {
     "data": {
      "text/html": [
       "<div>\n",
       "<style scoped>\n",
       "    .dataframe tbody tr th:only-of-type {\n",
       "        vertical-align: middle;\n",
       "    }\n",
       "\n",
       "    .dataframe tbody tr th {\n",
       "        vertical-align: top;\n",
       "    }\n",
       "\n",
       "    .dataframe thead th {\n",
       "        text-align: right;\n",
       "    }\n",
       "</style>\n",
       "<table border=\"1\" class=\"dataframe\">\n",
       "  <thead>\n",
       "    <tr style=\"text-align: right;\">\n",
       "      <th></th>\n",
       "      <th>operation_id</th>\n",
       "      <th>request_id</th>\n",
       "      <th>account_id</th>\n",
       "      <th>device_id</th>\n",
       "      <th>counterparty_document</th>\n",
       "      <th>operation_type</th>\n",
       "      <th>amount</th>\n",
       "      <th>balance</th>\n",
       "      <th>requested_at</th>\n",
       "      <th>processed_at</th>\n",
       "      <th>is_fraud</th>\n",
       "    </tr>\n",
       "  </thead>\n",
       "  <tbody>\n",
       "    <tr>\n",
       "      <th>351364</th>\n",
       "      <td>80345c1a-8185-4a10-a348-69d671b5dc4a</td>\n",
       "      <td>f8279123-4369-4176-acbb-c6117fb90030</td>\n",
       "      <td>a2205575-7eee-4134-a44d-51c1b488b1f3</td>\n",
       "      <td>0e190681-dc83-438b-ac6c-4b348f6febf3</td>\n",
       "      <td>9d4b9857-3bfe-44bc-90e7-4203f86926ac</td>\n",
       "      <td>cash_out_type_3</td>\n",
       "      <td>0.000000</td>\n",
       "      <td>0.000021</td>\n",
       "      <td>2018-11-16 08:14:49</td>\n",
       "      <td>2018-11-16 08:14:30</td>\n",
       "      <td>0</td>\n",
       "    </tr>\n",
       "    <tr>\n",
       "      <th>488996</th>\n",
       "      <td>1da5656c-9339-4de0-b4f9-ee147a56790f</td>\n",
       "      <td>1f9a7462-48bc-412a-87ca-e46848fd74f1</td>\n",
       "      <td>90d722b7-2e94-4207-84fb-5df9fc1a3666</td>\n",
       "      <td>7ef8ca6f-3711-483d-b3f0-2c1dc7b80611</td>\n",
       "      <td>5266218d-af4f-4141-b774-477a171b188d</td>\n",
       "      <td>cash_out_type_3</td>\n",
       "      <td>0.000002</td>\n",
       "      <td>0.000006</td>\n",
       "      <td>2018-11-16 07:31:50</td>\n",
       "      <td>2018-11-16 07:31:35</td>\n",
       "      <td>0</td>\n",
       "    </tr>\n",
       "    <tr>\n",
       "      <th>557011</th>\n",
       "      <td>6f6dd45b-ed5d-453f-903d-8e849130233f</td>\n",
       "      <td>262ced8d-697e-4a41-a632-49c295c91259</td>\n",
       "      <td>89b7744e-b7a7-489b-b021-5139e74f09de</td>\n",
       "      <td>4a8f2fe4-953e-4283-ab07-d6173e740f6e</td>\n",
       "      <td>f4e053c5-5c26-4a9c-b3e8-6893f7e9d665</td>\n",
       "      <td>cash_out_type_3</td>\n",
       "      <td>0.000002</td>\n",
       "      <td>0.000046</td>\n",
       "      <td>2018-11-16 07:35:50</td>\n",
       "      <td>2018-11-16 07:35:34</td>\n",
       "      <td>0</td>\n",
       "    </tr>\n",
       "  </tbody>\n",
       "</table>\n",
       "</div>"
      ],
      "text/plain": [
       "                                operation_id  \\\n",
       "351364  80345c1a-8185-4a10-a348-69d671b5dc4a   \n",
       "488996  1da5656c-9339-4de0-b4f9-ee147a56790f   \n",
       "557011  6f6dd45b-ed5d-453f-903d-8e849130233f   \n",
       "\n",
       "                                  request_id  \\\n",
       "351364  f8279123-4369-4176-acbb-c6117fb90030   \n",
       "488996  1f9a7462-48bc-412a-87ca-e46848fd74f1   \n",
       "557011  262ced8d-697e-4a41-a632-49c295c91259   \n",
       "\n",
       "                                  account_id  \\\n",
       "351364  a2205575-7eee-4134-a44d-51c1b488b1f3   \n",
       "488996  90d722b7-2e94-4207-84fb-5df9fc1a3666   \n",
       "557011  89b7744e-b7a7-489b-b021-5139e74f09de   \n",
       "\n",
       "                                   device_id  \\\n",
       "351364  0e190681-dc83-438b-ac6c-4b348f6febf3   \n",
       "488996  7ef8ca6f-3711-483d-b3f0-2c1dc7b80611   \n",
       "557011  4a8f2fe4-953e-4283-ab07-d6173e740f6e   \n",
       "\n",
       "                       counterparty_document   operation_type   amount  \\\n",
       "351364  9d4b9857-3bfe-44bc-90e7-4203f86926ac  cash_out_type_3 0.000000   \n",
       "488996  5266218d-af4f-4141-b774-477a171b188d  cash_out_type_3 0.000002   \n",
       "557011  f4e053c5-5c26-4a9c-b3e8-6893f7e9d665  cash_out_type_3 0.000002   \n",
       "\n",
       "        balance         requested_at         processed_at  is_fraud  \n",
       "351364 0.000021  2018-11-16 08:14:49  2018-11-16 08:14:30         0  \n",
       "488996 0.000006  2018-11-16 07:31:50  2018-11-16 07:31:35         0  \n",
       "557011 0.000046  2018-11-16 07:35:50  2018-11-16 07:35:34         0  "
      ]
     },
     "execution_count": 20,
     "metadata": {},
     "output_type": "execute_result"
    }
   ],
   "source": [
    "lt2[lt2.requested_at > lt2.processed_at]"
   ]
  },
  {
   "cell_type": "code",
   "execution_count": 21,
   "id": "8bbf18f9-6070-4dc0-86bd-7d06afa4895e",
   "metadata": {
    "tags": []
   },
   "outputs": [
    {
     "data": {
      "text/html": [
       "<div>\n",
       "<style scoped>\n",
       "    .dataframe tbody tr th:only-of-type {\n",
       "        vertical-align: middle;\n",
       "    }\n",
       "\n",
       "    .dataframe tbody tr th {\n",
       "        vertical-align: top;\n",
       "    }\n",
       "\n",
       "    .dataframe thead th {\n",
       "        text-align: right;\n",
       "    }\n",
       "</style>\n",
       "<table border=\"1\" class=\"dataframe\">\n",
       "  <thead>\n",
       "    <tr style=\"text-align: right;\">\n",
       "      <th></th>\n",
       "      <th>operation_id</th>\n",
       "      <th>request_id</th>\n",
       "      <th>account_id</th>\n",
       "      <th>device_id</th>\n",
       "      <th>counterparty_document</th>\n",
       "      <th>operation_type</th>\n",
       "      <th>amount</th>\n",
       "      <th>balance</th>\n",
       "      <th>requested_at</th>\n",
       "      <th>processed_at</th>\n",
       "      <th>is_fraud</th>\n",
       "    </tr>\n",
       "  </thead>\n",
       "  <tbody>\n",
       "    <tr>\n",
       "      <th>0</th>\n",
       "      <td>37e105f1-003f-465b-8179-e7705b12a24d</td>\n",
       "      <td>c1820b88-ac54-444f-b9a0-70de30124d95</td>\n",
       "      <td>a7b4f041-ef6a-4e17-baf9-cd471ef0f484</td>\n",
       "      <td>ef1756b6-354c-4ea4-b175-4eba835b60a5</td>\n",
       "      <td>38e6f7c9-e935-4c7c-8915-ef923a5ca914</td>\n",
       "      <td>cash_out_type_1</td>\n",
       "      <td>0.000099</td>\n",
       "      <td>0.000167</td>\n",
       "      <td>2018-11-21 15:41:23</td>\n",
       "      <td>2018-11-21 15:41:23</td>\n",
       "      <td>0</td>\n",
       "    </tr>\n",
       "    <tr>\n",
       "      <th>1</th>\n",
       "      <td>72d66c19-130b-4d51-8ed7-e3b6c0b65034</td>\n",
       "      <td>9400a9f4-6ab8-40cd-b806-1569b693a88e</td>\n",
       "      <td>ed310df0-6834-4899-811e-5faf13b2a99c</td>\n",
       "      <td>ef1756b6-354c-4ea4-b175-4eba835b60a5</td>\n",
       "      <td>9bd89feb-e952-47c1-bbf5-d4c17b36d852</td>\n",
       "      <td>cash_out_type_3</td>\n",
       "      <td>0.000013</td>\n",
       "      <td>0.000533</td>\n",
       "      <td>NaN</td>\n",
       "      <td>2018-10-22 23:43:38</td>\n",
       "      <td>0</td>\n",
       "    </tr>\n",
       "    <tr>\n",
       "      <th>2</th>\n",
       "      <td>31abd386-09f7-4f18-9b01-d2682e3c2c65</td>\n",
       "      <td>80adf85b-56cc-4730-903d-e63c75ae839a</td>\n",
       "      <td>ed310df0-6834-4899-811e-5faf13b2a99c</td>\n",
       "      <td>ef1756b6-354c-4ea4-b175-4eba835b60a5</td>\n",
       "      <td>9bd89feb-e952-47c1-bbf5-d4c17b36d852</td>\n",
       "      <td>cash_out_type_3</td>\n",
       "      <td>0.000016</td>\n",
       "      <td>0.000347</td>\n",
       "      <td>2018-11-19 16:11:57</td>\n",
       "      <td>2018-11-19 16:12:00</td>\n",
       "      <td>0</td>\n",
       "    </tr>\n",
       "    <tr>\n",
       "      <th>3</th>\n",
       "      <td>27543733-e8a8-4593-88fb-921e205a6e0c</td>\n",
       "      <td>6edfea5c-4125-49fa-bbe7-b39433f6e49a</td>\n",
       "      <td>ed310df0-6834-4899-811e-5faf13b2a99c</td>\n",
       "      <td>ef1756b6-354c-4ea4-b175-4eba835b60a5</td>\n",
       "      <td>e573e2d3-39af-4f71-97df-bf400e854a8a</td>\n",
       "      <td>cash_out_type_3</td>\n",
       "      <td>0.000001</td>\n",
       "      <td>0.000572</td>\n",
       "      <td>NaN</td>\n",
       "      <td>2018-10-29 15:20:49</td>\n",
       "      <td>0</td>\n",
       "    </tr>\n",
       "    <tr>\n",
       "      <th>4</th>\n",
       "      <td>6aff8f2d-0730-4f94-846b-14c059550ab2</td>\n",
       "      <td>88ddff46-6714-4a47-9407-a7d54996dde1</td>\n",
       "      <td>ed310df0-6834-4899-811e-5faf13b2a99c</td>\n",
       "      <td>ef1756b6-354c-4ea4-b175-4eba835b60a5</td>\n",
       "      <td>88f94e8a-0145-489f-9f1d-d4755456e965</td>\n",
       "      <td>cash_out_type_3</td>\n",
       "      <td>0.000045</td>\n",
       "      <td>0.000346</td>\n",
       "      <td>NaN</td>\n",
       "      <td>2018-10-31 12:06:08</td>\n",
       "      <td>0</td>\n",
       "    </tr>\n",
       "  </tbody>\n",
       "</table>\n",
       "</div>"
      ],
      "text/plain": [
       "                           operation_id                            request_id  \\\n",
       "0  37e105f1-003f-465b-8179-e7705b12a24d  c1820b88-ac54-444f-b9a0-70de30124d95   \n",
       "1  72d66c19-130b-4d51-8ed7-e3b6c0b65034  9400a9f4-6ab8-40cd-b806-1569b693a88e   \n",
       "2  31abd386-09f7-4f18-9b01-d2682e3c2c65  80adf85b-56cc-4730-903d-e63c75ae839a   \n",
       "3  27543733-e8a8-4593-88fb-921e205a6e0c  6edfea5c-4125-49fa-bbe7-b39433f6e49a   \n",
       "4  6aff8f2d-0730-4f94-846b-14c059550ab2  88ddff46-6714-4a47-9407-a7d54996dde1   \n",
       "\n",
       "                             account_id                             device_id  \\\n",
       "0  a7b4f041-ef6a-4e17-baf9-cd471ef0f484  ef1756b6-354c-4ea4-b175-4eba835b60a5   \n",
       "1  ed310df0-6834-4899-811e-5faf13b2a99c  ef1756b6-354c-4ea4-b175-4eba835b60a5   \n",
       "2  ed310df0-6834-4899-811e-5faf13b2a99c  ef1756b6-354c-4ea4-b175-4eba835b60a5   \n",
       "3  ed310df0-6834-4899-811e-5faf13b2a99c  ef1756b6-354c-4ea4-b175-4eba835b60a5   \n",
       "4  ed310df0-6834-4899-811e-5faf13b2a99c  ef1756b6-354c-4ea4-b175-4eba835b60a5   \n",
       "\n",
       "                  counterparty_document   operation_type   amount  balance  \\\n",
       "0  38e6f7c9-e935-4c7c-8915-ef923a5ca914  cash_out_type_1 0.000099 0.000167   \n",
       "1  9bd89feb-e952-47c1-bbf5-d4c17b36d852  cash_out_type_3 0.000013 0.000533   \n",
       "2  9bd89feb-e952-47c1-bbf5-d4c17b36d852  cash_out_type_3 0.000016 0.000347   \n",
       "3  e573e2d3-39af-4f71-97df-bf400e854a8a  cash_out_type_3 0.000001 0.000572   \n",
       "4  88f94e8a-0145-489f-9f1d-d4755456e965  cash_out_type_3 0.000045 0.000346   \n",
       "\n",
       "          requested_at         processed_at  is_fraud  \n",
       "0  2018-11-21 15:41:23  2018-11-21 15:41:23         0  \n",
       "1                  NaN  2018-10-22 23:43:38         0  \n",
       "2  2018-11-19 16:11:57  2018-11-19 16:12:00         0  \n",
       "3                  NaN  2018-10-29 15:20:49         0  \n",
       "4                  NaN  2018-10-31 12:06:08         0  "
      ]
     },
     "execution_count": 21,
     "metadata": {},
     "output_type": "execute_result"
    }
   ],
   "source": [
    "lt2.head()"
   ]
  },
  {
   "cell_type": "code",
   "execution_count": 22,
   "id": "fbde200f-da06-45a6-884c-3ec43d078aa9",
   "metadata": {
    "tags": []
   },
   "outputs": [
    {
     "data": {
      "text/plain": [
       "count                       396444\n",
       "mean     0 days 02:41:21.237400490\n",
       "std      0 days 19:48:52.547760912\n",
       "min              -1 days +23:59:41\n",
       "1%                 0 days 00:00:00\n",
       "10%                0 days 00:00:00\n",
       "25%                0 days 00:00:00\n",
       "50%                0 days 00:00:01\n",
       "75%                0 days 00:00:03\n",
       "90%                0 days 00:00:07\n",
       "95%                0 days 13:40:07\n",
       "99%         2 days 11:48:56.560000\n",
       "max               81 days 21:50:37\n",
       "dtype: object"
      ]
     },
     "execution_count": 22,
     "metadata": {},
     "output_type": "execute_result"
    }
   ],
   "source": [
    "(pd.to_datetime(lt2.processed_at) - pd.to_datetime(lt2.requested_at)).describe(percentiles=[0.01, 0.1, 0.25, 0.5, 0.75, 0.9, 0.95, 0.99])"
   ]
  },
  {
   "cell_type": "code",
   "execution_count": 23,
   "id": "43e2a926-e5ce-4ba5-921f-c733b776d701",
   "metadata": {
    "tags": []
   },
   "outputs": [
    {
     "data": {
      "text/plain": [
       "operation_id            0.000180\n",
       "request_id              0.000000\n",
       "account_id              0.000000\n",
       "device_id               0.000000\n",
       "counterparty_document   0.000000\n",
       "operation_type          0.000000\n",
       "amount                  0.000000\n",
       "balance                 0.057347\n",
       "requested_at            0.578670\n",
       "processed_at            0.000000\n",
       "is_fraud                0.000000\n",
       "dtype: float64"
      ]
     },
     "execution_count": 23,
     "metadata": {},
     "output_type": "execute_result"
    }
   ],
   "source": [
    "lt2.isna().mean()"
   ]
  },
  {
   "cell_type": "markdown",
   "id": "a1fa40e9-d7ff-47b3-b883-69142a766265",
   "metadata": {},
   "source": [
    "Dates seems to be behaving quite normally, with most transactions having the same request and processed times (or virtually the same). The 3 times the request happened after the processing is some kind of bad data so irrelevant we could either ignore it or remove it.\n",
    "\n",
    "Basically this is the heart of the case, having the label we are going to use to model our binary classifier. It has a lot of ID's, two timestamps that are virtually the same whenever they exists (we can create features regarding their similarity still), an amount and a balance that ranges from 0 to 1 and from 0 to ~0.07 respectively."
   ]
  },
  {
   "cell_type": "markdown",
   "id": "513ab207-8f7d-4d5a-9322-970ab0e0bc48",
   "metadata": {},
   "source": [
    "### Organizations Metadata"
   ]
  },
  {
   "cell_type": "code",
   "execution_count": 24,
   "id": "836e605c-c446-4d35-a7f2-7f63a9e5b608",
   "metadata": {
    "tags": []
   },
   "outputs": [
    {
     "data": {
      "text/html": [
       "<div>\n",
       "<style scoped>\n",
       "    .dataframe tbody tr th:only-of-type {\n",
       "        vertical-align: middle;\n",
       "    }\n",
       "\n",
       "    .dataframe tbody tr th {\n",
       "        vertical-align: top;\n",
       "    }\n",
       "\n",
       "    .dataframe thead th {\n",
       "        text-align: right;\n",
       "    }\n",
       "</style>\n",
       "<table border=\"1\" class=\"dataframe\">\n",
       "  <thead>\n",
       "    <tr style=\"text-align: right;\">\n",
       "      <th></th>\n",
       "      <th>id</th>\n",
       "      <th>organization_id</th>\n",
       "      <th>type</th>\n",
       "      <th>value</th>\n",
       "      <th>inserted_at</th>\n",
       "      <th>updated_at</th>\n",
       "    </tr>\n",
       "  </thead>\n",
       "  <tbody>\n",
       "    <tr>\n",
       "      <th>0</th>\n",
       "      <td>8a442911-65db-42a3-8063-2e8e2ddab984</td>\n",
       "      <td>417b2d7c-8a26-483b-920a-cc283095d044</td>\n",
       "      <td>user_is_partner</td>\n",
       "      <td>{\"mei\": false, \"partner\": true, \"user_id\": \"f3...</td>\n",
       "      <td>2018-11-25 02:31:05.472505</td>\n",
       "      <td>2018-11-25 02:31:05.472505</td>\n",
       "    </tr>\n",
       "    <tr>\n",
       "      <th>1</th>\n",
       "      <td>fa84c1d4-9362-472f-8ef9-aa14768deb22</td>\n",
       "      <td>417b2d7c-8a26-483b-920a-cc283095d044</td>\n",
       "      <td>organization_type</td>\n",
       "      <td>ME</td>\n",
       "      <td>2018-11-25 02:31:05.518456</td>\n",
       "      <td>2018-11-25 02:31:05.518456</td>\n",
       "    </tr>\n",
       "    <tr>\n",
       "      <th>2</th>\n",
       "      <td>089a96b0-8e31-4303-9b8f-e8eabd126b51</td>\n",
       "      <td>f4745c03-2491-49f1-953b-461fc7f72cf5</td>\n",
       "      <td>user_is_partner</td>\n",
       "      <td>{\"mei\": true, \"partner\": true, \"user_id\": \"dcd...</td>\n",
       "      <td>2018-11-25 02:36:04.694632</td>\n",
       "      <td>2018-11-25 02:36:04.694632</td>\n",
       "    </tr>\n",
       "    <tr>\n",
       "      <th>3</th>\n",
       "      <td>ebe81aa1-7076-47a9-a929-0555167b6d35</td>\n",
       "      <td>f4745c03-2491-49f1-953b-461fc7f72cf5</td>\n",
       "      <td>organization_type</td>\n",
       "      <td>ME</td>\n",
       "      <td>2018-11-25 02:36:04.605196</td>\n",
       "      <td>2018-11-25 02:36:04.605196</td>\n",
       "    </tr>\n",
       "    <tr>\n",
       "      <th>4</th>\n",
       "      <td>b301ec68-9042-4a74-88f4-82b3256d0137</td>\n",
       "      <td>b208f531-9beb-44ae-991c-effca11da1e5</td>\n",
       "      <td>user_is_partner</td>\n",
       "      <td>{\"mei\": true, \"partner\": true, \"user_id\": \"5c9...</td>\n",
       "      <td>2018-11-25 02:41:44.953192</td>\n",
       "      <td>2018-11-25 02:41:44.953192</td>\n",
       "    </tr>\n",
       "  </tbody>\n",
       "</table>\n",
       "</div>"
      ],
      "text/plain": [
       "                                     id                       organization_id  \\\n",
       "0  8a442911-65db-42a3-8063-2e8e2ddab984  417b2d7c-8a26-483b-920a-cc283095d044   \n",
       "1  fa84c1d4-9362-472f-8ef9-aa14768deb22  417b2d7c-8a26-483b-920a-cc283095d044   \n",
       "2  089a96b0-8e31-4303-9b8f-e8eabd126b51  f4745c03-2491-49f1-953b-461fc7f72cf5   \n",
       "3  ebe81aa1-7076-47a9-a929-0555167b6d35  f4745c03-2491-49f1-953b-461fc7f72cf5   \n",
       "4  b301ec68-9042-4a74-88f4-82b3256d0137  b208f531-9beb-44ae-991c-effca11da1e5   \n",
       "\n",
       "                type                                              value  \\\n",
       "0    user_is_partner  {\"mei\": false, \"partner\": true, \"user_id\": \"f3...   \n",
       "1  organization_type                                                 ME   \n",
       "2    user_is_partner  {\"mei\": true, \"partner\": true, \"user_id\": \"dcd...   \n",
       "3  organization_type                                                 ME   \n",
       "4    user_is_partner  {\"mei\": true, \"partner\": true, \"user_id\": \"5c9...   \n",
       "\n",
       "                  inserted_at                  updated_at  \n",
       "0  2018-11-25 02:31:05.472505  2018-11-25 02:31:05.472505  \n",
       "1  2018-11-25 02:31:05.518456  2018-11-25 02:31:05.518456  \n",
       "2  2018-11-25 02:36:04.694632  2018-11-25 02:36:04.694632  \n",
       "3  2018-11-25 02:36:04.605196  2018-11-25 02:36:04.605196  \n",
       "4  2018-11-25 02:41:44.953192  2018-11-25 02:41:44.953192  "
      ]
     },
     "execution_count": 24,
     "metadata": {},
     "output_type": "execute_result"
    }
   ],
   "source": [
    "organizations_metadata = pd.read_csv('files/processed_organizations_metadata.csv')\n",
    "organizations_metadata.head()"
   ]
  },
  {
   "cell_type": "code",
   "execution_count": 25,
   "id": "22eb370b-b49b-4593-8c9c-3fd3dc22ff5f",
   "metadata": {
    "tags": []
   },
   "outputs": [
    {
     "name": "stdout",
     "output_type": "stream",
     "text": [
      "<class 'pandas.core.frame.DataFrame'>\n",
      "RangeIndex: 292433 entries, 0 to 292432\n",
      "Data columns (total 6 columns):\n",
      " #   Column           Non-Null Count   Dtype \n",
      "---  ------           --------------   ----- \n",
      " 0   id               292433 non-null  object\n",
      " 1   organization_id  292433 non-null  object\n",
      " 2   type             292433 non-null  object\n",
      " 3   value            271191 non-null  object\n",
      " 4   inserted_at      292433 non-null  object\n",
      " 5   updated_at       292433 non-null  object\n",
      "dtypes: object(6)\n",
      "memory usage: 13.4+ MB\n"
     ]
    }
   ],
   "source": [
    "organizations_metadata.info()"
   ]
  },
  {
   "cell_type": "code",
   "execution_count": 26,
   "id": "8c86d697-9d01-4742-b7a9-f490a299ab1a",
   "metadata": {
    "tags": []
   },
   "outputs": [
    {
     "data": {
      "text/plain": [
       "organization_type    244235\n",
       "user_is_partner       48198\n",
       "Name: type, dtype: int64"
      ]
     },
     "execution_count": 26,
     "metadata": {},
     "output_type": "execute_result"
    }
   ],
   "source": [
    "organizations_metadata.type.value_counts(dropna=False)"
   ]
  },
  {
   "cell_type": "code",
   "execution_count": 27,
   "id": "c8f4cece-f540-4288-b932-92b140c1fd6f",
   "metadata": {
    "tags": []
   },
   "outputs": [
    {
     "data": {
      "text/html": [
       "<div>\n",
       "<style scoped>\n",
       "    .dataframe tbody tr th:only-of-type {\n",
       "        vertical-align: middle;\n",
       "    }\n",
       "\n",
       "    .dataframe tbody tr th {\n",
       "        vertical-align: top;\n",
       "    }\n",
       "\n",
       "    .dataframe thead th {\n",
       "        text-align: right;\n",
       "    }\n",
       "</style>\n",
       "<table border=\"1\" class=\"dataframe\">\n",
       "  <thead>\n",
       "    <tr style=\"text-align: right;\">\n",
       "      <th></th>\n",
       "      <th>id</th>\n",
       "      <th>organization_id</th>\n",
       "      <th>type</th>\n",
       "      <th>value</th>\n",
       "      <th>inserted_at</th>\n",
       "      <th>updated_at</th>\n",
       "    </tr>\n",
       "  </thead>\n",
       "  <tbody>\n",
       "    <tr>\n",
       "      <th>1</th>\n",
       "      <td>fa84c1d4-9362-472f-8ef9-aa14768deb22</td>\n",
       "      <td>417b2d7c-8a26-483b-920a-cc283095d044</td>\n",
       "      <td>organization_type</td>\n",
       "      <td>ME</td>\n",
       "      <td>2018-11-25 02:31:05.518456</td>\n",
       "      <td>2018-11-25 02:31:05.518456</td>\n",
       "    </tr>\n",
       "    <tr>\n",
       "      <th>3</th>\n",
       "      <td>ebe81aa1-7076-47a9-a929-0555167b6d35</td>\n",
       "      <td>f4745c03-2491-49f1-953b-461fc7f72cf5</td>\n",
       "      <td>organization_type</td>\n",
       "      <td>ME</td>\n",
       "      <td>2018-11-25 02:36:04.605196</td>\n",
       "      <td>2018-11-25 02:36:04.605196</td>\n",
       "    </tr>\n",
       "    <tr>\n",
       "      <th>5</th>\n",
       "      <td>b0c366c5-2901-4f68-8bb4-92a612fe9350</td>\n",
       "      <td>b208f531-9beb-44ae-991c-effca11da1e5</td>\n",
       "      <td>organization_type</td>\n",
       "      <td>ME</td>\n",
       "      <td>2018-11-25 02:41:44.862583</td>\n",
       "      <td>2018-11-25 02:41:44.862583</td>\n",
       "    </tr>\n",
       "    <tr>\n",
       "      <th>7</th>\n",
       "      <td>2c7da962-0aee-4603-b1ab-d8b0c81f2283</td>\n",
       "      <td>02b9eb4f-e25e-4ac7-a4c7-a3e0cef53968</td>\n",
       "      <td>organization_type</td>\n",
       "      <td>ME</td>\n",
       "      <td>2018-11-25 02:48:19.247844</td>\n",
       "      <td>2018-11-25 02:48:19.247844</td>\n",
       "    </tr>\n",
       "    <tr>\n",
       "      <th>9</th>\n",
       "      <td>f6922f73-302a-40dc-9456-35a635287759</td>\n",
       "      <td>c05a9e40-a8e7-4ebf-a72c-06c00f1a8f89</td>\n",
       "      <td>organization_type</td>\n",
       "      <td>ME</td>\n",
       "      <td>2018-11-25 02:55:30.487795</td>\n",
       "      <td>2018-11-25 02:55:30.487795</td>\n",
       "    </tr>\n",
       "  </tbody>\n",
       "</table>\n",
       "</div>"
      ],
      "text/plain": [
       "                                     id                       organization_id  \\\n",
       "1  fa84c1d4-9362-472f-8ef9-aa14768deb22  417b2d7c-8a26-483b-920a-cc283095d044   \n",
       "3  ebe81aa1-7076-47a9-a929-0555167b6d35  f4745c03-2491-49f1-953b-461fc7f72cf5   \n",
       "5  b0c366c5-2901-4f68-8bb4-92a612fe9350  b208f531-9beb-44ae-991c-effca11da1e5   \n",
       "7  2c7da962-0aee-4603-b1ab-d8b0c81f2283  02b9eb4f-e25e-4ac7-a4c7-a3e0cef53968   \n",
       "9  f6922f73-302a-40dc-9456-35a635287759  c05a9e40-a8e7-4ebf-a72c-06c00f1a8f89   \n",
       "\n",
       "                type value                 inserted_at  \\\n",
       "1  organization_type    ME  2018-11-25 02:31:05.518456   \n",
       "3  organization_type    ME  2018-11-25 02:36:04.605196   \n",
       "5  organization_type    ME  2018-11-25 02:41:44.862583   \n",
       "7  organization_type    ME  2018-11-25 02:48:19.247844   \n",
       "9  organization_type    ME  2018-11-25 02:55:30.487795   \n",
       "\n",
       "                   updated_at  \n",
       "1  2018-11-25 02:31:05.518456  \n",
       "3  2018-11-25 02:36:04.605196  \n",
       "5  2018-11-25 02:41:44.862583  \n",
       "7  2018-11-25 02:48:19.247844  \n",
       "9  2018-11-25 02:55:30.487795  "
      ]
     },
     "execution_count": 27,
     "metadata": {},
     "output_type": "execute_result"
    }
   ],
   "source": [
    "organizations_metadata[organizations_metadata.type == 'organization_type'].head()"
   ]
  },
  {
   "cell_type": "code",
   "execution_count": 28,
   "id": "23744b2f-b2f8-4b8b-b436-6b2b60c66267",
   "metadata": {
    "tags": []
   },
   "outputs": [
    {
     "data": {
      "text/plain": [
       "ME              202518\n",
       "NaN              21242\n",
       "EPP              12655\n",
       "Other             7817\n",
       "Not informed         3\n",
       "Name: value, dtype: int64"
      ]
     },
     "execution_count": 28,
     "metadata": {},
     "output_type": "execute_result"
    }
   ],
   "source": [
    "organizations_metadata[organizations_metadata.type == 'organization_type'].value.value_counts(dropna=False)"
   ]
  },
  {
   "cell_type": "code",
   "execution_count": 29,
   "id": "db8aa361-9efd-4721-8ad5-e15e0d709253",
   "metadata": {
    "tags": []
   },
   "outputs": [
    {
     "data": {
      "text/plain": [
       "{\"mei\": false, \"partner\": true, \"user_id\": \"4364fecc-17ad-4b14-a30e-11b843029638\"}                      12\n",
       "{\"mei\": false, \"partner\": false, \"user_id\": \"d3566696-9b5a-4e75-b615-5c086317e18b\"}                      8\n",
       "{\"mei\": false, \"partner\": true, \"user_id\": \"749678c1-484f-44fe-a4c6-c95784ab900c\"}                       8\n",
       "{\"mei\": false, \"eireli\": false, \"partner\": false, \"user_id\": \"e7132bd3-64c8-40a1-a6a7-110bd96a45a9\"}     6\n",
       "{\"mei\": false, \"partner\": false, \"user_id\": \"3f1fcbca-11c4-4b79-b3b0-4e9fe2d2b52c\"}                      5\n",
       "Name: value, dtype: int64"
      ]
     },
     "execution_count": 29,
     "metadata": {},
     "output_type": "execute_result"
    }
   ],
   "source": [
    "organizations_metadata[~(organizations_metadata.type == 'organization_type')].value.value_counts(dropna=False).head()"
   ]
  },
  {
   "cell_type": "markdown",
   "id": "30841549-01c1-4808-aa85-c61b54214822",
   "metadata": {},
   "source": [
    "Ok, they did not make it easy for me here. \"value\" seems to mean different things whenever the type changes, so one of the first things I'll do when I'm working on this table is separating it in two separate entities."
   ]
  },
  {
   "cell_type": "code",
   "execution_count": 30,
   "id": "68c30d89-d148-4068-85b7-f9d3694841ab",
   "metadata": {
    "tags": []
   },
   "outputs": [],
   "source": [
    "omot = organizations_metadata[(organizations_metadata.type == 'organization_type')].copy(deep=True)\n",
    "omup = organizations_metadata[~(organizations_metadata.type == 'organization_type')].copy(deep=True)"
   ]
  },
  {
   "cell_type": "code",
   "execution_count": 31,
   "id": "090699db-d4e8-4803-a7f4-819de0abe20b",
   "metadata": {
    "tags": []
   },
   "outputs": [
    {
     "data": {
      "text/plain": [
       "(48198, 6)"
      ]
     },
     "execution_count": 31,
     "metadata": {},
     "output_type": "execute_result"
    }
   ],
   "source": [
    "omup.shape"
   ]
  },
  {
   "cell_type": "markdown",
   "id": "f4b9eb3c-4f99-47cb-a95d-c14e686cdd3b",
   "metadata": {},
   "source": [
    "I've peeked that the keys are not always the same so I'll try to infer which are the possible keys"
   ]
  },
  {
   "cell_type": "code",
   "execution_count": 32,
   "id": "b436ab74-b043-487a-849e-528d2b04ff8c",
   "metadata": {
    "tags": []
   },
   "outputs": [
    {
     "data": {
      "text/plain": [
       "'{\"mei\": false, \"partner\": true, \"user_id\": \"f30ed2d8-4eda-4f80-ac87-1e0d85100093\"}'"
      ]
     },
     "execution_count": 32,
     "metadata": {},
     "output_type": "execute_result"
    }
   ],
   "source": [
    "omup['value'][0]"
   ]
  },
  {
   "cell_type": "code",
   "execution_count": 33,
   "id": "5586ce5c-894a-483f-a0f4-3b9e09401be9",
   "metadata": {
    "tags": []
   },
   "outputs": [
    {
     "data": {
      "text/plain": [
       "{'mei': False,\n",
       " 'partner': True,\n",
       " 'user_id': 'f30ed2d8-4eda-4f80-ac87-1e0d85100093'}"
      ]
     },
     "execution_count": 33,
     "metadata": {},
     "output_type": "execute_result"
    }
   ],
   "source": [
    "eval(omup['value'][0].replace(\"false\", \"False\").replace(\"true\", \"True\"))"
   ]
  },
  {
   "cell_type": "code",
   "execution_count": 34,
   "id": "0117bd47-d544-4815-bddb-338d7acfbe91",
   "metadata": {
    "tags": []
   },
   "outputs": [
    {
     "data": {
      "text/plain": [
       "['mei', 'partner', 'user_id']"
      ]
     },
     "execution_count": 34,
     "metadata": {},
     "output_type": "execute_result"
    }
   ],
   "source": [
    "list(eval(omup['value'][0].replace(\"false\", \"False\").replace(\"true\", \"True\")).keys())"
   ]
  },
  {
   "cell_type": "code",
   "execution_count": 35,
   "id": "43600136-df95-4ef8-8735-f7fbfdec5ea8",
   "metadata": {
    "tags": []
   },
   "outputs": [],
   "source": [
    "get_keys = lambda x: list(eval(x.replace(\"false\", \"False\").replace(\"true\", \"True\")).keys())"
   ]
  },
  {
   "cell_type": "code",
   "execution_count": 36,
   "id": "7796f333-b558-4a09-9e4b-8506eeb30388",
   "metadata": {
    "tags": []
   },
   "outputs": [
    {
     "data": {
      "text/plain": [
       "[mei, partner, user_id]            45722\n",
       "[mei, eireli, partner, user_id]     2476\n",
       "Name: keys, dtype: int64"
      ]
     },
     "execution_count": 36,
     "metadata": {},
     "output_type": "execute_result"
    }
   ],
   "source": [
    "## Small table, we can .apply without much trouble\n",
    "\n",
    "omup['keys'] = omup['value'].fillna(\"{}\").apply(get_keys)\n",
    "omup['keys'].value_counts(dropna=False)"
   ]
  },
  {
   "cell_type": "markdown",
   "id": "352e238f-f021-4f8f-8509-9c8753c6a660",
   "metadata": {},
   "source": [
    "Ok, we have some eireli key that means nothing for me but I'll use it."
   ]
  },
  {
   "cell_type": "code",
   "execution_count": 37,
   "id": "af75adc2-339c-4edd-b300-b97f4af9c28d",
   "metadata": {
    "tags": []
   },
   "outputs": [
    {
     "name": "stdout",
     "output_type": "stream",
     "text": [
      "dates are equal:  37287\n",
      "Inserted before update:  10911\n",
      "Inserted after update:  0\n",
      "Some date is missing:  0\n"
     ]
    }
   ],
   "source": [
    "print(\"dates are equal: \", (omup.inserted_at == omup.updated_at).sum())\n",
    "print(\"Inserted before update: \", (omup.inserted_at < omup.updated_at).sum())\n",
    "print(\"Inserted after update: \", (omup.inserted_at > omup.updated_at).sum())\n",
    "print(\"Some date is missing: \", (omup[['inserted_at', 'updated_at']].isna().max(axis=1).sum()))"
   ]
  },
  {
   "cell_type": "code",
   "execution_count": 38,
   "id": "a7978970-3172-47dd-944f-cf700890964a",
   "metadata": {
    "tags": []
   },
   "outputs": [
    {
     "data": {
      "text/plain": [
       "count                        48198\n",
       "mean     0 days 15:05:27.275045290\n",
       "std      2 days 14:27:36.409635562\n",
       "min                0 days 00:00:00\n",
       "25%                0 days 00:00:00\n",
       "50%                0 days 00:00:00\n",
       "75%                0 days 00:00:00\n",
       "max        46 days 04:33:19.800596\n",
       "dtype: object"
      ]
     },
     "execution_count": 38,
     "metadata": {},
     "output_type": "execute_result"
    }
   ],
   "source": [
    "(pd.to_datetime(omup.updated_at) - pd.to_datetime(omup.inserted_at)).describe()"
   ]
  },
  {
   "cell_type": "markdown",
   "id": "1282da32-50bc-4b8a-b2b0-23bbc15a9cf8",
   "metadata": {},
   "source": [
    "Dates again are behaving normally."
   ]
  },
  {
   "cell_type": "code",
   "execution_count": 39,
   "id": "30eecce6-07fc-4854-b2a7-eb855c3d2fd9",
   "metadata": {
    "tags": []
   },
   "outputs": [
    {
     "data": {
      "text/html": [
       "<div>\n",
       "<style scoped>\n",
       "    .dataframe tbody tr th:only-of-type {\n",
       "        vertical-align: middle;\n",
       "    }\n",
       "\n",
       "    .dataframe tbody tr th {\n",
       "        vertical-align: top;\n",
       "    }\n",
       "\n",
       "    .dataframe thead th {\n",
       "        text-align: right;\n",
       "    }\n",
       "</style>\n",
       "<table border=\"1\" class=\"dataframe\">\n",
       "  <thead>\n",
       "    <tr style=\"text-align: right;\">\n",
       "      <th></th>\n",
       "      <th>id</th>\n",
       "      <th>organization_id</th>\n",
       "      <th>type</th>\n",
       "      <th>value</th>\n",
       "      <th>inserted_at</th>\n",
       "      <th>updated_at</th>\n",
       "    </tr>\n",
       "  </thead>\n",
       "  <tbody>\n",
       "    <tr>\n",
       "      <th>1</th>\n",
       "      <td>fa84c1d4-9362-472f-8ef9-aa14768deb22</td>\n",
       "      <td>417b2d7c-8a26-483b-920a-cc283095d044</td>\n",
       "      <td>organization_type</td>\n",
       "      <td>ME</td>\n",
       "      <td>2018-11-25 02:31:05.518456</td>\n",
       "      <td>2018-11-25 02:31:05.518456</td>\n",
       "    </tr>\n",
       "    <tr>\n",
       "      <th>3</th>\n",
       "      <td>ebe81aa1-7076-47a9-a929-0555167b6d35</td>\n",
       "      <td>f4745c03-2491-49f1-953b-461fc7f72cf5</td>\n",
       "      <td>organization_type</td>\n",
       "      <td>ME</td>\n",
       "      <td>2018-11-25 02:36:04.605196</td>\n",
       "      <td>2018-11-25 02:36:04.605196</td>\n",
       "    </tr>\n",
       "    <tr>\n",
       "      <th>5</th>\n",
       "      <td>b0c366c5-2901-4f68-8bb4-92a612fe9350</td>\n",
       "      <td>b208f531-9beb-44ae-991c-effca11da1e5</td>\n",
       "      <td>organization_type</td>\n",
       "      <td>ME</td>\n",
       "      <td>2018-11-25 02:41:44.862583</td>\n",
       "      <td>2018-11-25 02:41:44.862583</td>\n",
       "    </tr>\n",
       "    <tr>\n",
       "      <th>7</th>\n",
       "      <td>2c7da962-0aee-4603-b1ab-d8b0c81f2283</td>\n",
       "      <td>02b9eb4f-e25e-4ac7-a4c7-a3e0cef53968</td>\n",
       "      <td>organization_type</td>\n",
       "      <td>ME</td>\n",
       "      <td>2018-11-25 02:48:19.247844</td>\n",
       "      <td>2018-11-25 02:48:19.247844</td>\n",
       "    </tr>\n",
       "    <tr>\n",
       "      <th>9</th>\n",
       "      <td>f6922f73-302a-40dc-9456-35a635287759</td>\n",
       "      <td>c05a9e40-a8e7-4ebf-a72c-06c00f1a8f89</td>\n",
       "      <td>organization_type</td>\n",
       "      <td>ME</td>\n",
       "      <td>2018-11-25 02:55:30.487795</td>\n",
       "      <td>2018-11-25 02:55:30.487795</td>\n",
       "    </tr>\n",
       "  </tbody>\n",
       "</table>\n",
       "</div>"
      ],
      "text/plain": [
       "                                     id                       organization_id  \\\n",
       "1  fa84c1d4-9362-472f-8ef9-aa14768deb22  417b2d7c-8a26-483b-920a-cc283095d044   \n",
       "3  ebe81aa1-7076-47a9-a929-0555167b6d35  f4745c03-2491-49f1-953b-461fc7f72cf5   \n",
       "5  b0c366c5-2901-4f68-8bb4-92a612fe9350  b208f531-9beb-44ae-991c-effca11da1e5   \n",
       "7  2c7da962-0aee-4603-b1ab-d8b0c81f2283  02b9eb4f-e25e-4ac7-a4c7-a3e0cef53968   \n",
       "9  f6922f73-302a-40dc-9456-35a635287759  c05a9e40-a8e7-4ebf-a72c-06c00f1a8f89   \n",
       "\n",
       "                type value                 inserted_at  \\\n",
       "1  organization_type    ME  2018-11-25 02:31:05.518456   \n",
       "3  organization_type    ME  2018-11-25 02:36:04.605196   \n",
       "5  organization_type    ME  2018-11-25 02:41:44.862583   \n",
       "7  organization_type    ME  2018-11-25 02:48:19.247844   \n",
       "9  organization_type    ME  2018-11-25 02:55:30.487795   \n",
       "\n",
       "                   updated_at  \n",
       "1  2018-11-25 02:31:05.518456  \n",
       "3  2018-11-25 02:36:04.605196  \n",
       "5  2018-11-25 02:41:44.862583  \n",
       "7  2018-11-25 02:48:19.247844  \n",
       "9  2018-11-25 02:55:30.487795  "
      ]
     },
     "execution_count": 39,
     "metadata": {},
     "output_type": "execute_result"
    }
   ],
   "source": [
    "omot.head()"
   ]
  },
  {
   "cell_type": "code",
   "execution_count": 40,
   "id": "1e258e17-3db8-4e2f-b7bc-570b7e6925c3",
   "metadata": {
    "tags": []
   },
   "outputs": [
    {
     "name": "stdout",
     "output_type": "stream",
     "text": [
      "dates are equal:  214255\n",
      "Inserted before update:  29980\n",
      "Inserted after update:  0\n",
      "Some date is missing:  0\n"
     ]
    }
   ],
   "source": [
    "print(\"dates are equal: \", (omot.inserted_at == omot.updated_at).sum())\n",
    "print(\"Inserted before update: \", (omot.inserted_at < omot.updated_at).sum())\n",
    "print(\"Inserted after update: \", (omot.inserted_at > omot.updated_at).sum())\n",
    "print(\"Some date is missing: \", (omot[['inserted_at', 'updated_at']].isna().max(axis=1).sum()))"
   ]
  },
  {
   "cell_type": "code",
   "execution_count": 41,
   "id": "bb75a2bc-4856-4755-b0cf-f7f19c237015",
   "metadata": {
    "tags": []
   },
   "outputs": [
    {
     "data": {
      "text/plain": [
       "ME              202518\n",
       "NaN              21242\n",
       "EPP              12655\n",
       "Other             7817\n",
       "Not informed         3\n",
       "Name: value, dtype: int64"
      ]
     },
     "execution_count": 41,
     "metadata": {},
     "output_type": "execute_result"
    }
   ],
   "source": [
    "omot.value.value_counts(dropna=False)"
   ]
  },
  {
   "cell_type": "markdown",
   "id": "7bdfab80-1ffd-415c-ab82-d6811fad7c2d",
   "metadata": {},
   "source": [
    "Ok, so here we have a table that says when the organization was included, and if by some reason the organization is also an user, we have some metadata on who this user is. We can try to create some metrics on organization age, if the user is organization and things like that starting from this table."
   ]
  },
  {
   "cell_type": "markdown",
   "id": "ca80fb9d-e779-4a00-a1d7-fef1df15225a",
   "metadata": {},
   "source": [
    "### Organizations"
   ]
  },
  {
   "cell_type": "code",
   "execution_count": 42,
   "id": "6a742500-2da9-45fb-be1f-b6e41e2aabb3",
   "metadata": {
    "tags": []
   },
   "outputs": [
    {
     "data": {
      "text/html": [
       "<div>\n",
       "<style scoped>\n",
       "    .dataframe tbody tr th:only-of-type {\n",
       "        vertical-align: middle;\n",
       "    }\n",
       "\n",
       "    .dataframe tbody tr th {\n",
       "        vertical-align: top;\n",
       "    }\n",
       "\n",
       "    .dataframe thead th {\n",
       "        text-align: right;\n",
       "    }\n",
       "</style>\n",
       "<table border=\"1\" class=\"dataframe\">\n",
       "  <thead>\n",
       "    <tr style=\"text-align: right;\">\n",
       "      <th></th>\n",
       "      <th>id</th>\n",
       "      <th>document</th>\n",
       "      <th>inserted_at</th>\n",
       "    </tr>\n",
       "  </thead>\n",
       "  <tbody>\n",
       "    <tr>\n",
       "      <th>0</th>\n",
       "      <td>4f680da2-7b7c-4d48-9151-6f49437b4c27</td>\n",
       "      <td>9487f858-03b5-4eb4-afda-3e472643ef32</td>\n",
       "      <td>2018-11-01 17:40:15.194651</td>\n",
       "    </tr>\n",
       "    <tr>\n",
       "      <th>1</th>\n",
       "      <td>2a98430a-4908-4f3d-9c0b-bba3ca1bdd2a</td>\n",
       "      <td>a7899558-55ca-4c09-a535-a91abfb19c3c</td>\n",
       "      <td>2017-08-09 13:36:41.156395</td>\n",
       "    </tr>\n",
       "    <tr>\n",
       "      <th>2</th>\n",
       "      <td>3dc6651c-7968-456b-ae00-791da8ae0571</td>\n",
       "      <td>b5f5e3fc-a1cc-4d8b-a667-1e05b0d92376</td>\n",
       "      <td>2018-08-23 15:14:47.894131</td>\n",
       "    </tr>\n",
       "    <tr>\n",
       "      <th>3</th>\n",
       "      <td>4bd05bbe-ebd6-483e-a249-7c9204f88eeb</td>\n",
       "      <td>58b11bce-88c4-4279-afc3-338a4dac5348</td>\n",
       "      <td>2018-07-24 12:38:20.251984</td>\n",
       "    </tr>\n",
       "    <tr>\n",
       "      <th>4</th>\n",
       "      <td>1a69bc7e-a978-48c0-bad5-484c260c4254</td>\n",
       "      <td>1d8bb9cf-8f6b-46d4-b73b-96f4f176b9c1</td>\n",
       "      <td>2018-05-01 21:10:01.128368</td>\n",
       "    </tr>\n",
       "  </tbody>\n",
       "</table>\n",
       "</div>"
      ],
      "text/plain": [
       "                                     id                              document  \\\n",
       "0  4f680da2-7b7c-4d48-9151-6f49437b4c27  9487f858-03b5-4eb4-afda-3e472643ef32   \n",
       "1  2a98430a-4908-4f3d-9c0b-bba3ca1bdd2a  a7899558-55ca-4c09-a535-a91abfb19c3c   \n",
       "2  3dc6651c-7968-456b-ae00-791da8ae0571  b5f5e3fc-a1cc-4d8b-a667-1e05b0d92376   \n",
       "3  4bd05bbe-ebd6-483e-a249-7c9204f88eeb  58b11bce-88c4-4279-afc3-338a4dac5348   \n",
       "4  1a69bc7e-a978-48c0-bad5-484c260c4254  1d8bb9cf-8f6b-46d4-b73b-96f4f176b9c1   \n",
       "\n",
       "                  inserted_at  \n",
       "0  2018-11-01 17:40:15.194651  \n",
       "1  2017-08-09 13:36:41.156395  \n",
       "2  2018-08-23 15:14:47.894131  \n",
       "3  2018-07-24 12:38:20.251984  \n",
       "4  2018-05-01 21:10:01.128368  "
      ]
     },
     "execution_count": 42,
     "metadata": {},
     "output_type": "execute_result"
    }
   ],
   "source": [
    "organizations = pd.read_csv('files/processed_organizations.csv')\n",
    "organizations.head()"
   ]
  },
  {
   "cell_type": "code",
   "execution_count": 43,
   "id": "97903266-cf66-4a44-81e4-24d60476fc98",
   "metadata": {
    "tags": []
   },
   "outputs": [
    {
     "name": "stdout",
     "output_type": "stream",
     "text": [
      "<class 'pandas.core.frame.DataFrame'>\n",
      "RangeIndex: 54953 entries, 0 to 54952\n",
      "Data columns (total 3 columns):\n",
      " #   Column       Non-Null Count  Dtype \n",
      "---  ------       --------------  ----- \n",
      " 0   id           54953 non-null  object\n",
      " 1   document     54953 non-null  object\n",
      " 2   inserted_at  54953 non-null  object\n",
      "dtypes: object(3)\n",
      "memory usage: 1.3+ MB\n"
     ]
    }
   ],
   "source": [
    "organizations.info()"
   ]
  },
  {
   "cell_type": "markdown",
   "id": "c8927d40-1158-4a58-bddf-c2d12dfa9f48",
   "metadata": {},
   "source": [
    "Not kind of what I'm doing at the moment, but I wonder if this inserted_at is reduntant with the above one."
   ]
  },
  {
   "cell_type": "code",
   "execution_count": 44,
   "id": "b3dfde4d-dea0-4cd4-a4cc-be73c95ad166",
   "metadata": {
    "tags": []
   },
   "outputs": [
    {
     "data": {
      "text/html": [
       "<div>\n",
       "<style scoped>\n",
       "    .dataframe tbody tr th:only-of-type {\n",
       "        vertical-align: middle;\n",
       "    }\n",
       "\n",
       "    .dataframe tbody tr th {\n",
       "        vertical-align: top;\n",
       "    }\n",
       "\n",
       "    .dataframe thead th {\n",
       "        text-align: right;\n",
       "    }\n",
       "</style>\n",
       "<table border=\"1\" class=\"dataframe\">\n",
       "  <thead>\n",
       "    <tr style=\"text-align: right;\">\n",
       "      <th></th>\n",
       "      <th>id</th>\n",
       "      <th>organization_id</th>\n",
       "      <th>type</th>\n",
       "      <th>value</th>\n",
       "      <th>inserted_at</th>\n",
       "      <th>updated_at</th>\n",
       "    </tr>\n",
       "  </thead>\n",
       "  <tbody>\n",
       "    <tr>\n",
       "      <th>0</th>\n",
       "      <td>8a442911-65db-42a3-8063-2e8e2ddab984</td>\n",
       "      <td>417b2d7c-8a26-483b-920a-cc283095d044</td>\n",
       "      <td>user_is_partner</td>\n",
       "      <td>{\"mei\": false, \"partner\": true, \"user_id\": \"f3...</td>\n",
       "      <td>2018-11-25 02:31:05.472505</td>\n",
       "      <td>2018-11-25 02:31:05.472505</td>\n",
       "    </tr>\n",
       "    <tr>\n",
       "      <th>1</th>\n",
       "      <td>fa84c1d4-9362-472f-8ef9-aa14768deb22</td>\n",
       "      <td>417b2d7c-8a26-483b-920a-cc283095d044</td>\n",
       "      <td>organization_type</td>\n",
       "      <td>ME</td>\n",
       "      <td>2018-11-25 02:31:05.518456</td>\n",
       "      <td>2018-11-25 02:31:05.518456</td>\n",
       "    </tr>\n",
       "    <tr>\n",
       "      <th>2</th>\n",
       "      <td>089a96b0-8e31-4303-9b8f-e8eabd126b51</td>\n",
       "      <td>f4745c03-2491-49f1-953b-461fc7f72cf5</td>\n",
       "      <td>user_is_partner</td>\n",
       "      <td>{\"mei\": true, \"partner\": true, \"user_id\": \"dcd...</td>\n",
       "      <td>2018-11-25 02:36:04.694632</td>\n",
       "      <td>2018-11-25 02:36:04.694632</td>\n",
       "    </tr>\n",
       "    <tr>\n",
       "      <th>3</th>\n",
       "      <td>ebe81aa1-7076-47a9-a929-0555167b6d35</td>\n",
       "      <td>f4745c03-2491-49f1-953b-461fc7f72cf5</td>\n",
       "      <td>organization_type</td>\n",
       "      <td>ME</td>\n",
       "      <td>2018-11-25 02:36:04.605196</td>\n",
       "      <td>2018-11-25 02:36:04.605196</td>\n",
       "    </tr>\n",
       "    <tr>\n",
       "      <th>4</th>\n",
       "      <td>b301ec68-9042-4a74-88f4-82b3256d0137</td>\n",
       "      <td>b208f531-9beb-44ae-991c-effca11da1e5</td>\n",
       "      <td>user_is_partner</td>\n",
       "      <td>{\"mei\": true, \"partner\": true, \"user_id\": \"5c9...</td>\n",
       "      <td>2018-11-25 02:41:44.953192</td>\n",
       "      <td>2018-11-25 02:41:44.953192</td>\n",
       "    </tr>\n",
       "  </tbody>\n",
       "</table>\n",
       "</div>"
      ],
      "text/plain": [
       "                                     id                       organization_id  \\\n",
       "0  8a442911-65db-42a3-8063-2e8e2ddab984  417b2d7c-8a26-483b-920a-cc283095d044   \n",
       "1  fa84c1d4-9362-472f-8ef9-aa14768deb22  417b2d7c-8a26-483b-920a-cc283095d044   \n",
       "2  089a96b0-8e31-4303-9b8f-e8eabd126b51  f4745c03-2491-49f1-953b-461fc7f72cf5   \n",
       "3  ebe81aa1-7076-47a9-a929-0555167b6d35  f4745c03-2491-49f1-953b-461fc7f72cf5   \n",
       "4  b301ec68-9042-4a74-88f4-82b3256d0137  b208f531-9beb-44ae-991c-effca11da1e5   \n",
       "\n",
       "                type                                              value  \\\n",
       "0    user_is_partner  {\"mei\": false, \"partner\": true, \"user_id\": \"f3...   \n",
       "1  organization_type                                                 ME   \n",
       "2    user_is_partner  {\"mei\": true, \"partner\": true, \"user_id\": \"dcd...   \n",
       "3  organization_type                                                 ME   \n",
       "4    user_is_partner  {\"mei\": true, \"partner\": true, \"user_id\": \"5c9...   \n",
       "\n",
       "                  inserted_at                  updated_at  \n",
       "0  2018-11-25 02:31:05.472505  2018-11-25 02:31:05.472505  \n",
       "1  2018-11-25 02:31:05.518456  2018-11-25 02:31:05.518456  \n",
       "2  2018-11-25 02:36:04.694632  2018-11-25 02:36:04.694632  \n",
       "3  2018-11-25 02:36:04.605196  2018-11-25 02:36:04.605196  \n",
       "4  2018-11-25 02:41:44.953192  2018-11-25 02:41:44.953192  "
      ]
     },
     "execution_count": 44,
     "metadata": {},
     "output_type": "execute_result"
    }
   ],
   "source": [
    "organizations_metadata.head()"
   ]
  },
  {
   "cell_type": "code",
   "execution_count": 45,
   "id": "b79f016b-9ac0-4ac2-a9e7-232875192c69",
   "metadata": {
    "tags": []
   },
   "outputs": [
    {
     "data": {
      "text/plain": [
       "244233"
      ]
     },
     "execution_count": 45,
     "metadata": {},
     "output_type": "execute_result"
    }
   ],
   "source": [
    "organizations_metadata.organization_id.nunique()"
   ]
  },
  {
   "cell_type": "code",
   "execution_count": 46,
   "id": "e36ecadb-de02-4ba2-9381-95885e941eec",
   "metadata": {
    "tags": []
   },
   "outputs": [
    {
     "data": {
      "text/plain": [
       "(54953, 3)"
      ]
     },
     "execution_count": 46,
     "metadata": {},
     "output_type": "execute_result"
    }
   ],
   "source": [
    "organizations.shape"
   ]
  },
  {
   "cell_type": "code",
   "execution_count": 47,
   "id": "e27d679f-5b5f-4dc8-8585-068d35543e99",
   "metadata": {
    "tags": []
   },
   "outputs": [],
   "source": [
    "joint_orgs = organizations.merge(organizations_metadata, left_on='id', right_on='organization_id')"
   ]
  },
  {
   "cell_type": "code",
   "execution_count": 48,
   "id": "78d5afbd-13e4-4ceb-ae15-8630ed88e706",
   "metadata": {
    "tags": []
   },
   "outputs": [
    {
     "data": {
      "text/html": [
       "<div>\n",
       "<style scoped>\n",
       "    .dataframe tbody tr th:only-of-type {\n",
       "        vertical-align: middle;\n",
       "    }\n",
       "\n",
       "    .dataframe tbody tr th {\n",
       "        vertical-align: top;\n",
       "    }\n",
       "\n",
       "    .dataframe thead th {\n",
       "        text-align: right;\n",
       "    }\n",
       "</style>\n",
       "<table border=\"1\" class=\"dataframe\">\n",
       "  <thead>\n",
       "    <tr style=\"text-align: right;\">\n",
       "      <th></th>\n",
       "      <th>id_x</th>\n",
       "      <th>document</th>\n",
       "      <th>inserted_at_x</th>\n",
       "      <th>id_y</th>\n",
       "      <th>organization_id</th>\n",
       "      <th>type</th>\n",
       "      <th>value</th>\n",
       "      <th>inserted_at_y</th>\n",
       "      <th>updated_at</th>\n",
       "    </tr>\n",
       "  </thead>\n",
       "  <tbody>\n",
       "    <tr>\n",
       "      <th>0</th>\n",
       "      <td>4f680da2-7b7c-4d48-9151-6f49437b4c27</td>\n",
       "      <td>9487f858-03b5-4eb4-afda-3e472643ef32</td>\n",
       "      <td>2018-11-01 17:40:15.194651</td>\n",
       "      <td>6d210294-d403-4b85-b870-a28c4fbe7ed4</td>\n",
       "      <td>4f680da2-7b7c-4d48-9151-6f49437b4c27</td>\n",
       "      <td>user_is_partner</td>\n",
       "      <td>{\"mei\": true, \"partner\": true, \"user_id\": \"fa3...</td>\n",
       "      <td>2018-11-01 17:40:18.606637</td>\n",
       "      <td>2018-11-01 19:35:50.737153</td>\n",
       "    </tr>\n",
       "    <tr>\n",
       "      <th>1</th>\n",
       "      <td>4f680da2-7b7c-4d48-9151-6f49437b4c27</td>\n",
       "      <td>9487f858-03b5-4eb4-afda-3e472643ef32</td>\n",
       "      <td>2018-11-01 17:40:15.194651</td>\n",
       "      <td>29809be0-2bb6-4847-9c0e-976b5590c745</td>\n",
       "      <td>4f680da2-7b7c-4d48-9151-6f49437b4c27</td>\n",
       "      <td>organization_type</td>\n",
       "      <td>NaN</td>\n",
       "      <td>2018-11-01 17:40:18.629991</td>\n",
       "      <td>2018-11-01 19:35:50.764499</td>\n",
       "    </tr>\n",
       "    <tr>\n",
       "      <th>2</th>\n",
       "      <td>2a98430a-4908-4f3d-9c0b-bba3ca1bdd2a</td>\n",
       "      <td>a7899558-55ca-4c09-a535-a91abfb19c3c</td>\n",
       "      <td>2017-08-09 13:36:41.156395</td>\n",
       "      <td>bb164883-7978-424a-8681-87fca5a074c2</td>\n",
       "      <td>2a98430a-4908-4f3d-9c0b-bba3ca1bdd2a</td>\n",
       "      <td>organization_type</td>\n",
       "      <td>ME</td>\n",
       "      <td>2017-12-04 18:57:58.290662</td>\n",
       "      <td>2018-03-21 17:40:22.157952</td>\n",
       "    </tr>\n",
       "    <tr>\n",
       "      <th>3</th>\n",
       "      <td>3dc6651c-7968-456b-ae00-791da8ae0571</td>\n",
       "      <td>b5f5e3fc-a1cc-4d8b-a667-1e05b0d92376</td>\n",
       "      <td>2018-08-23 15:14:47.894131</td>\n",
       "      <td>40aad4d4-4a26-4fbc-8ee0-723d6a25f6e5</td>\n",
       "      <td>3dc6651c-7968-456b-ae00-791da8ae0571</td>\n",
       "      <td>organization_type</td>\n",
       "      <td>EPP</td>\n",
       "      <td>2018-08-23 15:14:48.343411</td>\n",
       "      <td>2018-08-23 15:14:48.343411</td>\n",
       "    </tr>\n",
       "    <tr>\n",
       "      <th>4</th>\n",
       "      <td>4bd05bbe-ebd6-483e-a249-7c9204f88eeb</td>\n",
       "      <td>58b11bce-88c4-4279-afc3-338a4dac5348</td>\n",
       "      <td>2018-07-24 12:38:20.251984</td>\n",
       "      <td>da27c776-b96a-481e-b66d-a019a7740382</td>\n",
       "      <td>4bd05bbe-ebd6-483e-a249-7c9204f88eeb</td>\n",
       "      <td>organization_type</td>\n",
       "      <td>ME</td>\n",
       "      <td>2018-07-24 12:38:20.616781</td>\n",
       "      <td>2018-07-24 12:38:20.616781</td>\n",
       "    </tr>\n",
       "  </tbody>\n",
       "</table>\n",
       "</div>"
      ],
      "text/plain": [
       "                                   id_x                              document  \\\n",
       "0  4f680da2-7b7c-4d48-9151-6f49437b4c27  9487f858-03b5-4eb4-afda-3e472643ef32   \n",
       "1  4f680da2-7b7c-4d48-9151-6f49437b4c27  9487f858-03b5-4eb4-afda-3e472643ef32   \n",
       "2  2a98430a-4908-4f3d-9c0b-bba3ca1bdd2a  a7899558-55ca-4c09-a535-a91abfb19c3c   \n",
       "3  3dc6651c-7968-456b-ae00-791da8ae0571  b5f5e3fc-a1cc-4d8b-a667-1e05b0d92376   \n",
       "4  4bd05bbe-ebd6-483e-a249-7c9204f88eeb  58b11bce-88c4-4279-afc3-338a4dac5348   \n",
       "\n",
       "                inserted_at_x                                  id_y  \\\n",
       "0  2018-11-01 17:40:15.194651  6d210294-d403-4b85-b870-a28c4fbe7ed4   \n",
       "1  2018-11-01 17:40:15.194651  29809be0-2bb6-4847-9c0e-976b5590c745   \n",
       "2  2017-08-09 13:36:41.156395  bb164883-7978-424a-8681-87fca5a074c2   \n",
       "3  2018-08-23 15:14:47.894131  40aad4d4-4a26-4fbc-8ee0-723d6a25f6e5   \n",
       "4  2018-07-24 12:38:20.251984  da27c776-b96a-481e-b66d-a019a7740382   \n",
       "\n",
       "                        organization_id               type  \\\n",
       "0  4f680da2-7b7c-4d48-9151-6f49437b4c27    user_is_partner   \n",
       "1  4f680da2-7b7c-4d48-9151-6f49437b4c27  organization_type   \n",
       "2  2a98430a-4908-4f3d-9c0b-bba3ca1bdd2a  organization_type   \n",
       "3  3dc6651c-7968-456b-ae00-791da8ae0571  organization_type   \n",
       "4  4bd05bbe-ebd6-483e-a249-7c9204f88eeb  organization_type   \n",
       "\n",
       "                                               value  \\\n",
       "0  {\"mei\": true, \"partner\": true, \"user_id\": \"fa3...   \n",
       "1                                                NaN   \n",
       "2                                                 ME   \n",
       "3                                                EPP   \n",
       "4                                                 ME   \n",
       "\n",
       "                inserted_at_y                  updated_at  \n",
       "0  2018-11-01 17:40:18.606637  2018-11-01 19:35:50.737153  \n",
       "1  2018-11-01 17:40:18.629991  2018-11-01 19:35:50.764499  \n",
       "2  2017-12-04 18:57:58.290662  2018-03-21 17:40:22.157952  \n",
       "3  2018-08-23 15:14:48.343411  2018-08-23 15:14:48.343411  \n",
       "4  2018-07-24 12:38:20.616781  2018-07-24 12:38:20.616781  "
      ]
     },
     "execution_count": 48,
     "metadata": {},
     "output_type": "execute_result"
    }
   ],
   "source": [
    "joint_orgs.head()"
   ]
  },
  {
   "cell_type": "markdown",
   "id": "a4f5b67d-5023-4f6f-a194-d8d413f6eaac",
   "metadata": {},
   "source": [
    "We can see from this examples that these inserted_ats means different things, and even though I'm not so sure what, we'll just work with they as separated dates when feature engineering."
   ]
  },
  {
   "cell_type": "markdown",
   "id": "0a54579f-0ab6-4424-8556-04f74d4fc157",
   "metadata": {},
   "source": [
    "### Unlabeled Transactions"
   ]
  },
  {
   "cell_type": "code",
   "execution_count": 49,
   "id": "854576ba-e497-4023-ad66-6eddbddd07cc",
   "metadata": {
    "tags": []
   },
   "outputs": [
    {
     "name": "stderr",
     "output_type": "stream",
     "text": [
      "/tmp/ipykernel_336/3312792178.py:1: DtypeWarning: Columns (3) have mixed types. Specify dtype option on import or set low_memory=False.\n",
      "  unlabeled_transactions = pd.read_csv('files/processed_unlabeled_transactions.csv')\n"
     ]
    },
    {
     "data": {
      "text/html": [
       "<div>\n",
       "<style scoped>\n",
       "    .dataframe tbody tr th:only-of-type {\n",
       "        vertical-align: middle;\n",
       "    }\n",
       "\n",
       "    .dataframe tbody tr th {\n",
       "        vertical-align: top;\n",
       "    }\n",
       "\n",
       "    .dataframe thead th {\n",
       "        text-align: right;\n",
       "    }\n",
       "</style>\n",
       "<table border=\"1\" class=\"dataframe\">\n",
       "  <thead>\n",
       "    <tr style=\"text-align: right;\">\n",
       "      <th></th>\n",
       "      <th>operation_id</th>\n",
       "      <th>request_id</th>\n",
       "      <th>account_id</th>\n",
       "      <th>device_id</th>\n",
       "      <th>counterparty_document</th>\n",
       "      <th>operation_type</th>\n",
       "      <th>amount</th>\n",
       "      <th>requested_at</th>\n",
       "      <th>processed_at</th>\n",
       "    </tr>\n",
       "  </thead>\n",
       "  <tbody>\n",
       "    <tr>\n",
       "      <th>0</th>\n",
       "      <td>f9eb1bfc-dd3e-4494-ad3a-5728059a334b</td>\n",
       "      <td>8ba7fb9c-a8b9-4595-8235-561012daa551</td>\n",
       "      <td>d24e533e-d54f-4ac5-874f-097f968c8b23</td>\n",
       "      <td>NaN</td>\n",
       "      <td>b20ca420-36b0-429f-85a5-7ffac69e82a1</td>\n",
       "      <td>cash_out_type_4</td>\n",
       "      <td>0.000001</td>\n",
       "      <td>2018-07-15 00:00:25.000000</td>\n",
       "      <td>2018-07-15 00:00:25.000000</td>\n",
       "    </tr>\n",
       "    <tr>\n",
       "      <th>1</th>\n",
       "      <td>98b084a3-353a-4ea4-8cb6-3a2b48f24d9b</td>\n",
       "      <td>f7f3b6cc-5690-4716-bc36-8a9e61ab60b0</td>\n",
       "      <td>d24e533e-d54f-4ac5-874f-097f968c8b23</td>\n",
       "      <td>NaN</td>\n",
       "      <td>b20ca420-36b0-429f-85a5-7ffac69e82a1</td>\n",
       "      <td>cash_out_type_4</td>\n",
       "      <td>0.000000</td>\n",
       "      <td>2018-07-15 00:20:32.000000</td>\n",
       "      <td>2018-07-15 00:20:32.000000</td>\n",
       "    </tr>\n",
       "    <tr>\n",
       "      <th>2</th>\n",
       "      <td>b04d0b3b-620f-4031-8598-14862d8385a4</td>\n",
       "      <td>c7120482-a055-4dc0-915c-ee467afa0d6b</td>\n",
       "      <td>d24e533e-d54f-4ac5-874f-097f968c8b23</td>\n",
       "      <td>NaN</td>\n",
       "      <td>b20ca420-36b0-429f-85a5-7ffac69e82a1</td>\n",
       "      <td>cash_out_type_4</td>\n",
       "      <td>0.000001</td>\n",
       "      <td>2018-09-01 23:51:38.000000</td>\n",
       "      <td>2018-09-01 23:51:38.000000</td>\n",
       "    </tr>\n",
       "    <tr>\n",
       "      <th>3</th>\n",
       "      <td>aa253da4-d86f-45fe-a30c-1e25aa752344</td>\n",
       "      <td>c97a2208-a1cc-472b-a8ff-4dd2dd54fd97</td>\n",
       "      <td>d24e533e-d54f-4ac5-874f-097f968c8b23</td>\n",
       "      <td>NaN</td>\n",
       "      <td>b20ca420-36b0-429f-85a5-7ffac69e82a1</td>\n",
       "      <td>cash_out_type_4</td>\n",
       "      <td>0.000001</td>\n",
       "      <td>2018-09-13 00:50:27.000000</td>\n",
       "      <td>2018-09-13 00:50:27.000000</td>\n",
       "    </tr>\n",
       "    <tr>\n",
       "      <th>4</th>\n",
       "      <td>ffed5732-c135-495f-9b43-52f4dbdd0fab</td>\n",
       "      <td>75588166-0282-401a-ace4-d42d2b33f75d</td>\n",
       "      <td>d24e533e-d54f-4ac5-874f-097f968c8b23</td>\n",
       "      <td>NaN</td>\n",
       "      <td>b20ca420-36b0-429f-85a5-7ffac69e82a1</td>\n",
       "      <td>cash_out_type_4</td>\n",
       "      <td>0.000000</td>\n",
       "      <td>2018-09-22 23:50:38.000000</td>\n",
       "      <td>2018-09-22 23:50:38.000000</td>\n",
       "    </tr>\n",
       "  </tbody>\n",
       "</table>\n",
       "</div>"
      ],
      "text/plain": [
       "                           operation_id                            request_id  \\\n",
       "0  f9eb1bfc-dd3e-4494-ad3a-5728059a334b  8ba7fb9c-a8b9-4595-8235-561012daa551   \n",
       "1  98b084a3-353a-4ea4-8cb6-3a2b48f24d9b  f7f3b6cc-5690-4716-bc36-8a9e61ab60b0   \n",
       "2  b04d0b3b-620f-4031-8598-14862d8385a4  c7120482-a055-4dc0-915c-ee467afa0d6b   \n",
       "3  aa253da4-d86f-45fe-a30c-1e25aa752344  c97a2208-a1cc-472b-a8ff-4dd2dd54fd97   \n",
       "4  ffed5732-c135-495f-9b43-52f4dbdd0fab  75588166-0282-401a-ace4-d42d2b33f75d   \n",
       "\n",
       "                             account_id device_id  \\\n",
       "0  d24e533e-d54f-4ac5-874f-097f968c8b23       NaN   \n",
       "1  d24e533e-d54f-4ac5-874f-097f968c8b23       NaN   \n",
       "2  d24e533e-d54f-4ac5-874f-097f968c8b23       NaN   \n",
       "3  d24e533e-d54f-4ac5-874f-097f968c8b23       NaN   \n",
       "4  d24e533e-d54f-4ac5-874f-097f968c8b23       NaN   \n",
       "\n",
       "                  counterparty_document   operation_type   amount  \\\n",
       "0  b20ca420-36b0-429f-85a5-7ffac69e82a1  cash_out_type_4 0.000001   \n",
       "1  b20ca420-36b0-429f-85a5-7ffac69e82a1  cash_out_type_4 0.000000   \n",
       "2  b20ca420-36b0-429f-85a5-7ffac69e82a1  cash_out_type_4 0.000001   \n",
       "3  b20ca420-36b0-429f-85a5-7ffac69e82a1  cash_out_type_4 0.000001   \n",
       "4  b20ca420-36b0-429f-85a5-7ffac69e82a1  cash_out_type_4 0.000000   \n",
       "\n",
       "                 requested_at                processed_at  \n",
       "0  2018-07-15 00:00:25.000000  2018-07-15 00:00:25.000000  \n",
       "1  2018-07-15 00:20:32.000000  2018-07-15 00:20:32.000000  \n",
       "2  2018-09-01 23:51:38.000000  2018-09-01 23:51:38.000000  \n",
       "3  2018-09-13 00:50:27.000000  2018-09-13 00:50:27.000000  \n",
       "4  2018-09-22 23:50:38.000000  2018-09-22 23:50:38.000000  "
      ]
     },
     "execution_count": 49,
     "metadata": {},
     "output_type": "execute_result"
    }
   ],
   "source": [
    "unlabeled_transactions = pd.read_csv('files/processed_unlabeled_transactions.csv')\n",
    "unlabeled_transactions.head()"
   ]
  },
  {
   "cell_type": "code",
   "execution_count": 50,
   "id": "dd60a609-2fb9-46d5-b26c-2e6692a922f2",
   "metadata": {
    "tags": []
   },
   "outputs": [
    {
     "name": "stdout",
     "output_type": "stream",
     "text": [
      "<class 'pandas.core.frame.DataFrame'>\n",
      "RangeIndex: 5087054 entries, 0 to 5087053\n",
      "Data columns (total 9 columns):\n",
      " #   Column                 Dtype  \n",
      "---  ------                 -----  \n",
      " 0   operation_id           object \n",
      " 1   request_id             object \n",
      " 2   account_id             object \n",
      " 3   device_id              object \n",
      " 4   counterparty_document  object \n",
      " 5   operation_type         object \n",
      " 6   amount                 float64\n",
      " 7   requested_at           object \n",
      " 8   processed_at           object \n",
      "dtypes: float64(1), object(8)\n",
      "memory usage: 349.3+ MB\n"
     ]
    }
   ],
   "source": [
    "unlabeled_transactions.info()"
   ]
  },
  {
   "cell_type": "code",
   "execution_count": 51,
   "id": "6d119590-a739-46e0-bd64-6771e0a90e4d",
   "metadata": {
    "tags": []
   },
   "outputs": [
    {
     "data": {
      "text/plain": [
       "operation_id            0.000000\n",
       "request_id              0.675480\n",
       "account_id              0.000000\n",
       "device_id               0.999036\n",
       "counterparty_document   0.000000\n",
       "operation_type          0.000000\n",
       "amount                  0.000070\n",
       "requested_at            0.000000\n",
       "processed_at            0.000000\n",
       "dtype: float64"
      ]
     },
     "execution_count": 51,
     "metadata": {},
     "output_type": "execute_result"
    }
   ],
   "source": [
    "unlabeled_transactions.isna().mean()"
   ]
  },
  {
   "cell_type": "markdown",
   "id": "e70c7100-a935-47ab-869d-b6c9d0627035",
   "metadata": {},
   "source": [
    "This seems to be the table I need to score after everything is finished. Also, this is were I'll measure if whatever policy I construct on top of the model is denying more than 300 transactions daily."
   ]
  },
  {
   "cell_type": "code",
   "execution_count": 52,
   "id": "b5e918a0-075d-4fbc-a119-cd125931534f",
   "metadata": {
    "tags": []
   },
   "outputs": [
    {
     "data": {
      "text/plain": [
       "cash_in_type_1       28196\n",
       "cash_in_type_2       90381\n",
       "cash_in_type_3     2154953\n",
       "cash_in_type_4     1162650\n",
       "cash_out_type_1      18234\n",
       "cash_out_type_2     790153\n",
       "cash_out_type_3     463457\n",
       "cash_out_type_4     353663\n",
       "cash_out_type_5      25367\n",
       "Name: operation_type, dtype: int64"
      ]
     },
     "execution_count": 52,
     "metadata": {},
     "output_type": "execute_result"
    }
   ],
   "source": [
    "unlabeled_transactions['operation_type'].value_counts(dropna=False).sort_index()"
   ]
  },
  {
   "cell_type": "markdown",
   "id": "4d5ac915-29fe-4f80-8052-9350681f74e7",
   "metadata": {},
   "source": [
    "The types on this table are very different from what we saw in the labeled transactions, so it would be better not to use them. Any model that is trained on the labeled dataset and applied on this table will not perform well if he sees many never-seem categories, and we can't infer if the never-seem are similar to anything in the other table."
   ]
  },
  {
   "cell_type": "code",
   "execution_count": 53,
   "id": "ced359d2-db6c-410b-97a0-c6e9b33b23d8",
   "metadata": {
    "tags": []
   },
   "outputs": [
    {
     "data": {
      "text/plain": [
       "count   5086699.000000\n",
       "mean          0.000006\n",
       "std           0.000124\n",
       "min           0.000000\n",
       "25%           0.000000\n",
       "50%           0.000001\n",
       "75%           0.000003\n",
       "max           0.067581\n",
       "Name: amount, dtype: float64"
      ]
     },
     "execution_count": 53,
     "metadata": {},
     "output_type": "execute_result"
    }
   ],
   "source": [
    "unlabeled_transactions['amount'].describe()"
   ]
  },
  {
   "cell_type": "markdown",
   "id": "7769c1b8-0330-4d9d-91c7-4206bacd91b7",
   "metadata": {},
   "source": [
    "Whatever happened on the balance on the other table seems to be happening here, as the values of amount here seems similar to the values of balance there."
   ]
  },
  {
   "cell_type": "code",
   "execution_count": 54,
   "id": "c80f78ce-1030-4918-8028-c35ece368f79",
   "metadata": {
    "tags": []
   },
   "outputs": [],
   "source": [
    "ut = unlabeled_transactions.copy(deep=True)"
   ]
  },
  {
   "cell_type": "code",
   "execution_count": 55,
   "id": "ceb04b60-8527-4a5a-8ec3-e6a066fa8e05",
   "metadata": {
    "tags": []
   },
   "outputs": [
    {
     "name": "stdout",
     "output_type": "stream",
     "text": [
      "dates are equal:  3828533\n",
      "Requested before processed:  1258521\n",
      "Requested after processed:  0\n",
      "Some date is missing:  0\n"
     ]
    }
   ],
   "source": [
    "print(\"dates are equal: \", (ut.requested_at == ut.processed_at).sum())\n",
    "print(\"Requested before processed: \", (ut.requested_at < ut.processed_at).sum())\n",
    "print(\"Requested after processed: \", (ut.requested_at > ut.processed_at).sum())\n",
    "print(\"Some date is missing: \", (ut[['requested_at', 'processed_at']].isna().max(axis=1).sum()))"
   ]
  },
  {
   "cell_type": "markdown",
   "id": "d45338bb-3626-47b5-9327-ead31cc776bb",
   "metadata": {},
   "source": [
    "No missing data on these tables, so I shouldn't use \"missing requested_at\" as a variable on the labeled_transactions dataset.\n",
    "\n",
    "This gave me some insights on what I can/can't  expect to see on a production database, and what I should avoid to do when I start the feature engineering process."
   ]
  },
  {
   "cell_type": "markdown",
   "id": "93236ebc-d0c1-4e57-bd45-e67edc8eae33",
   "metadata": {},
   "source": [
    "### Users Metadata"
   ]
  },
  {
   "cell_type": "code",
   "execution_count": 56,
   "id": "a1e425bd-db05-45ae-a38e-bed2b31366fe",
   "metadata": {
    "tags": []
   },
   "outputs": [
    {
     "data": {
      "text/html": [
       "<div>\n",
       "<style scoped>\n",
       "    .dataframe tbody tr th:only-of-type {\n",
       "        vertical-align: middle;\n",
       "    }\n",
       "\n",
       "    .dataframe tbody tr th {\n",
       "        vertical-align: top;\n",
       "    }\n",
       "\n",
       "    .dataframe thead th {\n",
       "        text-align: right;\n",
       "    }\n",
       "</style>\n",
       "<table border=\"1\" class=\"dataframe\">\n",
       "  <thead>\n",
       "    <tr style=\"text-align: right;\">\n",
       "      <th></th>\n",
       "      <th>id</th>\n",
       "      <th>user_id</th>\n",
       "      <th>type</th>\n",
       "      <th>value</th>\n",
       "      <th>inserted_at</th>\n",
       "      <th>updated_at</th>\n",
       "    </tr>\n",
       "  </thead>\n",
       "  <tbody>\n",
       "    <tr>\n",
       "      <th>0</th>\n",
       "      <td>5e820e59-2793-4aa8-be6e-95d547872de7</td>\n",
       "      <td>7ac5f4a4-e46f-4d1a-b530-50d1930d9b95</td>\n",
       "      <td>age_range</td>\n",
       "      <td>40-59</td>\n",
       "      <td>2018-05-24 12:32:21.406260</td>\n",
       "      <td>2018-05-24 12:32:21.406260</td>\n",
       "    </tr>\n",
       "    <tr>\n",
       "      <th>1</th>\n",
       "      <td>862263f6-e6a0-4d7f-b14d-7112bdea27a5</td>\n",
       "      <td>7ac5f4a4-e46f-4d1a-b530-50d1930d9b95</td>\n",
       "      <td>number_of_selfies_sent</td>\n",
       "      <td>5</td>\n",
       "      <td>2018-05-24 12:32:21.618808</td>\n",
       "      <td>2018-05-24 12:32:21.618808</td>\n",
       "    </tr>\n",
       "    <tr>\n",
       "      <th>2</th>\n",
       "      <td>12333e49-de34-4cc0-a1f2-1bf05d7da186</td>\n",
       "      <td>0e836b54-9f64-4814-b328-7e4ac41ac5ba</td>\n",
       "      <td>age_range</td>\n",
       "      <td>&gt;= 60</td>\n",
       "      <td>2018-08-25 01:41:57.876757</td>\n",
       "      <td>2018-08-25 01:41:57.876757</td>\n",
       "    </tr>\n",
       "    <tr>\n",
       "      <th>3</th>\n",
       "      <td>b4751efa-3407-4074-8bf0-10a6e4235729</td>\n",
       "      <td>0e836b54-9f64-4814-b328-7e4ac41ac5ba</td>\n",
       "      <td>number_of_selfies_sent</td>\n",
       "      <td>5</td>\n",
       "      <td>2018-08-25 01:41:58.054672</td>\n",
       "      <td>2018-08-25 01:41:58.054672</td>\n",
       "    </tr>\n",
       "    <tr>\n",
       "      <th>4</th>\n",
       "      <td>4fac990f-b252-4621-b47c-2481f5030cec</td>\n",
       "      <td>074a93a5-4dfb-4dd1-b099-cc83fcd1e617</td>\n",
       "      <td>age_range</td>\n",
       "      <td>25-39</td>\n",
       "      <td>2018-05-24 20:46:14.904279</td>\n",
       "      <td>2018-05-24 20:46:14.904279</td>\n",
       "    </tr>\n",
       "  </tbody>\n",
       "</table>\n",
       "</div>"
      ],
      "text/plain": [
       "                                     id                               user_id  \\\n",
       "0  5e820e59-2793-4aa8-be6e-95d547872de7  7ac5f4a4-e46f-4d1a-b530-50d1930d9b95   \n",
       "1  862263f6-e6a0-4d7f-b14d-7112bdea27a5  7ac5f4a4-e46f-4d1a-b530-50d1930d9b95   \n",
       "2  12333e49-de34-4cc0-a1f2-1bf05d7da186  0e836b54-9f64-4814-b328-7e4ac41ac5ba   \n",
       "3  b4751efa-3407-4074-8bf0-10a6e4235729  0e836b54-9f64-4814-b328-7e4ac41ac5ba   \n",
       "4  4fac990f-b252-4621-b47c-2481f5030cec  074a93a5-4dfb-4dd1-b099-cc83fcd1e617   \n",
       "\n",
       "                     type  value                 inserted_at  \\\n",
       "0               age_range  40-59  2018-05-24 12:32:21.406260   \n",
       "1  number_of_selfies_sent      5  2018-05-24 12:32:21.618808   \n",
       "2               age_range  >= 60  2018-08-25 01:41:57.876757   \n",
       "3  number_of_selfies_sent      5  2018-08-25 01:41:58.054672   \n",
       "4               age_range  25-39  2018-05-24 20:46:14.904279   \n",
       "\n",
       "                   updated_at  \n",
       "0  2018-05-24 12:32:21.406260  \n",
       "1  2018-05-24 12:32:21.618808  \n",
       "2  2018-08-25 01:41:57.876757  \n",
       "3  2018-08-25 01:41:58.054672  \n",
       "4  2018-05-24 20:46:14.904279  "
      ]
     },
     "execution_count": 56,
     "metadata": {},
     "output_type": "execute_result"
    }
   ],
   "source": [
    "users_metadata = pd.read_csv('files/processed_users_metadata.csv')\n",
    "users_metadata.head()"
   ]
  },
  {
   "cell_type": "code",
   "execution_count": 57,
   "id": "705018dd-e874-4e6a-b43b-85a6cbdf16b0",
   "metadata": {
    "tags": []
   },
   "outputs": [
    {
     "name": "stdout",
     "output_type": "stream",
     "text": [
      "<class 'pandas.core.frame.DataFrame'>\n",
      "RangeIndex: 525479 entries, 0 to 525478\n",
      "Data columns (total 6 columns):\n",
      " #   Column       Non-Null Count   Dtype \n",
      "---  ------       --------------   ----- \n",
      " 0   id           525479 non-null  object\n",
      " 1   user_id      525479 non-null  object\n",
      " 2   type         525479 non-null  object\n",
      " 3   value        525479 non-null  object\n",
      " 4   inserted_at  525479 non-null  object\n",
      " 5   updated_at   525479 non-null  object\n",
      "dtypes: object(6)\n",
      "memory usage: 24.1+ MB\n"
     ]
    }
   ],
   "source": [
    "users_metadata.info()"
   ]
  },
  {
   "cell_type": "code",
   "execution_count": 62,
   "id": "74ad212d-d27b-4bb4-824c-4f7ed821bfa6",
   "metadata": {
    "tags": []
   },
   "outputs": [
    {
     "data": {
      "text/plain": [
       "True"
      ]
     },
     "execution_count": 62,
     "metadata": {},
     "output_type": "execute_result"
    }
   ],
   "source": [
    "users_metadata.id.nunique() == users_metadata.shape[0]"
   ]
  },
  {
   "cell_type": "code",
   "execution_count": 69,
   "id": "3311e542-7edc-4250-ad50-25a27bed8ece",
   "metadata": {
    "tags": []
   },
   "outputs": [
    {
     "data": {
      "text/plain": [
       "type                    value\n",
       "age_range               18-24     39993\n",
       "                        25-39    137124\n",
       "                        40-59     75974\n",
       "                        < 18       1870\n",
       "                        >= 60      7813\n",
       "number_of_selfies_sent  0           518\n",
       "                        1           660\n",
       "                        10         4108\n",
       "                        11         1193\n",
       "                        12          238\n",
       "                        13          110\n",
       "                        14           70\n",
       "                        15          599\n",
       "                        16          245\n",
       "                        17          135\n",
       "                        18           56\n",
       "                        19           26\n",
       "                        2           589\n",
       "                        20          133\n",
       "                        21           64\n",
       "                        22           42\n",
       "                        23           39\n",
       "                        24           25\n",
       "                        25           35\n",
       "                        26           24\n",
       "                        27           16\n",
       "                        28           22\n",
       "                        29            9\n",
       "                        3           424\n",
       "                        30           22\n",
       "                        31            8\n",
       "                        32            7\n",
       "                        33            4\n",
       "                        34            8\n",
       "                        35            6\n",
       "                        36            3\n",
       "                        38            2\n",
       "                        39            1\n",
       "                        4           312\n",
       "                        40            5\n",
       "                        41            2\n",
       "                        42            5\n",
       "                        43            3\n",
       "                        44            1\n",
       "                        45            2\n",
       "                        48            2\n",
       "                        5        189744\n",
       "                        50            1\n",
       "                        55            1\n",
       "                        56            1\n",
       "                        57            1\n",
       "                        6         63036\n",
       "                        61            1\n",
       "                        7            65\n",
       "                        8            39\n",
       "                        9            43\n",
       "Name: id, dtype: int64"
      ]
     },
     "execution_count": 69,
     "metadata": {},
     "output_type": "execute_result"
    }
   ],
   "source": [
    "users_metadata.fillna(\"NA\").groupby(['type', 'value']).id.count()"
   ]
  },
  {
   "cell_type": "markdown",
   "id": "15533402-7699-44a0-8f24-19d65a31ec7a",
   "metadata": {},
   "source": [
    "Here we have two variables that can help a lot in the development of the model, the age group and the amount of selfies sent by the customer."
   ]
  },
  {
   "cell_type": "code",
   "execution_count": 70,
   "id": "376ebf9a-334b-42aa-a1ce-d6e8403c7dcd",
   "metadata": {
    "tags": []
   },
   "outputs": [],
   "source": [
    "um = users_metadata.copy(deep=True)"
   ]
  },
  {
   "cell_type": "code",
   "execution_count": 71,
   "id": "fa21e760-b9e5-4883-a648-889b566950a3",
   "metadata": {
    "tags": []
   },
   "outputs": [
    {
     "name": "stdout",
     "output_type": "stream",
     "text": [
      "dates are equal:  419587\n",
      "Inserted before updated:  105892\n",
      "Inserted after updated:  0\n",
      "Some date is missing:  0\n"
     ]
    }
   ],
   "source": [
    "print(\"dates are equal: \", (um.inserted_at == um.updated_at).sum())\n",
    "print(\"Inserted before updated: \", (um.inserted_at < um.updated_at).sum())\n",
    "print(\"Inserted after updated: \", (um.inserted_at > um.updated_at).sum())\n",
    "print(\"Some date is missing: \", (um[['inserted_at', 'updated_at']].isna().max(axis=1).sum()))"
   ]
  },
  {
   "cell_type": "markdown",
   "id": "32e06f19-66ed-474e-b5a8-cf1bcd9ec9b7",
   "metadata": {},
   "source": [
    "Dates are well Behaved"
   ]
  },
  {
   "cell_type": "code",
   "execution_count": 72,
   "id": "82f21e9e-56d6-4dac-a16e-a57e82ec1f43",
   "metadata": {
    "tags": []
   },
   "outputs": [
    {
     "data": {
      "text/plain": [
       "id            0.000000\n",
       "user_id       0.000000\n",
       "type          0.000000\n",
       "value         0.000000\n",
       "inserted_at   0.000000\n",
       "updated_at    0.000000\n",
       "dtype: float64"
      ]
     },
     "execution_count": 72,
     "metadata": {},
     "output_type": "execute_result"
    }
   ],
   "source": [
    "um.isna().mean()"
   ]
  },
  {
   "cell_type": "markdown",
   "id": "62be45d1-186c-4f06-b814-c62527ea3487",
   "metadata": {},
   "source": [
    "And no nulls. With this I can create great insights about the customer."
   ]
  },
  {
   "cell_type": "markdown",
   "id": "279bbe9d-a95d-4791-a58f-45d449da409a",
   "metadata": {},
   "source": [
    "### Users Organizations"
   ]
  },
  {
   "cell_type": "code",
   "execution_count": 73,
   "id": "52592c91-74ae-4e4a-8ed0-f52eb2329aad",
   "metadata": {
    "tags": []
   },
   "outputs": [
    {
     "data": {
      "text/html": [
       "<div>\n",
       "<style scoped>\n",
       "    .dataframe tbody tr th:only-of-type {\n",
       "        vertical-align: middle;\n",
       "    }\n",
       "\n",
       "    .dataframe tbody tr th {\n",
       "        vertical-align: top;\n",
       "    }\n",
       "\n",
       "    .dataframe thead th {\n",
       "        text-align: right;\n",
       "    }\n",
       "</style>\n",
       "<table border=\"1\" class=\"dataframe\">\n",
       "  <thead>\n",
       "    <tr style=\"text-align: right;\">\n",
       "      <th></th>\n",
       "      <th>user_id</th>\n",
       "      <th>organization_id</th>\n",
       "    </tr>\n",
       "  </thead>\n",
       "  <tbody>\n",
       "    <tr>\n",
       "      <th>0</th>\n",
       "      <td>475c1048-860c-49e7-b94a-eb478eb78cf6</td>\n",
       "      <td>e4ef0830-64e3-4cae-bc14-a718849b60b7</td>\n",
       "    </tr>\n",
       "    <tr>\n",
       "      <th>1</th>\n",
       "      <td>769d83d0-1438-49d2-bf03-8b0e3584bdfe</td>\n",
       "      <td>2a15fe66-2d99-4b70-a11e-cdcb74163b65</td>\n",
       "    </tr>\n",
       "    <tr>\n",
       "      <th>2</th>\n",
       "      <td>8a1384f7-902e-433f-83a4-3705ba19fc4d</td>\n",
       "      <td>f4981be9-1c19-40c2-af09-4c429194ed0d</td>\n",
       "    </tr>\n",
       "    <tr>\n",
       "      <th>3</th>\n",
       "      <td>052ecf70-7e5d-4b49-912c-415ec718c1c9</td>\n",
       "      <td>c0508778-02cf-4ab4-a1e5-0d8a0c02a6b4</td>\n",
       "    </tr>\n",
       "    <tr>\n",
       "      <th>4</th>\n",
       "      <td>b058e64d-6449-4ddd-993a-4cb88d2fe97a</td>\n",
       "      <td>59f73def-619c-4d7a-bf66-b635be35b6e9</td>\n",
       "    </tr>\n",
       "  </tbody>\n",
       "</table>\n",
       "</div>"
      ],
      "text/plain": [
       "                                user_id                       organization_id\n",
       "0  475c1048-860c-49e7-b94a-eb478eb78cf6  e4ef0830-64e3-4cae-bc14-a718849b60b7\n",
       "1  769d83d0-1438-49d2-bf03-8b0e3584bdfe  2a15fe66-2d99-4b70-a11e-cdcb74163b65\n",
       "2  8a1384f7-902e-433f-83a4-3705ba19fc4d  f4981be9-1c19-40c2-af09-4c429194ed0d\n",
       "3  052ecf70-7e5d-4b49-912c-415ec718c1c9  c0508778-02cf-4ab4-a1e5-0d8a0c02a6b4\n",
       "4  b058e64d-6449-4ddd-993a-4cb88d2fe97a  59f73def-619c-4d7a-bf66-b635be35b6e9"
      ]
     },
     "execution_count": 73,
     "metadata": {},
     "output_type": "execute_result"
    }
   ],
   "source": [
    "users_organizations = pd.read_csv('files/processed_users_organizations.csv')\n",
    "users_organizations.head()"
   ]
  },
  {
   "cell_type": "code",
   "execution_count": 74,
   "id": "f4213734-ece2-4b09-8dfa-7c136f613788",
   "metadata": {
    "tags": []
   },
   "outputs": [
    {
     "name": "stdout",
     "output_type": "stream",
     "text": [
      "<class 'pandas.core.frame.DataFrame'>\n",
      "RangeIndex: 54958 entries, 0 to 54957\n",
      "Data columns (total 2 columns):\n",
      " #   Column           Non-Null Count  Dtype \n",
      "---  ------           --------------  ----- \n",
      " 0   user_id          54958 non-null  object\n",
      " 1   organization_id  54958 non-null  object\n",
      "dtypes: object(2)\n",
      "memory usage: 858.8+ KB\n"
     ]
    }
   ],
   "source": [
    "users_organizations.info()"
   ]
  },
  {
   "cell_type": "code",
   "execution_count": 75,
   "id": "063f72ce-6956-497b-98b4-82aa160c3be0",
   "metadata": {
    "tags": []
   },
   "outputs": [],
   "source": [
    "uo = users_organizations.copy(deep=True)"
   ]
  },
  {
   "cell_type": "code",
   "execution_count": 78,
   "id": "e696a24d-b177-40ac-a1bb-259989f1ec46",
   "metadata": {
    "tags": []
   },
   "outputs": [
    {
     "data": {
      "text/plain": [
       "1.0142097881449768"
      ]
     },
     "execution_count": 78,
     "metadata": {},
     "output_type": "execute_result"
    }
   ],
   "source": [
    "uo.groupby('user_id').organization_id.count().mean()"
   ]
  },
  {
   "cell_type": "code",
   "execution_count": 79,
   "id": "14c92958-2608-4c77-8414-49ca55ac5046",
   "metadata": {
    "tags": []
   },
   "outputs": [
    {
     "data": {
      "text/plain": [
       "37"
      ]
     },
     "execution_count": 79,
     "metadata": {},
     "output_type": "execute_result"
    }
   ],
   "source": [
    "uo.groupby('user_id').organization_id.count().max()"
   ]
  },
  {
   "cell_type": "code",
   "execution_count": 80,
   "id": "fadc82cd-dc20-4f79-aed2-bb0bc1c5705b",
   "metadata": {
    "tags": []
   },
   "outputs": [
    {
     "data": {
      "text/plain": [
       "1.0000909868433026"
      ]
     },
     "execution_count": 80,
     "metadata": {},
     "output_type": "execute_result"
    }
   ],
   "source": [
    "uo.groupby('organization_id').user_id.count().mean()"
   ]
  },
  {
   "cell_type": "code",
   "execution_count": 82,
   "id": "4ad30c21-ddb1-450f-9a4c-40a6d0bb509b",
   "metadata": {
    "tags": []
   },
   "outputs": [
    {
     "data": {
      "text/plain": [
       "5"
      ]
     },
     "execution_count": 82,
     "metadata": {},
     "output_type": "execute_result"
    }
   ],
   "source": [
    "uo.groupby('organization_id').user_id.count().max()"
   ]
  },
  {
   "cell_type": "markdown",
   "id": "b9fcdedb-499f-4afe-9148-0df70b6f2db1",
   "metadata": {},
   "source": [
    "Just a dictionary linking user_id and organization_id, nothing much to see here. It links many-many but most of the time is 1-1, we'll have to take care when joining but we don't need to dive too deep on aggregation metrics."
   ]
  },
  {
   "cell_type": "markdown",
   "id": "788dceea-ea35-48a3-85a1-3c04c8b0f423",
   "metadata": {},
   "source": [
    "### Users"
   ]
  },
  {
   "cell_type": "code",
   "execution_count": 83,
   "id": "fab20955-88de-4851-90d9-c45ee804da42",
   "metadata": {
    "tags": []
   },
   "outputs": [
    {
     "data": {
      "text/html": [
       "<div>\n",
       "<style scoped>\n",
       "    .dataframe tbody tr th:only-of-type {\n",
       "        vertical-align: middle;\n",
       "    }\n",
       "\n",
       "    .dataframe tbody tr th {\n",
       "        vertical-align: top;\n",
       "    }\n",
       "\n",
       "    .dataframe thead th {\n",
       "        text-align: right;\n",
       "    }\n",
       "</style>\n",
       "<table border=\"1\" class=\"dataframe\">\n",
       "  <thead>\n",
       "    <tr style=\"text-align: right;\">\n",
       "      <th></th>\n",
       "      <th>id</th>\n",
       "      <th>document</th>\n",
       "      <th>inserted_at</th>\n",
       "    </tr>\n",
       "  </thead>\n",
       "  <tbody>\n",
       "    <tr>\n",
       "      <th>0</th>\n",
       "      <td>659945ba-eb5b-4112-b338-8284aec5d99b</td>\n",
       "      <td>96e7c1d9-8482-4bd6-abe7-90ad0b9854eb</td>\n",
       "      <td>2018-04-24 19:40:00.914691</td>\n",
       "    </tr>\n",
       "    <tr>\n",
       "      <th>1</th>\n",
       "      <td>7d8795b3-e8ea-4e01-8f5e-0151a41e7021</td>\n",
       "      <td>9f11c509-9971-43d2-8112-752f6537a44d</td>\n",
       "      <td>2018-11-05 16:34:40.898502</td>\n",
       "    </tr>\n",
       "    <tr>\n",
       "      <th>2</th>\n",
       "      <td>75f5fe7d-05a8-4c1c-bfad-0ea8ad901200</td>\n",
       "      <td>953f9416-0b9a-48e9-bd4a-39f8fcd18fe5</td>\n",
       "      <td>2018-04-26 18:22:38.902776</td>\n",
       "    </tr>\n",
       "    <tr>\n",
       "      <th>3</th>\n",
       "      <td>c8fc220a-bda9-4174-a633-0515fdff92c2</td>\n",
       "      <td>4888e307-afb7-4c75-8f8c-0e2d7fc6880c</td>\n",
       "      <td>2018-08-29 19:20:57.890656</td>\n",
       "    </tr>\n",
       "    <tr>\n",
       "      <th>4</th>\n",
       "      <td>0bc08c41-5d93-4740-9d1f-e188fbdf7931</td>\n",
       "      <td>4200c844-f81b-4b3a-9c19-10d9d35c26ef</td>\n",
       "      <td>2018-05-28 02:50:12.368302</td>\n",
       "    </tr>\n",
       "  </tbody>\n",
       "</table>\n",
       "</div>"
      ],
      "text/plain": [
       "                                     id                              document  \\\n",
       "0  659945ba-eb5b-4112-b338-8284aec5d99b  96e7c1d9-8482-4bd6-abe7-90ad0b9854eb   \n",
       "1  7d8795b3-e8ea-4e01-8f5e-0151a41e7021  9f11c509-9971-43d2-8112-752f6537a44d   \n",
       "2  75f5fe7d-05a8-4c1c-bfad-0ea8ad901200  953f9416-0b9a-48e9-bd4a-39f8fcd18fe5   \n",
       "3  c8fc220a-bda9-4174-a633-0515fdff92c2  4888e307-afb7-4c75-8f8c-0e2d7fc6880c   \n",
       "4  0bc08c41-5d93-4740-9d1f-e188fbdf7931  4200c844-f81b-4b3a-9c19-10d9d35c26ef   \n",
       "\n",
       "                  inserted_at  \n",
       "0  2018-04-24 19:40:00.914691  \n",
       "1  2018-11-05 16:34:40.898502  \n",
       "2  2018-04-26 18:22:38.902776  \n",
       "3  2018-08-29 19:20:57.890656  \n",
       "4  2018-05-28 02:50:12.368302  "
      ]
     },
     "execution_count": 83,
     "metadata": {},
     "output_type": "execute_result"
    }
   ],
   "source": [
    "users = pd.read_csv('files/processed_users.csv')\n",
    "users.head()"
   ]
  },
  {
   "cell_type": "code",
   "execution_count": 84,
   "id": "de22042a-f83d-46d2-985f-f56d32301a89",
   "metadata": {
    "tags": []
   },
   "outputs": [
    {
     "name": "stdout",
     "output_type": "stream",
     "text": [
      "<class 'pandas.core.frame.DataFrame'>\n",
      "RangeIndex: 62731 entries, 0 to 62730\n",
      "Data columns (total 3 columns):\n",
      " #   Column       Non-Null Count  Dtype \n",
      "---  ------       --------------  ----- \n",
      " 0   id           62731 non-null  object\n",
      " 1   document     62731 non-null  object\n",
      " 2   inserted_at  62731 non-null  object\n",
      "dtypes: object(3)\n",
      "memory usage: 1.4+ MB\n"
     ]
    }
   ],
   "source": [
    "users.info()"
   ]
  },
  {
   "cell_type": "markdown",
   "id": "6ce89e5d-6628-47a4-99d2-b9c1cf98b435",
   "metadata": {},
   "source": [
    "Same as above, nothing much to see here."
   ]
  },
  {
   "cell_type": "markdown",
   "id": "13701113-2c44-4cb3-9c6e-11790ca9c664",
   "metadata": {},
   "source": [
    "# Sanity Checks\n",
    "\n",
    "I'll make some bread-and-butter sanity checks."
   ]
  },
  {
   "cell_type": "markdown",
   "id": "0256ca95-dcec-431c-b22b-2402005060d5",
   "metadata": {},
   "source": [
    "### Accounts"
   ]
  },
  {
   "cell_type": "code",
   "execution_count": 85,
   "id": "b74486bd-a88c-4e8b-bf85-371426eb5569",
   "metadata": {
    "tags": []
   },
   "outputs": [
    {
     "data": {
      "text/html": [
       "<div>\n",
       "<style scoped>\n",
       "    .dataframe tbody tr th:only-of-type {\n",
       "        vertical-align: middle;\n",
       "    }\n",
       "\n",
       "    .dataframe tbody tr th {\n",
       "        vertical-align: top;\n",
       "    }\n",
       "\n",
       "    .dataframe thead th {\n",
       "        text-align: right;\n",
       "    }\n",
       "</style>\n",
       "<table border=\"1\" class=\"dataframe\">\n",
       "  <thead>\n",
       "    <tr style=\"text-align: right;\">\n",
       "      <th></th>\n",
       "      <th>id</th>\n",
       "      <th>owner_id</th>\n",
       "      <th>owner_document</th>\n",
       "      <th>owner_type</th>\n",
       "      <th>inserted_at</th>\n",
       "    </tr>\n",
       "  </thead>\n",
       "  <tbody>\n",
       "    <tr>\n",
       "      <th>0</th>\n",
       "      <td>ac8a1faa-3748-4ef7-b140-8fe818cdc974</td>\n",
       "      <td>d2e3e3b7-e98d-4ef3-8a51-83db807b9a94</td>\n",
       "      <td>5e998c51-53cc-48f0-aef4-45ec12a466be</td>\n",
       "      <td>user</td>\n",
       "      <td>2017-03-16 16:33:43.603803</td>\n",
       "    </tr>\n",
       "    <tr>\n",
       "      <th>1</th>\n",
       "      <td>b2ccbb65-19b0-43fb-891f-faf785d00ade</td>\n",
       "      <td>e01a38b9-5e4c-43fb-9aef-d866054b00bd</td>\n",
       "      <td>4ca9177f-35cc-4067-9d0b-af621aaa2e65</td>\n",
       "      <td>user</td>\n",
       "      <td>2017-03-25 14:01:25.919929</td>\n",
       "    </tr>\n",
       "    <tr>\n",
       "      <th>2</th>\n",
       "      <td>c890a24f-f539-4dfe-a3d3-fe2c11c0aed6</td>\n",
       "      <td>c66561a4-66cc-4e2c-8379-3fd060b0e1ba</td>\n",
       "      <td>7df16b0b-0cda-40b8-91b5-5ed4d371a834</td>\n",
       "      <td>user</td>\n",
       "      <td>2017-03-25 14:04:11.917901</td>\n",
       "    </tr>\n",
       "    <tr>\n",
       "      <th>3</th>\n",
       "      <td>678269b6-7b71-48a2-82fb-19018432abf9</td>\n",
       "      <td>49a50a56-3f7a-435d-80a1-6e459c3948e8</td>\n",
       "      <td>d74146d2-af1c-4396-86f7-c98ccc177411</td>\n",
       "      <td>user</td>\n",
       "      <td>2017-03-27 13:59:43.513024</td>\n",
       "    </tr>\n",
       "    <tr>\n",
       "      <th>4</th>\n",
       "      <td>c6f2982a-4c2a-4dc2-b237-2c683235c3d8</td>\n",
       "      <td>596160cd-c41d-4689-bd4d-a055db788931</td>\n",
       "      <td>23d532c1-855b-42c2-a011-2e64b7078d4a</td>\n",
       "      <td>user</td>\n",
       "      <td>2017-03-27 14:00:58.316963</td>\n",
       "    </tr>\n",
       "  </tbody>\n",
       "</table>\n",
       "</div>"
      ],
      "text/plain": [
       "                                     id                              owner_id  \\\n",
       "0  ac8a1faa-3748-4ef7-b140-8fe818cdc974  d2e3e3b7-e98d-4ef3-8a51-83db807b9a94   \n",
       "1  b2ccbb65-19b0-43fb-891f-faf785d00ade  e01a38b9-5e4c-43fb-9aef-d866054b00bd   \n",
       "2  c890a24f-f539-4dfe-a3d3-fe2c11c0aed6  c66561a4-66cc-4e2c-8379-3fd060b0e1ba   \n",
       "3  678269b6-7b71-48a2-82fb-19018432abf9  49a50a56-3f7a-435d-80a1-6e459c3948e8   \n",
       "4  c6f2982a-4c2a-4dc2-b237-2c683235c3d8  596160cd-c41d-4689-bd4d-a055db788931   \n",
       "\n",
       "                         owner_document owner_type                 inserted_at  \n",
       "0  5e998c51-53cc-48f0-aef4-45ec12a466be       user  2017-03-16 16:33:43.603803  \n",
       "1  4ca9177f-35cc-4067-9d0b-af621aaa2e65       user  2017-03-25 14:01:25.919929  \n",
       "2  7df16b0b-0cda-40b8-91b5-5ed4d371a834       user  2017-03-25 14:04:11.917901  \n",
       "3  d74146d2-af1c-4396-86f7-c98ccc177411       user  2017-03-27 13:59:43.513024  \n",
       "4  23d532c1-855b-42c2-a011-2e64b7078d4a       user  2017-03-27 14:00:58.316963  "
      ]
     },
     "execution_count": 85,
     "metadata": {},
     "output_type": "execute_result"
    }
   ],
   "source": [
    "accounts.head()"
   ]
  },
  {
   "cell_type": "code",
   "execution_count": 86,
   "id": "e9dc961f-7cce-4224-85b9-d34c87950e69",
   "metadata": {
    "tags": []
   },
   "outputs": [
    {
     "data": {
      "text/plain": [
       "id               0.000000\n",
       "owner_id         0.000000\n",
       "owner_document   0.000000\n",
       "owner_type       0.000000\n",
       "inserted_at      0.000000\n",
       "dtype: float64"
      ]
     },
     "execution_count": 86,
     "metadata": {},
     "output_type": "execute_result"
    }
   ],
   "source": [
    "accounts.isna().mean()"
   ]
  },
  {
   "cell_type": "code",
   "execution_count": 87,
   "id": "c6abc6ea-284c-4b84-b4e4-96e225557db7",
   "metadata": {
    "tags": []
   },
   "outputs": [
    {
     "data": {
      "text/plain": [
       "organization    197777\n",
       "user             95225\n",
       "Name: owner_type, dtype: int64"
      ]
     },
     "execution_count": 87,
     "metadata": {},
     "output_type": "execute_result"
    }
   ],
   "source": [
    "accounts.owner_type.value_counts(dropna=False)"
   ]
  },
  {
   "cell_type": "code",
   "execution_count": 88,
   "id": "95c8ab8c-165d-44a7-a94b-6d6d88855162",
   "metadata": {
    "tags": []
   },
   "outputs": [
    {
     "data": {
      "text/plain": [
       "(293002, 5)"
      ]
     },
     "execution_count": 88,
     "metadata": {},
     "output_type": "execute_result"
    }
   ],
   "source": [
    "accounts.shape"
   ]
  },
  {
   "cell_type": "code",
   "execution_count": 89,
   "id": "cc51c6fa-ec04-4a26-89fd-66fdc3680deb",
   "metadata": {
    "tags": []
   },
   "outputs": [
    {
     "name": "stdout",
     "output_type": "stream",
     "text": [
      "293002 id\n",
      "292889 owner_id\n",
      "291710 owner_document\n",
      "2 owner_type\n",
      "293000 inserted_at\n"
     ]
    }
   ],
   "source": [
    "for i in accounts.columns:\n",
    "    print(accounts[i].nunique(dropna=False), i)"
   ]
  },
  {
   "cell_type": "code",
   "execution_count": 90,
   "id": "cd6364d0-80f8-4aa2-86c8-ca8e6fd42d41",
   "metadata": {
    "tags": []
   },
   "outputs": [
    {
     "data": {
      "text/plain": [
       "inserted_at    2018-12-17 21:13:12.196103\n",
       "dtype: object"
      ]
     },
     "execution_count": 90,
     "metadata": {},
     "output_type": "execute_result"
    }
   ],
   "source": [
    "accounts[['inserted_at']].max()"
   ]
  },
  {
   "cell_type": "code",
   "execution_count": 91,
   "id": "5f41dffa-ba51-4666-91b7-102e62f10885",
   "metadata": {
    "tags": []
   },
   "outputs": [
    {
     "data": {
      "text/plain": [
       "inserted_at    2016-12-09 20:05:17.795873\n",
       "dtype: object"
      ]
     },
     "execution_count": 91,
     "metadata": {},
     "output_type": "execute_result"
    }
   ],
   "source": [
    "accounts[['inserted_at']].min()"
   ]
  },
  {
   "cell_type": "markdown",
   "id": "5f0eb282-5948-41f1-808c-ad8e750563ad",
   "metadata": {},
   "source": [
    "### Labeled Transactions"
   ]
  },
  {
   "cell_type": "code",
   "execution_count": 92,
   "id": "8f7d5622-980f-42ab-9723-2dc96f561343",
   "metadata": {
    "tags": []
   },
   "outputs": [
    {
     "data": {
      "text/html": [
       "<div>\n",
       "<style scoped>\n",
       "    .dataframe tbody tr th:only-of-type {\n",
       "        vertical-align: middle;\n",
       "    }\n",
       "\n",
       "    .dataframe tbody tr th {\n",
       "        vertical-align: top;\n",
       "    }\n",
       "\n",
       "    .dataframe thead th {\n",
       "        text-align: right;\n",
       "    }\n",
       "</style>\n",
       "<table border=\"1\" class=\"dataframe\">\n",
       "  <thead>\n",
       "    <tr style=\"text-align: right;\">\n",
       "      <th></th>\n",
       "      <th>operation_id</th>\n",
       "      <th>request_id</th>\n",
       "      <th>account_id</th>\n",
       "      <th>device_id</th>\n",
       "      <th>counterparty_document</th>\n",
       "      <th>operation_type</th>\n",
       "      <th>amount</th>\n",
       "      <th>balance</th>\n",
       "      <th>requested_at</th>\n",
       "      <th>processed_at</th>\n",
       "      <th>is_fraud</th>\n",
       "    </tr>\n",
       "  </thead>\n",
       "  <tbody>\n",
       "    <tr>\n",
       "      <th>0</th>\n",
       "      <td>37e105f1-003f-465b-8179-e7705b12a24d</td>\n",
       "      <td>c1820b88-ac54-444f-b9a0-70de30124d95</td>\n",
       "      <td>a7b4f041-ef6a-4e17-baf9-cd471ef0f484</td>\n",
       "      <td>ef1756b6-354c-4ea4-b175-4eba835b60a5</td>\n",
       "      <td>38e6f7c9-e935-4c7c-8915-ef923a5ca914</td>\n",
       "      <td>cash_out_type_1</td>\n",
       "      <td>0.000099</td>\n",
       "      <td>0.000167</td>\n",
       "      <td>2018-11-21 15:41:23</td>\n",
       "      <td>2018-11-21 15:41:23</td>\n",
       "      <td>NaN</td>\n",
       "    </tr>\n",
       "    <tr>\n",
       "      <th>1</th>\n",
       "      <td>72d66c19-130b-4d51-8ed7-e3b6c0b65034</td>\n",
       "      <td>9400a9f4-6ab8-40cd-b806-1569b693a88e</td>\n",
       "      <td>ed310df0-6834-4899-811e-5faf13b2a99c</td>\n",
       "      <td>ef1756b6-354c-4ea4-b175-4eba835b60a5</td>\n",
       "      <td>9bd89feb-e952-47c1-bbf5-d4c17b36d852</td>\n",
       "      <td>cash_out_type_3</td>\n",
       "      <td>0.000013</td>\n",
       "      <td>0.000533</td>\n",
       "      <td>NaN</td>\n",
       "      <td>2018-10-22 23:43:38</td>\n",
       "      <td>NaN</td>\n",
       "    </tr>\n",
       "    <tr>\n",
       "      <th>2</th>\n",
       "      <td>31abd386-09f7-4f18-9b01-d2682e3c2c65</td>\n",
       "      <td>80adf85b-56cc-4730-903d-e63c75ae839a</td>\n",
       "      <td>ed310df0-6834-4899-811e-5faf13b2a99c</td>\n",
       "      <td>ef1756b6-354c-4ea4-b175-4eba835b60a5</td>\n",
       "      <td>9bd89feb-e952-47c1-bbf5-d4c17b36d852</td>\n",
       "      <td>cash_out_type_3</td>\n",
       "      <td>0.000016</td>\n",
       "      <td>0.000347</td>\n",
       "      <td>2018-11-19 16:11:57</td>\n",
       "      <td>2018-11-19 16:12:00</td>\n",
       "      <td>NaN</td>\n",
       "    </tr>\n",
       "    <tr>\n",
       "      <th>3</th>\n",
       "      <td>27543733-e8a8-4593-88fb-921e205a6e0c</td>\n",
       "      <td>6edfea5c-4125-49fa-bbe7-b39433f6e49a</td>\n",
       "      <td>ed310df0-6834-4899-811e-5faf13b2a99c</td>\n",
       "      <td>ef1756b6-354c-4ea4-b175-4eba835b60a5</td>\n",
       "      <td>e573e2d3-39af-4f71-97df-bf400e854a8a</td>\n",
       "      <td>cash_out_type_3</td>\n",
       "      <td>0.000001</td>\n",
       "      <td>0.000572</td>\n",
       "      <td>NaN</td>\n",
       "      <td>2018-10-29 15:20:49</td>\n",
       "      <td>NaN</td>\n",
       "    </tr>\n",
       "    <tr>\n",
       "      <th>4</th>\n",
       "      <td>6aff8f2d-0730-4f94-846b-14c059550ab2</td>\n",
       "      <td>88ddff46-6714-4a47-9407-a7d54996dde1</td>\n",
       "      <td>ed310df0-6834-4899-811e-5faf13b2a99c</td>\n",
       "      <td>ef1756b6-354c-4ea4-b175-4eba835b60a5</td>\n",
       "      <td>88f94e8a-0145-489f-9f1d-d4755456e965</td>\n",
       "      <td>cash_out_type_3</td>\n",
       "      <td>0.000045</td>\n",
       "      <td>0.000346</td>\n",
       "      <td>NaN</td>\n",
       "      <td>2018-10-31 12:06:08</td>\n",
       "      <td>NaN</td>\n",
       "    </tr>\n",
       "  </tbody>\n",
       "</table>\n",
       "</div>"
      ],
      "text/plain": [
       "                           operation_id                            request_id  \\\n",
       "0  37e105f1-003f-465b-8179-e7705b12a24d  c1820b88-ac54-444f-b9a0-70de30124d95   \n",
       "1  72d66c19-130b-4d51-8ed7-e3b6c0b65034  9400a9f4-6ab8-40cd-b806-1569b693a88e   \n",
       "2  31abd386-09f7-4f18-9b01-d2682e3c2c65  80adf85b-56cc-4730-903d-e63c75ae839a   \n",
       "3  27543733-e8a8-4593-88fb-921e205a6e0c  6edfea5c-4125-49fa-bbe7-b39433f6e49a   \n",
       "4  6aff8f2d-0730-4f94-846b-14c059550ab2  88ddff46-6714-4a47-9407-a7d54996dde1   \n",
       "\n",
       "                             account_id                             device_id  \\\n",
       "0  a7b4f041-ef6a-4e17-baf9-cd471ef0f484  ef1756b6-354c-4ea4-b175-4eba835b60a5   \n",
       "1  ed310df0-6834-4899-811e-5faf13b2a99c  ef1756b6-354c-4ea4-b175-4eba835b60a5   \n",
       "2  ed310df0-6834-4899-811e-5faf13b2a99c  ef1756b6-354c-4ea4-b175-4eba835b60a5   \n",
       "3  ed310df0-6834-4899-811e-5faf13b2a99c  ef1756b6-354c-4ea4-b175-4eba835b60a5   \n",
       "4  ed310df0-6834-4899-811e-5faf13b2a99c  ef1756b6-354c-4ea4-b175-4eba835b60a5   \n",
       "\n",
       "                  counterparty_document   operation_type   amount  balance  \\\n",
       "0  38e6f7c9-e935-4c7c-8915-ef923a5ca914  cash_out_type_1 0.000099 0.000167   \n",
       "1  9bd89feb-e952-47c1-bbf5-d4c17b36d852  cash_out_type_3 0.000013 0.000533   \n",
       "2  9bd89feb-e952-47c1-bbf5-d4c17b36d852  cash_out_type_3 0.000016 0.000347   \n",
       "3  e573e2d3-39af-4f71-97df-bf400e854a8a  cash_out_type_3 0.000001 0.000572   \n",
       "4  88f94e8a-0145-489f-9f1d-d4755456e965  cash_out_type_3 0.000045 0.000346   \n",
       "\n",
       "          requested_at         processed_at is_fraud  \n",
       "0  2018-11-21 15:41:23  2018-11-21 15:41:23      NaN  \n",
       "1                  NaN  2018-10-22 23:43:38      NaN  \n",
       "2  2018-11-19 16:11:57  2018-11-19 16:12:00      NaN  \n",
       "3                  NaN  2018-10-29 15:20:49      NaN  \n",
       "4                  NaN  2018-10-31 12:06:08      NaN  "
      ]
     },
     "execution_count": 92,
     "metadata": {},
     "output_type": "execute_result"
    }
   ],
   "source": [
    "labeled_transactions.head()"
   ]
  },
  {
   "cell_type": "code",
   "execution_count": 93,
   "id": "730afbb3-10a5-4844-ab7f-1b315d4ee810",
   "metadata": {
    "tags": []
   },
   "outputs": [
    {
     "data": {
      "text/plain": [
       "operation_id            0.000180\n",
       "request_id              0.000000\n",
       "account_id              0.000000\n",
       "device_id               0.000000\n",
       "counterparty_document   0.000000\n",
       "operation_type          0.000000\n",
       "amount                  0.000000\n",
       "balance                 0.057347\n",
       "requested_at            0.578670\n",
       "processed_at            0.000000\n",
       "is_fraud                0.998369\n",
       "dtype: float64"
      ]
     },
     "execution_count": 93,
     "metadata": {},
     "output_type": "execute_result"
    }
   ],
   "source": [
    "labeled_transactions.isna().mean()"
   ]
  },
  {
   "cell_type": "code",
   "execution_count": 94,
   "id": "276911e8-0e35-48cc-8ada-fe48ea966779",
   "metadata": {
    "tags": []
   },
   "outputs": [
    {
     "data": {
      "text/plain": [
       "(940935, 11)"
      ]
     },
     "execution_count": 94,
     "metadata": {},
     "output_type": "execute_result"
    }
   ],
   "source": [
    "labeled_transactions.shape"
   ]
  },
  {
   "cell_type": "code",
   "execution_count": 95,
   "id": "346e395f-2557-44eb-beea-cc51fa904cf5",
   "metadata": {
    "tags": []
   },
   "outputs": [
    {
     "name": "stdout",
     "output_type": "stream",
     "text": [
      "940767 operation_id\n",
      "940935 request_id\n",
      "63723 account_id\n",
      "74928 device_id\n",
      "276020 counterparty_document\n",
      "4 operation_type\n",
      "158041 amount\n",
      "467166 balance\n",
      "265342 requested_at\n",
      "561650 processed_at\n",
      "2 is_fraud\n"
     ]
    }
   ],
   "source": [
    "for i in labeled_transactions.columns:\n",
    "    print(labeled_transactions[i].nunique(dropna=False), i)"
   ]
  },
  {
   "cell_type": "code",
   "execution_count": 96,
   "id": "a1b47075-1394-4e61-b000-00179839635d",
   "metadata": {
    "tags": []
   },
   "outputs": [
    {
     "data": {
      "text/plain": [
       "cash_out_type_2    665133\n",
       "cash_out_type_3    260343\n",
       "cash_out_type_1     15449\n",
       "cash_out_type_6        10\n",
       "Name: operation_type, dtype: int64"
      ]
     },
     "execution_count": 96,
     "metadata": {},
     "output_type": "execute_result"
    }
   ],
   "source": [
    "labeled_transactions.operation_type.value_counts(dropna=False)"
   ]
  },
  {
   "cell_type": "code",
   "execution_count": 97,
   "id": "f517de52-3405-4e16-b86c-674f08593d62",
   "metadata": {
    "tags": []
   },
   "outputs": [
    {
     "data": {
      "text/plain": [
       "NaN     939400\n",
       "True      1535\n",
       "Name: is_fraud, dtype: int64"
      ]
     },
     "execution_count": 97,
     "metadata": {},
     "output_type": "execute_result"
    }
   ],
   "source": [
    "labeled_transactions.is_fraud.value_counts(dropna=False)"
   ]
  },
  {
   "cell_type": "code",
   "execution_count": 98,
   "id": "7b611d72-d9eb-48d0-bc55-ea4364975e98",
   "metadata": {
    "tags": []
   },
   "outputs": [
    {
     "name": "stderr",
     "output_type": "stream",
     "text": [
      "/tmp/ipykernel_336/4186101227.py:1: FutureWarning: Dropping of nuisance columns in DataFrame reductions (with 'numeric_only=None') is deprecated; in a future version this will raise TypeError.  Select only valid columns before calling the reduction.\n",
      "  labeled_transactions[['amount', 'balance', 'requested_at', 'processed_at']].max()\n"
     ]
    },
    {
     "data": {
      "text/plain": [
       "amount                     1.000000\n",
       "balance                    0.076443\n",
       "processed_at    2018-11-24 23:58:54\n",
       "dtype: object"
      ]
     },
     "execution_count": 98,
     "metadata": {},
     "output_type": "execute_result"
    }
   ],
   "source": [
    "labeled_transactions[['amount', 'balance', 'requested_at', 'processed_at']].max()"
   ]
  },
  {
   "cell_type": "code",
   "execution_count": 99,
   "id": "a9047433-6ee6-4624-bf03-086c1a645902",
   "metadata": {
    "tags": []
   },
   "outputs": [
    {
     "name": "stderr",
     "output_type": "stream",
     "text": [
      "/tmp/ipykernel_336/4106585724.py:1: FutureWarning: Dropping of nuisance columns in DataFrame reductions (with 'numeric_only=None') is deprecated; in a future version this will raise TypeError.  Select only valid columns before calling the reduction.\n",
      "  labeled_transactions[['amount', 'balance', 'requested_at', 'processed_at']].min()\n"
     ]
    },
    {
     "data": {
      "text/plain": [
       "amount                     0.000000\n",
       "balance                    0.000000\n",
       "processed_at    2018-10-18 00:00:25\n",
       "dtype: object"
      ]
     },
     "execution_count": 99,
     "metadata": {},
     "output_type": "execute_result"
    }
   ],
   "source": [
    "labeled_transactions[['amount', 'balance', 'requested_at', 'processed_at']].min()"
   ]
  },
  {
   "cell_type": "code",
   "execution_count": 100,
   "id": "1af56aab-dc06-4dd6-8b7d-99c78b04a7b2",
   "metadata": {
    "tags": []
   },
   "outputs": [
    {
     "data": {
      "text/plain": [
       "'2018-11-24 23:58:51'"
      ]
     },
     "execution_count": 100,
     "metadata": {},
     "output_type": "execute_result"
    }
   ],
   "source": [
    "labeled_transactions['requested_at'].dropna().max()"
   ]
  },
  {
   "cell_type": "code",
   "execution_count": 101,
   "id": "6780ff5b-4e36-42d8-b68e-d1b7f4f47121",
   "metadata": {
    "tags": []
   },
   "outputs": [
    {
     "data": {
      "text/plain": [
       "'2018-08-29 19:35:20'"
      ]
     },
     "execution_count": 101,
     "metadata": {},
     "output_type": "execute_result"
    }
   ],
   "source": [
    "labeled_transactions['requested_at'].dropna().min()"
   ]
  },
  {
   "cell_type": "markdown",
   "id": "a744d12f-82ae-42a7-9181-77bf880ee4ea",
   "metadata": {},
   "source": [
    "### Unlabeled Transactions"
   ]
  },
  {
   "cell_type": "code",
   "execution_count": 102,
   "id": "956c4893-10d2-4c09-a75e-8b25a009896e",
   "metadata": {
    "tags": []
   },
   "outputs": [
    {
     "data": {
      "text/html": [
       "<div>\n",
       "<style scoped>\n",
       "    .dataframe tbody tr th:only-of-type {\n",
       "        vertical-align: middle;\n",
       "    }\n",
       "\n",
       "    .dataframe tbody tr th {\n",
       "        vertical-align: top;\n",
       "    }\n",
       "\n",
       "    .dataframe thead th {\n",
       "        text-align: right;\n",
       "    }\n",
       "</style>\n",
       "<table border=\"1\" class=\"dataframe\">\n",
       "  <thead>\n",
       "    <tr style=\"text-align: right;\">\n",
       "      <th></th>\n",
       "      <th>operation_id</th>\n",
       "      <th>request_id</th>\n",
       "      <th>account_id</th>\n",
       "      <th>device_id</th>\n",
       "      <th>counterparty_document</th>\n",
       "      <th>operation_type</th>\n",
       "      <th>amount</th>\n",
       "      <th>requested_at</th>\n",
       "      <th>processed_at</th>\n",
       "    </tr>\n",
       "  </thead>\n",
       "  <tbody>\n",
       "    <tr>\n",
       "      <th>0</th>\n",
       "      <td>f9eb1bfc-dd3e-4494-ad3a-5728059a334b</td>\n",
       "      <td>8ba7fb9c-a8b9-4595-8235-561012daa551</td>\n",
       "      <td>d24e533e-d54f-4ac5-874f-097f968c8b23</td>\n",
       "      <td>NaN</td>\n",
       "      <td>b20ca420-36b0-429f-85a5-7ffac69e82a1</td>\n",
       "      <td>cash_out_type_4</td>\n",
       "      <td>0.000001</td>\n",
       "      <td>2018-07-15 00:00:25.000000</td>\n",
       "      <td>2018-07-15 00:00:25.000000</td>\n",
       "    </tr>\n",
       "    <tr>\n",
       "      <th>1</th>\n",
       "      <td>98b084a3-353a-4ea4-8cb6-3a2b48f24d9b</td>\n",
       "      <td>f7f3b6cc-5690-4716-bc36-8a9e61ab60b0</td>\n",
       "      <td>d24e533e-d54f-4ac5-874f-097f968c8b23</td>\n",
       "      <td>NaN</td>\n",
       "      <td>b20ca420-36b0-429f-85a5-7ffac69e82a1</td>\n",
       "      <td>cash_out_type_4</td>\n",
       "      <td>0.000000</td>\n",
       "      <td>2018-07-15 00:20:32.000000</td>\n",
       "      <td>2018-07-15 00:20:32.000000</td>\n",
       "    </tr>\n",
       "    <tr>\n",
       "      <th>2</th>\n",
       "      <td>b04d0b3b-620f-4031-8598-14862d8385a4</td>\n",
       "      <td>c7120482-a055-4dc0-915c-ee467afa0d6b</td>\n",
       "      <td>d24e533e-d54f-4ac5-874f-097f968c8b23</td>\n",
       "      <td>NaN</td>\n",
       "      <td>b20ca420-36b0-429f-85a5-7ffac69e82a1</td>\n",
       "      <td>cash_out_type_4</td>\n",
       "      <td>0.000001</td>\n",
       "      <td>2018-09-01 23:51:38.000000</td>\n",
       "      <td>2018-09-01 23:51:38.000000</td>\n",
       "    </tr>\n",
       "    <tr>\n",
       "      <th>3</th>\n",
       "      <td>aa253da4-d86f-45fe-a30c-1e25aa752344</td>\n",
       "      <td>c97a2208-a1cc-472b-a8ff-4dd2dd54fd97</td>\n",
       "      <td>d24e533e-d54f-4ac5-874f-097f968c8b23</td>\n",
       "      <td>NaN</td>\n",
       "      <td>b20ca420-36b0-429f-85a5-7ffac69e82a1</td>\n",
       "      <td>cash_out_type_4</td>\n",
       "      <td>0.000001</td>\n",
       "      <td>2018-09-13 00:50:27.000000</td>\n",
       "      <td>2018-09-13 00:50:27.000000</td>\n",
       "    </tr>\n",
       "    <tr>\n",
       "      <th>4</th>\n",
       "      <td>ffed5732-c135-495f-9b43-52f4dbdd0fab</td>\n",
       "      <td>75588166-0282-401a-ace4-d42d2b33f75d</td>\n",
       "      <td>d24e533e-d54f-4ac5-874f-097f968c8b23</td>\n",
       "      <td>NaN</td>\n",
       "      <td>b20ca420-36b0-429f-85a5-7ffac69e82a1</td>\n",
       "      <td>cash_out_type_4</td>\n",
       "      <td>0.000000</td>\n",
       "      <td>2018-09-22 23:50:38.000000</td>\n",
       "      <td>2018-09-22 23:50:38.000000</td>\n",
       "    </tr>\n",
       "  </tbody>\n",
       "</table>\n",
       "</div>"
      ],
      "text/plain": [
       "                           operation_id                            request_id  \\\n",
       "0  f9eb1bfc-dd3e-4494-ad3a-5728059a334b  8ba7fb9c-a8b9-4595-8235-561012daa551   \n",
       "1  98b084a3-353a-4ea4-8cb6-3a2b48f24d9b  f7f3b6cc-5690-4716-bc36-8a9e61ab60b0   \n",
       "2  b04d0b3b-620f-4031-8598-14862d8385a4  c7120482-a055-4dc0-915c-ee467afa0d6b   \n",
       "3  aa253da4-d86f-45fe-a30c-1e25aa752344  c97a2208-a1cc-472b-a8ff-4dd2dd54fd97   \n",
       "4  ffed5732-c135-495f-9b43-52f4dbdd0fab  75588166-0282-401a-ace4-d42d2b33f75d   \n",
       "\n",
       "                             account_id device_id  \\\n",
       "0  d24e533e-d54f-4ac5-874f-097f968c8b23       NaN   \n",
       "1  d24e533e-d54f-4ac5-874f-097f968c8b23       NaN   \n",
       "2  d24e533e-d54f-4ac5-874f-097f968c8b23       NaN   \n",
       "3  d24e533e-d54f-4ac5-874f-097f968c8b23       NaN   \n",
       "4  d24e533e-d54f-4ac5-874f-097f968c8b23       NaN   \n",
       "\n",
       "                  counterparty_document   operation_type   amount  \\\n",
       "0  b20ca420-36b0-429f-85a5-7ffac69e82a1  cash_out_type_4 0.000001   \n",
       "1  b20ca420-36b0-429f-85a5-7ffac69e82a1  cash_out_type_4 0.000000   \n",
       "2  b20ca420-36b0-429f-85a5-7ffac69e82a1  cash_out_type_4 0.000001   \n",
       "3  b20ca420-36b0-429f-85a5-7ffac69e82a1  cash_out_type_4 0.000001   \n",
       "4  b20ca420-36b0-429f-85a5-7ffac69e82a1  cash_out_type_4 0.000000   \n",
       "\n",
       "                 requested_at                processed_at  \n",
       "0  2018-07-15 00:00:25.000000  2018-07-15 00:00:25.000000  \n",
       "1  2018-07-15 00:20:32.000000  2018-07-15 00:20:32.000000  \n",
       "2  2018-09-01 23:51:38.000000  2018-09-01 23:51:38.000000  \n",
       "3  2018-09-13 00:50:27.000000  2018-09-13 00:50:27.000000  \n",
       "4  2018-09-22 23:50:38.000000  2018-09-22 23:50:38.000000  "
      ]
     },
     "execution_count": 102,
     "metadata": {},
     "output_type": "execute_result"
    }
   ],
   "source": [
    "unlabeled_transactions.head()"
   ]
  },
  {
   "cell_type": "code",
   "execution_count": 103,
   "id": "e37c0ab7-5a53-4aab-9c42-f673c910b993",
   "metadata": {
    "tags": []
   },
   "outputs": [
    {
     "data": {
      "text/plain": [
       "(5087054, 9)"
      ]
     },
     "execution_count": 103,
     "metadata": {},
     "output_type": "execute_result"
    }
   ],
   "source": [
    "unlabeled_transactions.shape"
   ]
  },
  {
   "cell_type": "code",
   "execution_count": 104,
   "id": "8a001c81-4f56-426e-81bd-a007f6136d88",
   "metadata": {
    "tags": []
   },
   "outputs": [
    {
     "name": "stdout",
     "output_type": "stream",
     "text": [
      "5087054 operation_id\n",
      "1650852 request_id\n",
      "51742 account_id\n",
      "2993 device_id\n",
      "429322 counterparty_document\n",
      "9 operation_type\n",
      "266136 amount\n",
      "5037051 requested_at\n",
      "5036979 processed_at\n"
     ]
    }
   ],
   "source": [
    "for i in unlabeled_transactions.columns:\n",
    "    print(unlabeled_transactions[i].nunique(dropna=False), i)"
   ]
  },
  {
   "cell_type": "code",
   "execution_count": 105,
   "id": "fae41585-67be-4da1-af40-06a279655e7a",
   "metadata": {
    "tags": []
   },
   "outputs": [
    {
     "data": {
      "text/plain": [
       "cash_in_type_3     2154953\n",
       "cash_in_type_4     1162650\n",
       "cash_out_type_2     790153\n",
       "cash_out_type_3     463457\n",
       "cash_out_type_4     353663\n",
       "cash_in_type_2       90381\n",
       "cash_in_type_1       28196\n",
       "cash_out_type_5      25367\n",
       "cash_out_type_1      18234\n",
       "Name: operation_type, dtype: int64"
      ]
     },
     "execution_count": 105,
     "metadata": {},
     "output_type": "execute_result"
    }
   ],
   "source": [
    "unlabeled_transactions.operation_type.value_counts(dropna=False)"
   ]
  },
  {
   "cell_type": "code",
   "execution_count": 106,
   "id": "e059b6ed-ea86-4c90-a46c-7ee67d3bb92a",
   "metadata": {
    "tags": []
   },
   "outputs": [
    {
     "data": {
      "text/plain": [
       "operation_id            0.000000\n",
       "request_id              0.675480\n",
       "account_id              0.000000\n",
       "device_id               0.999036\n",
       "counterparty_document   0.000000\n",
       "operation_type          0.000000\n",
       "amount                  0.000070\n",
       "requested_at            0.000000\n",
       "processed_at            0.000000\n",
       "dtype: float64"
      ]
     },
     "execution_count": 106,
     "metadata": {},
     "output_type": "execute_result"
    }
   ],
   "source": [
    "unlabeled_transactions.isna().mean()"
   ]
  },
  {
   "cell_type": "code",
   "execution_count": 107,
   "id": "7fda9005-908e-45a1-a83d-327b719e9fa2",
   "metadata": {
    "tags": []
   },
   "outputs": [
    {
     "data": {
      "text/plain": [
       "amount                            0.067581\n",
       "requested_at    2018-10-17 23:59:58.000000\n",
       "processed_at    2018-10-17 23:59:58.000000\n",
       "dtype: object"
      ]
     },
     "execution_count": 107,
     "metadata": {},
     "output_type": "execute_result"
    }
   ],
   "source": [
    "unlabeled_transactions[['amount', 'requested_at', 'processed_at']].max()"
   ]
  },
  {
   "cell_type": "code",
   "execution_count": 108,
   "id": "4c14bdd9-511a-4d41-b013-6ee00e02c197",
   "metadata": {
    "tags": []
   },
   "outputs": [
    {
     "data": {
      "text/plain": [
       "amount                            0.000000\n",
       "requested_at    2017-11-09 15:12:55.155123\n",
       "processed_at    2018-07-15 00:00:25.000000\n",
       "dtype: object"
      ]
     },
     "execution_count": 108,
     "metadata": {},
     "output_type": "execute_result"
    }
   ],
   "source": [
    "unlabeled_transactions[['amount', 'requested_at', 'processed_at']].min()"
   ]
  },
  {
   "cell_type": "markdown",
   "id": "9354e855-92f3-4f6f-9921-e9e30e1d1dfb",
   "metadata": {},
   "source": [
    "### Organizations Metadata"
   ]
  },
  {
   "cell_type": "code",
   "execution_count": 109,
   "id": "4c6085b9-fdbc-49e1-9f9d-d1251c28d038",
   "metadata": {
    "tags": []
   },
   "outputs": [
    {
     "data": {
      "text/html": [
       "<div>\n",
       "<style scoped>\n",
       "    .dataframe tbody tr th:only-of-type {\n",
       "        vertical-align: middle;\n",
       "    }\n",
       "\n",
       "    .dataframe tbody tr th {\n",
       "        vertical-align: top;\n",
       "    }\n",
       "\n",
       "    .dataframe thead th {\n",
       "        text-align: right;\n",
       "    }\n",
       "</style>\n",
       "<table border=\"1\" class=\"dataframe\">\n",
       "  <thead>\n",
       "    <tr style=\"text-align: right;\">\n",
       "      <th></th>\n",
       "      <th>id</th>\n",
       "      <th>organization_id</th>\n",
       "      <th>type</th>\n",
       "      <th>value</th>\n",
       "      <th>inserted_at</th>\n",
       "      <th>updated_at</th>\n",
       "    </tr>\n",
       "  </thead>\n",
       "  <tbody>\n",
       "    <tr>\n",
       "      <th>0</th>\n",
       "      <td>8a442911-65db-42a3-8063-2e8e2ddab984</td>\n",
       "      <td>417b2d7c-8a26-483b-920a-cc283095d044</td>\n",
       "      <td>user_is_partner</td>\n",
       "      <td>{\"mei\": false, \"partner\": true, \"user_id\": \"f3...</td>\n",
       "      <td>2018-11-25 02:31:05.472505</td>\n",
       "      <td>2018-11-25 02:31:05.472505</td>\n",
       "    </tr>\n",
       "    <tr>\n",
       "      <th>1</th>\n",
       "      <td>fa84c1d4-9362-472f-8ef9-aa14768deb22</td>\n",
       "      <td>417b2d7c-8a26-483b-920a-cc283095d044</td>\n",
       "      <td>organization_type</td>\n",
       "      <td>ME</td>\n",
       "      <td>2018-11-25 02:31:05.518456</td>\n",
       "      <td>2018-11-25 02:31:05.518456</td>\n",
       "    </tr>\n",
       "    <tr>\n",
       "      <th>2</th>\n",
       "      <td>089a96b0-8e31-4303-9b8f-e8eabd126b51</td>\n",
       "      <td>f4745c03-2491-49f1-953b-461fc7f72cf5</td>\n",
       "      <td>user_is_partner</td>\n",
       "      <td>{\"mei\": true, \"partner\": true, \"user_id\": \"dcd...</td>\n",
       "      <td>2018-11-25 02:36:04.694632</td>\n",
       "      <td>2018-11-25 02:36:04.694632</td>\n",
       "    </tr>\n",
       "    <tr>\n",
       "      <th>3</th>\n",
       "      <td>ebe81aa1-7076-47a9-a929-0555167b6d35</td>\n",
       "      <td>f4745c03-2491-49f1-953b-461fc7f72cf5</td>\n",
       "      <td>organization_type</td>\n",
       "      <td>ME</td>\n",
       "      <td>2018-11-25 02:36:04.605196</td>\n",
       "      <td>2018-11-25 02:36:04.605196</td>\n",
       "    </tr>\n",
       "    <tr>\n",
       "      <th>4</th>\n",
       "      <td>b301ec68-9042-4a74-88f4-82b3256d0137</td>\n",
       "      <td>b208f531-9beb-44ae-991c-effca11da1e5</td>\n",
       "      <td>user_is_partner</td>\n",
       "      <td>{\"mei\": true, \"partner\": true, \"user_id\": \"5c9...</td>\n",
       "      <td>2018-11-25 02:41:44.953192</td>\n",
       "      <td>2018-11-25 02:41:44.953192</td>\n",
       "    </tr>\n",
       "  </tbody>\n",
       "</table>\n",
       "</div>"
      ],
      "text/plain": [
       "                                     id                       organization_id  \\\n",
       "0  8a442911-65db-42a3-8063-2e8e2ddab984  417b2d7c-8a26-483b-920a-cc283095d044   \n",
       "1  fa84c1d4-9362-472f-8ef9-aa14768deb22  417b2d7c-8a26-483b-920a-cc283095d044   \n",
       "2  089a96b0-8e31-4303-9b8f-e8eabd126b51  f4745c03-2491-49f1-953b-461fc7f72cf5   \n",
       "3  ebe81aa1-7076-47a9-a929-0555167b6d35  f4745c03-2491-49f1-953b-461fc7f72cf5   \n",
       "4  b301ec68-9042-4a74-88f4-82b3256d0137  b208f531-9beb-44ae-991c-effca11da1e5   \n",
       "\n",
       "                type                                              value  \\\n",
       "0    user_is_partner  {\"mei\": false, \"partner\": true, \"user_id\": \"f3...   \n",
       "1  organization_type                                                 ME   \n",
       "2    user_is_partner  {\"mei\": true, \"partner\": true, \"user_id\": \"dcd...   \n",
       "3  organization_type                                                 ME   \n",
       "4    user_is_partner  {\"mei\": true, \"partner\": true, \"user_id\": \"5c9...   \n",
       "\n",
       "                  inserted_at                  updated_at  \n",
       "0  2018-11-25 02:31:05.472505  2018-11-25 02:31:05.472505  \n",
       "1  2018-11-25 02:31:05.518456  2018-11-25 02:31:05.518456  \n",
       "2  2018-11-25 02:36:04.694632  2018-11-25 02:36:04.694632  \n",
       "3  2018-11-25 02:36:04.605196  2018-11-25 02:36:04.605196  \n",
       "4  2018-11-25 02:41:44.953192  2018-11-25 02:41:44.953192  "
      ]
     },
     "execution_count": 109,
     "metadata": {},
     "output_type": "execute_result"
    }
   ],
   "source": [
    "organizations_metadata.head()"
   ]
  },
  {
   "cell_type": "code",
   "execution_count": 110,
   "id": "9e459677-3a90-4420-b379-a1fdc5baeedb",
   "metadata": {
    "tags": []
   },
   "outputs": [
    {
     "data": {
      "text/plain": [
       "id                0.000000\n",
       "organization_id   0.000000\n",
       "type              0.000000\n",
       "value             0.072639\n",
       "inserted_at       0.000000\n",
       "updated_at        0.000000\n",
       "dtype: float64"
      ]
     },
     "execution_count": 110,
     "metadata": {},
     "output_type": "execute_result"
    }
   ],
   "source": [
    "organizations_metadata.isna().mean()"
   ]
  },
  {
   "cell_type": "code",
   "execution_count": 111,
   "id": "a43834ab-0dd0-411e-b370-bdffccdcee8b",
   "metadata": {
    "tags": []
   },
   "outputs": [
    {
     "data": {
      "text/plain": [
       "organization_type    244235\n",
       "user_is_partner       48198\n",
       "Name: type, dtype: int64"
      ]
     },
     "execution_count": 111,
     "metadata": {},
     "output_type": "execute_result"
    }
   ],
   "source": [
    "organizations_metadata.type.value_counts()"
   ]
  },
  {
   "cell_type": "code",
   "execution_count": 112,
   "id": "ee5cdd8a-2860-4295-b7a8-731dba971938",
   "metadata": {
    "tags": []
   },
   "outputs": [
    {
     "data": {
      "text/plain": [
       "ME              202518\n",
       "EPP              12655\n",
       "Other             7817\n",
       "Not informed         3\n",
       "Name: value, dtype: int64"
      ]
     },
     "execution_count": 112,
     "metadata": {},
     "output_type": "execute_result"
    }
   ],
   "source": [
    "organizations_metadata[organizations_metadata.type == 'organization_type'].value.value_counts()"
   ]
  },
  {
   "cell_type": "code",
   "execution_count": 113,
   "id": "49202e51-2704-471f-9640-d28bd817402d",
   "metadata": {
    "tags": []
   },
   "outputs": [
    {
     "data": {
      "text/plain": [
       "'{\"mei\": false, \"partner\": true, \"user_id\": \"f30ed2d8-4eda-4f80-ac87-1e0d85100093\"}'"
      ]
     },
     "execution_count": 113,
     "metadata": {},
     "output_type": "execute_result"
    }
   ],
   "source": [
    "organizations_metadata.value[0]"
   ]
  },
  {
   "cell_type": "code",
   "execution_count": 114,
   "id": "ab4f98b2-2210-490b-9207-3a253335d60d",
   "metadata": {
    "tags": []
   },
   "outputs": [
    {
     "name": "stdout",
     "output_type": "stream",
     "text": [
      "292433 id\n",
      "244233 organization_id\n",
      "2 type\n",
      "47896 value\n",
      "292427 inserted_at\n",
      "292422 updated_at\n"
     ]
    }
   ],
   "source": [
    "for i in organizations_metadata.columns:\n",
    "    print(organizations_metadata[i].nunique(dropna=False), i)"
   ]
  },
  {
   "cell_type": "code",
   "execution_count": 115,
   "id": "0276a132-2303-44e5-a545-3cd38f9315c4",
   "metadata": {
    "tags": []
   },
   "outputs": [
    {
     "data": {
      "text/plain": [
       "inserted_at    2018-12-17 02:50:19.871628\n",
       "updated_at     2018-12-17 02:50:19.871628\n",
       "dtype: object"
      ]
     },
     "execution_count": 115,
     "metadata": {},
     "output_type": "execute_result"
    }
   ],
   "source": [
    "organizations_metadata[['inserted_at', 'updated_at']].max()"
   ]
  },
  {
   "cell_type": "code",
   "execution_count": 116,
   "id": "f2bf8d65-b72a-408b-a41d-fbc8a18fd67b",
   "metadata": {
    "tags": []
   },
   "outputs": [
    {
     "data": {
      "text/plain": [
       "inserted_at    2017-11-10 21:34:34.666756\n",
       "updated_at     2017-11-10 22:52:12.267941\n",
       "dtype: object"
      ]
     },
     "execution_count": 116,
     "metadata": {},
     "output_type": "execute_result"
    }
   ],
   "source": [
    "organizations_metadata[['inserted_at', 'updated_at']].min()"
   ]
  },
  {
   "cell_type": "markdown",
   "id": "a4124237-11cc-4e0e-ad37-dafbcc85e547",
   "metadata": {},
   "source": [
    "### Users Metadata"
   ]
  },
  {
   "cell_type": "code",
   "execution_count": 117,
   "id": "c5237e9a-6b1f-445b-b4b2-0698982347af",
   "metadata": {
    "tags": []
   },
   "outputs": [
    {
     "data": {
      "text/html": [
       "<div>\n",
       "<style scoped>\n",
       "    .dataframe tbody tr th:only-of-type {\n",
       "        vertical-align: middle;\n",
       "    }\n",
       "\n",
       "    .dataframe tbody tr th {\n",
       "        vertical-align: top;\n",
       "    }\n",
       "\n",
       "    .dataframe thead th {\n",
       "        text-align: right;\n",
       "    }\n",
       "</style>\n",
       "<table border=\"1\" class=\"dataframe\">\n",
       "  <thead>\n",
       "    <tr style=\"text-align: right;\">\n",
       "      <th></th>\n",
       "      <th>id</th>\n",
       "      <th>user_id</th>\n",
       "      <th>type</th>\n",
       "      <th>value</th>\n",
       "      <th>inserted_at</th>\n",
       "      <th>updated_at</th>\n",
       "    </tr>\n",
       "  </thead>\n",
       "  <tbody>\n",
       "    <tr>\n",
       "      <th>0</th>\n",
       "      <td>5e820e59-2793-4aa8-be6e-95d547872de7</td>\n",
       "      <td>7ac5f4a4-e46f-4d1a-b530-50d1930d9b95</td>\n",
       "      <td>age_range</td>\n",
       "      <td>40-59</td>\n",
       "      <td>2018-05-24 12:32:21.406260</td>\n",
       "      <td>2018-05-24 12:32:21.406260</td>\n",
       "    </tr>\n",
       "    <tr>\n",
       "      <th>1</th>\n",
       "      <td>862263f6-e6a0-4d7f-b14d-7112bdea27a5</td>\n",
       "      <td>7ac5f4a4-e46f-4d1a-b530-50d1930d9b95</td>\n",
       "      <td>number_of_selfies_sent</td>\n",
       "      <td>5</td>\n",
       "      <td>2018-05-24 12:32:21.618808</td>\n",
       "      <td>2018-05-24 12:32:21.618808</td>\n",
       "    </tr>\n",
       "    <tr>\n",
       "      <th>2</th>\n",
       "      <td>12333e49-de34-4cc0-a1f2-1bf05d7da186</td>\n",
       "      <td>0e836b54-9f64-4814-b328-7e4ac41ac5ba</td>\n",
       "      <td>age_range</td>\n",
       "      <td>&gt;= 60</td>\n",
       "      <td>2018-08-25 01:41:57.876757</td>\n",
       "      <td>2018-08-25 01:41:57.876757</td>\n",
       "    </tr>\n",
       "    <tr>\n",
       "      <th>3</th>\n",
       "      <td>b4751efa-3407-4074-8bf0-10a6e4235729</td>\n",
       "      <td>0e836b54-9f64-4814-b328-7e4ac41ac5ba</td>\n",
       "      <td>number_of_selfies_sent</td>\n",
       "      <td>5</td>\n",
       "      <td>2018-08-25 01:41:58.054672</td>\n",
       "      <td>2018-08-25 01:41:58.054672</td>\n",
       "    </tr>\n",
       "    <tr>\n",
       "      <th>4</th>\n",
       "      <td>4fac990f-b252-4621-b47c-2481f5030cec</td>\n",
       "      <td>074a93a5-4dfb-4dd1-b099-cc83fcd1e617</td>\n",
       "      <td>age_range</td>\n",
       "      <td>25-39</td>\n",
       "      <td>2018-05-24 20:46:14.904279</td>\n",
       "      <td>2018-05-24 20:46:14.904279</td>\n",
       "    </tr>\n",
       "  </tbody>\n",
       "</table>\n",
       "</div>"
      ],
      "text/plain": [
       "                                     id                               user_id  \\\n",
       "0  5e820e59-2793-4aa8-be6e-95d547872de7  7ac5f4a4-e46f-4d1a-b530-50d1930d9b95   \n",
       "1  862263f6-e6a0-4d7f-b14d-7112bdea27a5  7ac5f4a4-e46f-4d1a-b530-50d1930d9b95   \n",
       "2  12333e49-de34-4cc0-a1f2-1bf05d7da186  0e836b54-9f64-4814-b328-7e4ac41ac5ba   \n",
       "3  b4751efa-3407-4074-8bf0-10a6e4235729  0e836b54-9f64-4814-b328-7e4ac41ac5ba   \n",
       "4  4fac990f-b252-4621-b47c-2481f5030cec  074a93a5-4dfb-4dd1-b099-cc83fcd1e617   \n",
       "\n",
       "                     type  value                 inserted_at  \\\n",
       "0               age_range  40-59  2018-05-24 12:32:21.406260   \n",
       "1  number_of_selfies_sent      5  2018-05-24 12:32:21.618808   \n",
       "2               age_range  >= 60  2018-08-25 01:41:57.876757   \n",
       "3  number_of_selfies_sent      5  2018-08-25 01:41:58.054672   \n",
       "4               age_range  25-39  2018-05-24 20:46:14.904279   \n",
       "\n",
       "                   updated_at  \n",
       "0  2018-05-24 12:32:21.406260  \n",
       "1  2018-05-24 12:32:21.618808  \n",
       "2  2018-08-25 01:41:57.876757  \n",
       "3  2018-08-25 01:41:58.054672  \n",
       "4  2018-05-24 20:46:14.904279  "
      ]
     },
     "execution_count": 117,
     "metadata": {},
     "output_type": "execute_result"
    }
   ],
   "source": [
    "users_metadata.head()"
   ]
  },
  {
   "cell_type": "code",
   "execution_count": 118,
   "id": "57241d35-96a9-4fda-ac24-4091450b67ca",
   "metadata": {
    "tags": []
   },
   "outputs": [
    {
     "data": {
      "text/plain": [
       "id            0.000000\n",
       "user_id       0.000000\n",
       "type          0.000000\n",
       "value         0.000000\n",
       "inserted_at   0.000000\n",
       "updated_at    0.000000\n",
       "dtype: float64"
      ]
     },
     "execution_count": 118,
     "metadata": {},
     "output_type": "execute_result"
    }
   ],
   "source": [
    "users_metadata.isna().mean()"
   ]
  },
  {
   "cell_type": "code",
   "execution_count": 119,
   "id": "0967f764-a28c-49ec-88d3-8197d4a4a17d",
   "metadata": {
    "tags": []
   },
   "outputs": [
    {
     "name": "stdout",
     "output_type": "stream",
     "text": [
      "525479 id\n",
      "262821 user_id\n",
      "2 type\n",
      "56 value\n",
      "525477 inserted_at\n",
      "525477 updated_at\n"
     ]
    }
   ],
   "source": [
    "for i in users_metadata.columns:\n",
    "    print(users_metadata[i].nunique(dropna=False), i)"
   ]
  },
  {
   "cell_type": "code",
   "execution_count": 120,
   "id": "a1ff5af6-9a71-46f0-8751-71d70ec12361",
   "metadata": {
    "tags": []
   },
   "outputs": [
    {
     "data": {
      "text/plain": [
       "age_range                 262774\n",
       "number_of_selfies_sent    262705\n",
       "Name: type, dtype: int64"
      ]
     },
     "execution_count": 120,
     "metadata": {},
     "output_type": "execute_result"
    }
   ],
   "source": [
    "users_metadata.type.value_counts()"
   ]
  },
  {
   "cell_type": "markdown",
   "id": "9eeb237f-0b67-44c7-b698-8e4478533d78",
   "metadata": {},
   "source": [
    "### Users Organization"
   ]
  },
  {
   "cell_type": "code",
   "execution_count": 121,
   "id": "15cd83bc-171b-4e11-b859-06918ce82b07",
   "metadata": {
    "tags": []
   },
   "outputs": [
    {
     "data": {
      "text/html": [
       "<div>\n",
       "<style scoped>\n",
       "    .dataframe tbody tr th:only-of-type {\n",
       "        vertical-align: middle;\n",
       "    }\n",
       "\n",
       "    .dataframe tbody tr th {\n",
       "        vertical-align: top;\n",
       "    }\n",
       "\n",
       "    .dataframe thead th {\n",
       "        text-align: right;\n",
       "    }\n",
       "</style>\n",
       "<table border=\"1\" class=\"dataframe\">\n",
       "  <thead>\n",
       "    <tr style=\"text-align: right;\">\n",
       "      <th></th>\n",
       "      <th>user_id</th>\n",
       "      <th>organization_id</th>\n",
       "    </tr>\n",
       "  </thead>\n",
       "  <tbody>\n",
       "    <tr>\n",
       "      <th>0</th>\n",
       "      <td>475c1048-860c-49e7-b94a-eb478eb78cf6</td>\n",
       "      <td>e4ef0830-64e3-4cae-bc14-a718849b60b7</td>\n",
       "    </tr>\n",
       "    <tr>\n",
       "      <th>1</th>\n",
       "      <td>769d83d0-1438-49d2-bf03-8b0e3584bdfe</td>\n",
       "      <td>2a15fe66-2d99-4b70-a11e-cdcb74163b65</td>\n",
       "    </tr>\n",
       "    <tr>\n",
       "      <th>2</th>\n",
       "      <td>8a1384f7-902e-433f-83a4-3705ba19fc4d</td>\n",
       "      <td>f4981be9-1c19-40c2-af09-4c429194ed0d</td>\n",
       "    </tr>\n",
       "    <tr>\n",
       "      <th>3</th>\n",
       "      <td>052ecf70-7e5d-4b49-912c-415ec718c1c9</td>\n",
       "      <td>c0508778-02cf-4ab4-a1e5-0d8a0c02a6b4</td>\n",
       "    </tr>\n",
       "    <tr>\n",
       "      <th>4</th>\n",
       "      <td>b058e64d-6449-4ddd-993a-4cb88d2fe97a</td>\n",
       "      <td>59f73def-619c-4d7a-bf66-b635be35b6e9</td>\n",
       "    </tr>\n",
       "  </tbody>\n",
       "</table>\n",
       "</div>"
      ],
      "text/plain": [
       "                                user_id                       organization_id\n",
       "0  475c1048-860c-49e7-b94a-eb478eb78cf6  e4ef0830-64e3-4cae-bc14-a718849b60b7\n",
       "1  769d83d0-1438-49d2-bf03-8b0e3584bdfe  2a15fe66-2d99-4b70-a11e-cdcb74163b65\n",
       "2  8a1384f7-902e-433f-83a4-3705ba19fc4d  f4981be9-1c19-40c2-af09-4c429194ed0d\n",
       "3  052ecf70-7e5d-4b49-912c-415ec718c1c9  c0508778-02cf-4ab4-a1e5-0d8a0c02a6b4\n",
       "4  b058e64d-6449-4ddd-993a-4cb88d2fe97a  59f73def-619c-4d7a-bf66-b635be35b6e9"
      ]
     },
     "execution_count": 121,
     "metadata": {},
     "output_type": "execute_result"
    }
   ],
   "source": [
    "users_organizations.head()"
   ]
  },
  {
   "cell_type": "code",
   "execution_count": 122,
   "id": "2dc6069f-2988-4ac3-b515-8c13288f7f29",
   "metadata": {
    "tags": []
   },
   "outputs": [
    {
     "data": {
      "text/plain": [
       "(54958, 2)"
      ]
     },
     "execution_count": 122,
     "metadata": {},
     "output_type": "execute_result"
    }
   ],
   "source": [
    "users_organizations.shape"
   ]
  },
  {
   "cell_type": "code",
   "execution_count": 123,
   "id": "f57b1bdf-945e-43da-ad22-380efebc404d",
   "metadata": {
    "tags": []
   },
   "outputs": [
    {
     "name": "stdout",
     "output_type": "stream",
     "text": [
      "54188 user_id\n",
      "54953 organization_id\n"
     ]
    }
   ],
   "source": [
    "for i in users_organizations.columns:\n",
    "    print(users_organizations[i].nunique(dropna=False), i)"
   ]
  },
  {
   "cell_type": "markdown",
   "id": "97cfcacc-c714-4678-be10-715369eedb1c",
   "metadata": {},
   "source": [
    "### Users"
   ]
  },
  {
   "cell_type": "code",
   "execution_count": 124,
   "id": "fbee5c77-3ec3-4280-96cc-9d8f3c053d43",
   "metadata": {
    "tags": []
   },
   "outputs": [
    {
     "data": {
      "text/html": [
       "<div>\n",
       "<style scoped>\n",
       "    .dataframe tbody tr th:only-of-type {\n",
       "        vertical-align: middle;\n",
       "    }\n",
       "\n",
       "    .dataframe tbody tr th {\n",
       "        vertical-align: top;\n",
       "    }\n",
       "\n",
       "    .dataframe thead th {\n",
       "        text-align: right;\n",
       "    }\n",
       "</style>\n",
       "<table border=\"1\" class=\"dataframe\">\n",
       "  <thead>\n",
       "    <tr style=\"text-align: right;\">\n",
       "      <th></th>\n",
       "      <th>id</th>\n",
       "      <th>document</th>\n",
       "      <th>inserted_at</th>\n",
       "    </tr>\n",
       "  </thead>\n",
       "  <tbody>\n",
       "    <tr>\n",
       "      <th>0</th>\n",
       "      <td>659945ba-eb5b-4112-b338-8284aec5d99b</td>\n",
       "      <td>96e7c1d9-8482-4bd6-abe7-90ad0b9854eb</td>\n",
       "      <td>2018-04-24 19:40:00.914691</td>\n",
       "    </tr>\n",
       "    <tr>\n",
       "      <th>1</th>\n",
       "      <td>7d8795b3-e8ea-4e01-8f5e-0151a41e7021</td>\n",
       "      <td>9f11c509-9971-43d2-8112-752f6537a44d</td>\n",
       "      <td>2018-11-05 16:34:40.898502</td>\n",
       "    </tr>\n",
       "    <tr>\n",
       "      <th>2</th>\n",
       "      <td>75f5fe7d-05a8-4c1c-bfad-0ea8ad901200</td>\n",
       "      <td>953f9416-0b9a-48e9-bd4a-39f8fcd18fe5</td>\n",
       "      <td>2018-04-26 18:22:38.902776</td>\n",
       "    </tr>\n",
       "    <tr>\n",
       "      <th>3</th>\n",
       "      <td>c8fc220a-bda9-4174-a633-0515fdff92c2</td>\n",
       "      <td>4888e307-afb7-4c75-8f8c-0e2d7fc6880c</td>\n",
       "      <td>2018-08-29 19:20:57.890656</td>\n",
       "    </tr>\n",
       "    <tr>\n",
       "      <th>4</th>\n",
       "      <td>0bc08c41-5d93-4740-9d1f-e188fbdf7931</td>\n",
       "      <td>4200c844-f81b-4b3a-9c19-10d9d35c26ef</td>\n",
       "      <td>2018-05-28 02:50:12.368302</td>\n",
       "    </tr>\n",
       "  </tbody>\n",
       "</table>\n",
       "</div>"
      ],
      "text/plain": [
       "                                     id                              document  \\\n",
       "0  659945ba-eb5b-4112-b338-8284aec5d99b  96e7c1d9-8482-4bd6-abe7-90ad0b9854eb   \n",
       "1  7d8795b3-e8ea-4e01-8f5e-0151a41e7021  9f11c509-9971-43d2-8112-752f6537a44d   \n",
       "2  75f5fe7d-05a8-4c1c-bfad-0ea8ad901200  953f9416-0b9a-48e9-bd4a-39f8fcd18fe5   \n",
       "3  c8fc220a-bda9-4174-a633-0515fdff92c2  4888e307-afb7-4c75-8f8c-0e2d7fc6880c   \n",
       "4  0bc08c41-5d93-4740-9d1f-e188fbdf7931  4200c844-f81b-4b3a-9c19-10d9d35c26ef   \n",
       "\n",
       "                  inserted_at  \n",
       "0  2018-04-24 19:40:00.914691  \n",
       "1  2018-11-05 16:34:40.898502  \n",
       "2  2018-04-26 18:22:38.902776  \n",
       "3  2018-08-29 19:20:57.890656  \n",
       "4  2018-05-28 02:50:12.368302  "
      ]
     },
     "execution_count": 124,
     "metadata": {},
     "output_type": "execute_result"
    }
   ],
   "source": [
    "users.head()"
   ]
  },
  {
   "cell_type": "code",
   "execution_count": 125,
   "id": "e77e91e2-941f-4822-b805-8bd73fbbf7a2",
   "metadata": {
    "tags": []
   },
   "outputs": [
    {
     "data": {
      "text/plain": [
       "(62731, 3)"
      ]
     },
     "execution_count": 125,
     "metadata": {},
     "output_type": "execute_result"
    }
   ],
   "source": [
    "users.shape"
   ]
  },
  {
   "cell_type": "code",
   "execution_count": 126,
   "id": "5a1cab8c-dda8-4205-ade0-6732f022aa41",
   "metadata": {
    "tags": []
   },
   "outputs": [
    {
     "name": "stdout",
     "output_type": "stream",
     "text": [
      "62731 id\n",
      "61964 document\n",
      "62731 inserted_at\n"
     ]
    }
   ],
   "source": [
    "for i in users.columns:\n",
    "    print(users[i].nunique(dropna=False), i)"
   ]
  }
 ],
 "metadata": {
  "availableInstances": [
   {
    "_defaultOrder": 0,
    "_isFastLaunch": true,
    "category": "General purpose",
    "gpuNum": 0,
    "hideHardwareSpecs": false,
    "memoryGiB": 4,
    "name": "ml.t3.medium",
    "vcpuNum": 2
   },
   {
    "_defaultOrder": 1,
    "_isFastLaunch": false,
    "category": "General purpose",
    "gpuNum": 0,
    "hideHardwareSpecs": false,
    "memoryGiB": 8,
    "name": "ml.t3.large",
    "vcpuNum": 2
   },
   {
    "_defaultOrder": 2,
    "_isFastLaunch": false,
    "category": "General purpose",
    "gpuNum": 0,
    "hideHardwareSpecs": false,
    "memoryGiB": 16,
    "name": "ml.t3.xlarge",
    "vcpuNum": 4
   },
   {
    "_defaultOrder": 3,
    "_isFastLaunch": false,
    "category": "General purpose",
    "gpuNum": 0,
    "hideHardwareSpecs": false,
    "memoryGiB": 32,
    "name": "ml.t3.2xlarge",
    "vcpuNum": 8
   },
   {
    "_defaultOrder": 4,
    "_isFastLaunch": true,
    "category": "General purpose",
    "gpuNum": 0,
    "hideHardwareSpecs": false,
    "memoryGiB": 8,
    "name": "ml.m5.large",
    "vcpuNum": 2
   },
   {
    "_defaultOrder": 5,
    "_isFastLaunch": false,
    "category": "General purpose",
    "gpuNum": 0,
    "hideHardwareSpecs": false,
    "memoryGiB": 16,
    "name": "ml.m5.xlarge",
    "vcpuNum": 4
   },
   {
    "_defaultOrder": 6,
    "_isFastLaunch": false,
    "category": "General purpose",
    "gpuNum": 0,
    "hideHardwareSpecs": false,
    "memoryGiB": 32,
    "name": "ml.m5.2xlarge",
    "vcpuNum": 8
   },
   {
    "_defaultOrder": 7,
    "_isFastLaunch": false,
    "category": "General purpose",
    "gpuNum": 0,
    "hideHardwareSpecs": false,
    "memoryGiB": 64,
    "name": "ml.m5.4xlarge",
    "vcpuNum": 16
   },
   {
    "_defaultOrder": 8,
    "_isFastLaunch": false,
    "category": "General purpose",
    "gpuNum": 0,
    "hideHardwareSpecs": false,
    "memoryGiB": 128,
    "name": "ml.m5.8xlarge",
    "vcpuNum": 32
   },
   {
    "_defaultOrder": 9,
    "_isFastLaunch": false,
    "category": "General purpose",
    "gpuNum": 0,
    "hideHardwareSpecs": false,
    "memoryGiB": 192,
    "name": "ml.m5.12xlarge",
    "vcpuNum": 48
   },
   {
    "_defaultOrder": 10,
    "_isFastLaunch": false,
    "category": "General purpose",
    "gpuNum": 0,
    "hideHardwareSpecs": false,
    "memoryGiB": 256,
    "name": "ml.m5.16xlarge",
    "vcpuNum": 64
   },
   {
    "_defaultOrder": 11,
    "_isFastLaunch": false,
    "category": "General purpose",
    "gpuNum": 0,
    "hideHardwareSpecs": false,
    "memoryGiB": 384,
    "name": "ml.m5.24xlarge",
    "vcpuNum": 96
   },
   {
    "_defaultOrder": 12,
    "_isFastLaunch": false,
    "category": "General purpose",
    "gpuNum": 0,
    "hideHardwareSpecs": false,
    "memoryGiB": 8,
    "name": "ml.m5d.large",
    "vcpuNum": 2
   },
   {
    "_defaultOrder": 13,
    "_isFastLaunch": false,
    "category": "General purpose",
    "gpuNum": 0,
    "hideHardwareSpecs": false,
    "memoryGiB": 16,
    "name": "ml.m5d.xlarge",
    "vcpuNum": 4
   },
   {
    "_defaultOrder": 14,
    "_isFastLaunch": false,
    "category": "General purpose",
    "gpuNum": 0,
    "hideHardwareSpecs": false,
    "memoryGiB": 32,
    "name": "ml.m5d.2xlarge",
    "vcpuNum": 8
   },
   {
    "_defaultOrder": 15,
    "_isFastLaunch": false,
    "category": "General purpose",
    "gpuNum": 0,
    "hideHardwareSpecs": false,
    "memoryGiB": 64,
    "name": "ml.m5d.4xlarge",
    "vcpuNum": 16
   },
   {
    "_defaultOrder": 16,
    "_isFastLaunch": false,
    "category": "General purpose",
    "gpuNum": 0,
    "hideHardwareSpecs": false,
    "memoryGiB": 128,
    "name": "ml.m5d.8xlarge",
    "vcpuNum": 32
   },
   {
    "_defaultOrder": 17,
    "_isFastLaunch": false,
    "category": "General purpose",
    "gpuNum": 0,
    "hideHardwareSpecs": false,
    "memoryGiB": 192,
    "name": "ml.m5d.12xlarge",
    "vcpuNum": 48
   },
   {
    "_defaultOrder": 18,
    "_isFastLaunch": false,
    "category": "General purpose",
    "gpuNum": 0,
    "hideHardwareSpecs": false,
    "memoryGiB": 256,
    "name": "ml.m5d.16xlarge",
    "vcpuNum": 64
   },
   {
    "_defaultOrder": 19,
    "_isFastLaunch": false,
    "category": "General purpose",
    "gpuNum": 0,
    "hideHardwareSpecs": false,
    "memoryGiB": 384,
    "name": "ml.m5d.24xlarge",
    "vcpuNum": 96
   },
   {
    "_defaultOrder": 20,
    "_isFastLaunch": false,
    "category": "General purpose",
    "gpuNum": 0,
    "hideHardwareSpecs": true,
    "memoryGiB": 0,
    "name": "ml.geospatial.interactive",
    "supportedImageNames": [
     "sagemaker-geospatial-v1-0"
    ],
    "vcpuNum": 0
   },
   {
    "_defaultOrder": 21,
    "_isFastLaunch": true,
    "category": "Compute optimized",
    "gpuNum": 0,
    "hideHardwareSpecs": false,
    "memoryGiB": 4,
    "name": "ml.c5.large",
    "vcpuNum": 2
   },
   {
    "_defaultOrder": 22,
    "_isFastLaunch": false,
    "category": "Compute optimized",
    "gpuNum": 0,
    "hideHardwareSpecs": false,
    "memoryGiB": 8,
    "name": "ml.c5.xlarge",
    "vcpuNum": 4
   },
   {
    "_defaultOrder": 23,
    "_isFastLaunch": false,
    "category": "Compute optimized",
    "gpuNum": 0,
    "hideHardwareSpecs": false,
    "memoryGiB": 16,
    "name": "ml.c5.2xlarge",
    "vcpuNum": 8
   },
   {
    "_defaultOrder": 24,
    "_isFastLaunch": false,
    "category": "Compute optimized",
    "gpuNum": 0,
    "hideHardwareSpecs": false,
    "memoryGiB": 32,
    "name": "ml.c5.4xlarge",
    "vcpuNum": 16
   },
   {
    "_defaultOrder": 25,
    "_isFastLaunch": false,
    "category": "Compute optimized",
    "gpuNum": 0,
    "hideHardwareSpecs": false,
    "memoryGiB": 72,
    "name": "ml.c5.9xlarge",
    "vcpuNum": 36
   },
   {
    "_defaultOrder": 26,
    "_isFastLaunch": false,
    "category": "Compute optimized",
    "gpuNum": 0,
    "hideHardwareSpecs": false,
    "memoryGiB": 96,
    "name": "ml.c5.12xlarge",
    "vcpuNum": 48
   },
   {
    "_defaultOrder": 27,
    "_isFastLaunch": false,
    "category": "Compute optimized",
    "gpuNum": 0,
    "hideHardwareSpecs": false,
    "memoryGiB": 144,
    "name": "ml.c5.18xlarge",
    "vcpuNum": 72
   },
   {
    "_defaultOrder": 28,
    "_isFastLaunch": false,
    "category": "Compute optimized",
    "gpuNum": 0,
    "hideHardwareSpecs": false,
    "memoryGiB": 192,
    "name": "ml.c5.24xlarge",
    "vcpuNum": 96
   },
   {
    "_defaultOrder": 29,
    "_isFastLaunch": true,
    "category": "Accelerated computing",
    "gpuNum": 1,
    "hideHardwareSpecs": false,
    "memoryGiB": 16,
    "name": "ml.g4dn.xlarge",
    "vcpuNum": 4
   },
   {
    "_defaultOrder": 30,
    "_isFastLaunch": false,
    "category": "Accelerated computing",
    "gpuNum": 1,
    "hideHardwareSpecs": false,
    "memoryGiB": 32,
    "name": "ml.g4dn.2xlarge",
    "vcpuNum": 8
   },
   {
    "_defaultOrder": 31,
    "_isFastLaunch": false,
    "category": "Accelerated computing",
    "gpuNum": 1,
    "hideHardwareSpecs": false,
    "memoryGiB": 64,
    "name": "ml.g4dn.4xlarge",
    "vcpuNum": 16
   },
   {
    "_defaultOrder": 32,
    "_isFastLaunch": false,
    "category": "Accelerated computing",
    "gpuNum": 1,
    "hideHardwareSpecs": false,
    "memoryGiB": 128,
    "name": "ml.g4dn.8xlarge",
    "vcpuNum": 32
   },
   {
    "_defaultOrder": 33,
    "_isFastLaunch": false,
    "category": "Accelerated computing",
    "gpuNum": 4,
    "hideHardwareSpecs": false,
    "memoryGiB": 192,
    "name": "ml.g4dn.12xlarge",
    "vcpuNum": 48
   },
   {
    "_defaultOrder": 34,
    "_isFastLaunch": false,
    "category": "Accelerated computing",
    "gpuNum": 1,
    "hideHardwareSpecs": false,
    "memoryGiB": 256,
    "name": "ml.g4dn.16xlarge",
    "vcpuNum": 64
   },
   {
    "_defaultOrder": 35,
    "_isFastLaunch": false,
    "category": "Accelerated computing",
    "gpuNum": 1,
    "hideHardwareSpecs": false,
    "memoryGiB": 61,
    "name": "ml.p3.2xlarge",
    "vcpuNum": 8
   },
   {
    "_defaultOrder": 36,
    "_isFastLaunch": false,
    "category": "Accelerated computing",
    "gpuNum": 4,
    "hideHardwareSpecs": false,
    "memoryGiB": 244,
    "name": "ml.p3.8xlarge",
    "vcpuNum": 32
   },
   {
    "_defaultOrder": 37,
    "_isFastLaunch": false,
    "category": "Accelerated computing",
    "gpuNum": 8,
    "hideHardwareSpecs": false,
    "memoryGiB": 488,
    "name": "ml.p3.16xlarge",
    "vcpuNum": 64
   },
   {
    "_defaultOrder": 38,
    "_isFastLaunch": false,
    "category": "Accelerated computing",
    "gpuNum": 8,
    "hideHardwareSpecs": false,
    "memoryGiB": 768,
    "name": "ml.p3dn.24xlarge",
    "vcpuNum": 96
   },
   {
    "_defaultOrder": 39,
    "_isFastLaunch": false,
    "category": "Memory Optimized",
    "gpuNum": 0,
    "hideHardwareSpecs": false,
    "memoryGiB": 16,
    "name": "ml.r5.large",
    "vcpuNum": 2
   },
   {
    "_defaultOrder": 40,
    "_isFastLaunch": false,
    "category": "Memory Optimized",
    "gpuNum": 0,
    "hideHardwareSpecs": false,
    "memoryGiB": 32,
    "name": "ml.r5.xlarge",
    "vcpuNum": 4
   },
   {
    "_defaultOrder": 41,
    "_isFastLaunch": false,
    "category": "Memory Optimized",
    "gpuNum": 0,
    "hideHardwareSpecs": false,
    "memoryGiB": 64,
    "name": "ml.r5.2xlarge",
    "vcpuNum": 8
   },
   {
    "_defaultOrder": 42,
    "_isFastLaunch": false,
    "category": "Memory Optimized",
    "gpuNum": 0,
    "hideHardwareSpecs": false,
    "memoryGiB": 128,
    "name": "ml.r5.4xlarge",
    "vcpuNum": 16
   },
   {
    "_defaultOrder": 43,
    "_isFastLaunch": false,
    "category": "Memory Optimized",
    "gpuNum": 0,
    "hideHardwareSpecs": false,
    "memoryGiB": 256,
    "name": "ml.r5.8xlarge",
    "vcpuNum": 32
   },
   {
    "_defaultOrder": 44,
    "_isFastLaunch": false,
    "category": "Memory Optimized",
    "gpuNum": 0,
    "hideHardwareSpecs": false,
    "memoryGiB": 384,
    "name": "ml.r5.12xlarge",
    "vcpuNum": 48
   },
   {
    "_defaultOrder": 45,
    "_isFastLaunch": false,
    "category": "Memory Optimized",
    "gpuNum": 0,
    "hideHardwareSpecs": false,
    "memoryGiB": 512,
    "name": "ml.r5.16xlarge",
    "vcpuNum": 64
   },
   {
    "_defaultOrder": 46,
    "_isFastLaunch": false,
    "category": "Memory Optimized",
    "gpuNum": 0,
    "hideHardwareSpecs": false,
    "memoryGiB": 768,
    "name": "ml.r5.24xlarge",
    "vcpuNum": 96
   },
   {
    "_defaultOrder": 47,
    "_isFastLaunch": false,
    "category": "Accelerated computing",
    "gpuNum": 1,
    "hideHardwareSpecs": false,
    "memoryGiB": 16,
    "name": "ml.g5.xlarge",
    "vcpuNum": 4
   },
   {
    "_defaultOrder": 48,
    "_isFastLaunch": false,
    "category": "Accelerated computing",
    "gpuNum": 1,
    "hideHardwareSpecs": false,
    "memoryGiB": 32,
    "name": "ml.g5.2xlarge",
    "vcpuNum": 8
   },
   {
    "_defaultOrder": 49,
    "_isFastLaunch": false,
    "category": "Accelerated computing",
    "gpuNum": 1,
    "hideHardwareSpecs": false,
    "memoryGiB": 64,
    "name": "ml.g5.4xlarge",
    "vcpuNum": 16
   },
   {
    "_defaultOrder": 50,
    "_isFastLaunch": false,
    "category": "Accelerated computing",
    "gpuNum": 1,
    "hideHardwareSpecs": false,
    "memoryGiB": 128,
    "name": "ml.g5.8xlarge",
    "vcpuNum": 32
   },
   {
    "_defaultOrder": 51,
    "_isFastLaunch": false,
    "category": "Accelerated computing",
    "gpuNum": 1,
    "hideHardwareSpecs": false,
    "memoryGiB": 256,
    "name": "ml.g5.16xlarge",
    "vcpuNum": 64
   },
   {
    "_defaultOrder": 52,
    "_isFastLaunch": false,
    "category": "Accelerated computing",
    "gpuNum": 4,
    "hideHardwareSpecs": false,
    "memoryGiB": 192,
    "name": "ml.g5.12xlarge",
    "vcpuNum": 48
   },
   {
    "_defaultOrder": 53,
    "_isFastLaunch": false,
    "category": "Accelerated computing",
    "gpuNum": 4,
    "hideHardwareSpecs": false,
    "memoryGiB": 384,
    "name": "ml.g5.24xlarge",
    "vcpuNum": 96
   },
   {
    "_defaultOrder": 54,
    "_isFastLaunch": false,
    "category": "Accelerated computing",
    "gpuNum": 8,
    "hideHardwareSpecs": false,
    "memoryGiB": 768,
    "name": "ml.g5.48xlarge",
    "vcpuNum": 192
   },
   {
    "_defaultOrder": 55,
    "_isFastLaunch": false,
    "category": "Accelerated computing",
    "gpuNum": 8,
    "hideHardwareSpecs": false,
    "memoryGiB": 1152,
    "name": "ml.p4d.24xlarge",
    "vcpuNum": 96
   },
   {
    "_defaultOrder": 56,
    "_isFastLaunch": false,
    "category": "Accelerated computing",
    "gpuNum": 8,
    "hideHardwareSpecs": false,
    "memoryGiB": 1152,
    "name": "ml.p4de.24xlarge",
    "vcpuNum": 96
   }
  ],
  "instance_type": "ml.m5.4xlarge",
  "kernelspec": {
   "display_name": "Python 3 (Data Science 3.0)",
   "language": "python",
   "name": "python3__SAGEMAKER_INTERNAL__arn:aws:sagemaker:us-east-1:081325390199:image/sagemaker-data-science-310-v1"
  },
  "language_info": {
   "codemirror_mode": {
    "name": "ipython",
    "version": 3
   },
   "file_extension": ".py",
   "mimetype": "text/x-python",
   "name": "python",
   "nbconvert_exporter": "python",
   "pygments_lexer": "ipython3",
   "version": "3.10.6"
  }
 },
 "nbformat": 4,
 "nbformat_minor": 5
}
